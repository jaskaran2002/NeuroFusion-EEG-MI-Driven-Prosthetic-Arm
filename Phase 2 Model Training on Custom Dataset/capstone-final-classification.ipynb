{
 "cells": [
  {
   "cell_type": "code",
   "execution_count": 3,
   "metadata": {
    "execution": {
     "iopub.execute_input": "2024-12-17T11:13:33.644454Z",
     "iopub.status.busy": "2024-12-17T11:13:33.644228Z",
     "iopub.status.idle": "2024-12-17T11:13:41.745894Z",
     "shell.execute_reply": "2024-12-17T11:13:41.744765Z",
     "shell.execute_reply.started": "2024-12-17T11:13:33.644430Z"
    },
    "trusted": true
   },
   "outputs": [
    {
     "name": "stdout",
     "output_type": "stream",
     "text": [
      "Requirement already satisfied: xlstm in /opt/conda/lib/python3.10/site-packages (2.0.0)\n",
      "Requirement already satisfied: torcheval in /opt/conda/lib/python3.10/site-packages (0.0.7)\n",
      "Requirement already satisfied: typing-extensions in /opt/conda/lib/python3.10/site-packages (from torcheval) (4.12.2)\n"
     ]
    }
   ],
   "source": [
    "!pip install xlstm torcheval"
   ]
  },
  {
   "cell_type": "code",
   "execution_count": 5,
   "metadata": {
    "execution": {
     "iopub.execute_input": "2024-12-17T11:13:41.754671Z",
     "iopub.status.busy": "2024-12-17T11:13:41.754423Z",
     "iopub.status.idle": "2024-12-17T11:13:41.765003Z",
     "shell.execute_reply": "2024-12-17T11:13:41.764217Z",
     "shell.execute_reply.started": "2024-12-17T11:13:41.754648Z"
    },
    "trusted": true
   },
   "outputs": [],
   "source": [
    "import numpy as np\n",
    "import pandas as pd\n",
    "import os\n",
    "from sklearn.decomposition import FastICA\n",
    "from sklearn import preprocessing\n",
    "from tqdm import tqdm\n",
    "\n",
    "import torch\n",
    "import torch.nn as nn\n",
    "\n",
    "from sklearn.model_selection import train_test_split\n",
    "\n",
    "\n",
    "from xlstm import (\n",
    "    xLSTMBlockStack,\n",
    "    xLSTMBlockStackConfig,\n",
    "    mLSTMBlockConfig,\n",
    "    mLSTMLayerConfig,\n",
    "    sLSTMBlockConfig,\n",
    "    sLSTMLayerConfig,\n",
    "    FeedForwardConfig,\n",
    ")\n",
    "\n",
    "import torch.utils.data as data\n",
    "from torcheval.metrics import MulticlassAccuracy\n",
    "import matplotlib.pyplot as plt"
   ]
  },
  {
   "cell_type": "code",
   "execution_count": 6,
   "metadata": {
    "execution": {
     "iopub.execute_input": "2024-12-17T11:13:41.767276Z",
     "iopub.status.busy": "2024-12-17T11:13:41.766981Z",
     "iopub.status.idle": "2024-12-17T11:13:41.784289Z",
     "shell.execute_reply": "2024-12-17T11:13:41.783538Z",
     "shell.execute_reply.started": "2024-12-17T11:13:41.767252Z"
    },
    "trusted": true
   },
   "outputs": [
    {
     "data": {
      "text/plain": [
       "['full-trial-4.csv',\n",
       " 'hand-trial-4.csv',\n",
       " 'arm-trial-2.csv',\n",
       " 'hand-trial-3.csv',\n",
       " 'hand-trial-5.csv',\n",
       " 'hand-trial-2s.csv',\n",
       " 'arm-trial-5.csv',\n",
       " 'full-trial-2.csv',\n",
       " 'arm-trial-4.csv',\n",
       " 'full-trial-3.csv',\n",
       " 'full-trial-1.csv',\n",
       " 'arm-trial-1.csv',\n",
       " 'arm-trial-3.csv']"
      ]
     },
     "execution_count": 6,
     "metadata": {},
     "output_type": "execute_result"
    }
   ],
   "source": [
    "filenames = os.listdir('/kaggle/input/capstone-final-dataset/data')\n",
    "filenames"
   ]
  },
  {
   "cell_type": "code",
   "execution_count": 37,
   "metadata": {
    "execution": {
     "iopub.execute_input": "2024-12-17T11:58:12.275982Z",
     "iopub.status.busy": "2024-12-17T11:58:12.275092Z",
     "iopub.status.idle": "2024-12-17T11:58:12.279990Z",
     "shell.execute_reply": "2024-12-17T11:58:12.278984Z",
     "shell.execute_reply.started": "2024-12-17T11:58:12.275948Z"
    },
    "trusted": true
   },
   "outputs": [],
   "source": [
    "x_batch = []\n",
    "y_batch = []\n",
    "window_size = 50 # 1 second\n",
    "overlap = 25\n",
    "# window_size = 100\n",
    "# overlap = 75\n",
    "\n",
    "# worse\n",
    "# window_size = 128\n",
    "# overlap = 25"
   ]
  },
  {
   "cell_type": "code",
   "execution_count": 38,
   "metadata": {
    "execution": {
     "iopub.execute_input": "2024-12-17T11:58:12.402615Z",
     "iopub.status.busy": "2024-12-17T11:58:12.402344Z",
     "iopub.status.idle": "2024-12-17T11:58:12.409445Z",
     "shell.execute_reply": "2024-12-17T11:58:12.408470Z",
     "shell.execute_reply.started": "2024-12-17T11:58:12.402591Z"
    },
    "trusted": true
   },
   "outputs": [],
   "source": [
    "import numpy as np\n",
    "import pandas as pd\n",
    "import matplotlib.pyplot as plt\n",
    "import pywt\n",
    "\n",
    "def maddest(d, axis=None):\n",
    "    return np.mean(np.absolute(d - np.mean(d, axis)), axis)\n",
    "\n",
    "def denoise(x, wavelet='haar', level=1):\n",
    "    ret = {key:[] for key in x.columns}\n",
    "    \n",
    "    for pos in x.columns:\n",
    "        coeff = pywt.wavedec(x[pos], wavelet, mode=\"per\")\n",
    "        sigma = (1/0.6745) * maddest(coeff[-level])\n",
    "\n",
    "        uthresh = sigma * np.sqrt(2*np.log(len(x)))\n",
    "        coeff[1:] = (pywt.threshold(i, value=uthresh, mode='hard') for i in coeff[1:])\n",
    "\n",
    "        ret[pos]=pywt.waverec(coeff, wavelet, mode='per')\n",
    "    \n",
    "    return pd.DataFrame(ret)"
   ]
  },
  {
   "cell_type": "code",
   "execution_count": null,
   "metadata": {
    "execution": {
     "iopub.execute_input": "2024-12-17T11:58:12.705948Z",
     "iopub.status.busy": "2024-12-17T11:58:12.705661Z",
     "iopub.status.idle": "2024-12-17T11:58:13.781555Z",
     "shell.execute_reply": "2024-12-17T11:58:13.780597Z",
     "shell.execute_reply.started": "2024-12-17T11:58:12.705922Z"
    },
    "trusted": true
   },
   "outputs": [
    {
     "name": "stderr",
     "output_type": "stream",
     "text": [
      "100%|██████████| 13/13 [00:01<00:00, 12.30it/s]\n"
     ]
    }
   ],
   "source": [
    "# ica=FastICA(random_state = 97, max_iter=800)\n",
    "# tempdf = None\n",
    "# for filename in tqdm(filenames):\n",
    "    \n",
    "#     df = pd.read_csv(f'/kaggle/input/capstone-final-dataset/data/{filename}')\n",
    "    \n",
    "#     df = df.dropna()\n",
    "    \n",
    "#     X = df[['EEG.Cz', 'EEG.C3', 'EEG.FC5', 'EEG.T7', 'EEG.CP5', 'EEG.O1', \n",
    "#             'EEG.Pz', 'EEG.O2', 'EEG.CP6', 'EEG.T8', 'EEG.FC6', 'EEG.C4']]\n",
    "#     if tempdf is None:\n",
    "#         tempdf = X\n",
    "#     else:\n",
    "#         tempdf = pd.concat([tempdf, X],ignore_index=True)\n",
    "# ica = ica.fit(tempdf)\n",
    "\n",
    "for filename in tqdm(filenames):\n",
    "    \n",
    "    df = pd.read_csv(f'/kaggle/input/capstone-final-dataset/data/{filename}')\n",
    "    \n",
    "    df = df.dropna()\n",
    "    \n",
    "    X = df[['EEG.Cz', 'EEG.C3', 'EEG.FC5', 'EEG.T7', 'EEG.CP5', 'EEG.O1', \n",
    "            'EEG.Pz', 'EEG.O2', 'EEG.CP6', 'EEG.T8', 'EEG.FC6', 'EEG.C4']]\n",
    "    Y = df['target']\n",
    "\n",
    "    ica=FastICA(random_state = 97, max_iter=800)\n",
    "    \n",
    "    out_ica =ica.fit_transform(X)\n",
    "    out_ica = ica.transform(X)\n",
    "\n",
    "    X = pd.DataFrame(out_ica, columns = X.columns)\n",
    "\n",
    "    # eeg_denoised = denoise(X, wavelet=\"db8\")\n",
    "    # X = eeg_denoised.copy()\n",
    "\n",
    "    scaler = preprocessing.MinMaxScaler()\n",
    "    X = pd.DataFrame(scaler.fit_transform(X.values), columns=X.columns, index=X.index)\n",
    "\n",
    "    num_examples = X.shape[0]\n",
    "\n",
    "    xn = X.to_numpy()\n",
    "    yn = Y.to_numpy()\n",
    "\n",
    "    if 'arm' in filename or 'hand' in filename:\n",
    "        # arm and hand\n",
    "        for i in range(128*60, 2*128*60, overlap): # 64 overlap\n",
    "            if (i + window_size > 2*128*60):\n",
    "                break\n",
    "            xcurr = xn[i:i+window_size]\n",
    "            ycurr = yn[i+window_size - 1]\n",
    "            if ycurr == 2:\n",
    "                ycurr = 1\n",
    "            elif ycurr == 3 or ycurr == 4:\n",
    "                ycurr = 2\n",
    "            x_batch.append(xcurr)\n",
    "            y_batch.append(ycurr)\n",
    "        \n",
    "        for i in range(2*128*60, 3*128*60, overlap): # 64 overlap\n",
    "            if (i + window_size > 3*128*60):\n",
    "                break\n",
    "            xcurr = xn[i:i+window_size]\n",
    "            ycurr = yn[i+window_size - 1]\n",
    "            if ycurr == 2:\n",
    "                ycurr = 1\n",
    "            elif ycurr == 3 or ycurr == 4:\n",
    "                ycurr = 2\n",
    "            x_batch.append(xcurr)\n",
    "            y_batch.append(ycurr)\n",
    "        \n",
    "        for i in range(3*128*60, xn.shape[0], overlap): # 64 overlap\n",
    "            if (i + window_size > xn.shape[0]):\n",
    "                break\n",
    "            xcurr = xn[i:i+window_size]\n",
    "            ycurr = yn[i+window_size - 1]\n",
    "            if ycurr == 2:\n",
    "                ycurr = 1\n",
    "            elif ycurr == 3 or ycurr == 4:\n",
    "                ycurr = 2\n",
    "            x_batch.append(xcurr)\n",
    "            y_batch.append(ycurr)\n",
    "        \n",
    "    elif 'full' in filename:\n",
    "        # arm\n",
    "        for i in range(128*60, int(1.5*128*60), overlap): # 64 overlap\n",
    "            if (i + window_size > 1.5*128*60):\n",
    "                break\n",
    "            xcurr = xn[i:i+window_size]\n",
    "            ycurr = yn[i+window_size - 1]\n",
    "            if ycurr == 2:\n",
    "                ycurr = 1\n",
    "            elif ycurr == 3 or ycurr == 4:\n",
    "                ycurr = 2\n",
    "            x_batch.append(xcurr)\n",
    "            y_batch.append(ycurr)\n",
    "        \n",
    "        for i in range(int(1.5*128*60), int(2*128*60), overlap): # 64 overlap\n",
    "            if (i + window_size > 2*128*60):\n",
    "                break\n",
    "            xcurr = xn[i:i+window_size]\n",
    "            ycurr = yn[i+window_size - 1]\n",
    "            if ycurr == 2:\n",
    "                ycurr = 1\n",
    "            elif ycurr == 3 or ycurr == 4:\n",
    "                ycurr = 2\n",
    "            x_batch.append(xcurr)\n",
    "            y_batch.append(ycurr)\n",
    "        \n",
    "        for i in range(2*128*60, int(2.5*128*60), overlap): # 64 overlap\n",
    "            if (i + window_size > 2.5*128*60):\n",
    "                break\n",
    "            xcurr = xn[i:i+window_size]\n",
    "            ycurr = yn[i+window_size - 1]\n",
    "            if ycurr == 2:\n",
    "                ycurr = 1\n",
    "            elif ycurr == 3 or ycurr == 4:\n",
    "                ycurr = 2\n",
    "            x_batch.append(xcurr)\n",
    "            y_batch.append(ycurr)\n",
    "\n",
    "        for i in range(int(2.5*128*60), 3*128*60, overlap): # 64 overlap\n",
    "            if (i + window_size > 3*128*60):\n",
    "                break\n",
    "            xcurr = xn[i:i+window_size]\n",
    "            ycurr = yn[i+window_size - 1]\n",
    "            if ycurr == 2:\n",
    "                ycurr = 1\n",
    "            elif ycurr == 3 or ycurr == 4:\n",
    "                ycurr = 2\n",
    "            x_batch.append(xcurr)\n",
    "            y_batch.append(ycurr)\n",
    "\n",
    "        for i in range(3*128*60, xn.shape[0], overlap): # 64 overlap\n",
    "            if (i + window_size > xn.shape[0]):\n",
    "                break\n",
    "            xcurr = xn[i:i+window_size]\n",
    "            ycurr = yn[i+window_size - 1]\n",
    "            if ycurr == 2:\n",
    "                ycurr = 1\n",
    "            elif ycurr == 3 or ycurr == 4:\n",
    "                ycurr = 2\n",
    "            x_batch.append(xcurr)\n",
    "            y_batch.append(ycurr)"
   ]
  },
  {
   "cell_type": "code",
   "execution_count": 40,
   "metadata": {
    "execution": {
     "iopub.execute_input": "2024-12-17T11:58:13.783344Z",
     "iopub.status.busy": "2024-12-17T11:58:13.783045Z",
     "iopub.status.idle": "2024-12-17T11:58:13.814132Z",
     "shell.execute_reply": "2024-12-17T11:58:13.813435Z",
     "shell.execute_reply.started": "2024-12-17T11:58:13.783317Z"
    },
    "trusted": true
   },
   "outputs": [],
   "source": [
    "x_batch = np.array(x_batch)\n",
    "y_batch = np.array(y_batch)"
   ]
  },
  {
   "cell_type": "code",
   "execution_count": 41,
   "metadata": {
    "execution": {
     "iopub.execute_input": "2024-12-17T11:58:13.815309Z",
     "iopub.status.busy": "2024-12-17T11:58:13.815045Z",
     "iopub.status.idle": "2024-12-17T11:58:13.820958Z",
     "shell.execute_reply": "2024-12-17T11:58:13.820060Z",
     "shell.execute_reply.started": "2024-12-17T11:58:13.815284Z"
    },
    "trusted": true
   },
   "outputs": [
    {
     "data": {
      "text/plain": [
       "(11879, 50, 12)"
      ]
     },
     "execution_count": 41,
     "metadata": {},
     "output_type": "execute_result"
    }
   ],
   "source": [
    "x_batch.shape"
   ]
  },
  {
   "cell_type": "code",
   "execution_count": 42,
   "metadata": {
    "execution": {
     "iopub.execute_input": "2024-12-17T11:58:13.823111Z",
     "iopub.status.busy": "2024-12-17T11:58:13.822778Z",
     "iopub.status.idle": "2024-12-17T11:58:13.830370Z",
     "shell.execute_reply": "2024-12-17T11:58:13.829527Z",
     "shell.execute_reply.started": "2024-12-17T11:58:13.823076Z"
    },
    "trusted": true
   },
   "outputs": [
    {
     "data": {
      "text/plain": [
       "(11879,)"
      ]
     },
     "execution_count": 42,
     "metadata": {},
     "output_type": "execute_result"
    }
   ],
   "source": [
    "y_batch.shape"
   ]
  },
  {
   "cell_type": "code",
   "execution_count": 43,
   "metadata": {
    "execution": {
     "iopub.execute_input": "2024-12-17T11:58:13.942720Z",
     "iopub.status.busy": "2024-12-17T11:58:13.942489Z",
     "iopub.status.idle": "2024-12-17T11:58:13.967730Z",
     "shell.execute_reply": "2024-12-17T11:58:13.966846Z",
     "shell.execute_reply.started": "2024-12-17T11:58:13.942698Z"
    },
    "trusted": true
   },
   "outputs": [
    {
     "data": {
      "text/plain": [
       "((9503, 50, 12), (2376, 50, 12), (9503,), (2376,))"
      ]
     },
     "execution_count": 43,
     "metadata": {},
     "output_type": "execute_result"
    }
   ],
   "source": [
    "X_train, X_test, y_train, y_test = train_test_split(x_batch, y_batch, test_size=0.2, random_state=0)\n",
    "X_train.shape, X_test.shape, y_train.shape, y_test.shape"
   ]
  },
  {
   "cell_type": "code",
   "execution_count": 44,
   "metadata": {
    "execution": {
     "iopub.execute_input": "2024-12-17T11:58:14.250861Z",
     "iopub.status.busy": "2024-12-17T11:58:14.250567Z",
     "iopub.status.idle": "2024-12-17T11:58:14.254769Z",
     "shell.execute_reply": "2024-12-17T11:58:14.253924Z",
     "shell.execute_reply.started": "2024-12-17T11:58:14.250834Z"
    },
    "trusted": true
   },
   "outputs": [],
   "source": [
    "num_units = 100\n",
    "# window_size = 128\n",
    "num_epochs = 20"
   ]
  },
  {
   "cell_type": "code",
   "execution_count": 45,
   "metadata": {
    "execution": {
     "iopub.execute_input": "2024-12-17T11:58:14.799825Z",
     "iopub.status.busy": "2024-12-17T11:58:14.798916Z",
     "iopub.status.idle": "2024-12-17T11:58:14.805032Z",
     "shell.execute_reply": "2024-12-17T11:58:14.804212Z",
     "shell.execute_reply.started": "2024-12-17T11:58:14.799786Z"
    },
    "trusted": true
   },
   "outputs": [
    {
     "data": {
      "text/plain": [
       "device(type='cuda')"
      ]
     },
     "execution_count": 45,
     "metadata": {},
     "output_type": "execute_result"
    }
   ],
   "source": [
    "device = torch.device('cuda' if torch.cuda.is_available() else 'cpu')\n",
    "device"
   ]
  },
  {
   "cell_type": "code",
   "execution_count": 46,
   "metadata": {
    "execution": {
     "iopub.execute_input": "2024-12-17T11:58:15.195058Z",
     "iopub.status.busy": "2024-12-17T11:58:15.194802Z",
     "iopub.status.idle": "2024-12-17T11:58:15.199189Z",
     "shell.execute_reply": "2024-12-17T11:58:15.198323Z",
     "shell.execute_reply.started": "2024-12-17T11:58:15.195033Z"
    },
    "trusted": true
   },
   "outputs": [],
   "source": [
    "input_size = 12\n",
    "sequence_length = window_size\n",
    "num_layers = 2\n",
    "hidden_size = 100\n",
    "output_size = 3"
   ]
  },
  {
   "cell_type": "code",
   "execution_count": 47,
   "metadata": {
    "execution": {
     "iopub.execute_input": "2024-12-17T11:58:15.523523Z",
     "iopub.status.busy": "2024-12-17T11:58:15.522914Z",
     "iopub.status.idle": "2024-12-17T11:58:15.528070Z",
     "shell.execute_reply": "2024-12-17T11:58:15.527110Z",
     "shell.execute_reply.started": "2024-12-17T11:58:15.523488Z"
    },
    "trusted": true
   },
   "outputs": [],
   "source": [
    "mlstm_config = mLSTMBlockConfig()\n",
    "\n",
    "# for cpu\n",
    "# slstm_config = sLSTMBlockConfig()\n",
    "\n",
    "# for gpu\n",
    "slstm_config = sLSTMBlockConfig(slstm=sLSTMLayerConfig(\n",
    "            backend=\"cuda\"\n",
    "        ))\n",
    "\n",
    "\n",
    "cfg = xLSTMBlockStackConfig(\n",
    "        mlstm_block=mlstm_config,\n",
    "        slstm_block=slstm_config,\n",
    "        num_blocks=3,\n",
    "        embedding_dim=input_size,\n",
    "        add_post_blocks_norm=True,\n",
    "        \n",
    "        _block_map = 1,\n",
    "        context_length=sequence_length\n",
    "    )"
   ]
  },
  {
   "cell_type": "code",
   "execution_count": 48,
   "metadata": {
    "execution": {
     "iopub.execute_input": "2024-12-17T11:58:15.947368Z",
     "iopub.status.busy": "2024-12-17T11:58:15.947066Z",
     "iopub.status.idle": "2024-12-17T11:58:15.953131Z",
     "shell.execute_reply": "2024-12-17T11:58:15.952205Z",
     "shell.execute_reply.started": "2024-12-17T11:58:15.947342Z"
    },
    "trusted": true
   },
   "outputs": [],
   "source": [
    "class TestModel(nn.Module):\n",
    "    def __init__(self, input_size, hidden_size, num_layers, output_size):\n",
    "        super(TestModel, self).__init__()\n",
    "        self.input_size = input_size\n",
    "        self.hidden_size = hidden_size\n",
    "        self.num_layers = num_layers\n",
    "        self.output_size = output_size\n",
    "        # self.lstm = nn.LSTM(input_size=input_size, hidden_size=hidden_size, num_layers=num_layers, batch_first=True)\n",
    "        self.xlstm = xLSTMBlockStack(cfg)\n",
    "        # x -> (batch_size, sequence_length, input_size)\n",
    "        self.fc = nn.Linear(input_size,output_size)\n",
    "        # self.fc = nn.Linear(hidden_size,output_size)\n",
    "        self.tanh = nn.Tanh()\n",
    "    def forward(self, x):\n",
    "        out = self.xlstm(x)\n",
    "        # out, _ = self.lstm(x)\n",
    "        # x -> (batch_size, sequence_length, hidden_size)\n",
    "        out = self.tanh(out)\n",
    "        out = out[:,-1,:]\n",
    "        out = self.fc(out)\n",
    "        return out"
   ]
  },
  {
   "cell_type": "code",
   "execution_count": 49,
   "metadata": {
    "execution": {
     "iopub.execute_input": "2024-12-17T11:58:16.919422Z",
     "iopub.status.busy": "2024-12-17T11:58:16.919093Z",
     "iopub.status.idle": "2024-12-17T11:58:16.923619Z",
     "shell.execute_reply": "2024-12-17T11:58:16.922908Z",
     "shell.execute_reply.started": "2024-12-17T11:58:16.919396Z"
    },
    "trusted": true
   },
   "outputs": [],
   "source": [
    "# # LSTM\n",
    "\n",
    "# class TestModel(nn.Module):\n",
    "#     def __init__(self, input_size, hidden_size, num_layers, output_size):\n",
    "#         super(TestModel, self).__init__()\n",
    "#         self.input_size = input_size\n",
    "#         self.hidden_size = hidden_size\n",
    "#         self.num_layers = num_layers\n",
    "#         self.output_size = output_size\n",
    "#         self.lstm = nn.LSTM(input_size=input_size, hidden_size=hidden_size, num_layers=num_layers, batch_first=True)\n",
    "#         # self.xlstm = xLSTMBlockStack(cfg)\n",
    "#         # x -> (batch_size, sequence_length, input_size)\n",
    "#         # self.fc = nn.Linear(input_size,output_size)\n",
    "#         self.fc = nn.Linear(hidden_size,output_size)\n",
    "#         self.tanh = nn.Tanh()\n",
    "#     def forward(self, x):\n",
    "#         # out = self.xlstm(x)\n",
    "#         out, _ = self.lstm(x)\n",
    "#         # x -> (batch_size, sequence_length, hidden_size)\n",
    "#         out = self.tanh(out)\n",
    "#         out = out[:,-1,:]\n",
    "#         out = self.fc(out)\n",
    "#         return out"
   ]
  },
  {
   "cell_type": "code",
   "execution_count": 50,
   "metadata": {
    "execution": {
     "iopub.execute_input": "2024-12-17T11:58:17.987143Z",
     "iopub.status.busy": "2024-12-17T11:58:17.986847Z",
     "iopub.status.idle": "2024-12-17T11:58:18.001714Z",
     "shell.execute_reply": "2024-12-17T11:58:18.000805Z",
     "shell.execute_reply.started": "2024-12-17T11:58:17.987118Z"
    },
    "trusted": true
   },
   "outputs": [],
   "source": [
    "model = TestModel(input_size, hidden_size, num_layers, output_size).to(device)"
   ]
  },
  {
   "cell_type": "code",
   "execution_count": 51,
   "metadata": {
    "execution": {
     "iopub.execute_input": "2024-12-17T11:58:18.562780Z",
     "iopub.status.busy": "2024-12-17T11:58:18.562454Z",
     "iopub.status.idle": "2024-12-17T11:58:18.566740Z",
     "shell.execute_reply": "2024-12-17T11:58:18.565825Z",
     "shell.execute_reply.started": "2024-12-17T11:58:18.562753Z"
    },
    "trusted": true
   },
   "outputs": [],
   "source": [
    "learning_rate=0.0001"
   ]
  },
  {
   "cell_type": "code",
   "execution_count": 52,
   "metadata": {
    "execution": {
     "iopub.execute_input": "2024-12-17T11:58:18.810757Z",
     "iopub.status.busy": "2024-12-17T11:58:18.810457Z",
     "iopub.status.idle": "2024-12-17T11:58:18.815926Z",
     "shell.execute_reply": "2024-12-17T11:58:18.815191Z",
     "shell.execute_reply.started": "2024-12-17T11:58:18.810729Z"
    },
    "trusted": true
   },
   "outputs": [],
   "source": [
    "criterion = nn.CrossEntropyLoss()\n",
    "optimizer = torch.optim.Adam(model.parameters(), lr=learning_rate) "
   ]
  },
  {
   "cell_type": "code",
   "execution_count": 53,
   "metadata": {
    "execution": {
     "iopub.execute_input": "2024-12-17T11:58:19.034612Z",
     "iopub.status.busy": "2024-12-17T11:58:19.034365Z",
     "iopub.status.idle": "2024-12-17T11:58:19.038484Z",
     "shell.execute_reply": "2024-12-17T11:58:19.037432Z",
     "shell.execute_reply.started": "2024-12-17T11:58:19.034589Z"
    },
    "trusted": true
   },
   "outputs": [],
   "source": [
    "num_epochs = 200"
   ]
  },
  {
   "cell_type": "code",
   "execution_count": 54,
   "metadata": {
    "execution": {
     "iopub.execute_input": "2024-12-17T11:58:19.562914Z",
     "iopub.status.busy": "2024-12-17T11:58:19.562593Z",
     "iopub.status.idle": "2024-12-17T11:58:19.579490Z",
     "shell.execute_reply": "2024-12-17T11:58:19.578596Z",
     "shell.execute_reply.started": "2024-12-17T11:58:19.562884Z"
    },
    "trusted": true
   },
   "outputs": [],
   "source": [
    "X_train = torch.tensor(X_train, dtype=torch.float, device=device)\n",
    "X_test = torch.tensor(X_test, dtype=torch.float, device=device)\n",
    "y_train = torch.tensor(y_train, dtype=torch.long, device=device)\n",
    "y_test = torch.tensor(y_test, dtype=torch.long, device=device)"
   ]
  },
  {
   "cell_type": "code",
   "execution_count": 55,
   "metadata": {
    "execution": {
     "iopub.execute_input": "2024-12-17T11:58:20.086786Z",
     "iopub.status.busy": "2024-12-17T11:58:20.086472Z",
     "iopub.status.idle": "2024-12-17T11:58:20.091273Z",
     "shell.execute_reply": "2024-12-17T11:58:20.090230Z",
     "shell.execute_reply.started": "2024-12-17T11:58:20.086757Z"
    },
    "trusted": true
   },
   "outputs": [],
   "source": [
    "loader = data.DataLoader(data.TensorDataset(X_train, y_train), shuffle=True, batch_size=32)"
   ]
  },
  {
   "cell_type": "code",
   "execution_count": 56,
   "metadata": {
    "execution": {
     "iopub.execute_input": "2024-12-17T11:58:20.626960Z",
     "iopub.status.busy": "2024-12-17T11:58:20.626656Z",
     "iopub.status.idle": "2024-12-17T11:58:20.631197Z",
     "shell.execute_reply": "2024-12-17T11:58:20.630357Z",
     "shell.execute_reply.started": "2024-12-17T11:58:20.626932Z"
    },
    "trusted": true
   },
   "outputs": [],
   "source": [
    "testLoader = data.DataLoader(data.TensorDataset(X_test, y_test), shuffle=True, batch_size=32)"
   ]
  },
  {
   "cell_type": "markdown",
   "metadata": {},
   "source": [
    "## xLSTM + wavelet"
   ]
  },
  {
   "cell_type": "code",
   "execution_count": 57,
   "metadata": {
    "execution": {
     "iopub.execute_input": "2024-12-17T11:58:30.995953Z",
     "iopub.status.busy": "2024-12-17T11:58:30.995609Z",
     "iopub.status.idle": "2024-12-17T11:58:31.000184Z",
     "shell.execute_reply": "2024-12-17T11:58:30.999209Z",
     "shell.execute_reply.started": "2024-12-17T11:58:30.995922Z"
    },
    "trusted": true
   },
   "outputs": [],
   "source": [
    "train_acc_list = []\n",
    "test_acc_list = []\n",
    "train_loss_list = []\n",
    "test_loss_list = []"
   ]
  },
  {
   "cell_type": "code",
   "execution_count": 58,
   "metadata": {
    "execution": {
     "iopub.execute_input": "2024-12-17T11:58:37.507285Z",
     "iopub.status.busy": "2024-12-17T11:58:37.506923Z",
     "iopub.status.idle": "2024-12-17T12:20:24.808315Z",
     "shell.execute_reply": "2024-12-17T12:20:24.807446Z",
     "shell.execute_reply.started": "2024-12-17T11:58:37.507252Z"
    },
    "scrolled": true,
    "trusted": true
   },
   "outputs": [
    {
     "name": "stdout",
     "output_type": "stream",
     "text": [
      "Epoch 0: Train Accuracy 0.5299, Train Loss 0.9859, Test Accuracy 0.5328, Test Loss 0.9838\n",
      "Epoch 1: Train Accuracy 0.5575, Train Loss 0.9150, Test Accuracy 0.5560, Test Loss 0.9178\n",
      "Epoch 2: Train Accuracy 0.5811, Train Loss 0.8593, Test Accuracy 0.5745, Test Loss 0.8636\n",
      "Epoch 3: Train Accuracy 0.6049, Train Loss 0.8171, Test Accuracy 0.5939, Test Loss 0.8217\n",
      "Epoch 4: Train Accuracy 0.6213, Train Loss 0.7670, Test Accuracy 0.6128, Test Loss 0.7786\n",
      "Epoch 5: Train Accuracy 0.6361, Train Loss 0.7302, Test Accuracy 0.6242, Test Loss 0.7475\n",
      "Epoch 6: Train Accuracy 0.6542, Train Loss 0.6923, Test Accuracy 0.6444, Test Loss 0.7120\n",
      "Epoch 7: Train Accuracy 0.6646, Train Loss 0.6674, Test Accuracy 0.6620, Test Loss 0.6866\n",
      "Epoch 8: Train Accuracy 0.6679, Train Loss 0.6494, Test Accuracy 0.6574, Test Loss 0.6716\n",
      "Epoch 9: Train Accuracy 0.6820, Train Loss 0.6206, Test Accuracy 0.6721, Test Loss 0.6421\n",
      "Epoch 10: Train Accuracy 0.6842, Train Loss 0.6050, Test Accuracy 0.6747, Test Loss 0.6297\n",
      "Epoch 11: Train Accuracy 0.6902, Train Loss 0.5889, Test Accuracy 0.6806, Test Loss 0.6146\n",
      "Epoch 12: Train Accuracy 0.6922, Train Loss 0.5792, Test Accuracy 0.6814, Test Loss 0.6024\n",
      "Epoch 13: Train Accuracy 0.6964, Train Loss 0.5685, Test Accuracy 0.6856, Test Loss 0.5965\n",
      "Epoch 14: Train Accuracy 0.7044, Train Loss 0.5625, Test Accuracy 0.6928, Test Loss 0.5928\n",
      "Epoch 15: Train Accuracy 0.7076, Train Loss 0.5466, Test Accuracy 0.6894, Test Loss 0.5758\n",
      "Epoch 16: Train Accuracy 0.7075, Train Loss 0.5446, Test Accuracy 0.6915, Test Loss 0.5770\n",
      "Epoch 17: Train Accuracy 0.7120, Train Loss 0.5389, Test Accuracy 0.6978, Test Loss 0.5693\n",
      "Epoch 18: Train Accuracy 0.7037, Train Loss 0.5482, Test Accuracy 0.6822, Test Loss 0.5780\n",
      "Epoch 19: Train Accuracy 0.7168, Train Loss 0.5290, Test Accuracy 0.7033, Test Loss 0.5641\n",
      "Epoch 20: Train Accuracy 0.7169, Train Loss 0.5245, Test Accuracy 0.7020, Test Loss 0.5612\n",
      "Epoch 21: Train Accuracy 0.7197, Train Loss 0.5155, Test Accuracy 0.7054, Test Loss 0.5499\n",
      "Epoch 22: Train Accuracy 0.7221, Train Loss 0.5125, Test Accuracy 0.7159, Test Loss 0.5457\n",
      "Epoch 23: Train Accuracy 0.7279, Train Loss 0.5081, Test Accuracy 0.7205, Test Loss 0.5422\n",
      "Epoch 24: Train Accuracy 0.7285, Train Loss 0.5032, Test Accuracy 0.7138, Test Loss 0.5390\n",
      "Epoch 25: Train Accuracy 0.7303, Train Loss 0.5009, Test Accuracy 0.7210, Test Loss 0.5361\n",
      "Epoch 26: Train Accuracy 0.7325, Train Loss 0.4983, Test Accuracy 0.7201, Test Loss 0.5323\n",
      "Epoch 27: Train Accuracy 0.7275, Train Loss 0.5021, Test Accuracy 0.7146, Test Loss 0.5367\n",
      "Epoch 28: Train Accuracy 0.7321, Train Loss 0.4937, Test Accuracy 0.7226, Test Loss 0.5272\n",
      "Epoch 29: Train Accuracy 0.7288, Train Loss 0.5047, Test Accuracy 0.7252, Test Loss 0.5380\n",
      "Epoch 30: Train Accuracy 0.7389, Train Loss 0.4840, Test Accuracy 0.7332, Test Loss 0.5187\n",
      "Epoch 31: Train Accuracy 0.7392, Train Loss 0.4810, Test Accuracy 0.7235, Test Loss 0.5188\n",
      "Epoch 32: Train Accuracy 0.7420, Train Loss 0.4792, Test Accuracy 0.7277, Test Loss 0.5186\n",
      "Epoch 33: Train Accuracy 0.7416, Train Loss 0.4825, Test Accuracy 0.7235, Test Loss 0.5238\n",
      "Epoch 34: Train Accuracy 0.7460, Train Loss 0.4714, Test Accuracy 0.7311, Test Loss 0.5103\n",
      "Epoch 35: Train Accuracy 0.7476, Train Loss 0.4679, Test Accuracy 0.7319, Test Loss 0.5086\n",
      "Epoch 36: Train Accuracy 0.7491, Train Loss 0.4660, Test Accuracy 0.7344, Test Loss 0.5071\n",
      "Epoch 37: Train Accuracy 0.7485, Train Loss 0.4657, Test Accuracy 0.7306, Test Loss 0.5080\n",
      "Epoch 38: Train Accuracy 0.7369, Train Loss 0.4836, Test Accuracy 0.7189, Test Loss 0.5346\n",
      "Epoch 39: Train Accuracy 0.7483, Train Loss 0.4609, Test Accuracy 0.7365, Test Loss 0.5034\n",
      "Epoch 40: Train Accuracy 0.7438, Train Loss 0.4661, Test Accuracy 0.7193, Test Loss 0.5091\n",
      "Epoch 41: Train Accuracy 0.7434, Train Loss 0.4710, Test Accuracy 0.7138, Test Loss 0.5156\n",
      "Epoch 42: Train Accuracy 0.7470, Train Loss 0.4607, Test Accuracy 0.7290, Test Loss 0.5011\n",
      "Epoch 43: Train Accuracy 0.7510, Train Loss 0.4573, Test Accuracy 0.7247, Test Loss 0.5005\n",
      "Epoch 44: Train Accuracy 0.7517, Train Loss 0.4562, Test Accuracy 0.7247, Test Loss 0.4999\n",
      "Epoch 45: Train Accuracy 0.7522, Train Loss 0.4566, Test Accuracy 0.7311, Test Loss 0.5023\n",
      "Epoch 46: Train Accuracy 0.7476, Train Loss 0.4559, Test Accuracy 0.7281, Test Loss 0.4997\n",
      "Epoch 47: Train Accuracy 0.7524, Train Loss 0.4527, Test Accuracy 0.7315, Test Loss 0.4947\n",
      "Epoch 48: Train Accuracy 0.7508, Train Loss 0.4628, Test Accuracy 0.7327, Test Loss 0.5086\n",
      "Epoch 49: Train Accuracy 0.7504, Train Loss 0.4584, Test Accuracy 0.7210, Test Loss 0.5079\n",
      "Epoch 50: Train Accuracy 0.7567, Train Loss 0.4487, Test Accuracy 0.7332, Test Loss 0.4944\n",
      "Epoch 51: Train Accuracy 0.7567, Train Loss 0.4467, Test Accuracy 0.7336, Test Loss 0.4919\n",
      "Epoch 52: Train Accuracy 0.7588, Train Loss 0.4444, Test Accuracy 0.7302, Test Loss 0.4920\n",
      "Epoch 53: Train Accuracy 0.7583, Train Loss 0.4442, Test Accuracy 0.7382, Test Loss 0.4899\n",
      "Epoch 54: Train Accuracy 0.7554, Train Loss 0.4513, Test Accuracy 0.7298, Test Loss 0.4969\n",
      "Epoch 55: Train Accuracy 0.7526, Train Loss 0.4546, Test Accuracy 0.7239, Test Loss 0.5104\n",
      "Epoch 56: Train Accuracy 0.7581, Train Loss 0.4438, Test Accuracy 0.7323, Test Loss 0.4928\n",
      "Epoch 57: Train Accuracy 0.7587, Train Loss 0.4413, Test Accuracy 0.7332, Test Loss 0.4887\n",
      "Epoch 58: Train Accuracy 0.7613, Train Loss 0.4397, Test Accuracy 0.7323, Test Loss 0.4895\n",
      "Epoch 59: Train Accuracy 0.7600, Train Loss 0.4407, Test Accuracy 0.7340, Test Loss 0.4893\n",
      "Epoch 60: Train Accuracy 0.7587, Train Loss 0.4425, Test Accuracy 0.7353, Test Loss 0.4931\n",
      "Epoch 61: Train Accuracy 0.7544, Train Loss 0.4447, Test Accuracy 0.7231, Test Loss 0.4948\n",
      "Epoch 62: Train Accuracy 0.7603, Train Loss 0.4377, Test Accuracy 0.7306, Test Loss 0.4895\n",
      "Epoch 63: Train Accuracy 0.7611, Train Loss 0.4416, Test Accuracy 0.7323, Test Loss 0.4981\n",
      "Epoch 64: Train Accuracy 0.7593, Train Loss 0.4411, Test Accuracy 0.7416, Test Loss 0.4883\n",
      "Epoch 65: Train Accuracy 0.7557, Train Loss 0.4422, Test Accuracy 0.7315, Test Loss 0.4905\n",
      "Epoch 66: Train Accuracy 0.7621, Train Loss 0.4345, Test Accuracy 0.7315, Test Loss 0.4841\n",
      "Epoch 67: Train Accuracy 0.7621, Train Loss 0.4355, Test Accuracy 0.7407, Test Loss 0.4827\n",
      "Epoch 68: Train Accuracy 0.7642, Train Loss 0.4330, Test Accuracy 0.7420, Test Loss 0.4807\n",
      "Epoch 69: Train Accuracy 0.7626, Train Loss 0.4364, Test Accuracy 0.7340, Test Loss 0.4852\n",
      "Epoch 70: Train Accuracy 0.7642, Train Loss 0.4325, Test Accuracy 0.7395, Test Loss 0.4841\n",
      "Epoch 71: Train Accuracy 0.7597, Train Loss 0.4396, Test Accuracy 0.7332, Test Loss 0.4931\n",
      "Epoch 72: Train Accuracy 0.7654, Train Loss 0.4294, Test Accuracy 0.7323, Test Loss 0.4778\n",
      "Epoch 73: Train Accuracy 0.7614, Train Loss 0.4319, Test Accuracy 0.7302, Test Loss 0.4802\n",
      "Epoch 74: Train Accuracy 0.7605, Train Loss 0.4361, Test Accuracy 0.7273, Test Loss 0.4772\n",
      "Epoch 75: Train Accuracy 0.7606, Train Loss 0.4470, Test Accuracy 0.7340, Test Loss 0.4879\n",
      "Epoch 76: Train Accuracy 0.7655, Train Loss 0.4303, Test Accuracy 0.7403, Test Loss 0.4700\n",
      "Epoch 77: Train Accuracy 0.7653, Train Loss 0.4303, Test Accuracy 0.7407, Test Loss 0.4690\n",
      "Epoch 78: Train Accuracy 0.7666, Train Loss 0.4271, Test Accuracy 0.7370, Test Loss 0.4633\n",
      "Epoch 79: Train Accuracy 0.7661, Train Loss 0.4251, Test Accuracy 0.7471, Test Loss 0.4602\n",
      "Epoch 80: Train Accuracy 0.7685, Train Loss 0.4257, Test Accuracy 0.7395, Test Loss 0.4625\n",
      "Epoch 81: Train Accuracy 0.7681, Train Loss 0.4243, Test Accuracy 0.7420, Test Loss 0.4589\n",
      "Epoch 82: Train Accuracy 0.7671, Train Loss 0.4262, Test Accuracy 0.7353, Test Loss 0.4624\n",
      "Epoch 83: Train Accuracy 0.7689, Train Loss 0.4239, Test Accuracy 0.7370, Test Loss 0.4621\n",
      "Epoch 84: Train Accuracy 0.7666, Train Loss 0.4252, Test Accuracy 0.7407, Test Loss 0.4613\n",
      "Epoch 85: Train Accuracy 0.7625, Train Loss 0.4365, Test Accuracy 0.7365, Test Loss 0.4687\n",
      "Epoch 86: Train Accuracy 0.7458, Train Loss 0.4656, Test Accuracy 0.7235, Test Loss 0.4940\n",
      "Epoch 87: Train Accuracy 0.7679, Train Loss 0.4285, Test Accuracy 0.7391, Test Loss 0.4665\n",
      "Epoch 88: Train Accuracy 0.7706, Train Loss 0.4229, Test Accuracy 0.7424, Test Loss 0.4596\n",
      "Epoch 89: Train Accuracy 0.7698, Train Loss 0.4234, Test Accuracy 0.7407, Test Loss 0.4609\n",
      "Epoch 90: Train Accuracy 0.7682, Train Loss 0.4225, Test Accuracy 0.7445, Test Loss 0.4572\n",
      "Epoch 91: Train Accuracy 0.7698, Train Loss 0.4225, Test Accuracy 0.7416, Test Loss 0.4604\n",
      "Epoch 92: Train Accuracy 0.7697, Train Loss 0.4228, Test Accuracy 0.7403, Test Loss 0.4605\n",
      "Epoch 93: Train Accuracy 0.7720, Train Loss 0.4186, Test Accuracy 0.7399, Test Loss 0.4570\n",
      "Epoch 94: Train Accuracy 0.7719, Train Loss 0.4186, Test Accuracy 0.7471, Test Loss 0.4549\n",
      "Epoch 95: Train Accuracy 0.7609, Train Loss 0.4435, Test Accuracy 0.7319, Test Loss 0.4785\n",
      "Epoch 96: Train Accuracy 0.7605, Train Loss 0.4452, Test Accuracy 0.7340, Test Loss 0.4757\n",
      "Epoch 97: Train Accuracy 0.7684, Train Loss 0.4225, Test Accuracy 0.7428, Test Loss 0.4624\n",
      "Epoch 98: Train Accuracy 0.7719, Train Loss 0.4187, Test Accuracy 0.7424, Test Loss 0.4580\n",
      "Epoch 99: Train Accuracy 0.7677, Train Loss 0.4251, Test Accuracy 0.7353, Test Loss 0.4628\n",
      "Epoch 100: Train Accuracy 0.7720, Train Loss 0.4181, Test Accuracy 0.7323, Test Loss 0.4567\n",
      "Epoch 101: Train Accuracy 0.7719, Train Loss 0.4178, Test Accuracy 0.7391, Test Loss 0.4544\n",
      "Epoch 102: Train Accuracy 0.7675, Train Loss 0.4307, Test Accuracy 0.7361, Test Loss 0.4703\n",
      "Epoch 103: Train Accuracy 0.7672, Train Loss 0.4272, Test Accuracy 0.7357, Test Loss 0.4654\n",
      "Epoch 104: Train Accuracy 0.7719, Train Loss 0.4183, Test Accuracy 0.7441, Test Loss 0.4557\n",
      "Epoch 105: Train Accuracy 0.7724, Train Loss 0.4176, Test Accuracy 0.7386, Test Loss 0.4578\n",
      "Epoch 106: Train Accuracy 0.7737, Train Loss 0.4156, Test Accuracy 0.7365, Test Loss 0.4547\n",
      "Epoch 107: Train Accuracy 0.7704, Train Loss 0.4211, Test Accuracy 0.7403, Test Loss 0.4633\n",
      "Epoch 108: Train Accuracy 0.7679, Train Loss 0.4230, Test Accuracy 0.7424, Test Loss 0.4575\n",
      "Epoch 109: Train Accuracy 0.7713, Train Loss 0.4175, Test Accuracy 0.7382, Test Loss 0.4561\n",
      "Epoch 110: Train Accuracy 0.7685, Train Loss 0.4246, Test Accuracy 0.7315, Test Loss 0.4642\n",
      "Epoch 111: Train Accuracy 0.7719, Train Loss 0.4206, Test Accuracy 0.7416, Test Loss 0.4602\n",
      "Epoch 112: Train Accuracy 0.7740, Train Loss 0.4184, Test Accuracy 0.7454, Test Loss 0.4585\n",
      "Epoch 113: Train Accuracy 0.7701, Train Loss 0.4217, Test Accuracy 0.7374, Test Loss 0.4633\n",
      "Epoch 114: Train Accuracy 0.7739, Train Loss 0.4152, Test Accuracy 0.7437, Test Loss 0.4560\n",
      "Epoch 115: Train Accuracy 0.7745, Train Loss 0.4137, Test Accuracy 0.7412, Test Loss 0.4548\n",
      "Epoch 116: Train Accuracy 0.7749, Train Loss 0.4130, Test Accuracy 0.7395, Test Loss 0.4545\n",
      "Epoch 117: Train Accuracy 0.7745, Train Loss 0.4139, Test Accuracy 0.7483, Test Loss 0.4567\n",
      "Epoch 118: Train Accuracy 0.7737, Train Loss 0.4142, Test Accuracy 0.7420, Test Loss 0.4570\n",
      "Epoch 119: Train Accuracy 0.7689, Train Loss 0.4212, Test Accuracy 0.7513, Test Loss 0.4638\n",
      "Epoch 120: Train Accuracy 0.7589, Train Loss 0.5154, Test Accuracy 0.7285, Test Loss 0.5736\n",
      "Epoch 121: Train Accuracy 0.7667, Train Loss 0.4250, Test Accuracy 0.7357, Test Loss 0.4715\n",
      "Epoch 122: Train Accuracy 0.7604, Train Loss 0.4397, Test Accuracy 0.7264, Test Loss 0.4788\n",
      "Epoch 123: Train Accuracy 0.7746, Train Loss 0.4135, Test Accuracy 0.7466, Test Loss 0.4535\n",
      "Epoch 124: Train Accuracy 0.7750, Train Loss 0.4126, Test Accuracy 0.7445, Test Loss 0.4536\n",
      "Epoch 125: Train Accuracy 0.7759, Train Loss 0.4112, Test Accuracy 0.7441, Test Loss 0.4507\n",
      "Epoch 126: Train Accuracy 0.7747, Train Loss 0.4120, Test Accuracy 0.7458, Test Loss 0.4531\n",
      "Epoch 127: Train Accuracy 0.7756, Train Loss 0.4139, Test Accuracy 0.7475, Test Loss 0.4519\n",
      "Epoch 128: Train Accuracy 0.7732, Train Loss 0.4121, Test Accuracy 0.7386, Test Loss 0.4530\n",
      "Epoch 129: Train Accuracy 0.7755, Train Loss 0.4112, Test Accuracy 0.7437, Test Loss 0.4536\n",
      "Epoch 130: Train Accuracy 0.7675, Train Loss 0.4196, Test Accuracy 0.7344, Test Loss 0.4605\n",
      "Epoch 131: Train Accuracy 0.7751, Train Loss 0.4119, Test Accuracy 0.7466, Test Loss 0.4507\n",
      "Epoch 132: Train Accuracy 0.7740, Train Loss 0.4129, Test Accuracy 0.7428, Test Loss 0.4540\n",
      "Epoch 133: Train Accuracy 0.7758, Train Loss 0.4109, Test Accuracy 0.7471, Test Loss 0.4504\n",
      "Epoch 134: Train Accuracy 0.7758, Train Loss 0.4103, Test Accuracy 0.7412, Test Loss 0.4527\n",
      "Epoch 135: Train Accuracy 0.7731, Train Loss 0.4139, Test Accuracy 0.7437, Test Loss 0.4518\n",
      "Epoch 136: Train Accuracy 0.7752, Train Loss 0.4113, Test Accuracy 0.7462, Test Loss 0.4524\n",
      "Epoch 137: Train Accuracy 0.7693, Train Loss 0.4199, Test Accuracy 0.7462, Test Loss 0.4542\n",
      "Epoch 138: Train Accuracy 0.7746, Train Loss 0.4129, Test Accuracy 0.7441, Test Loss 0.4521\n",
      "Epoch 139: Train Accuracy 0.7756, Train Loss 0.4106, Test Accuracy 0.7403, Test Loss 0.4518\n",
      "Epoch 140: Train Accuracy 0.7752, Train Loss 0.4109, Test Accuracy 0.7420, Test Loss 0.4510\n",
      "Epoch 141: Train Accuracy 0.7753, Train Loss 0.4097, Test Accuracy 0.7458, Test Loss 0.4526\n",
      "Epoch 142: Train Accuracy 0.7767, Train Loss 0.4091, Test Accuracy 0.7449, Test Loss 0.4509\n",
      "Epoch 143: Train Accuracy 0.7765, Train Loss 0.4096, Test Accuracy 0.7458, Test Loss 0.4480\n",
      "Epoch 144: Train Accuracy 0.7756, Train Loss 0.4094, Test Accuracy 0.7437, Test Loss 0.4542\n",
      "Epoch 145: Train Accuracy 0.7675, Train Loss 0.4378, Test Accuracy 0.7391, Test Loss 0.4844\n",
      "Epoch 146: Train Accuracy 0.7750, Train Loss 0.4109, Test Accuracy 0.7445, Test Loss 0.4519\n",
      "Epoch 147: Train Accuracy 0.7662, Train Loss 0.4288, Test Accuracy 0.7332, Test Loss 0.4770\n",
      "Epoch 148: Train Accuracy 0.7761, Train Loss 0.4131, Test Accuracy 0.7445, Test Loss 0.4564\n",
      "Epoch 149: Train Accuracy 0.7764, Train Loss 0.4093, Test Accuracy 0.7441, Test Loss 0.4541\n",
      "Epoch 150: Train Accuracy 0.7775, Train Loss 0.4090, Test Accuracy 0.7466, Test Loss 0.4552\n",
      "Epoch 151: Train Accuracy 0.7775, Train Loss 0.4090, Test Accuracy 0.7441, Test Loss 0.4507\n",
      "Epoch 152: Train Accuracy 0.7629, Train Loss 0.4336, Test Accuracy 0.7302, Test Loss 0.4832\n",
      "Epoch 153: Train Accuracy 0.7762, Train Loss 0.4108, Test Accuracy 0.7492, Test Loss 0.4542\n",
      "Epoch 154: Train Accuracy 0.7680, Train Loss 0.4343, Test Accuracy 0.7336, Test Loss 0.4819\n",
      "Epoch 155: Train Accuracy 0.7763, Train Loss 0.4102, Test Accuracy 0.7433, Test Loss 0.4511\n",
      "Epoch 156: Train Accuracy 0.7771, Train Loss 0.4077, Test Accuracy 0.7441, Test Loss 0.4502\n",
      "Epoch 157: Train Accuracy 0.7772, Train Loss 0.4090, Test Accuracy 0.7479, Test Loss 0.4504\n",
      "Epoch 158: Train Accuracy 0.7743, Train Loss 0.4185, Test Accuracy 0.7353, Test Loss 0.4619\n",
      "Epoch 159: Train Accuracy 0.7775, Train Loss 0.4080, Test Accuracy 0.7428, Test Loss 0.4502\n",
      "Epoch 160: Train Accuracy 0.7781, Train Loss 0.4067, Test Accuracy 0.7555, Test Loss 0.4502\n",
      "Epoch 161: Train Accuracy 0.7768, Train Loss 0.4069, Test Accuracy 0.7508, Test Loss 0.4499\n",
      "Epoch 162: Train Accuracy 0.7766, Train Loss 0.4084, Test Accuracy 0.7496, Test Loss 0.4483\n",
      "Epoch 163: Train Accuracy 0.7763, Train Loss 0.4106, Test Accuracy 0.7492, Test Loss 0.4520\n",
      "Epoch 164: Train Accuracy 0.7775, Train Loss 0.4071, Test Accuracy 0.7563, Test Loss 0.4473\n",
      "Epoch 165: Train Accuracy 0.7770, Train Loss 0.4073, Test Accuracy 0.7471, Test Loss 0.4476\n",
      "Epoch 166: Train Accuracy 0.7764, Train Loss 0.4075, Test Accuracy 0.7517, Test Loss 0.4494\n",
      "Epoch 167: Train Accuracy 0.7776, Train Loss 0.4076, Test Accuracy 0.7496, Test Loss 0.4502\n",
      "Epoch 168: Train Accuracy 0.7782, Train Loss 0.4061, Test Accuracy 0.7487, Test Loss 0.4484\n",
      "Epoch 169: Train Accuracy 0.7784, Train Loss 0.4062, Test Accuracy 0.7521, Test Loss 0.4509\n",
      "Epoch 170: Train Accuracy 0.7770, Train Loss 0.4076, Test Accuracy 0.7534, Test Loss 0.4487\n",
      "Epoch 171: Train Accuracy 0.7781, Train Loss 0.4090, Test Accuracy 0.7487, Test Loss 0.4528\n",
      "Epoch 172: Train Accuracy 0.7745, Train Loss 0.4086, Test Accuracy 0.7437, Test Loss 0.4557\n",
      "Epoch 173: Train Accuracy 0.7536, Train Loss 0.4663, Test Accuracy 0.7222, Test Loss 0.5208\n",
      "Epoch 174: Train Accuracy 0.7764, Train Loss 0.4118, Test Accuracy 0.7500, Test Loss 0.4557\n",
      "Epoch 175: Train Accuracy 0.7780, Train Loss 0.4072, Test Accuracy 0.7551, Test Loss 0.4493\n",
      "Epoch 176: Train Accuracy 0.7778, Train Loss 0.4086, Test Accuracy 0.7504, Test Loss 0.4570\n",
      "Epoch 177: Train Accuracy 0.7789, Train Loss 0.4047, Test Accuracy 0.7555, Test Loss 0.4487\n",
      "Epoch 178: Train Accuracy 0.7776, Train Loss 0.4061, Test Accuracy 0.7546, Test Loss 0.4499\n",
      "Epoch 179: Train Accuracy 0.7782, Train Loss 0.4052, Test Accuracy 0.7500, Test Loss 0.4494\n",
      "Epoch 180: Train Accuracy 0.7753, Train Loss 0.4107, Test Accuracy 0.7500, Test Loss 0.4484\n",
      "Epoch 181: Train Accuracy 0.7729, Train Loss 0.4156, Test Accuracy 0.7508, Test Loss 0.4544\n",
      "Epoch 182: Train Accuracy 0.7778, Train Loss 0.4067, Test Accuracy 0.7521, Test Loss 0.4470\n",
      "Epoch 183: Train Accuracy 0.7791, Train Loss 0.4052, Test Accuracy 0.7551, Test Loss 0.4455\n",
      "Epoch 184: Train Accuracy 0.7768, Train Loss 0.4065, Test Accuracy 0.7521, Test Loss 0.4507\n",
      "Epoch 185: Train Accuracy 0.7792, Train Loss 0.4038, Test Accuracy 0.7529, Test Loss 0.4481\n",
      "Epoch 186: Train Accuracy 0.7766, Train Loss 0.4066, Test Accuracy 0.7454, Test Loss 0.4513\n",
      "Epoch 187: Train Accuracy 0.7763, Train Loss 0.4093, Test Accuracy 0.7458, Test Loss 0.4567\n",
      "Epoch 188: Train Accuracy 0.7778, Train Loss 0.4059, Test Accuracy 0.7428, Test Loss 0.4554\n",
      "Epoch 189: Train Accuracy 0.7763, Train Loss 0.4079, Test Accuracy 0.7538, Test Loss 0.4499\n",
      "Epoch 190: Train Accuracy 0.7763, Train Loss 0.4062, Test Accuracy 0.7538, Test Loss 0.4488\n",
      "Epoch 191: Train Accuracy 0.7791, Train Loss 0.4048, Test Accuracy 0.7542, Test Loss 0.4474\n",
      "Epoch 192: Train Accuracy 0.7772, Train Loss 0.4055, Test Accuracy 0.7466, Test Loss 0.4491\n",
      "Epoch 193: Train Accuracy 0.7657, Train Loss 0.4358, Test Accuracy 0.7344, Test Loss 0.4826\n",
      "Epoch 194: Train Accuracy 0.7772, Train Loss 0.4064, Test Accuracy 0.7563, Test Loss 0.4498\n",
      "Epoch 195: Train Accuracy 0.7795, Train Loss 0.4040, Test Accuracy 0.7576, Test Loss 0.4480\n",
      "Epoch 196: Train Accuracy 0.7801, Train Loss 0.4036, Test Accuracy 0.7538, Test Loss 0.4485\n",
      "Epoch 197: Train Accuracy 0.7764, Train Loss 0.4056, Test Accuracy 0.7407, Test Loss 0.4506\n",
      "Epoch 198: Train Accuracy 0.7796, Train Loss 0.4034, Test Accuracy 0.7437, Test Loss 0.4501\n",
      "Epoch 199: Train Accuracy 0.7793, Train Loss 0.4030, Test Accuracy 0.7538, Test Loss 0.4491\n"
     ]
    }
   ],
   "source": [
    "for epoch in range(num_epochs):\n",
    "    model.train()\n",
    "    for X_batch, y_batch in loader:\n",
    "        y_pred = model(X_batch)\n",
    "        loss = criterion(y_pred, y_batch)\n",
    "        optimizer.zero_grad()\n",
    "        loss.backward()\n",
    "        optimizer.step()\n",
    "    model.eval()\n",
    "    totalYPred = []\n",
    "    totalY = []\n",
    "    with torch.no_grad():\n",
    "        for X_batch, y_batch in loader:\n",
    "            totalY.append(y_batch)\n",
    "            totalYPred.append(model(X_batch))\n",
    "    actualY = torch.cat(totalY, 0)\n",
    "    predY = torch.cat(totalYPred, 0)\n",
    "    metric = MulticlassAccuracy()\n",
    "    metric.update(predY, actualY)\n",
    "    train_acc = metric.compute()\n",
    "    train_acc_list.append(train_acc.item())\n",
    "    train_loss = nn.CrossEntropyLoss()\n",
    "    train_loss = train_loss(predY, actualY).item()\n",
    "    train_loss_list.append(train_loss)\n",
    "    print(\"Epoch %d: Train Accuracy %.4f, Train Loss %.4f,\" % (epoch, train_acc, train_loss), end=\"\")\n",
    "    \n",
    "    totalYPred = []\n",
    "    totalY = []\n",
    "    with torch.no_grad():\n",
    "        for X_batch, y_batch in testLoader:\n",
    "            totalY.append(y_batch)\n",
    "            totalYPred.append(model(X_batch))\n",
    "    actualY = torch.cat(totalY, 0)\n",
    "    predY = torch.cat(totalYPred, 0)\n",
    "    metric = MulticlassAccuracy()\n",
    "    metric.update(predY, actualY)\n",
    "    test_acc = metric.compute()\n",
    "    \n",
    "    test_acc_list.append(test_acc.item())\n",
    "    test_loss = nn.CrossEntropyLoss()\n",
    "    test_loss = test_loss(predY, actualY).item()\n",
    "    test_loss_list.append(test_loss)\n",
    "    print(\" Test Accuracy %.4f, Test Loss %.4f\" % (test_acc, test_loss))\n",
    "    del totalYPred\n",
    "    del totalY\n",
    "    del actualY\n",
    "    del predY"
   ]
  },
  {
   "cell_type": "code",
   "execution_count": 61,
   "metadata": {
    "execution": {
     "iopub.execute_input": "2024-12-17T12:26:19.543531Z",
     "iopub.status.busy": "2024-12-17T12:26:19.542822Z",
     "iopub.status.idle": "2024-12-17T12:26:19.766881Z",
     "shell.execute_reply": "2024-12-17T12:26:19.766107Z",
     "shell.execute_reply.started": "2024-12-17T12:26:19.543486Z"
    },
    "trusted": true
   },
   "outputs": [
    {
     "data": {
      "text/plain": [
       "<matplotlib.legend.Legend at 0x7e865430e140>"
      ]
     },
     "execution_count": 61,
     "metadata": {},
     "output_type": "execute_result"
    },
    {
     "data": {
      "image/png": "[encoded data removed]",
      "text/plain": [
       "<Figure size 640x480 with 1 Axes>"
      ]
     },
     "metadata": {},
     "output_type": "display_data"
    }
   ],
   "source": [
    "# plt.figure(figsize = (15,5))\n",
    "plt.plot(range(len(train_acc_list)), train_acc_list)\n",
    "plt.plot(range(len(test_acc_list)), test_acc_list)\n",
    "plt.xlabel(\"Epoch\")\n",
    "plt.ylabel(\"Accuracy\")\n",
    "plt.title(\"xLSTM + Wavelet\")\n",
    "plt.legend([\"Train Accuracy\",\"Test Accuracy\"],loc = \"lower right\")"
   ]
  },
  {
   "cell_type": "code",
   "execution_count": 64,
   "metadata": {
    "execution": {
     "iopub.execute_input": "2024-12-17T12:27:11.104424Z",
     "iopub.status.busy": "2024-12-17T12:27:11.104082Z",
     "iopub.status.idle": "2024-12-17T12:27:11.388645Z",
     "shell.execute_reply": "2024-12-17T12:27:11.387772Z",
     "shell.execute_reply.started": "2024-12-17T12:27:11.104398Z"
    },
    "trusted": true
   },
   "outputs": [
    {
     "data": {
      "text/plain": [
       "<matplotlib.legend.Legend at 0x7e86540c7e80>"
      ]
     },
     "execution_count": 64,
     "metadata": {},
     "output_type": "execute_result"
    },
    {
     "data": {
      "image/png": "[encoded data removed]",
      "text/plain": [
       "<Figure size 640x480 with 1 Axes>"
      ]
     },
     "metadata": {},
     "output_type": "display_data"
    }
   ],
   "source": [
    "# plt.figure(figsize = (15,5))\n",
    "plt.plot(range(len(train_loss_list)), train_loss_list)\n",
    "plt.plot(range(len(test_loss_list)), test_loss_list)\n",
    "plt.xlabel(\"Epoch\")\n",
    "plt.ylabel(\"Loss\")\n",
    "plt.title(\"xLSTM + Wavelet\")\n",
    "plt.legend([\"Train Loss\",\"Test Loss\"],loc = \"upper right\")"
   ]
  },
  {
   "cell_type": "markdown",
   "metadata": {},
   "source": [
    "## xLSTM + ICA\n",
    "## Combining hand and arm\n",
    "## window 50, overlapp 25"
   ]
  },
  {
   "cell_type": "code",
   "execution_count": 268,
   "metadata": {
    "execution": {
     "iopub.execute_input": "2024-12-17T10:04:07.222551Z",
     "iopub.status.busy": "2024-12-17T10:04:07.221646Z",
     "iopub.status.idle": "2024-12-17T10:04:07.226531Z",
     "shell.execute_reply": "2024-12-17T10:04:07.225497Z",
     "shell.execute_reply.started": "2024-12-17T10:04:07.222514Z"
    },
    "trusted": true
   },
   "outputs": [],
   "source": [
    "train_acc_list = []\n",
    "test_acc_list = []\n",
    "train_loss_list = []\n",
    "test_loss_list = []"
   ]
  },
  {
   "cell_type": "code",
   "execution_count": 269,
   "metadata": {
    "execution": {
     "iopub.execute_input": "2024-12-17T10:04:07.728563Z",
     "iopub.status.busy": "2024-12-17T10:04:07.727602Z",
     "iopub.status.idle": "2024-12-17T10:28:15.136227Z",
     "shell.execute_reply": "2024-12-17T10:28:15.135181Z",
     "shell.execute_reply.started": "2024-12-17T10:04:07.728525Z"
    },
    "scrolled": true,
    "trusted": true
   },
   "outputs": [
    {
     "name": "stdout",
     "output_type": "stream",
     "text": [
      "Epoch 0: Train Accuracy 0.4473, Train Loss 1.0606, Test Accuracy 0.4310, Test Loss 1.0700\n",
      "Epoch 1: Train Accuracy 0.5335, Train Loss 0.9852, Test Accuracy 0.5030, Test Loss 1.0012\n",
      "Epoch 2: Train Accuracy 0.5768, Train Loss 0.9100, Test Accuracy 0.5392, Test Loss 0.9318\n",
      "Epoch 3: Train Accuracy 0.6094, Train Loss 0.8394, Test Accuracy 0.5924, Test Loss 0.8626\n",
      "Epoch 4: Train Accuracy 0.6404, Train Loss 0.7714, Test Accuracy 0.6227, Test Loss 0.7994\n",
      "Epoch 5: Train Accuracy 0.6604, Train Loss 0.7177, Test Accuracy 0.6354, Test Loss 0.7517\n",
      "Epoch 6: Train Accuracy 0.6767, Train Loss 0.6711, Test Accuracy 0.6537, Test Loss 0.7002\n",
      "Epoch 7: Train Accuracy 0.6879, Train Loss 0.6347, Test Accuracy 0.6670, Test Loss 0.6660\n",
      "Epoch 8: Train Accuracy 0.6971, Train Loss 0.6044, Test Accuracy 0.6742, Test Loss 0.6349\n",
      "Epoch 9: Train Accuracy 0.6972, Train Loss 0.5880, Test Accuracy 0.6861, Test Loss 0.6148\n",
      "Epoch 10: Train Accuracy 0.7094, Train Loss 0.5627, Test Accuracy 0.6853, Test Loss 0.5913\n",
      "Epoch 11: Train Accuracy 0.7112, Train Loss 0.5519, Test Accuracy 0.6921, Test Loss 0.5815\n",
      "Epoch 12: Train Accuracy 0.7147, Train Loss 0.5470, Test Accuracy 0.6904, Test Loss 0.5771\n",
      "Epoch 13: Train Accuracy 0.7177, Train Loss 0.5378, Test Accuracy 0.6929, Test Loss 0.5673\n",
      "Epoch 14: Train Accuracy 0.7239, Train Loss 0.5223, Test Accuracy 0.7023, Test Loss 0.5508\n",
      "Epoch 15: Train Accuracy 0.7285, Train Loss 0.5127, Test Accuracy 0.7044, Test Loss 0.5432\n",
      "Epoch 16: Train Accuracy 0.7228, Train Loss 0.5209, Test Accuracy 0.7057, Test Loss 0.5513\n",
      "Epoch 17: Train Accuracy 0.7332, Train Loss 0.5002, Test Accuracy 0.7164, Test Loss 0.5281\n",
      "Epoch 18: Train Accuracy 0.7372, Train Loss 0.4919, Test Accuracy 0.7227, Test Loss 0.5213\n",
      "Epoch 19: Train Accuracy 0.7397, Train Loss 0.4913, Test Accuracy 0.7189, Test Loss 0.5205\n",
      "Epoch 20: Train Accuracy 0.7381, Train Loss 0.4870, Test Accuracy 0.7193, Test Loss 0.5153\n",
      "Epoch 21: Train Accuracy 0.7410, Train Loss 0.4828, Test Accuracy 0.7236, Test Loss 0.5113\n",
      "Epoch 22: Train Accuracy 0.7426, Train Loss 0.4797, Test Accuracy 0.7266, Test Loss 0.5084\n",
      "Epoch 23: Train Accuracy 0.7450, Train Loss 0.4706, Test Accuracy 0.7330, Test Loss 0.5017\n",
      "Epoch 24: Train Accuracy 0.7473, Train Loss 0.4694, Test Accuracy 0.7287, Test Loss 0.5010\n",
      "Epoch 25: Train Accuracy 0.7466, Train Loss 0.4660, Test Accuracy 0.7330, Test Loss 0.4978\n",
      "Epoch 26: Train Accuracy 0.7426, Train Loss 0.4734, Test Accuracy 0.7232, Test Loss 0.5004\n",
      "Epoch 27: Train Accuracy 0.7343, Train Loss 0.4984, Test Accuracy 0.7185, Test Loss 0.5358\n",
      "Epoch 28: Train Accuracy 0.7479, Train Loss 0.4680, Test Accuracy 0.7270, Test Loss 0.5096\n",
      "Epoch 29: Train Accuracy 0.7507, Train Loss 0.4599, Test Accuracy 0.7338, Test Loss 0.4872\n",
      "Epoch 30: Train Accuracy 0.7435, Train Loss 0.4766, Test Accuracy 0.7283, Test Loss 0.5033\n",
      "Epoch 31: Train Accuracy 0.7518, Train Loss 0.4570, Test Accuracy 0.7368, Test Loss 0.4851\n",
      "Epoch 32: Train Accuracy 0.7518, Train Loss 0.4564, Test Accuracy 0.7317, Test Loss 0.4850\n",
      "Epoch 33: Train Accuracy 0.7501, Train Loss 0.4604, Test Accuracy 0.7325, Test Loss 0.4864\n",
      "Epoch 34: Train Accuracy 0.7541, Train Loss 0.4528, Test Accuracy 0.7334, Test Loss 0.4838\n",
      "Epoch 35: Train Accuracy 0.7557, Train Loss 0.4494, Test Accuracy 0.7372, Test Loss 0.4815\n",
      "Epoch 36: Train Accuracy 0.7574, Train Loss 0.4471, Test Accuracy 0.7368, Test Loss 0.4785\n",
      "Epoch 37: Train Accuracy 0.7417, Train Loss 0.4768, Test Accuracy 0.7142, Test Loss 0.5223\n",
      "Epoch 38: Train Accuracy 0.7593, Train Loss 0.4479, Test Accuracy 0.7423, Test Loss 0.4795\n",
      "Epoch 39: Train Accuracy 0.7584, Train Loss 0.4475, Test Accuracy 0.7406, Test Loss 0.4786\n",
      "Epoch 40: Train Accuracy 0.7604, Train Loss 0.4434, Test Accuracy 0.7411, Test Loss 0.4746\n",
      "Epoch 41: Train Accuracy 0.7609, Train Loss 0.4424, Test Accuracy 0.7419, Test Loss 0.4743\n",
      "Epoch 42: Train Accuracy 0.7606, Train Loss 0.4407, Test Accuracy 0.7440, Test Loss 0.4736\n",
      "Epoch 43: Train Accuracy 0.7627, Train Loss 0.4399, Test Accuracy 0.7462, Test Loss 0.4723\n",
      "Epoch 44: Train Accuracy 0.7585, Train Loss 0.4432, Test Accuracy 0.7406, Test Loss 0.4768\n",
      "Epoch 45: Train Accuracy 0.7628, Train Loss 0.4386, Test Accuracy 0.7509, Test Loss 0.4724\n",
      "Epoch 46: Train Accuracy 0.7630, Train Loss 0.4372, Test Accuracy 0.7440, Test Loss 0.4704\n",
      "Epoch 47: Train Accuracy 0.7612, Train Loss 0.4389, Test Accuracy 0.7449, Test Loss 0.4736\n",
      "Epoch 48: Train Accuracy 0.7642, Train Loss 0.4386, Test Accuracy 0.7462, Test Loss 0.4761\n",
      "Epoch 49: Train Accuracy 0.7649, Train Loss 0.4344, Test Accuracy 0.7521, Test Loss 0.4693\n",
      "Epoch 50: Train Accuracy 0.7342, Train Loss 0.5172, Test Accuracy 0.7215, Test Loss 0.5398\n",
      "Epoch 51: Train Accuracy 0.7604, Train Loss 0.4524, Test Accuracy 0.7462, Test Loss 0.4876\n",
      "Epoch 52: Train Accuracy 0.7638, Train Loss 0.4356, Test Accuracy 0.7487, Test Loss 0.4671\n",
      "Epoch 53: Train Accuracy 0.7658, Train Loss 0.4343, Test Accuracy 0.7453, Test Loss 0.4688\n",
      "Epoch 54: Train Accuracy 0.7655, Train Loss 0.4317, Test Accuracy 0.7466, Test Loss 0.4676\n",
      "Epoch 55: Train Accuracy 0.7661, Train Loss 0.4306, Test Accuracy 0.7470, Test Loss 0.4676\n",
      "Epoch 56: Train Accuracy 0.7672, Train Loss 0.4307, Test Accuracy 0.7479, Test Loss 0.4693\n",
      "Epoch 57: Train Accuracy 0.7661, Train Loss 0.4319, Test Accuracy 0.7470, Test Loss 0.4703\n",
      "Epoch 58: Train Accuracy 0.7652, Train Loss 0.4331, Test Accuracy 0.7440, Test Loss 0.4733\n",
      "Epoch 59: Train Accuracy 0.7656, Train Loss 0.4324, Test Accuracy 0.7526, Test Loss 0.4690\n",
      "Epoch 60: Train Accuracy 0.7675, Train Loss 0.4293, Test Accuracy 0.7500, Test Loss 0.4684\n",
      "Epoch 61: Train Accuracy 0.7675, Train Loss 0.4289, Test Accuracy 0.7487, Test Loss 0.4680\n",
      "Epoch 62: Train Accuracy 0.7682, Train Loss 0.4268, Test Accuracy 0.7470, Test Loss 0.4669\n",
      "Epoch 63: Train Accuracy 0.7685, Train Loss 0.4277, Test Accuracy 0.7483, Test Loss 0.4694\n",
      "Epoch 64: Train Accuracy 0.7481, Train Loss 0.4832, Test Accuracy 0.7274, Test Loss 0.5286\n",
      "Epoch 65: Train Accuracy 0.7565, Train Loss 0.4562, Test Accuracy 0.7300, Test Loss 0.5035\n",
      "Epoch 66: Train Accuracy 0.7684, Train Loss 0.4270, Test Accuracy 0.7479, Test Loss 0.4668\n",
      "Epoch 67: Train Accuracy 0.7674, Train Loss 0.4287, Test Accuracy 0.7474, Test Loss 0.4626\n",
      "Epoch 68: Train Accuracy 0.7702, Train Loss 0.4255, Test Accuracy 0.7491, Test Loss 0.4622\n",
      "Epoch 69: Train Accuracy 0.7702, Train Loss 0.4249, Test Accuracy 0.7487, Test Loss 0.4592\n",
      "Epoch 70: Train Accuracy 0.7696, Train Loss 0.4232, Test Accuracy 0.7466, Test Loss 0.4602\n",
      "Epoch 71: Train Accuracy 0.7687, Train Loss 0.4245, Test Accuracy 0.7564, Test Loss 0.4574\n",
      "Epoch 72: Train Accuracy 0.7710, Train Loss 0.4239, Test Accuracy 0.7504, Test Loss 0.4589\n",
      "Epoch 73: Train Accuracy 0.7695, Train Loss 0.4224, Test Accuracy 0.7581, Test Loss 0.4587\n",
      "Epoch 74: Train Accuracy 0.7650, Train Loss 0.4339, Test Accuracy 0.7428, Test Loss 0.4717\n",
      "Epoch 75: Train Accuracy 0.7643, Train Loss 0.4311, Test Accuracy 0.7436, Test Loss 0.4678\n",
      "Epoch 76: Train Accuracy 0.7679, Train Loss 0.4287, Test Accuracy 0.7487, Test Loss 0.4649\n",
      "Epoch 77: Train Accuracy 0.7702, Train Loss 0.4231, Test Accuracy 0.7534, Test Loss 0.4570\n",
      "Epoch 78: Train Accuracy 0.7698, Train Loss 0.4228, Test Accuracy 0.7526, Test Loss 0.4592\n",
      "Epoch 79: Train Accuracy 0.7714, Train Loss 0.4212, Test Accuracy 0.7560, Test Loss 0.4563\n",
      "Epoch 80: Train Accuracy 0.7693, Train Loss 0.4212, Test Accuracy 0.7564, Test Loss 0.4559\n",
      "Epoch 81: Train Accuracy 0.7717, Train Loss 0.4198, Test Accuracy 0.7555, Test Loss 0.4559\n",
      "Epoch 82: Train Accuracy 0.7661, Train Loss 0.4279, Test Accuracy 0.7423, Test Loss 0.4611\n",
      "Epoch 83: Train Accuracy 0.7674, Train Loss 0.4291, Test Accuracy 0.7402, Test Loss 0.4633\n",
      "Epoch 84: Train Accuracy 0.7663, Train Loss 0.4355, Test Accuracy 0.7457, Test Loss 0.4832\n",
      "Epoch 85: Train Accuracy 0.7722, Train Loss 0.4193, Test Accuracy 0.7462, Test Loss 0.4580\n",
      "Epoch 86: Train Accuracy 0.7716, Train Loss 0.4192, Test Accuracy 0.7513, Test Loss 0.4550\n",
      "Epoch 87: Train Accuracy 0.7706, Train Loss 0.4187, Test Accuracy 0.7487, Test Loss 0.4573\n",
      "Epoch 88: Train Accuracy 0.7654, Train Loss 0.4314, Test Accuracy 0.7368, Test Loss 0.4699\n",
      "Epoch 89: Train Accuracy 0.7706, Train Loss 0.4210, Test Accuracy 0.7449, Test Loss 0.4570\n",
      "Epoch 90: Train Accuracy 0.7689, Train Loss 0.4278, Test Accuracy 0.7474, Test Loss 0.4653\n",
      "Epoch 91: Train Accuracy 0.7244, Train Loss 0.5801, Test Accuracy 0.7095, Test Loss 0.6182\n",
      "Epoch 92: Train Accuracy 0.7674, Train Loss 0.4276, Test Accuracy 0.7453, Test Loss 0.4637\n",
      "Epoch 93: Train Accuracy 0.7695, Train Loss 0.4223, Test Accuracy 0.7509, Test Loss 0.4552\n",
      "Epoch 94: Train Accuracy 0.7720, Train Loss 0.4205, Test Accuracy 0.7572, Test Loss 0.4539\n",
      "Epoch 95: Train Accuracy 0.7718, Train Loss 0.4202, Test Accuracy 0.7509, Test Loss 0.4540\n",
      "Epoch 96: Train Accuracy 0.7718, Train Loss 0.4184, Test Accuracy 0.7560, Test Loss 0.4535\n",
      "Epoch 97: Train Accuracy 0.7720, Train Loss 0.4194, Test Accuracy 0.7538, Test Loss 0.4540\n",
      "Epoch 98: Train Accuracy 0.7712, Train Loss 0.4173, Test Accuracy 0.7500, Test Loss 0.4542\n",
      "Epoch 99: Train Accuracy 0.7718, Train Loss 0.4167, Test Accuracy 0.7500, Test Loss 0.4542\n",
      "Epoch 100: Train Accuracy 0.7732, Train Loss 0.4162, Test Accuracy 0.7466, Test Loss 0.4559\n",
      "Epoch 101: Train Accuracy 0.7700, Train Loss 0.4172, Test Accuracy 0.7436, Test Loss 0.4584\n",
      "Epoch 102: Train Accuracy 0.7731, Train Loss 0.4148, Test Accuracy 0.7543, Test Loss 0.4543\n",
      "Epoch 103: Train Accuracy 0.7724, Train Loss 0.4157, Test Accuracy 0.7551, Test Loss 0.4545\n",
      "Epoch 104: Train Accuracy 0.7726, Train Loss 0.4147, Test Accuracy 0.7457, Test Loss 0.4566\n",
      "Epoch 105: Train Accuracy 0.7722, Train Loss 0.4140, Test Accuracy 0.7521, Test Loss 0.4529\n",
      "Epoch 106: Train Accuracy 0.7723, Train Loss 0.4153, Test Accuracy 0.7500, Test Loss 0.4532\n",
      "Epoch 107: Train Accuracy 0.7716, Train Loss 0.4175, Test Accuracy 0.7457, Test Loss 0.4564\n",
      "Epoch 108: Train Accuracy 0.7735, Train Loss 0.4150, Test Accuracy 0.7449, Test Loss 0.4579\n",
      "Epoch 109: Train Accuracy 0.7728, Train Loss 0.4152, Test Accuracy 0.7449, Test Loss 0.4567\n",
      "Epoch 110: Train Accuracy 0.7728, Train Loss 0.4162, Test Accuracy 0.7500, Test Loss 0.4656\n",
      "Epoch 111: Train Accuracy 0.7590, Train Loss 0.4506, Test Accuracy 0.7317, Test Loss 0.5031\n",
      "Epoch 112: Train Accuracy 0.7679, Train Loss 0.4230, Test Accuracy 0.7372, Test Loss 0.4651\n",
      "Epoch 113: Train Accuracy 0.7718, Train Loss 0.4167, Test Accuracy 0.7394, Test Loss 0.4601\n",
      "Epoch 114: Train Accuracy 0.7677, Train Loss 0.4256, Test Accuracy 0.7419, Test Loss 0.4748\n",
      "Epoch 115: Train Accuracy 0.7720, Train Loss 0.4153, Test Accuracy 0.7509, Test Loss 0.4565\n",
      "Epoch 116: Train Accuracy 0.7736, Train Loss 0.4130, Test Accuracy 0.7398, Test Loss 0.4562\n",
      "Epoch 117: Train Accuracy 0.7740, Train Loss 0.4139, Test Accuracy 0.7470, Test Loss 0.4612\n",
      "Epoch 118: Train Accuracy 0.7747, Train Loss 0.4122, Test Accuracy 0.7470, Test Loss 0.4562\n",
      "Epoch 119: Train Accuracy 0.7747, Train Loss 0.4118, Test Accuracy 0.7466, Test Loss 0.4574\n",
      "Epoch 120: Train Accuracy 0.7757, Train Loss 0.4121, Test Accuracy 0.7509, Test Loss 0.4542\n",
      "Epoch 121: Train Accuracy 0.7722, Train Loss 0.4142, Test Accuracy 0.7538, Test Loss 0.4543\n",
      "Epoch 122: Train Accuracy 0.7747, Train Loss 0.4122, Test Accuracy 0.7496, Test Loss 0.4580\n",
      "Epoch 123: Train Accuracy 0.7733, Train Loss 0.4128, Test Accuracy 0.7479, Test Loss 0.4552\n",
      "Epoch 124: Train Accuracy 0.7741, Train Loss 0.4126, Test Accuracy 0.7491, Test Loss 0.4553\n",
      "Epoch 125: Train Accuracy 0.7700, Train Loss 0.4172, Test Accuracy 0.7453, Test Loss 0.4575\n",
      "Epoch 126: Train Accuracy 0.7739, Train Loss 0.4122, Test Accuracy 0.7517, Test Loss 0.4536\n",
      "Epoch 127: Train Accuracy 0.7744, Train Loss 0.4124, Test Accuracy 0.7513, Test Loss 0.4519\n",
      "Epoch 128: Train Accuracy 0.7747, Train Loss 0.4106, Test Accuracy 0.7474, Test Loss 0.4507\n",
      "Epoch 129: Train Accuracy 0.7705, Train Loss 0.4169, Test Accuracy 0.7453, Test Loss 0.4558\n",
      "Epoch 130: Train Accuracy 0.7736, Train Loss 0.4129, Test Accuracy 0.7496, Test Loss 0.4557\n",
      "Epoch 131: Train Accuracy 0.7543, Train Loss 0.4870, Test Accuracy 0.7168, Test Loss 0.5708\n",
      "Epoch 132: Train Accuracy 0.7739, Train Loss 0.4124, Test Accuracy 0.7462, Test Loss 0.4531\n",
      "Epoch 133: Train Accuracy 0.7712, Train Loss 0.4156, Test Accuracy 0.7509, Test Loss 0.4520\n",
      "Epoch 134: Train Accuracy 0.7747, Train Loss 0.4103, Test Accuracy 0.7445, Test Loss 0.4545\n",
      "Epoch 135: Train Accuracy 0.7742, Train Loss 0.4101, Test Accuracy 0.7479, Test Loss 0.4517\n",
      "Epoch 136: Train Accuracy 0.7733, Train Loss 0.4121, Test Accuracy 0.7449, Test Loss 0.4526\n",
      "Epoch 137: Train Accuracy 0.7743, Train Loss 0.4104, Test Accuracy 0.7351, Test Loss 0.4561\n",
      "Epoch 138: Train Accuracy 0.7753, Train Loss 0.4089, Test Accuracy 0.7415, Test Loss 0.4530\n",
      "Epoch 139: Train Accuracy 0.7764, Train Loss 0.4081, Test Accuracy 0.7474, Test Loss 0.4526\n",
      "Epoch 140: Train Accuracy 0.7727, Train Loss 0.4152, Test Accuracy 0.7453, Test Loss 0.4544\n",
      "Epoch 141: Train Accuracy 0.7742, Train Loss 0.4096, Test Accuracy 0.7419, Test Loss 0.4526\n",
      "Epoch 142: Train Accuracy 0.7752, Train Loss 0.4093, Test Accuracy 0.7470, Test Loss 0.4535\n",
      "Epoch 143: Train Accuracy 0.7757, Train Loss 0.4084, Test Accuracy 0.7483, Test Loss 0.4510\n",
      "Epoch 144: Train Accuracy 0.7637, Train Loss 0.4418, Test Accuracy 0.7385, Test Loss 0.4814\n",
      "Epoch 145: Train Accuracy 0.7732, Train Loss 0.4124, Test Accuracy 0.7423, Test Loss 0.4559\n",
      "Epoch 146: Train Accuracy 0.7753, Train Loss 0.4100, Test Accuracy 0.7513, Test Loss 0.4511\n",
      "Epoch 147: Train Accuracy 0.7756, Train Loss 0.4078, Test Accuracy 0.7496, Test Loss 0.4521\n",
      "Epoch 148: Train Accuracy 0.7751, Train Loss 0.4088, Test Accuracy 0.7470, Test Loss 0.4518\n",
      "Epoch 149: Train Accuracy 0.7758, Train Loss 0.4072, Test Accuracy 0.7509, Test Loss 0.4505\n",
      "Epoch 150: Train Accuracy 0.7714, Train Loss 0.4229, Test Accuracy 0.7428, Test Loss 0.4743\n",
      "Epoch 151: Train Accuracy 0.7758, Train Loss 0.4086, Test Accuracy 0.7509, Test Loss 0.4499\n",
      "Epoch 152: Train Accuracy 0.7755, Train Loss 0.4089, Test Accuracy 0.7432, Test Loss 0.4526\n",
      "Epoch 153: Train Accuracy 0.7758, Train Loss 0.4069, Test Accuracy 0.7487, Test Loss 0.4510\n",
      "Epoch 154: Train Accuracy 0.7752, Train Loss 0.4096, Test Accuracy 0.7436, Test Loss 0.4560\n",
      "Epoch 155: Train Accuracy 0.7761, Train Loss 0.4076, Test Accuracy 0.7449, Test Loss 0.4502\n",
      "Epoch 156: Train Accuracy 0.7756, Train Loss 0.4082, Test Accuracy 0.7509, Test Loss 0.4474\n",
      "Epoch 157: Train Accuracy 0.7672, Train Loss 0.4258, Test Accuracy 0.7342, Test Loss 0.4677\n",
      "Epoch 158: Train Accuracy 0.7750, Train Loss 0.4094, Test Accuracy 0.7432, Test Loss 0.4529\n",
      "Epoch 159: Train Accuracy 0.7772, Train Loss 0.4070, Test Accuracy 0.7513, Test Loss 0.4485\n",
      "Epoch 160: Train Accuracy 0.7747, Train Loss 0.4104, Test Accuracy 0.7453, Test Loss 0.4525\n",
      "Epoch 161: Train Accuracy 0.7749, Train Loss 0.4112, Test Accuracy 0.7504, Test Loss 0.4528\n",
      "Epoch 162: Train Accuracy 0.7723, Train Loss 0.4150, Test Accuracy 0.7398, Test Loss 0.4586\n",
      "Epoch 163: Train Accuracy 0.7768, Train Loss 0.4067, Test Accuracy 0.7543, Test Loss 0.4486\n",
      "Epoch 164: Train Accuracy 0.7771, Train Loss 0.4068, Test Accuracy 0.7500, Test Loss 0.4483\n",
      "Epoch 165: Train Accuracy 0.7778, Train Loss 0.4062, Test Accuracy 0.7513, Test Loss 0.4482\n",
      "Epoch 166: Train Accuracy 0.7764, Train Loss 0.4063, Test Accuracy 0.7491, Test Loss 0.4486\n",
      "Epoch 167: Train Accuracy 0.7774, Train Loss 0.4065, Test Accuracy 0.7496, Test Loss 0.4489\n",
      "Epoch 168: Train Accuracy 0.7768, Train Loss 0.4058, Test Accuracy 0.7483, Test Loss 0.4469\n",
      "Epoch 169: Train Accuracy 0.7702, Train Loss 0.4152, Test Accuracy 0.7415, Test Loss 0.4569\n",
      "Epoch 170: Train Accuracy 0.7761, Train Loss 0.4066, Test Accuracy 0.7491, Test Loss 0.4470\n",
      "Epoch 171: Train Accuracy 0.7760, Train Loss 0.4064, Test Accuracy 0.7504, Test Loss 0.4450\n",
      "Epoch 172: Train Accuracy 0.7769, Train Loss 0.4063, Test Accuracy 0.7402, Test Loss 0.4482\n",
      "Epoch 173: Train Accuracy 0.7760, Train Loss 0.4067, Test Accuracy 0.7521, Test Loss 0.4464\n",
      "Epoch 174: Train Accuracy 0.7761, Train Loss 0.4072, Test Accuracy 0.7526, Test Loss 0.4488\n",
      "Epoch 175: Train Accuracy 0.7710, Train Loss 0.4177, Test Accuracy 0.7466, Test Loss 0.4569\n",
      "Epoch 176: Train Accuracy 0.7768, Train Loss 0.4069, Test Accuracy 0.7474, Test Loss 0.4519\n",
      "Epoch 177: Train Accuracy 0.7770, Train Loss 0.4069, Test Accuracy 0.7470, Test Loss 0.4506\n",
      "Epoch 178: Train Accuracy 0.7770, Train Loss 0.4050, Test Accuracy 0.7517, Test Loss 0.4491\n",
      "Epoch 179: Train Accuracy 0.7760, Train Loss 0.4090, Test Accuracy 0.7491, Test Loss 0.4555\n",
      "Epoch 180: Train Accuracy 0.7737, Train Loss 0.4100, Test Accuracy 0.7415, Test Loss 0.4563\n",
      "Epoch 181: Train Accuracy 0.7778, Train Loss 0.4048, Test Accuracy 0.7474, Test Loss 0.4529\n",
      "Epoch 182: Train Accuracy 0.7778, Train Loss 0.4046, Test Accuracy 0.7432, Test Loss 0.4529\n",
      "Epoch 183: Train Accuracy 0.7788, Train Loss 0.4047, Test Accuracy 0.7479, Test Loss 0.4519\n",
      "Epoch 184: Train Accuracy 0.7785, Train Loss 0.4041, Test Accuracy 0.7449, Test Loss 0.4516\n",
      "Epoch 185: Train Accuracy 0.7769, Train Loss 0.4051, Test Accuracy 0.7521, Test Loss 0.4492\n",
      "Epoch 186: Train Accuracy 0.7782, Train Loss 0.4049, Test Accuracy 0.7462, Test Loss 0.4529\n",
      "Epoch 187: Train Accuracy 0.7767, Train Loss 0.4120, Test Accuracy 0.7402, Test Loss 0.4617\n",
      "Epoch 188: Train Accuracy 0.7782, Train Loss 0.4048, Test Accuracy 0.7411, Test Loss 0.4514\n",
      "Epoch 189: Train Accuracy 0.7781, Train Loss 0.4055, Test Accuracy 0.7543, Test Loss 0.4476\n",
      "Epoch 190: Train Accuracy 0.7770, Train Loss 0.4055, Test Accuracy 0.7513, Test Loss 0.4514\n",
      "Epoch 191: Train Accuracy 0.7771, Train Loss 0.4055, Test Accuracy 0.7555, Test Loss 0.4473\n",
      "Epoch 192: Train Accuracy 0.7707, Train Loss 0.4231, Test Accuracy 0.7521, Test Loss 0.4600\n",
      "Epoch 193: Train Accuracy 0.7668, Train Loss 0.4336, Test Accuracy 0.7389, Test Loss 0.4834\n",
      "Epoch 194: Train Accuracy 0.7768, Train Loss 0.4068, Test Accuracy 0.7526, Test Loss 0.4505\n",
      "Epoch 195: Train Accuracy 0.7770, Train Loss 0.4050, Test Accuracy 0.7500, Test Loss 0.4487\n",
      "Epoch 196: Train Accuracy 0.7742, Train Loss 0.4082, Test Accuracy 0.7432, Test Loss 0.4555\n",
      "Epoch 197: Train Accuracy 0.7768, Train Loss 0.4052, Test Accuracy 0.7526, Test Loss 0.4495\n",
      "Epoch 198: Train Accuracy 0.7782, Train Loss 0.4041, Test Accuracy 0.7500, Test Loss 0.4481\n",
      "Epoch 199: Train Accuracy 0.7763, Train Loss 0.4049, Test Accuracy 0.7474, Test Loss 0.4492\n"
     ]
    }
   ],
   "source": [
    "for epoch in range(num_epochs):\n",
    "    model.train()\n",
    "    for X_batch, y_batch in loader:\n",
    "        y_pred = model(X_batch)\n",
    "        loss = criterion(y_pred, y_batch)\n",
    "        optimizer.zero_grad()\n",
    "        loss.backward()\n",
    "        optimizer.step()\n",
    "    model.eval()\n",
    "    totalYPred = []\n",
    "    totalY = []\n",
    "    with torch.no_grad():\n",
    "        for X_batch, y_batch in loader:\n",
    "            totalY.append(y_batch)\n",
    "            totalYPred.append(model(X_batch))\n",
    "    actualY = torch.cat(totalY, 0)\n",
    "    predY = torch.cat(totalYPred, 0)\n",
    "    metric = MulticlassAccuracy()\n",
    "    metric.update(predY, actualY)\n",
    "    train_acc = metric.compute()\n",
    "    train_acc_list.append(train_acc.item())\n",
    "    train_loss = nn.CrossEntropyLoss()\n",
    "    train_loss = train_loss(predY, actualY).item()\n",
    "    train_loss_list.append(train_loss)\n",
    "    print(\"Epoch %d: Train Accuracy %.4f, Train Loss %.4f,\" % (epoch, train_acc, train_loss), end=\"\")\n",
    "    \n",
    "    totalYPred = []\n",
    "    totalY = []\n",
    "    with torch.no_grad():\n",
    "        for X_batch, y_batch in testLoader:\n",
    "            totalY.append(y_batch)\n",
    "            totalYPred.append(model(X_batch))\n",
    "    actualY = torch.cat(totalY, 0)\n",
    "    predY = torch.cat(totalYPred, 0)\n",
    "    metric = MulticlassAccuracy()\n",
    "    metric.update(predY, actualY)\n",
    "    test_acc = metric.compute()\n",
    "    \n",
    "    test_acc_list.append(test_acc.item())\n",
    "    test_loss = nn.CrossEntropyLoss()\n",
    "    test_loss = test_loss(predY, actualY).item()\n",
    "    test_loss_list.append(test_loss)\n",
    "    print(\" Test Accuracy %.4f, Test Loss %.4f\" % (test_acc, test_loss))\n",
    "    del totalYPred\n",
    "    del totalY\n",
    "    del actualY\n",
    "    del predY"
   ]
  },
  {
   "cell_type": "code",
   "execution_count": 60,
   "metadata": {
    "execution": {
     "iopub.execute_input": "2024-12-14T17:29:31.100462Z",
     "iopub.status.busy": "2024-12-14T17:29:31.100060Z",
     "iopub.status.idle": "2024-12-14T17:29:31.400657Z",
     "shell.execute_reply": "2024-12-14T17:29:31.399887Z",
     "shell.execute_reply.started": "2024-12-14T17:29:31.100433Z"
    },
    "trusted": true
   },
   "outputs": [
    {
     "data": {
      "text/plain": [
       "<matplotlib.legend.Legend at 0x7cd351072e30>"
      ]
     },
     "execution_count": 60,
     "metadata": {},
     "output_type": "execute_result"
    },
    {
     "data": {
      "image/png": "[encoded data removed]",
      "text/plain": [
       "<Figure size 640x480 with 1 Axes>"
      ]
     },
     "metadata": {},
     "output_type": "display_data"
    }
   ],
   "source": [
    "# plt.figure(figsize = (15,5))\n",
    "plt.plot(range(len(train_acc_list)), train_acc_list)\n",
    "plt.plot(range(len(test_acc_list)), test_acc_list)\n",
    "plt.xlabel(\"Epoch\")\n",
    "plt.ylabel(\"Accuracy\")\n",
    "plt.title(\"xLSTM + ICA Accuracy\")\n",
    "plt.legend([\"Train Accuracy\",\"Test Accuracy\"],loc = \"lower right\")"
   ]
  },
  {
   "cell_type": "code",
   "execution_count": 61,
   "metadata": {
    "execution": {
     "iopub.execute_input": "2024-12-14T17:29:45.444090Z",
     "iopub.status.busy": "2024-12-14T17:29:45.443162Z",
     "iopub.status.idle": "2024-12-14T17:29:45.734977Z",
     "shell.execute_reply": "2024-12-14T17:29:45.734210Z",
     "shell.execute_reply.started": "2024-12-14T17:29:45.444055Z"
    },
    "trusted": true
   },
   "outputs": [
    {
     "data": {
      "text/plain": [
       "<matplotlib.legend.Legend at 0x7cd350f92470>"
      ]
     },
     "execution_count": 61,
     "metadata": {},
     "output_type": "execute_result"
    },
    {
     "data": {
      "image/png": "[encoded data removed]",
      "text/plain": [
       "<Figure size 640x480 with 1 Axes>"
      ]
     },
     "metadata": {},
     "output_type": "display_data"
    }
   ],
   "source": [
    "# plt.figure(figsize = (15,5))\n",
    "plt.plot(range(len(train_loss_list)), train_loss_list)\n",
    "plt.plot(range(len(test_loss_list)), test_loss_list)\n",
    "plt.xlabel(\"Epoch\")\n",
    "plt.ylabel(\"Loss\")\n",
    "plt.title(\"xLSTM + ICA Loss\")\n",
    "plt.legend([\"Train Loss\",\"Test Loss\"],loc = \"upper right\")"
   ]
  },
  {
   "cell_type": "markdown",
   "metadata": {},
   "source": [
    "## LSTM\n",
    "## Combining hand and arm\n",
    "## window 50, overlapp 25"
   ]
  },
  {
   "cell_type": "code",
   "execution_count": 277,
   "metadata": {
    "execution": {
     "iopub.execute_input": "2024-12-14T18:17:53.885010Z",
     "iopub.status.busy": "2024-12-14T18:17:53.884460Z",
     "iopub.status.idle": "2024-12-14T18:17:53.888963Z",
     "shell.execute_reply": "2024-12-14T18:17:53.888133Z",
     "shell.execute_reply.started": "2024-12-14T18:17:53.884977Z"
    },
    "trusted": true
   },
   "outputs": [],
   "source": [
    "train_acc_list = []\n",
    "test_acc_list = []\n",
    "train_loss_list = []\n",
    "test_loss_list = []"
   ]
  },
  {
   "cell_type": "code",
   "execution_count": 278,
   "metadata": {
    "execution": {
     "iopub.execute_input": "2024-12-14T18:17:54.040848Z",
     "iopub.status.busy": "2024-12-14T18:17:54.040606Z",
     "iopub.status.idle": "2024-12-14T18:21:41.463826Z",
     "shell.execute_reply": "2024-12-14T18:21:41.462992Z",
     "shell.execute_reply.started": "2024-12-14T18:17:54.040825Z"
    },
    "scrolled": true,
    "trusted": true
   },
   "outputs": [
    {
     "name": "stdout",
     "output_type": "stream",
     "text": [
      "Epoch 0: Train Accuracy 0.4064, Train Loss 1.0827, Test Accuracy 0.4221, Test Loss 1.0794\n",
      "Epoch 1: Train Accuracy 0.4872, Train Loss 1.0015, Test Accuracy 0.4874, Test Loss 1.0006\n",
      "Epoch 2: Train Accuracy 0.4847, Train Loss 0.9997, Test Accuracy 0.4891, Test Loss 1.0009\n",
      "Epoch 3: Train Accuracy 0.4977, Train Loss 0.9757, Test Accuracy 0.5038, Test Loss 0.9783\n",
      "Epoch 4: Train Accuracy 0.5230, Train Loss 0.9166, Test Accuracy 0.5257, Test Loss 0.9228\n",
      "Epoch 5: Train Accuracy 0.5198, Train Loss 0.8949, Test Accuracy 0.5215, Test Loss 0.9105\n",
      "Epoch 6: Train Accuracy 0.5069, Train Loss 0.9262, Test Accuracy 0.5055, Test Loss 0.9409\n",
      "Epoch 7: Train Accuracy 0.5267, Train Loss 0.8916, Test Accuracy 0.5278, Test Loss 0.9015\n",
      "Epoch 8: Train Accuracy 0.5254, Train Loss 0.8897, Test Accuracy 0.5244, Test Loss 0.9070\n",
      "Epoch 9: Train Accuracy 0.5295, Train Loss 0.8730, Test Accuracy 0.5332, Test Loss 0.8799\n",
      "Epoch 10: Train Accuracy 0.5386, Train Loss 0.8567, Test Accuracy 0.5379, Test Loss 0.8739\n",
      "Epoch 11: Train Accuracy 0.5411, Train Loss 0.8561, Test Accuracy 0.5387, Test Loss 0.8758\n",
      "Epoch 12: Train Accuracy 0.5515, Train Loss 0.8341, Test Accuracy 0.5526, Test Loss 0.8571\n",
      "Epoch 13: Train Accuracy 0.5498, Train Loss 0.8083, Test Accuracy 0.5509, Test Loss 0.8324\n",
      "Epoch 14: Train Accuracy 0.5263, Train Loss 0.9105, Test Accuracy 0.5185, Test Loss 0.9236\n",
      "Epoch 15: Train Accuracy 0.5502, Train Loss 0.8085, Test Accuracy 0.5522, Test Loss 0.8321\n",
      "Epoch 16: Train Accuracy 0.5369, Train Loss 0.8703, Test Accuracy 0.5400, Test Loss 0.8879\n",
      "Epoch 17: Train Accuracy 0.5640, Train Loss 0.7971, Test Accuracy 0.5686, Test Loss 0.8196\n",
      "Epoch 18: Train Accuracy 0.5587, Train Loss 0.7976, Test Accuracy 0.5572, Test Loss 0.8194\n",
      "Epoch 19: Train Accuracy 0.5609, Train Loss 0.8009, Test Accuracy 0.5610, Test Loss 0.8202\n",
      "Epoch 20: Train Accuracy 0.5607, Train Loss 0.8044, Test Accuracy 0.5627, Test Loss 0.8203\n",
      "Epoch 21: Train Accuracy 0.5375, Train Loss 0.8374, Test Accuracy 0.5421, Test Loss 0.8447\n",
      "Epoch 22: Train Accuracy 0.5726, Train Loss 0.7726, Test Accuracy 0.5762, Test Loss 0.7943\n",
      "Epoch 23: Train Accuracy 0.5633, Train Loss 0.8005, Test Accuracy 0.5585, Test Loss 0.8204\n",
      "Epoch 24: Train Accuracy 0.5268, Train Loss 0.8828, Test Accuracy 0.5269, Test Loss 0.9015\n",
      "Epoch 25: Train Accuracy 0.5753, Train Loss 0.7689, Test Accuracy 0.5842, Test Loss 0.7802\n",
      "Epoch 26: Train Accuracy 0.5822, Train Loss 0.7624, Test Accuracy 0.5854, Test Loss 0.7738\n",
      "Epoch 27: Train Accuracy 0.5923, Train Loss 0.7489, Test Accuracy 0.5968, Test Loss 0.7630\n",
      "Epoch 28: Train Accuracy 0.5850, Train Loss 0.7846, Test Accuracy 0.5859, Test Loss 0.8043\n",
      "Epoch 29: Train Accuracy 0.5963, Train Loss 0.7459, Test Accuracy 0.6019, Test Loss 0.7597\n",
      "Epoch 30: Train Accuracy 0.5912, Train Loss 0.7604, Test Accuracy 0.5880, Test Loss 0.7743\n",
      "Epoch 31: Train Accuracy 0.6009, Train Loss 0.7448, Test Accuracy 0.5964, Test Loss 0.7637\n",
      "Epoch 32: Train Accuracy 0.5827, Train Loss 0.7562, Test Accuracy 0.5766, Test Loss 0.7700\n",
      "Epoch 33: Train Accuracy 0.5836, Train Loss 0.7580, Test Accuracy 0.5922, Test Loss 0.7674\n",
      "Epoch 34: Train Accuracy 0.5891, Train Loss 0.7490, Test Accuracy 0.5934, Test Loss 0.7621\n",
      "Epoch 35: Train Accuracy 0.5838, Train Loss 0.7844, Test Accuracy 0.5871, Test Loss 0.8024\n",
      "Epoch 36: Train Accuracy 0.6043, Train Loss 0.7313, Test Accuracy 0.5968, Test Loss 0.7474\n",
      "Epoch 37: Train Accuracy 0.6005, Train Loss 0.7408, Test Accuracy 0.6077, Test Loss 0.7520\n",
      "Epoch 38: Train Accuracy 0.6052, Train Loss 0.7280, Test Accuracy 0.6035, Test Loss 0.7414\n",
      "Epoch 39: Train Accuracy 0.6037, Train Loss 0.7240, Test Accuracy 0.6128, Test Loss 0.7362\n",
      "Epoch 40: Train Accuracy 0.6121, Train Loss 0.7198, Test Accuracy 0.6090, Test Loss 0.7412\n",
      "Epoch 41: Train Accuracy 0.6085, Train Loss 0.7137, Test Accuracy 0.6136, Test Loss 0.7292\n",
      "Epoch 42: Train Accuracy 0.6024, Train Loss 0.7223, Test Accuracy 0.5943, Test Loss 0.7417\n",
      "Epoch 43: Train Accuracy 0.6054, Train Loss 0.7281, Test Accuracy 0.6136, Test Loss 0.7365\n",
      "Epoch 44: Train Accuracy 0.6081, Train Loss 0.7088, Test Accuracy 0.6157, Test Loss 0.7216\n",
      "Epoch 45: Train Accuracy 0.6143, Train Loss 0.7116, Test Accuracy 0.6136, Test Loss 0.7245\n",
      "Epoch 46: Train Accuracy 0.5985, Train Loss 0.7414, Test Accuracy 0.5968, Test Loss 0.7550\n",
      "Epoch 47: Train Accuracy 0.5940, Train Loss 0.7436, Test Accuracy 0.5905, Test Loss 0.7587\n",
      "Epoch 48: Train Accuracy 0.5962, Train Loss 0.7263, Test Accuracy 0.6010, Test Loss 0.7429\n",
      "Epoch 49: Train Accuracy 0.6158, Train Loss 0.7080, Test Accuracy 0.6162, Test Loss 0.7183\n",
      "Epoch 50: Train Accuracy 0.6146, Train Loss 0.6875, Test Accuracy 0.6246, Test Loss 0.7050\n",
      "Epoch 51: Train Accuracy 0.6072, Train Loss 0.7099, Test Accuracy 0.6141, Test Loss 0.7231\n",
      "Epoch 52: Train Accuracy 0.6060, Train Loss 0.7061, Test Accuracy 0.6073, Test Loss 0.7295\n",
      "Epoch 53: Train Accuracy 0.6228, Train Loss 0.6848, Test Accuracy 0.6233, Test Loss 0.7110\n",
      "Epoch 54: Train Accuracy 0.6079, Train Loss 0.6854, Test Accuracy 0.6153, Test Loss 0.7020\n",
      "Epoch 55: Train Accuracy 0.6018, Train Loss 0.7102, Test Accuracy 0.6010, Test Loss 0.7236\n",
      "Epoch 56: Train Accuracy 0.6322, Train Loss 0.6606, Test Accuracy 0.6402, Test Loss 0.6781\n",
      "Epoch 57: Train Accuracy 0.6140, Train Loss 0.6948, Test Accuracy 0.6187, Test Loss 0.7123\n",
      "Epoch 58: Train Accuracy 0.6071, Train Loss 0.7496, Test Accuracy 0.6077, Test Loss 0.7729\n",
      "Epoch 59: Train Accuracy 0.6122, Train Loss 0.7066, Test Accuracy 0.6284, Test Loss 0.7168\n",
      "Epoch 60: Train Accuracy 0.6297, Train Loss 0.6588, Test Accuracy 0.6237, Test Loss 0.6765\n",
      "Epoch 61: Train Accuracy 0.6333, Train Loss 0.6643, Test Accuracy 0.6313, Test Loss 0.6921\n",
      "Epoch 62: Train Accuracy 0.6437, Train Loss 0.6405, Test Accuracy 0.6456, Test Loss 0.6643\n",
      "Epoch 63: Train Accuracy 0.6290, Train Loss 0.6787, Test Accuracy 0.6250, Test Loss 0.7072\n",
      "Epoch 64: Train Accuracy 0.6377, Train Loss 0.6445, Test Accuracy 0.6359, Test Loss 0.6683\n",
      "Epoch 65: Train Accuracy 0.6337, Train Loss 0.6680, Test Accuracy 0.6380, Test Loss 0.6878\n",
      "Epoch 66: Train Accuracy 0.6404, Train Loss 0.6383, Test Accuracy 0.6439, Test Loss 0.6628\n",
      "Epoch 67: Train Accuracy 0.6485, Train Loss 0.6291, Test Accuracy 0.6439, Test Loss 0.6469\n",
      "Epoch 68: Train Accuracy 0.6327, Train Loss 0.6643, Test Accuracy 0.6351, Test Loss 0.6817\n",
      "Epoch 69: Train Accuracy 0.6536, Train Loss 0.6232, Test Accuracy 0.6574, Test Loss 0.6366\n",
      "Epoch 70: Train Accuracy 0.6353, Train Loss 0.6781, Test Accuracy 0.6254, Test Loss 0.6995\n",
      "Epoch 71: Train Accuracy 0.6428, Train Loss 0.6461, Test Accuracy 0.6397, Test Loss 0.6663\n",
      "Epoch 72: Train Accuracy 0.6424, Train Loss 0.6492, Test Accuracy 0.6364, Test Loss 0.6705\n",
      "Epoch 73: Train Accuracy 0.6413, Train Loss 0.6372, Test Accuracy 0.6322, Test Loss 0.6611\n",
      "Epoch 74: Train Accuracy 0.6386, Train Loss 0.6277, Test Accuracy 0.6359, Test Loss 0.6481\n",
      "Epoch 75: Train Accuracy 0.6190, Train Loss 0.6909, Test Accuracy 0.6145, Test Loss 0.7139\n",
      "Epoch 76: Train Accuracy 0.6530, Train Loss 0.6314, Test Accuracy 0.6473, Test Loss 0.6453\n",
      "Epoch 77: Train Accuracy 0.6392, Train Loss 0.6407, Test Accuracy 0.6343, Test Loss 0.6590\n",
      "Epoch 78: Train Accuracy 0.6347, Train Loss 0.6544, Test Accuracy 0.6317, Test Loss 0.6825\n",
      "Epoch 79: Train Accuracy 0.6574, Train Loss 0.6062, Test Accuracy 0.6578, Test Loss 0.6221\n",
      "Epoch 80: Train Accuracy 0.6458, Train Loss 0.6414, Test Accuracy 0.6368, Test Loss 0.6643\n",
      "Epoch 81: Train Accuracy 0.6486, Train Loss 0.6251, Test Accuracy 0.6423, Test Loss 0.6558\n",
      "Epoch 82: Train Accuracy 0.6457, Train Loss 0.6324, Test Accuracy 0.6435, Test Loss 0.6530\n",
      "Epoch 83: Train Accuracy 0.6393, Train Loss 0.6456, Test Accuracy 0.6355, Test Loss 0.6719\n",
      "Epoch 84: Train Accuracy 0.6620, Train Loss 0.6046, Test Accuracy 0.6519, Test Loss 0.6224\n",
      "Epoch 85: Train Accuracy 0.6574, Train Loss 0.6045, Test Accuracy 0.6494, Test Loss 0.6248\n",
      "Epoch 86: Train Accuracy 0.6560, Train Loss 0.6083, Test Accuracy 0.6587, Test Loss 0.6258\n",
      "Epoch 87: Train Accuracy 0.6486, Train Loss 0.6334, Test Accuracy 0.6385, Test Loss 0.6484\n",
      "Epoch 88: Train Accuracy 0.6480, Train Loss 0.6384, Test Accuracy 0.6465, Test Loss 0.6600\n",
      "Epoch 89: Train Accuracy 0.6528, Train Loss 0.6108, Test Accuracy 0.6380, Test Loss 0.6289\n",
      "Epoch 90: Train Accuracy 0.6384, Train Loss 0.6684, Test Accuracy 0.6385, Test Loss 0.7040\n",
      "Epoch 91: Train Accuracy 0.6329, Train Loss 0.6628, Test Accuracy 0.6326, Test Loss 0.6781\n",
      "Epoch 92: Train Accuracy 0.6280, Train Loss 0.6856, Test Accuracy 0.6221, Test Loss 0.6901\n",
      "Epoch 93: Train Accuracy 0.6517, Train Loss 0.6075, Test Accuracy 0.6322, Test Loss 0.6360\n",
      "Epoch 94: Train Accuracy 0.6547, Train Loss 0.6324, Test Accuracy 0.6389, Test Loss 0.6498\n",
      "Epoch 95: Train Accuracy 0.6553, Train Loss 0.6116, Test Accuracy 0.6402, Test Loss 0.6382\n",
      "Epoch 96: Train Accuracy 0.6661, Train Loss 0.5966, Test Accuracy 0.6629, Test Loss 0.6122\n",
      "Epoch 97: Train Accuracy 0.6622, Train Loss 0.5952, Test Accuracy 0.6503, Test Loss 0.6177\n",
      "Epoch 98: Train Accuracy 0.6563, Train Loss 0.6178, Test Accuracy 0.6507, Test Loss 0.6484\n",
      "Epoch 99: Train Accuracy 0.6583, Train Loss 0.6075, Test Accuracy 0.6456, Test Loss 0.6435\n",
      "Epoch 100: Train Accuracy 0.6674, Train Loss 0.5847, Test Accuracy 0.6650, Test Loss 0.6024\n",
      "Epoch 101: Train Accuracy 0.6735, Train Loss 0.5869, Test Accuracy 0.6738, Test Loss 0.6054\n",
      "Epoch 102: Train Accuracy 0.6655, Train Loss 0.5973, Test Accuracy 0.6620, Test Loss 0.6188\n",
      "Epoch 103: Train Accuracy 0.6708, Train Loss 0.5861, Test Accuracy 0.6629, Test Loss 0.6126\n",
      "Epoch 104: Train Accuracy 0.6729, Train Loss 0.5766, Test Accuracy 0.6637, Test Loss 0.5939\n",
      "Epoch 105: Train Accuracy 0.6576, Train Loss 0.6308, Test Accuracy 0.6359, Test Loss 0.6705\n",
      "Epoch 106: Train Accuracy 0.6754, Train Loss 0.5831, Test Accuracy 0.6671, Test Loss 0.5999\n",
      "Epoch 107: Train Accuracy 0.5676, Train Loss 0.8555, Test Accuracy 0.5711, Test Loss 0.8498\n",
      "Epoch 108: Train Accuracy 0.6122, Train Loss 0.7214, Test Accuracy 0.6082, Test Loss 0.7347\n",
      "Epoch 109: Train Accuracy 0.6299, Train Loss 0.6704, Test Accuracy 0.6313, Test Loss 0.6914\n",
      "Epoch 110: Train Accuracy 0.6394, Train Loss 0.6677, Test Accuracy 0.6364, Test Loss 0.7013\n",
      "Epoch 111: Train Accuracy 0.6524, Train Loss 0.6412, Test Accuracy 0.6423, Test Loss 0.6706\n",
      "Epoch 112: Train Accuracy 0.6440, Train Loss 0.6520, Test Accuracy 0.6452, Test Loss 0.6727\n",
      "Epoch 113: Train Accuracy 0.6674, Train Loss 0.5955, Test Accuracy 0.6561, Test Loss 0.6292\n",
      "Epoch 114: Train Accuracy 0.6672, Train Loss 0.6008, Test Accuracy 0.6460, Test Loss 0.6405\n",
      "Epoch 115: Train Accuracy 0.6716, Train Loss 0.5923, Test Accuracy 0.6528, Test Loss 0.6210\n",
      "Epoch 116: Train Accuracy 0.6618, Train Loss 0.6051, Test Accuracy 0.6486, Test Loss 0.6394\n",
      "Epoch 117: Train Accuracy 0.6787, Train Loss 0.5793, Test Accuracy 0.6658, Test Loss 0.6022\n",
      "Epoch 118: Train Accuracy 0.6760, Train Loss 0.5795, Test Accuracy 0.6726, Test Loss 0.6110\n",
      "Epoch 119: Train Accuracy 0.6675, Train Loss 0.5958, Test Accuracy 0.6658, Test Loss 0.6200\n",
      "Epoch 120: Train Accuracy 0.6596, Train Loss 0.6291, Test Accuracy 0.6452, Test Loss 0.6567\n",
      "Epoch 121: Train Accuracy 0.6766, Train Loss 0.5922, Test Accuracy 0.6641, Test Loss 0.6273\n",
      "Epoch 122: Train Accuracy 0.6257, Train Loss 0.7035, Test Accuracy 0.6027, Test Loss 0.7302\n",
      "Epoch 123: Train Accuracy 0.6688, Train Loss 0.5815, Test Accuracy 0.6406, Test Loss 0.6082\n",
      "Epoch 124: Train Accuracy 0.6782, Train Loss 0.5828, Test Accuracy 0.6545, Test Loss 0.6140\n",
      "Epoch 125: Train Accuracy 0.6788, Train Loss 0.5667, Test Accuracy 0.6641, Test Loss 0.5901\n",
      "Epoch 126: Train Accuracy 0.6806, Train Loss 0.5616, Test Accuracy 0.6759, Test Loss 0.5834\n",
      "Epoch 127: Train Accuracy 0.6794, Train Loss 0.5798, Test Accuracy 0.6705, Test Loss 0.6041\n",
      "Epoch 128: Train Accuracy 0.6812, Train Loss 0.5708, Test Accuracy 0.6608, Test Loss 0.5954\n",
      "Epoch 129: Train Accuracy 0.6736, Train Loss 0.5851, Test Accuracy 0.6633, Test Loss 0.5999\n",
      "Epoch 130: Train Accuracy 0.6762, Train Loss 0.5799, Test Accuracy 0.6616, Test Loss 0.6148\n",
      "Epoch 131: Train Accuracy 0.6701, Train Loss 0.5818, Test Accuracy 0.6679, Test Loss 0.6064\n",
      "Epoch 132: Train Accuracy 0.6824, Train Loss 0.5720, Test Accuracy 0.6751, Test Loss 0.6098\n",
      "Epoch 133: Train Accuracy 0.6839, Train Loss 0.5609, Test Accuracy 0.6662, Test Loss 0.5844\n",
      "Epoch 134: Train Accuracy 0.6809, Train Loss 0.5599, Test Accuracy 0.6675, Test Loss 0.5823\n",
      "Epoch 135: Train Accuracy 0.6857, Train Loss 0.5578, Test Accuracy 0.6789, Test Loss 0.5771\n",
      "Epoch 136: Train Accuracy 0.6873, Train Loss 0.5566, Test Accuracy 0.6801, Test Loss 0.5798\n",
      "Epoch 137: Train Accuracy 0.6856, Train Loss 0.5591, Test Accuracy 0.6654, Test Loss 0.5829\n",
      "Epoch 138: Train Accuracy 0.6612, Train Loss 0.6261, Test Accuracy 0.6553, Test Loss 0.6518\n",
      "Epoch 139: Train Accuracy 0.6766, Train Loss 0.5760, Test Accuracy 0.6629, Test Loss 0.5938\n",
      "Epoch 140: Train Accuracy 0.6649, Train Loss 0.6035, Test Accuracy 0.6448, Test Loss 0.6234\n",
      "Epoch 141: Train Accuracy 0.6810, Train Loss 0.5723, Test Accuracy 0.6705, Test Loss 0.5940\n",
      "Epoch 142: Train Accuracy 0.6914, Train Loss 0.5551, Test Accuracy 0.6957, Test Loss 0.5724\n",
      "Epoch 143: Train Accuracy 0.6857, Train Loss 0.5655, Test Accuracy 0.6755, Test Loss 0.5919\n",
      "Epoch 144: Train Accuracy 0.6662, Train Loss 0.6007, Test Accuracy 0.6465, Test Loss 0.6264\n",
      "Epoch 145: Train Accuracy 0.6896, Train Loss 0.5533, Test Accuracy 0.6848, Test Loss 0.5744\n",
      "Epoch 146: Train Accuracy 0.6758, Train Loss 0.5744, Test Accuracy 0.6658, Test Loss 0.5914\n",
      "Epoch 147: Train Accuracy 0.6892, Train Loss 0.5590, Test Accuracy 0.6789, Test Loss 0.5801\n",
      "Epoch 148: Train Accuracy 0.6969, Train Loss 0.5487, Test Accuracy 0.6856, Test Loss 0.5695\n",
      "Epoch 149: Train Accuracy 0.6763, Train Loss 0.5749, Test Accuracy 0.6625, Test Loss 0.6009\n",
      "Epoch 150: Train Accuracy 0.6861, Train Loss 0.5489, Test Accuracy 0.6747, Test Loss 0.5692\n",
      "Epoch 151: Train Accuracy 0.6815, Train Loss 0.5774, Test Accuracy 0.6768, Test Loss 0.6076\n",
      "Epoch 152: Train Accuracy 0.6924, Train Loss 0.5535, Test Accuracy 0.6717, Test Loss 0.5809\n",
      "Epoch 153: Train Accuracy 0.6912, Train Loss 0.5546, Test Accuracy 0.6763, Test Loss 0.5791\n",
      "Epoch 154: Train Accuracy 0.6937, Train Loss 0.5450, Test Accuracy 0.6839, Test Loss 0.5685\n",
      "Epoch 155: Train Accuracy 0.6492, Train Loss 0.6686, Test Accuracy 0.6351, Test Loss 0.6927\n",
      "Epoch 156: Train Accuracy 0.6963, Train Loss 0.5498, Test Accuracy 0.6886, Test Loss 0.5780\n",
      "Epoch 157: Train Accuracy 0.6777, Train Loss 0.5871, Test Accuracy 0.6671, Test Loss 0.6160\n",
      "Epoch 158: Train Accuracy 0.6800, Train Loss 0.5904, Test Accuracy 0.6662, Test Loss 0.6311\n",
      "Epoch 159: Train Accuracy 0.6960, Train Loss 0.5540, Test Accuracy 0.6839, Test Loss 0.5753\n",
      "Epoch 160: Train Accuracy 0.6949, Train Loss 0.5480, Test Accuracy 0.6831, Test Loss 0.5695\n",
      "Epoch 161: Train Accuracy 0.6966, Train Loss 0.5465, Test Accuracy 0.6894, Test Loss 0.5699\n",
      "Epoch 162: Train Accuracy 0.6940, Train Loss 0.5496, Test Accuracy 0.6873, Test Loss 0.5778\n",
      "Epoch 163: Train Accuracy 0.6933, Train Loss 0.5568, Test Accuracy 0.6801, Test Loss 0.5786\n",
      "Epoch 164: Train Accuracy 0.6888, Train Loss 0.5542, Test Accuracy 0.6772, Test Loss 0.5797\n",
      "Epoch 165: Train Accuracy 0.6959, Train Loss 0.5475, Test Accuracy 0.6835, Test Loss 0.5692\n",
      "Epoch 166: Train Accuracy 0.6734, Train Loss 0.5648, Test Accuracy 0.6654, Test Loss 0.5818\n",
      "Epoch 167: Train Accuracy 0.6925, Train Loss 0.5553, Test Accuracy 0.6789, Test Loss 0.5843\n",
      "Epoch 168: Train Accuracy 0.6960, Train Loss 0.5427, Test Accuracy 0.6869, Test Loss 0.5671\n",
      "Epoch 169: Train Accuracy 0.6989, Train Loss 0.5434, Test Accuracy 0.6936, Test Loss 0.5697\n",
      "Epoch 170: Train Accuracy 0.7007, Train Loss 0.5430, Test Accuracy 0.6953, Test Loss 0.5665\n",
      "Epoch 171: Train Accuracy 0.6843, Train Loss 0.5569, Test Accuracy 0.6806, Test Loss 0.5796\n",
      "Epoch 172: Train Accuracy 0.6818, Train Loss 0.5493, Test Accuracy 0.6709, Test Loss 0.5689\n",
      "Epoch 173: Train Accuracy 0.6706, Train Loss 0.6360, Test Accuracy 0.6591, Test Loss 0.6772\n",
      "Epoch 174: Train Accuracy 0.6950, Train Loss 0.5461, Test Accuracy 0.6936, Test Loss 0.5666\n",
      "Epoch 175: Train Accuracy 0.7035, Train Loss 0.5413, Test Accuracy 0.6957, Test Loss 0.5644\n",
      "Epoch 176: Train Accuracy 0.6937, Train Loss 0.5489, Test Accuracy 0.6814, Test Loss 0.5773\n",
      "Epoch 177: Train Accuracy 0.6964, Train Loss 0.5470, Test Accuracy 0.6835, Test Loss 0.5662\n",
      "Epoch 178: Train Accuracy 0.6956, Train Loss 0.5425, Test Accuracy 0.6860, Test Loss 0.5601\n",
      "Epoch 179: Train Accuracy 0.7005, Train Loss 0.5445, Test Accuracy 0.6949, Test Loss 0.5645\n",
      "Epoch 180: Train Accuracy 0.7009, Train Loss 0.5374, Test Accuracy 0.6953, Test Loss 0.5586\n",
      "Epoch 181: Train Accuracy 0.6970, Train Loss 0.5477, Test Accuracy 0.6852, Test Loss 0.5653\n",
      "Epoch 182: Train Accuracy 0.7016, Train Loss 0.5410, Test Accuracy 0.6982, Test Loss 0.5628\n",
      "Epoch 183: Train Accuracy 0.6963, Train Loss 0.5474, Test Accuracy 0.6944, Test Loss 0.5709\n",
      "Epoch 184: Train Accuracy 0.6997, Train Loss 0.5477, Test Accuracy 0.6911, Test Loss 0.5692\n",
      "Epoch 185: Train Accuracy 0.6925, Train Loss 0.5485, Test Accuracy 0.6759, Test Loss 0.5730\n",
      "Epoch 186: Train Accuracy 0.6910, Train Loss 0.5578, Test Accuracy 0.6856, Test Loss 0.5870\n",
      "Epoch 187: Train Accuracy 0.6978, Train Loss 0.5548, Test Accuracy 0.6852, Test Loss 0.5805\n",
      "Epoch 188: Train Accuracy 0.7025, Train Loss 0.5378, Test Accuracy 0.6961, Test Loss 0.5647\n",
      "Epoch 189: Train Accuracy 0.6849, Train Loss 0.5645, Test Accuracy 0.6692, Test Loss 0.5889\n",
      "Epoch 190: Train Accuracy 0.6954, Train Loss 0.5454, Test Accuracy 0.6890, Test Loss 0.5719\n",
      "Epoch 191: Train Accuracy 0.6902, Train Loss 0.5508, Test Accuracy 0.6730, Test Loss 0.5744\n",
      "Epoch 192: Train Accuracy 0.7000, Train Loss 0.5447, Test Accuracy 0.6886, Test Loss 0.5639\n",
      "Epoch 193: Train Accuracy 0.7045, Train Loss 0.5387, Test Accuracy 0.6953, Test Loss 0.5633\n",
      "Epoch 194: Train Accuracy 0.7018, Train Loss 0.5408, Test Accuracy 0.6974, Test Loss 0.5671\n",
      "Epoch 195: Train Accuracy 0.7059, Train Loss 0.5337, Test Accuracy 0.7016, Test Loss 0.5558\n",
      "Epoch 196: Train Accuracy 0.7020, Train Loss 0.5395, Test Accuracy 0.6898, Test Loss 0.5603\n",
      "Epoch 197: Train Accuracy 0.6777, Train Loss 0.5841, Test Accuracy 0.6675, Test Loss 0.6053\n",
      "Epoch 198: Train Accuracy 0.6948, Train Loss 0.5451, Test Accuracy 0.7045, Test Loss 0.5693\n",
      "Epoch 199: Train Accuracy 0.7011, Train Loss 0.5341, Test Accuracy 0.6982, Test Loss 0.5568\n"
     ]
    }
   ],
   "source": [
    "for epoch in range(num_epochs):\n",
    "    model.train()\n",
    "    for X_batch, y_batch in loader:\n",
    "        y_pred = model(X_batch)\n",
    "        loss = criterion(y_pred, y_batch)\n",
    "        optimizer.zero_grad()\n",
    "        loss.backward()\n",
    "        optimizer.step()\n",
    "    model.eval()\n",
    "    totalYPred = []\n",
    "    totalY = []\n",
    "    with torch.no_grad():\n",
    "        for X_batch, y_batch in loader:\n",
    "            totalY.append(y_batch)\n",
    "            totalYPred.append(model(X_batch))\n",
    "    actualY = torch.cat(totalY, 0)\n",
    "    predY = torch.cat(totalYPred, 0)\n",
    "    metric = MulticlassAccuracy()\n",
    "    metric.update(predY, actualY)\n",
    "    train_acc = metric.compute()\n",
    "    train_acc_list.append(train_acc.item())\n",
    "    train_loss = nn.CrossEntropyLoss()\n",
    "    train_loss = train_loss(predY, actualY).item()\n",
    "    train_loss_list.append(train_loss)\n",
    "    print(\"Epoch %d: Train Accuracy %.4f, Train Loss %.4f,\" % (epoch, train_acc, train_loss), end=\"\")\n",
    "    \n",
    "    totalYPred = []\n",
    "    totalY = []\n",
    "    with torch.no_grad():\n",
    "        for X_batch, y_batch in testLoader:\n",
    "            totalY.append(y_batch)\n",
    "            totalYPred.append(model(X_batch))\n",
    "    actualY = torch.cat(totalY, 0)\n",
    "    predY = torch.cat(totalYPred, 0)\n",
    "    metric = MulticlassAccuracy()\n",
    "    metric.update(predY, actualY)\n",
    "    test_acc = metric.compute()\n",
    "    \n",
    "    test_acc_list.append(test_acc.item())\n",
    "    test_loss = nn.CrossEntropyLoss()\n",
    "    test_loss = test_loss(predY, actualY).item()\n",
    "    test_loss_list.append(test_loss)\n",
    "    print(\" Test Accuracy %.4f, Test Loss %.4f\" % (test_acc, test_loss))\n",
    "    del totalYPred\n",
    "    del totalY\n",
    "    del actualY\n",
    "    del predY"
   ]
  },
  {
   "cell_type": "code",
   "execution_count": 280,
   "metadata": {
    "execution": {
     "iopub.execute_input": "2024-12-14T18:22:32.633218Z",
     "iopub.status.busy": "2024-12-14T18:22:32.632841Z",
     "iopub.status.idle": "2024-12-14T18:22:32.937769Z",
     "shell.execute_reply": "2024-12-14T18:22:32.936921Z",
     "shell.execute_reply.started": "2024-12-14T18:22:32.633184Z"
    },
    "trusted": true
   },
   "outputs": [
    {
     "data": {
      "text/plain": [
       "<matplotlib.legend.Legend at 0x7cd360835000>"
      ]
     },
     "execution_count": 280,
     "metadata": {},
     "output_type": "execute_result"
    },
    {
     "data": {
      "image/png": "[encoded data removed]",
      "text/plain": [
       "<Figure size 640x480 with 1 Axes>"
      ]
     },
     "metadata": {},
     "output_type": "display_data"
    }
   ],
   "source": [
    "# plt.figure(figsize = (15,5))\n",
    "plt.plot(range(len(train_acc_list)), train_acc_list)\n",
    "plt.plot(range(len(test_acc_list)), test_acc_list)\n",
    "plt.xlabel(\"Epoch\")\n",
    "plt.ylabel(\"Accuracy\")\n",
    "plt.title(\"LSTM Accuracy\")\n",
    "plt.legend([\"Train Accuracy\",\"Test Accuracy\"],loc = \"lower right\")"
   ]
  },
  {
   "cell_type": "code",
   "execution_count": 282,
   "metadata": {
    "execution": {
     "iopub.execute_input": "2024-12-14T18:22:55.567951Z",
     "iopub.status.busy": "2024-12-14T18:22:55.567283Z",
     "iopub.status.idle": "2024-12-14T18:22:55.790151Z",
     "shell.execute_reply": "2024-12-14T18:22:55.789289Z",
     "shell.execute_reply.started": "2024-12-14T18:22:55.567920Z"
    },
    "trusted": true
   },
   "outputs": [
    {
     "data": {
      "text/plain": [
       "<matplotlib.legend.Legend at 0x7cd36073eb60>"
      ]
     },
     "execution_count": 282,
     "metadata": {},
     "output_type": "execute_result"
    },
    {
     "data": {
      "image/png": "[encoded data removed]",
      "text/plain": [
       "<Figure size 640x480 with 1 Axes>"
      ]
     },
     "metadata": {},
     "output_type": "display_data"
    }
   ],
   "source": [
    "# plt.figure(figsize = (15,5))\n",
    "plt.plot(range(len(train_loss_list)-2), train_loss_list[:-2])\n",
    "plt.plot(range(len(test_loss_list)-2), test_loss_list[:-2])\n",
    "plt.xlabel(\"Epoch\")\n",
    "plt.ylabel(\"Loss\")\n",
    "plt.title(\"LSTM Loss\")\n",
    "plt.legend([\"Train Loss\",\"Test Loss\"],loc = \"upper right\")"
   ]
  },
  {
   "cell_type": "markdown",
   "metadata": {},
   "source": [
    "## xLSTM\n",
    "## Combining hand and arm\n",
    "## window 64, overlapp 32"
   ]
  },
  {
   "cell_type": "code",
   "execution_count": 26,
   "metadata": {
    "execution": {
     "iopub.execute_input": "2024-12-17T11:14:38.170710Z",
     "iopub.status.busy": "2024-12-17T11:14:38.169908Z",
     "iopub.status.idle": "2024-12-17T11:14:38.174459Z",
     "shell.execute_reply": "2024-12-17T11:14:38.173633Z",
     "shell.execute_reply.started": "2024-12-17T11:14:38.170674Z"
    },
    "trusted": true
   },
   "outputs": [],
   "source": [
    "train_acc_list = []\n",
    "test_acc_list = []\n",
    "train_loss_list = []\n",
    "test_loss_list = []"
   ]
  },
  {
   "cell_type": "code",
   "execution_count": 27,
   "metadata": {
    "execution": {
     "iopub.execute_input": "2024-12-17T11:14:38.524536Z",
     "iopub.status.busy": "2024-12-17T11:14:38.523737Z",
     "iopub.status.idle": "2024-12-17T11:36:20.789422Z",
     "shell.execute_reply": "2024-12-17T11:36:20.788485Z",
     "shell.execute_reply.started": "2024-12-17T11:14:38.524501Z"
    },
    "scrolled": true,
    "trusted": true
   },
   "outputs": [
    {
     "name": "stdout",
     "output_type": "stream",
     "text": [
      "Epoch 0: Train Accuracy 0.4989, Train Loss 0.9876, Test Accuracy 0.4933, Test Loss 0.9946\n",
      "Epoch 1: Train Accuracy 0.5541, Train Loss 0.9129, Test Accuracy 0.5556, Test Loss 0.9246\n",
      "Epoch 2: Train Accuracy 0.5983, Train Loss 0.8455, Test Accuracy 0.6006, Test Loss 0.8602\n",
      "Epoch 3: Train Accuracy 0.6235, Train Loss 0.7745, Test Accuracy 0.6145, Test Loss 0.7949\n",
      "Epoch 4: Train Accuracy 0.6487, Train Loss 0.7188, Test Accuracy 0.6465, Test Loss 0.7389\n",
      "Epoch 5: Train Accuracy 0.6593, Train Loss 0.6810, Test Accuracy 0.6532, Test Loss 0.7009\n",
      "Epoch 6: Train Accuracy 0.6787, Train Loss 0.6334, Test Accuracy 0.6717, Test Loss 0.6546\n",
      "Epoch 7: Train Accuracy 0.6839, Train Loss 0.6061, Test Accuracy 0.6742, Test Loss 0.6257\n",
      "Epoch 8: Train Accuracy 0.6939, Train Loss 0.5875, Test Accuracy 0.6785, Test Loss 0.6085\n",
      "Epoch 9: Train Accuracy 0.6999, Train Loss 0.5640, Test Accuracy 0.6932, Test Loss 0.5772\n",
      "Epoch 10: Train Accuracy 0.7057, Train Loss 0.5513, Test Accuracy 0.6970, Test Loss 0.5650\n",
      "Epoch 11: Train Accuracy 0.7107, Train Loss 0.5342, Test Accuracy 0.7050, Test Loss 0.5467\n",
      "Epoch 12: Train Accuracy 0.7166, Train Loss 0.5233, Test Accuracy 0.7121, Test Loss 0.5339\n",
      "Epoch 13: Train Accuracy 0.6960, Train Loss 0.5662, Test Accuracy 0.6915, Test Loss 0.5803\n",
      "Epoch 14: Train Accuracy 0.7203, Train Loss 0.5132, Test Accuracy 0.7168, Test Loss 0.5251\n",
      "Epoch 15: Train Accuracy 0.7239, Train Loss 0.5024, Test Accuracy 0.7176, Test Loss 0.5158\n",
      "Epoch 16: Train Accuracy 0.7279, Train Loss 0.4948, Test Accuracy 0.7218, Test Loss 0.5106\n",
      "Epoch 17: Train Accuracy 0.7303, Train Loss 0.4906, Test Accuracy 0.7180, Test Loss 0.5083\n",
      "Epoch 18: Train Accuracy 0.7258, Train Loss 0.4999, Test Accuracy 0.7134, Test Loss 0.5195\n",
      "Epoch 19: Train Accuracy 0.7315, Train Loss 0.4829, Test Accuracy 0.7226, Test Loss 0.5026\n",
      "Epoch 20: Train Accuracy 0.6947, Train Loss 0.5778, Test Accuracy 0.6843, Test Loss 0.6131\n",
      "Epoch 21: Train Accuracy 0.7312, Train Loss 0.4792, Test Accuracy 0.7176, Test Loss 0.5021\n",
      "Epoch 22: Train Accuracy 0.7343, Train Loss 0.4838, Test Accuracy 0.7239, Test Loss 0.5077\n",
      "Epoch 23: Train Accuracy 0.7408, Train Loss 0.4701, Test Accuracy 0.7281, Test Loss 0.4930\n",
      "Epoch 24: Train Accuracy 0.7348, Train Loss 0.4796, Test Accuracy 0.7273, Test Loss 0.5023\n",
      "Epoch 25: Train Accuracy 0.7389, Train Loss 0.4727, Test Accuracy 0.7306, Test Loss 0.5003\n",
      "Epoch 26: Train Accuracy 0.7470, Train Loss 0.4627, Test Accuracy 0.7336, Test Loss 0.4893\n",
      "Epoch 27: Train Accuracy 0.7378, Train Loss 0.4833, Test Accuracy 0.7256, Test Loss 0.5235\n",
      "Epoch 28: Train Accuracy 0.7483, Train Loss 0.4597, Test Accuracy 0.7374, Test Loss 0.4940\n",
      "Epoch 29: Train Accuracy 0.7523, Train Loss 0.4571, Test Accuracy 0.7306, Test Loss 0.4905\n",
      "Epoch 30: Train Accuracy 0.7570, Train Loss 0.4537, Test Accuracy 0.7357, Test Loss 0.4947\n",
      "Epoch 31: Train Accuracy 0.7572, Train Loss 0.4513, Test Accuracy 0.7395, Test Loss 0.4825\n",
      "Epoch 32: Train Accuracy 0.7458, Train Loss 0.4884, Test Accuracy 0.7269, Test Loss 0.5242\n",
      "Epoch 33: Train Accuracy 0.7547, Train Loss 0.4580, Test Accuracy 0.7386, Test Loss 0.4896\n",
      "Epoch 34: Train Accuracy 0.7567, Train Loss 0.4515, Test Accuracy 0.7412, Test Loss 0.4820\n",
      "Epoch 35: Train Accuracy 0.7538, Train Loss 0.4534, Test Accuracy 0.7348, Test Loss 0.4867\n",
      "Epoch 36: Train Accuracy 0.7548, Train Loss 0.4534, Test Accuracy 0.7332, Test Loss 0.4841\n",
      "Epoch 37: Train Accuracy 0.7595, Train Loss 0.4461, Test Accuracy 0.7353, Test Loss 0.4837\n",
      "Epoch 38: Train Accuracy 0.7579, Train Loss 0.4459, Test Accuracy 0.7441, Test Loss 0.4787\n",
      "Epoch 39: Train Accuracy 0.7618, Train Loss 0.4415, Test Accuracy 0.7445, Test Loss 0.4775\n",
      "Epoch 40: Train Accuracy 0.7496, Train Loss 0.4743, Test Accuracy 0.7290, Test Loss 0.5076\n",
      "Epoch 41: Train Accuracy 0.7623, Train Loss 0.4407, Test Accuracy 0.7428, Test Loss 0.4785\n",
      "Epoch 42: Train Accuracy 0.7627, Train Loss 0.4400, Test Accuracy 0.7525, Test Loss 0.4781\n",
      "Epoch 43: Train Accuracy 0.7194, Train Loss 0.5595, Test Accuracy 0.6974, Test Loss 0.6332\n",
      "Epoch 44: Train Accuracy 0.7618, Train Loss 0.4417, Test Accuracy 0.7458, Test Loss 0.4783\n",
      "Epoch 45: Train Accuracy 0.7630, Train Loss 0.4390, Test Accuracy 0.7471, Test Loss 0.4763\n",
      "Epoch 46: Train Accuracy 0.7580, Train Loss 0.4505, Test Accuracy 0.7386, Test Loss 0.4903\n",
      "Epoch 47: Train Accuracy 0.7662, Train Loss 0.4354, Test Accuracy 0.7475, Test Loss 0.4753\n",
      "Epoch 48: Train Accuracy 0.7600, Train Loss 0.4439, Test Accuracy 0.7433, Test Loss 0.4789\n",
      "Epoch 49: Train Accuracy 0.7611, Train Loss 0.4487, Test Accuracy 0.7386, Test Loss 0.4876\n",
      "Epoch 50: Train Accuracy 0.7640, Train Loss 0.4354, Test Accuracy 0.7475, Test Loss 0.4735\n",
      "Epoch 51: Train Accuracy 0.7674, Train Loss 0.4318, Test Accuracy 0.7496, Test Loss 0.4746\n",
      "Epoch 52: Train Accuracy 0.7675, Train Loss 0.4308, Test Accuracy 0.7466, Test Loss 0.4768\n",
      "Epoch 53: Train Accuracy 0.7480, Train Loss 0.4637, Test Accuracy 0.7306, Test Loss 0.5008\n",
      "Epoch 54: Train Accuracy 0.7632, Train Loss 0.4389, Test Accuracy 0.7458, Test Loss 0.4685\n",
      "Epoch 55: Train Accuracy 0.7654, Train Loss 0.4335, Test Accuracy 0.7424, Test Loss 0.4789\n",
      "Epoch 56: Train Accuracy 0.7666, Train Loss 0.4328, Test Accuracy 0.7386, Test Loss 0.4844\n",
      "Epoch 57: Train Accuracy 0.7667, Train Loss 0.4319, Test Accuracy 0.7348, Test Loss 0.4797\n",
      "Epoch 58: Train Accuracy 0.7529, Train Loss 0.4651, Test Accuracy 0.7264, Test Loss 0.5096\n",
      "Epoch 59: Train Accuracy 0.7666, Train Loss 0.4311, Test Accuracy 0.7412, Test Loss 0.4802\n",
      "Epoch 60: Train Accuracy 0.7685, Train Loss 0.4287, Test Accuracy 0.7513, Test Loss 0.4733\n",
      "Epoch 61: Train Accuracy 0.7650, Train Loss 0.4326, Test Accuracy 0.7492, Test Loss 0.4736\n",
      "Epoch 62: Train Accuracy 0.7686, Train Loss 0.4290, Test Accuracy 0.7479, Test Loss 0.4743\n",
      "Epoch 63: Train Accuracy 0.7667, Train Loss 0.4354, Test Accuracy 0.7441, Test Loss 0.4781\n",
      "Epoch 64: Train Accuracy 0.7675, Train Loss 0.4280, Test Accuracy 0.7529, Test Loss 0.4732\n",
      "Epoch 65: Train Accuracy 0.7669, Train Loss 0.4288, Test Accuracy 0.7500, Test Loss 0.4744\n",
      "Epoch 66: Train Accuracy 0.7660, Train Loss 0.4330, Test Accuracy 0.7475, Test Loss 0.4835\n",
      "Epoch 67: Train Accuracy 0.7651, Train Loss 0.4302, Test Accuracy 0.7483, Test Loss 0.4788\n",
      "Epoch 68: Train Accuracy 0.7701, Train Loss 0.4266, Test Accuracy 0.7454, Test Loss 0.4760\n",
      "Epoch 69: Train Accuracy 0.7707, Train Loss 0.4248, Test Accuracy 0.7479, Test Loss 0.4788\n",
      "Epoch 70: Train Accuracy 0.7714, Train Loss 0.4243, Test Accuracy 0.7466, Test Loss 0.4804\n",
      "Epoch 71: Train Accuracy 0.7557, Train Loss 0.4738, Test Accuracy 0.7247, Test Loss 0.5433\n",
      "Epoch 72: Train Accuracy 0.7185, Train Loss 0.6029, Test Accuracy 0.6856, Test Loss 0.6660\n",
      "Epoch 73: Train Accuracy 0.7679, Train Loss 0.4287, Test Accuracy 0.7454, Test Loss 0.4688\n",
      "Epoch 74: Train Accuracy 0.7711, Train Loss 0.4251, Test Accuracy 0.7479, Test Loss 0.4718\n",
      "Epoch 75: Train Accuracy 0.7614, Train Loss 0.4479, Test Accuracy 0.7357, Test Loss 0.5019\n",
      "Epoch 76: Train Accuracy 0.7713, Train Loss 0.4244, Test Accuracy 0.7449, Test Loss 0.4817\n",
      "Epoch 77: Train Accuracy 0.7707, Train Loss 0.4243, Test Accuracy 0.7445, Test Loss 0.4786\n",
      "Epoch 78: Train Accuracy 0.7705, Train Loss 0.4228, Test Accuracy 0.7458, Test Loss 0.4764\n",
      "Epoch 79: Train Accuracy 0.7711, Train Loss 0.4213, Test Accuracy 0.7399, Test Loss 0.4742\n",
      "Epoch 80: Train Accuracy 0.7727, Train Loss 0.4214, Test Accuracy 0.7475, Test Loss 0.4816\n",
      "Epoch 81: Train Accuracy 0.7713, Train Loss 0.4220, Test Accuracy 0.7449, Test Loss 0.4793\n",
      "Epoch 82: Train Accuracy 0.7695, Train Loss 0.4254, Test Accuracy 0.7479, Test Loss 0.4768\n",
      "Epoch 83: Train Accuracy 0.7686, Train Loss 0.4254, Test Accuracy 0.7437, Test Loss 0.4761\n",
      "Epoch 84: Train Accuracy 0.7702, Train Loss 0.4204, Test Accuracy 0.7483, Test Loss 0.4737\n",
      "Epoch 85: Train Accuracy 0.7724, Train Loss 0.4198, Test Accuracy 0.7441, Test Loss 0.4737\n",
      "Epoch 86: Train Accuracy 0.7668, Train Loss 0.4342, Test Accuracy 0.7513, Test Loss 0.4896\n",
      "Epoch 87: Train Accuracy 0.7706, Train Loss 0.4217, Test Accuracy 0.7407, Test Loss 0.4862\n",
      "Epoch 88: Train Accuracy 0.7728, Train Loss 0.4191, Test Accuracy 0.7466, Test Loss 0.4762\n",
      "Epoch 89: Train Accuracy 0.7733, Train Loss 0.4189, Test Accuracy 0.7475, Test Loss 0.4795\n",
      "Epoch 90: Train Accuracy 0.7725, Train Loss 0.4189, Test Accuracy 0.7462, Test Loss 0.4731\n",
      "Epoch 91: Train Accuracy 0.7733, Train Loss 0.4179, Test Accuracy 0.7407, Test Loss 0.4715\n",
      "Epoch 92: Train Accuracy 0.7544, Train Loss 0.4706, Test Accuracy 0.7264, Test Loss 0.5325\n",
      "Epoch 93: Train Accuracy 0.7720, Train Loss 0.4200, Test Accuracy 0.7386, Test Loss 0.4720\n",
      "Epoch 94: Train Accuracy 0.7735, Train Loss 0.4182, Test Accuracy 0.7445, Test Loss 0.4730\n",
      "Epoch 95: Train Accuracy 0.7735, Train Loss 0.4169, Test Accuracy 0.7475, Test Loss 0.4740\n",
      "Epoch 96: Train Accuracy 0.7733, Train Loss 0.4170, Test Accuracy 0.7433, Test Loss 0.4761\n",
      "Epoch 97: Train Accuracy 0.7731, Train Loss 0.4161, Test Accuracy 0.7441, Test Loss 0.4730\n",
      "Epoch 98: Train Accuracy 0.7745, Train Loss 0.4162, Test Accuracy 0.7445, Test Loss 0.4784\n",
      "Epoch 99: Train Accuracy 0.7734, Train Loss 0.4170, Test Accuracy 0.7454, Test Loss 0.4766\n",
      "Epoch 100: Train Accuracy 0.7611, Train Loss 0.4447, Test Accuracy 0.7306, Test Loss 0.5102\n",
      "Epoch 101: Train Accuracy 0.7729, Train Loss 0.4178, Test Accuracy 0.7403, Test Loss 0.4806\n",
      "Epoch 102: Train Accuracy 0.7743, Train Loss 0.4172, Test Accuracy 0.7428, Test Loss 0.4808\n",
      "Epoch 103: Train Accuracy 0.7743, Train Loss 0.4144, Test Accuracy 0.7441, Test Loss 0.4736\n",
      "Epoch 104: Train Accuracy 0.7741, Train Loss 0.4144, Test Accuracy 0.7382, Test Loss 0.4813\n",
      "Epoch 105: Train Accuracy 0.7723, Train Loss 0.4188, Test Accuracy 0.7412, Test Loss 0.4800\n",
      "Epoch 106: Train Accuracy 0.7687, Train Loss 0.4287, Test Accuracy 0.7391, Test Loss 0.4975\n",
      "Epoch 107: Train Accuracy 0.7617, Train Loss 0.4412, Test Accuracy 0.7391, Test Loss 0.4750\n",
      "Epoch 108: Train Accuracy 0.7738, Train Loss 0.4163, Test Accuracy 0.7492, Test Loss 0.4671\n",
      "Epoch 109: Train Accuracy 0.7756, Train Loss 0.4140, Test Accuracy 0.7462, Test Loss 0.4782\n",
      "Epoch 110: Train Accuracy 0.7745, Train Loss 0.4153, Test Accuracy 0.7382, Test Loss 0.4871\n",
      "Epoch 111: Train Accuracy 0.7745, Train Loss 0.4140, Test Accuracy 0.7370, Test Loss 0.4826\n",
      "Epoch 112: Train Accuracy 0.7756, Train Loss 0.4132, Test Accuracy 0.7475, Test Loss 0.4798\n",
      "Epoch 113: Train Accuracy 0.7741, Train Loss 0.4139, Test Accuracy 0.7471, Test Loss 0.4818\n",
      "Epoch 114: Train Accuracy 0.7753, Train Loss 0.4122, Test Accuracy 0.7483, Test Loss 0.4743\n",
      "Epoch 115: Train Accuracy 0.7750, Train Loss 0.4127, Test Accuracy 0.7449, Test Loss 0.4724\n",
      "Epoch 116: Train Accuracy 0.7764, Train Loss 0.4118, Test Accuracy 0.7445, Test Loss 0.4791\n",
      "Epoch 117: Train Accuracy 0.7747, Train Loss 0.4117, Test Accuracy 0.7492, Test Loss 0.4729\n",
      "Epoch 118: Train Accuracy 0.7738, Train Loss 0.4158, Test Accuracy 0.7412, Test Loss 0.4792\n",
      "Epoch 119: Train Accuracy 0.7741, Train Loss 0.4152, Test Accuracy 0.7370, Test Loss 0.4777\n",
      "Epoch 120: Train Accuracy 0.7744, Train Loss 0.4140, Test Accuracy 0.7437, Test Loss 0.4762\n",
      "Epoch 121: Train Accuracy 0.7761, Train Loss 0.4125, Test Accuracy 0.7496, Test Loss 0.4772\n",
      "Epoch 122: Train Accuracy 0.7745, Train Loss 0.4118, Test Accuracy 0.7357, Test Loss 0.4840\n",
      "Epoch 123: Train Accuracy 0.7759, Train Loss 0.4105, Test Accuracy 0.7454, Test Loss 0.4723\n",
      "Epoch 124: Train Accuracy 0.7752, Train Loss 0.4106, Test Accuracy 0.7386, Test Loss 0.4717\n",
      "Epoch 125: Train Accuracy 0.7719, Train Loss 0.4159, Test Accuracy 0.7294, Test Loss 0.4818\n",
      "Epoch 126: Train Accuracy 0.7729, Train Loss 0.4143, Test Accuracy 0.7348, Test Loss 0.4764\n",
      "Epoch 127: Train Accuracy 0.7702, Train Loss 0.4296, Test Accuracy 0.7285, Test Loss 0.5016\n",
      "Epoch 128: Train Accuracy 0.7746, Train Loss 0.4129, Test Accuracy 0.7462, Test Loss 0.4844\n",
      "Epoch 129: Train Accuracy 0.7760, Train Loss 0.4106, Test Accuracy 0.7437, Test Loss 0.4688\n",
      "Epoch 130: Train Accuracy 0.7768, Train Loss 0.4092, Test Accuracy 0.7391, Test Loss 0.4796\n",
      "Epoch 131: Train Accuracy 0.7756, Train Loss 0.4099, Test Accuracy 0.7407, Test Loss 0.4824\n",
      "Epoch 132: Train Accuracy 0.7761, Train Loss 0.4095, Test Accuracy 0.7433, Test Loss 0.4846\n",
      "Epoch 133: Train Accuracy 0.7550, Train Loss 0.4675, Test Accuracy 0.7130, Test Loss 0.5580\n",
      "Epoch 134: Train Accuracy 0.7721, Train Loss 0.4199, Test Accuracy 0.7348, Test Loss 0.4943\n",
      "Epoch 135: Train Accuracy 0.7764, Train Loss 0.4088, Test Accuracy 0.7441, Test Loss 0.4783\n",
      "Epoch 136: Train Accuracy 0.7759, Train Loss 0.4109, Test Accuracy 0.7412, Test Loss 0.4753\n",
      "Epoch 137: Train Accuracy 0.7770, Train Loss 0.4089, Test Accuracy 0.7395, Test Loss 0.4825\n",
      "Epoch 138: Train Accuracy 0.7765, Train Loss 0.4085, Test Accuracy 0.7412, Test Loss 0.4810\n",
      "Epoch 139: Train Accuracy 0.7773, Train Loss 0.4082, Test Accuracy 0.7428, Test Loss 0.4801\n",
      "Epoch 140: Train Accuracy 0.7769, Train Loss 0.4071, Test Accuracy 0.7441, Test Loss 0.4755\n",
      "Epoch 141: Train Accuracy 0.7659, Train Loss 0.4452, Test Accuracy 0.7336, Test Loss 0.5286\n",
      "Epoch 142: Train Accuracy 0.7690, Train Loss 0.4373, Test Accuracy 0.7269, Test Loss 0.5202\n",
      "Epoch 143: Train Accuracy 0.7767, Train Loss 0.4077, Test Accuracy 0.7445, Test Loss 0.4781\n",
      "Epoch 144: Train Accuracy 0.7753, Train Loss 0.4082, Test Accuracy 0.7496, Test Loss 0.4780\n",
      "Epoch 145: Train Accuracy 0.7770, Train Loss 0.4080, Test Accuracy 0.7458, Test Loss 0.4774\n",
      "Epoch 146: Train Accuracy 0.7776, Train Loss 0.4081, Test Accuracy 0.7441, Test Loss 0.4753\n",
      "Epoch 147: Train Accuracy 0.7773, Train Loss 0.4062, Test Accuracy 0.7441, Test Loss 0.4822\n",
      "Epoch 148: Train Accuracy 0.7781, Train Loss 0.4069, Test Accuracy 0.7433, Test Loss 0.4787\n",
      "Epoch 149: Train Accuracy 0.7783, Train Loss 0.4070, Test Accuracy 0.7395, Test Loss 0.4801\n",
      "Epoch 150: Train Accuracy 0.7774, Train Loss 0.4062, Test Accuracy 0.7466, Test Loss 0.4752\n",
      "Epoch 151: Train Accuracy 0.7768, Train Loss 0.4073, Test Accuracy 0.7428, Test Loss 0.4829\n",
      "Epoch 152: Train Accuracy 0.7768, Train Loss 0.4091, Test Accuracy 0.7412, Test Loss 0.4830\n",
      "Epoch 153: Train Accuracy 0.7781, Train Loss 0.4057, Test Accuracy 0.7466, Test Loss 0.4812\n",
      "Epoch 154: Train Accuracy 0.7769, Train Loss 0.4070, Test Accuracy 0.7420, Test Loss 0.4854\n",
      "Epoch 155: Train Accuracy 0.7728, Train Loss 0.4219, Test Accuracy 0.7403, Test Loss 0.4950\n",
      "Epoch 156: Train Accuracy 0.7756, Train Loss 0.4069, Test Accuracy 0.7441, Test Loss 0.4812\n",
      "Epoch 157: Train Accuracy 0.7788, Train Loss 0.4063, Test Accuracy 0.7420, Test Loss 0.4808\n",
      "Epoch 158: Train Accuracy 0.7763, Train Loss 0.4062, Test Accuracy 0.7403, Test Loss 0.4780\n",
      "Epoch 159: Train Accuracy 0.7776, Train Loss 0.4048, Test Accuracy 0.7391, Test Loss 0.4809\n",
      "Epoch 160: Train Accuracy 0.7786, Train Loss 0.4042, Test Accuracy 0.7483, Test Loss 0.4784\n",
      "Epoch 161: Train Accuracy 0.7324, Train Loss 0.5777, Test Accuracy 0.7079, Test Loss 0.6339\n",
      "Epoch 162: Train Accuracy 0.7765, Train Loss 0.4068, Test Accuracy 0.7399, Test Loss 0.4778\n",
      "Epoch 163: Train Accuracy 0.7770, Train Loss 0.4056, Test Accuracy 0.7412, Test Loss 0.4825\n",
      "Epoch 164: Train Accuracy 0.7739, Train Loss 0.4258, Test Accuracy 0.7475, Test Loss 0.4843\n",
      "Epoch 165: Train Accuracy 0.7765, Train Loss 0.4073, Test Accuracy 0.7504, Test Loss 0.4748\n",
      "Epoch 166: Train Accuracy 0.7765, Train Loss 0.4064, Test Accuracy 0.7508, Test Loss 0.4710\n",
      "Epoch 167: Train Accuracy 0.7779, Train Loss 0.4049, Test Accuracy 0.7454, Test Loss 0.4742\n",
      "Epoch 168: Train Accuracy 0.7775, Train Loss 0.4046, Test Accuracy 0.7433, Test Loss 0.4761\n",
      "Epoch 169: Train Accuracy 0.7780, Train Loss 0.4041, Test Accuracy 0.7441, Test Loss 0.4774\n",
      "Epoch 170: Train Accuracy 0.7766, Train Loss 0.4070, Test Accuracy 0.7407, Test Loss 0.4784\n",
      "Epoch 171: Train Accuracy 0.7790, Train Loss 0.4033, Test Accuracy 0.7466, Test Loss 0.4765\n",
      "Epoch 172: Train Accuracy 0.7778, Train Loss 0.4043, Test Accuracy 0.7374, Test Loss 0.4805\n",
      "Epoch 173: Train Accuracy 0.7779, Train Loss 0.4040, Test Accuracy 0.7399, Test Loss 0.4803\n",
      "Epoch 174: Train Accuracy 0.7782, Train Loss 0.4047, Test Accuracy 0.7428, Test Loss 0.4778\n",
      "Epoch 175: Train Accuracy 0.7772, Train Loss 0.4038, Test Accuracy 0.7370, Test Loss 0.4799\n",
      "Epoch 176: Train Accuracy 0.7769, Train Loss 0.4090, Test Accuracy 0.7378, Test Loss 0.4783\n",
      "Epoch 177: Train Accuracy 0.7789, Train Loss 0.4038, Test Accuracy 0.7437, Test Loss 0.4784\n",
      "Epoch 178: Train Accuracy 0.7771, Train Loss 0.4044, Test Accuracy 0.7433, Test Loss 0.4784\n",
      "Epoch 179: Train Accuracy 0.7768, Train Loss 0.4041, Test Accuracy 0.7445, Test Loss 0.4795\n",
      "Epoch 180: Train Accuracy 0.7634, Train Loss 0.4542, Test Accuracy 0.7197, Test Loss 0.5418\n",
      "Epoch 181: Train Accuracy 0.7725, Train Loss 0.4182, Test Accuracy 0.7294, Test Loss 0.4979\n",
      "Epoch 182: Train Accuracy 0.7773, Train Loss 0.4067, Test Accuracy 0.7449, Test Loss 0.4774\n",
      "Epoch 183: Train Accuracy 0.7645, Train Loss 0.4445, Test Accuracy 0.7264, Test Loss 0.5226\n",
      "Epoch 184: Train Accuracy 0.7771, Train Loss 0.4063, Test Accuracy 0.7428, Test Loss 0.4806\n",
      "Epoch 185: Train Accuracy 0.7768, Train Loss 0.4066, Test Accuracy 0.7441, Test Loss 0.4669\n",
      "Epoch 186: Train Accuracy 0.7778, Train Loss 0.4041, Test Accuracy 0.7420, Test Loss 0.4673\n",
      "Epoch 187: Train Accuracy 0.7789, Train Loss 0.4044, Test Accuracy 0.7403, Test Loss 0.4743\n",
      "Epoch 188: Train Accuracy 0.7767, Train Loss 0.4139, Test Accuracy 0.7424, Test Loss 0.4801\n",
      "Epoch 189: Train Accuracy 0.7772, Train Loss 0.4065, Test Accuracy 0.7441, Test Loss 0.4738\n",
      "Epoch 190: Train Accuracy 0.7766, Train Loss 0.4091, Test Accuracy 0.7433, Test Loss 0.4764\n",
      "Epoch 191: Train Accuracy 0.7790, Train Loss 0.4048, Test Accuracy 0.7462, Test Loss 0.4686\n",
      "Epoch 192: Train Accuracy 0.7745, Train Loss 0.4130, Test Accuracy 0.7471, Test Loss 0.4761\n",
      "Epoch 193: Train Accuracy 0.7786, Train Loss 0.4041, Test Accuracy 0.7378, Test Loss 0.4627\n",
      "Epoch 194: Train Accuracy 0.7790, Train Loss 0.4040, Test Accuracy 0.7433, Test Loss 0.4732\n",
      "Epoch 195: Train Accuracy 0.7785, Train Loss 0.4047, Test Accuracy 0.7416, Test Loss 0.4724\n",
      "Epoch 196: Train Accuracy 0.7782, Train Loss 0.4042, Test Accuracy 0.7412, Test Loss 0.4708\n",
      "Epoch 197: Train Accuracy 0.7774, Train Loss 0.4051, Test Accuracy 0.7399, Test Loss 0.4720\n",
      "Epoch 198: Train Accuracy 0.7793, Train Loss 0.4024, Test Accuracy 0.7445, Test Loss 0.4679\n",
      "Epoch 199: Train Accuracy 0.7791, Train Loss 0.4027, Test Accuracy 0.7407, Test Loss 0.4687\n"
     ]
    }
   ],
   "source": [
    "# 75 75\n",
    "for epoch in range(num_epochs):\n",
    "    model.train()\n",
    "    for X_batch, y_batch in loader:\n",
    "        y_pred = model(X_batch)\n",
    "        loss = criterion(y_pred, y_batch)\n",
    "        optimizer.zero_grad()\n",
    "        loss.backward()\n",
    "        optimizer.step()\n",
    "    model.eval()\n",
    "    totalYPred = []\n",
    "    totalY = []\n",
    "    with torch.no_grad():\n",
    "        for X_batch, y_batch in loader:\n",
    "            totalY.append(y_batch)\n",
    "            totalYPred.append(model(X_batch))\n",
    "    actualY = torch.cat(totalY, 0)\n",
    "    predY = torch.cat(totalYPred, 0)\n",
    "    metric = MulticlassAccuracy()\n",
    "    metric.update(predY, actualY)\n",
    "    train_acc = metric.compute()\n",
    "    train_acc_list.append(train_acc.item())\n",
    "    train_loss = nn.CrossEntropyLoss()\n",
    "    train_loss = train_loss(predY, actualY).item()\n",
    "    train_loss_list.append(train_loss)\n",
    "    print(\"Epoch %d: Train Accuracy %.4f, Train Loss %.4f,\" % (epoch, train_acc, train_loss), end=\"\")\n",
    "    \n",
    "    totalYPred = []\n",
    "    totalY = []\n",
    "    with torch.no_grad():\n",
    "        for X_batch, y_batch in testLoader:\n",
    "            totalY.append(y_batch)\n",
    "            totalYPred.append(model(X_batch))\n",
    "    actualY = torch.cat(totalY, 0)\n",
    "    predY = torch.cat(totalYPred, 0)\n",
    "    metric = MulticlassAccuracy()\n",
    "    metric.update(predY, actualY)\n",
    "    test_acc = metric.compute()\n",
    "    \n",
    "    test_acc_list.append(test_acc.item())\n",
    "    test_loss = nn.CrossEntropyLoss()\n",
    "    test_loss = test_loss(predY, actualY).item()\n",
    "    test_loss_list.append(test_loss)\n",
    "    print(\" Test Accuracy %.4f, Test Loss %.4f\" % (test_acc, test_loss))\n",
    "    del totalYPred\n",
    "    del totalY\n",
    "    del actualY\n",
    "    del predY"
   ]
  },
  {
   "cell_type": "code",
   "execution_count": 31,
   "metadata": {
    "execution": {
     "iopub.execute_input": "2024-12-17T11:52:41.191082Z",
     "iopub.status.busy": "2024-12-17T11:52:41.190773Z",
     "iopub.status.idle": "2024-12-17T11:52:41.415346Z",
     "shell.execute_reply": "2024-12-17T11:52:41.414438Z",
     "shell.execute_reply.started": "2024-12-17T11:52:41.191056Z"
    },
    "trusted": true
   },
   "outputs": [
    {
     "data": {
      "text/plain": [
       "<matplotlib.legend.Legend at 0x7e865c029450>"
      ]
     },
     "execution_count": 31,
     "metadata": {},
     "output_type": "execute_result"
    },
    {
     "data": {
      "image/png": "[encoded data removed]",
      "text/plain": [
       "<Figure size 640x480 with 1 Axes>"
      ]
     },
     "metadata": {},
     "output_type": "display_data"
    }
   ],
   "source": [
    "# plt.figure(figsize = (15,5))\n",
    "plt.plot(range(len(train_acc_list)), train_acc_list)\n",
    "plt.plot(range(len(test_acc_list)), test_acc_list)\n",
    "plt.xlabel(\"Epoch\")\n",
    "plt.ylabel(\"Accuracy\")\n",
    "plt.title(\"xLSTM Accuracy\")\n",
    "plt.legend([\"Train Accuracy\",\"Test Accuracy\"],loc = \"lower right\")"
   ]
  },
  {
   "cell_type": "code",
   "execution_count": 34,
   "metadata": {
    "execution": {
     "iopub.execute_input": "2024-12-17T11:56:48.495888Z",
     "iopub.status.busy": "2024-12-17T11:56:48.495067Z",
     "iopub.status.idle": "2024-12-17T11:56:48.779480Z",
     "shell.execute_reply": "2024-12-17T11:56:48.778632Z",
     "shell.execute_reply.started": "2024-12-17T11:56:48.495854Z"
    },
    "trusted": true
   },
   "outputs": [
    {
     "data": {
      "text/plain": [
       "<matplotlib.legend.Legend at 0x7e865bf2f070>"
      ]
     },
     "execution_count": 34,
     "metadata": {},
     "output_type": "execute_result"
    },
    {
     "data": {
      "image/png": "[encoded data removed]",
      "text/plain": [
       "<Figure size 640x480 with 1 Axes>"
      ]
     },
     "metadata": {},
     "output_type": "display_data"
    }
   ],
   "source": [
    "# plt.figure(figsize = (15,5))\n",
    "plt.plot(range(len(train_loss_list)), train_loss_list)\n",
    "plt.plot(range(len(test_loss_list)), test_loss_list)\n",
    "plt.xlabel(\"Epoch\")\n",
    "plt.ylabel(\"Loss\")\n",
    "plt.title(\"xLSTM Loss\")\n",
    "plt.legend([\"Train Loss\",\"Test Loss\"],loc = \"upper right\")"
   ]
  },
  {
   "cell_type": "code",
   "execution_count": 224,
   "metadata": {
    "execution": {
     "iopub.execute_input": "2024-12-17T09:57:45.758473Z",
     "iopub.status.busy": "2024-12-17T09:57:45.757707Z",
     "iopub.status.idle": "2024-12-17T09:57:45.763010Z",
     "shell.execute_reply": "2024-12-17T09:57:45.761928Z",
     "shell.execute_reply.started": "2024-12-17T09:57:45.758419Z"
    },
    "trusted": true
   },
   "outputs": [],
   "source": [
    "ttrain_acc_list = train_acc_list\n",
    "ttest_acc_list = test_acc_list\n",
    "ttrain_loss_list = train_loss_list\n",
    "ttest_loss_list = test_loss_list"
   ]
  },
  {
   "cell_type": "code",
   "execution_count": 71,
   "metadata": {
    "execution": {
     "iopub.execute_input": "2024-12-17T09:06:47.818234Z",
     "iopub.status.busy": "2024-12-17T09:06:47.817292Z",
     "iopub.status.idle": "2024-12-17T09:20:36.510623Z",
     "shell.execute_reply": "2024-12-17T09:20:36.509498Z",
     "shell.execute_reply.started": "2024-12-17T09:06:47.818178Z"
    },
    "scrolled": true,
    "trusted": true
   },
   "outputs": [
    {
     "name": "stdout",
     "output_type": "stream",
     "text": [
      "Epoch 0: Train Accuracy 0.4466, Train Loss 1.0291, Test Accuracy 0.4487, Test Loss 1.0265\n",
      "Epoch 1: Train Accuracy 0.5336, Train Loss 0.9421, Test Accuracy 0.5370, Test Loss 0.9380\n",
      "Epoch 2: Train Accuracy 0.5713, Train Loss 0.8695, Test Accuracy 0.5664, Test Loss 0.8751\n",
      "Epoch 3: Train Accuracy 0.6100, Train Loss 0.8084, Test Accuracy 0.6101, Test Loss 0.8180\n",
      "Epoch 4: Train Accuracy 0.6205, Train Loss 0.7627, Test Accuracy 0.6210, Test Loss 0.7709\n",
      "Epoch 5: Train Accuracy 0.6411, Train Loss 0.7166, Test Accuracy 0.6437, Test Loss 0.7256\n",
      "Epoch 6: Train Accuracy 0.6491, Train Loss 0.6829, Test Accuracy 0.6471, Test Loss 0.6914\n",
      "Epoch 7: Train Accuracy 0.6535, Train Loss 0.6716, Test Accuracy 0.6462, Test Loss 0.6831\n",
      "Epoch 8: Train Accuracy 0.6682, Train Loss 0.6338, Test Accuracy 0.6630, Test Loss 0.6454\n",
      "Epoch 9: Train Accuracy 0.6751, Train Loss 0.6154, Test Accuracy 0.6681, Test Loss 0.6273\n",
      "Epoch 10: Train Accuracy 0.6812, Train Loss 0.5944, Test Accuracy 0.6731, Test Loss 0.6091\n",
      "Epoch 11: Train Accuracy 0.6825, Train Loss 0.5789, Test Accuracy 0.6773, Test Loss 0.5905\n",
      "Epoch 12: Train Accuracy 0.6838, Train Loss 0.5667, Test Accuracy 0.6756, Test Loss 0.5801\n",
      "Epoch 13: Train Accuracy 0.6926, Train Loss 0.5541, Test Accuracy 0.6874, Test Loss 0.5663\n",
      "Epoch 14: Train Accuracy 0.6958, Train Loss 0.5540, Test Accuracy 0.6908, Test Loss 0.5644\n",
      "Epoch 15: Train Accuracy 0.7029, Train Loss 0.5376, Test Accuracy 0.6924, Test Loss 0.5492\n",
      "Epoch 16: Train Accuracy 0.7054, Train Loss 0.5274, Test Accuracy 0.7042, Test Loss 0.5359\n",
      "Epoch 17: Train Accuracy 0.7054, Train Loss 0.5197, Test Accuracy 0.6992, Test Loss 0.5291\n",
      "Epoch 18: Train Accuracy 0.7109, Train Loss 0.5153, Test Accuracy 0.6941, Test Loss 0.5253\n",
      "Epoch 19: Train Accuracy 0.7101, Train Loss 0.5137, Test Accuracy 0.6874, Test Loss 0.5224\n",
      "Epoch 20: Train Accuracy 0.7143, Train Loss 0.5164, Test Accuracy 0.6815, Test Loss 0.5289\n",
      "Epoch 21: Train Accuracy 0.7161, Train Loss 0.5043, Test Accuracy 0.6916, Test Loss 0.5122\n",
      "Epoch 22: Train Accuracy 0.7189, Train Loss 0.4993, Test Accuracy 0.6966, Test Loss 0.5080\n",
      "Epoch 23: Train Accuracy 0.7237, Train Loss 0.4957, Test Accuracy 0.6908, Test Loss 0.5062\n",
      "Epoch 24: Train Accuracy 0.7262, Train Loss 0.4917, Test Accuracy 0.6941, Test Loss 0.5029\n",
      "Epoch 25: Train Accuracy 0.7277, Train Loss 0.4886, Test Accuracy 0.6941, Test Loss 0.5003\n",
      "Epoch 26: Train Accuracy 0.7233, Train Loss 0.5059, Test Accuracy 0.6882, Test Loss 0.5203\n",
      "Epoch 27: Train Accuracy 0.7317, Train Loss 0.4855, Test Accuracy 0.6924, Test Loss 0.4990\n",
      "Epoch 28: Train Accuracy 0.7323, Train Loss 0.4817, Test Accuracy 0.6966, Test Loss 0.4964\n",
      "Epoch 29: Train Accuracy 0.7351, Train Loss 0.4784, Test Accuracy 0.6966, Test Loss 0.4933\n",
      "Epoch 30: Train Accuracy 0.7368, Train Loss 0.4759, Test Accuracy 0.6908, Test Loss 0.4937\n",
      "Epoch 31: Train Accuracy 0.7376, Train Loss 0.4734, Test Accuracy 0.6941, Test Loss 0.4947\n",
      "Epoch 32: Train Accuracy 0.7378, Train Loss 0.4736, Test Accuracy 0.6950, Test Loss 0.4929\n",
      "Epoch 33: Train Accuracy 0.7370, Train Loss 0.4728, Test Accuracy 0.6966, Test Loss 0.4946\n",
      "Epoch 34: Train Accuracy 0.7443, Train Loss 0.4669, Test Accuracy 0.7025, Test Loss 0.4907\n",
      "Epoch 35: Train Accuracy 0.7145, Train Loss 0.5728, Test Accuracy 0.6773, Test Loss 0.6157\n",
      "Epoch 36: Train Accuracy 0.7374, Train Loss 0.4790, Test Accuracy 0.6966, Test Loss 0.5017\n",
      "Epoch 37: Train Accuracy 0.7433, Train Loss 0.4676, Test Accuracy 0.7034, Test Loss 0.4940\n",
      "Epoch 38: Train Accuracy 0.7441, Train Loss 0.4646, Test Accuracy 0.7042, Test Loss 0.4912\n",
      "Epoch 39: Train Accuracy 0.7447, Train Loss 0.4620, Test Accuracy 0.7050, Test Loss 0.4901\n",
      "Epoch 40: Train Accuracy 0.7477, Train Loss 0.4604, Test Accuracy 0.7101, Test Loss 0.4885\n",
      "Epoch 41: Train Accuracy 0.7498, Train Loss 0.4578, Test Accuracy 0.7059, Test Loss 0.4869\n",
      "Epoch 42: Train Accuracy 0.7513, Train Loss 0.4557, Test Accuracy 0.7126, Test Loss 0.4858\n",
      "Epoch 43: Train Accuracy 0.7536, Train Loss 0.4545, Test Accuracy 0.7218, Test Loss 0.4856\n",
      "Epoch 44: Train Accuracy 0.7534, Train Loss 0.4532, Test Accuracy 0.7168, Test Loss 0.4860\n",
      "Epoch 45: Train Accuracy 0.7546, Train Loss 0.4518, Test Accuracy 0.7168, Test Loss 0.4857\n",
      "Epoch 46: Train Accuracy 0.7555, Train Loss 0.4501, Test Accuracy 0.7176, Test Loss 0.4847\n",
      "Epoch 47: Train Accuracy 0.7559, Train Loss 0.4487, Test Accuracy 0.7176, Test Loss 0.4849\n",
      "Epoch 48: Train Accuracy 0.7571, Train Loss 0.4498, Test Accuracy 0.7168, Test Loss 0.4838\n",
      "Epoch 49: Train Accuracy 0.7593, Train Loss 0.4463, Test Accuracy 0.7176, Test Loss 0.4828\n",
      "Epoch 50: Train Accuracy 0.7513, Train Loss 0.4767, Test Accuracy 0.7084, Test Loss 0.5079\n",
      "Epoch 51: Train Accuracy 0.7492, Train Loss 0.4714, Test Accuracy 0.7210, Test Loss 0.5043\n",
      "Epoch 52: Train Accuracy 0.7540, Train Loss 0.4647, Test Accuracy 0.7109, Test Loss 0.5084\n",
      "Epoch 53: Train Accuracy 0.7546, Train Loss 0.4531, Test Accuracy 0.7218, Test Loss 0.4869\n",
      "Epoch 54: Train Accuracy 0.7569, Train Loss 0.4465, Test Accuracy 0.7218, Test Loss 0.4836\n",
      "Epoch 55: Train Accuracy 0.7616, Train Loss 0.4436, Test Accuracy 0.7235, Test Loss 0.4832\n",
      "Epoch 56: Train Accuracy 0.7626, Train Loss 0.4423, Test Accuracy 0.7227, Test Loss 0.4826\n",
      "Epoch 57: Train Accuracy 0.7616, Train Loss 0.4411, Test Accuracy 0.7244, Test Loss 0.4805\n",
      "Epoch 58: Train Accuracy 0.7616, Train Loss 0.4399, Test Accuracy 0.7252, Test Loss 0.4825\n",
      "Epoch 59: Train Accuracy 0.7605, Train Loss 0.4394, Test Accuracy 0.7303, Test Loss 0.4808\n",
      "Epoch 60: Train Accuracy 0.7622, Train Loss 0.4374, Test Accuracy 0.7218, Test Loss 0.4819\n",
      "Epoch 61: Train Accuracy 0.7616, Train Loss 0.4366, Test Accuracy 0.7218, Test Loss 0.4818\n",
      "Epoch 62: Train Accuracy 0.7641, Train Loss 0.4358, Test Accuracy 0.7185, Test Loss 0.4827\n",
      "Epoch 63: Train Accuracy 0.7637, Train Loss 0.4355, Test Accuracy 0.7193, Test Loss 0.4830\n",
      "Epoch 64: Train Accuracy 0.7607, Train Loss 0.4386, Test Accuracy 0.7210, Test Loss 0.4849\n",
      "Epoch 65: Train Accuracy 0.7611, Train Loss 0.4345, Test Accuracy 0.7277, Test Loss 0.4822\n",
      "Epoch 66: Train Accuracy 0.7641, Train Loss 0.4335, Test Accuracy 0.7202, Test Loss 0.4815\n",
      "Epoch 67: Train Accuracy 0.7590, Train Loss 0.4437, Test Accuracy 0.7244, Test Loss 0.4882\n",
      "Epoch 68: Train Accuracy 0.7616, Train Loss 0.4390, Test Accuracy 0.7202, Test Loss 0.4867\n",
      "Epoch 69: Train Accuracy 0.7632, Train Loss 0.4340, Test Accuracy 0.7185, Test Loss 0.4826\n",
      "Epoch 70: Train Accuracy 0.7660, Train Loss 0.4325, Test Accuracy 0.7252, Test Loss 0.4831\n",
      "Epoch 71: Train Accuracy 0.7668, Train Loss 0.4323, Test Accuracy 0.7202, Test Loss 0.4820\n",
      "Epoch 72: Train Accuracy 0.7601, Train Loss 0.4542, Test Accuracy 0.7176, Test Loss 0.5151\n",
      "Epoch 73: Train Accuracy 0.7656, Train Loss 0.4306, Test Accuracy 0.7235, Test Loss 0.4803\n",
      "Epoch 74: Train Accuracy 0.7677, Train Loss 0.4302, Test Accuracy 0.7235, Test Loss 0.4808\n",
      "Epoch 75: Train Accuracy 0.7679, Train Loss 0.4291, Test Accuracy 0.7269, Test Loss 0.4811\n",
      "Epoch 76: Train Accuracy 0.7658, Train Loss 0.4367, Test Accuracy 0.7311, Test Loss 0.4883\n",
      "Epoch 77: Train Accuracy 0.7679, Train Loss 0.4304, Test Accuracy 0.7286, Test Loss 0.4812\n",
      "Epoch 78: Train Accuracy 0.7689, Train Loss 0.4290, Test Accuracy 0.7294, Test Loss 0.4787\n",
      "Epoch 79: Train Accuracy 0.7687, Train Loss 0.4273, Test Accuracy 0.7168, Test Loss 0.4824\n",
      "Epoch 80: Train Accuracy 0.7668, Train Loss 0.4278, Test Accuracy 0.7202, Test Loss 0.4815\n",
      "Epoch 81: Train Accuracy 0.7632, Train Loss 0.4329, Test Accuracy 0.7193, Test Loss 0.4873\n",
      "Epoch 82: Train Accuracy 0.7656, Train Loss 0.4308, Test Accuracy 0.7252, Test Loss 0.4834\n",
      "Epoch 83: Train Accuracy 0.7664, Train Loss 0.4278, Test Accuracy 0.7244, Test Loss 0.4814\n",
      "Epoch 84: Train Accuracy 0.7653, Train Loss 0.4303, Test Accuracy 0.7252, Test Loss 0.4843\n",
      "Epoch 85: Train Accuracy 0.7529, Train Loss 0.4611, Test Accuracy 0.7092, Test Loss 0.5027\n",
      "Epoch 86: Train Accuracy 0.7656, Train Loss 0.4355, Test Accuracy 0.7168, Test Loss 0.4882\n",
      "Epoch 87: Train Accuracy 0.7675, Train Loss 0.4285, Test Accuracy 0.7168, Test Loss 0.4824\n",
      "Epoch 88: Train Accuracy 0.7696, Train Loss 0.4263, Test Accuracy 0.7160, Test Loss 0.4809\n",
      "Epoch 89: Train Accuracy 0.7691, Train Loss 0.4252, Test Accuracy 0.7210, Test Loss 0.4808\n",
      "Epoch 90: Train Accuracy 0.7647, Train Loss 0.4307, Test Accuracy 0.7168, Test Loss 0.4841\n",
      "Epoch 91: Train Accuracy 0.7698, Train Loss 0.4258, Test Accuracy 0.7244, Test Loss 0.4796\n",
      "Epoch 92: Train Accuracy 0.7714, Train Loss 0.4234, Test Accuracy 0.7286, Test Loss 0.4788\n",
      "Epoch 93: Train Accuracy 0.7704, Train Loss 0.4237, Test Accuracy 0.7261, Test Loss 0.4788\n",
      "Epoch 94: Train Accuracy 0.7719, Train Loss 0.4219, Test Accuracy 0.7252, Test Loss 0.4774\n",
      "Epoch 95: Train Accuracy 0.7717, Train Loss 0.4217, Test Accuracy 0.7269, Test Loss 0.4771\n",
      "Epoch 96: Train Accuracy 0.7719, Train Loss 0.4218, Test Accuracy 0.7286, Test Loss 0.4764\n",
      "Epoch 97: Train Accuracy 0.7717, Train Loss 0.4213, Test Accuracy 0.7303, Test Loss 0.4758\n",
      "Epoch 98: Train Accuracy 0.7710, Train Loss 0.4209, Test Accuracy 0.7218, Test Loss 0.4789\n",
      "Epoch 99: Train Accuracy 0.7725, Train Loss 0.4201, Test Accuracy 0.7261, Test Loss 0.4766\n",
      "Epoch 100: Train Accuracy 0.7727, Train Loss 0.4200, Test Accuracy 0.7286, Test Loss 0.4765\n",
      "Epoch 101: Train Accuracy 0.7738, Train Loss 0.4188, Test Accuracy 0.7311, Test Loss 0.4766\n",
      "Epoch 102: Train Accuracy 0.7731, Train Loss 0.4188, Test Accuracy 0.7328, Test Loss 0.4753\n",
      "Epoch 103: Train Accuracy 0.7742, Train Loss 0.4181, Test Accuracy 0.7353, Test Loss 0.4774\n",
      "Epoch 104: Train Accuracy 0.7710, Train Loss 0.4191, Test Accuracy 0.7176, Test Loss 0.4766\n",
      "Epoch 105: Train Accuracy 0.7708, Train Loss 0.4195, Test Accuracy 0.7336, Test Loss 0.4780\n",
      "Epoch 106: Train Accuracy 0.7660, Train Loss 0.4342, Test Accuracy 0.7092, Test Loss 0.4923\n",
      "Epoch 107: Train Accuracy 0.7555, Train Loss 0.4665, Test Accuracy 0.7034, Test Loss 0.5494\n",
      "Epoch 108: Train Accuracy 0.7696, Train Loss 0.4231, Test Accuracy 0.7176, Test Loss 0.4830\n",
      "Epoch 109: Train Accuracy 0.7700, Train Loss 0.4221, Test Accuracy 0.7185, Test Loss 0.4809\n",
      "Epoch 110: Train Accuracy 0.7717, Train Loss 0.4194, Test Accuracy 0.7176, Test Loss 0.4798\n",
      "Epoch 111: Train Accuracy 0.7723, Train Loss 0.4184, Test Accuracy 0.7210, Test Loss 0.4785\n",
      "Epoch 112: Train Accuracy 0.7725, Train Loss 0.4176, Test Accuracy 0.7218, Test Loss 0.4769\n",
      "Epoch 113: Train Accuracy 0.7735, Train Loss 0.4169, Test Accuracy 0.7277, Test Loss 0.4778\n",
      "Epoch 114: Train Accuracy 0.7731, Train Loss 0.4166, Test Accuracy 0.7261, Test Loss 0.4765\n",
      "Epoch 115: Train Accuracy 0.7740, Train Loss 0.4161, Test Accuracy 0.7235, Test Loss 0.4754\n",
      "Epoch 116: Train Accuracy 0.7735, Train Loss 0.4160, Test Accuracy 0.7277, Test Loss 0.4762\n",
      "Epoch 117: Train Accuracy 0.7735, Train Loss 0.4152, Test Accuracy 0.7328, Test Loss 0.4769\n",
      "Epoch 118: Train Accuracy 0.7738, Train Loss 0.4149, Test Accuracy 0.7202, Test Loss 0.4773\n",
      "Epoch 119: Train Accuracy 0.7746, Train Loss 0.4149, Test Accuracy 0.7311, Test Loss 0.4763\n",
      "Epoch 120: Train Accuracy 0.7738, Train Loss 0.4141, Test Accuracy 0.7261, Test Loss 0.4769\n",
      "Epoch 121: Train Accuracy 0.7740, Train Loss 0.4141, Test Accuracy 0.7202, Test Loss 0.4760\n",
      "Epoch 122: Train Accuracy 0.7740, Train Loss 0.4144, Test Accuracy 0.7328, Test Loss 0.4756\n",
      "Epoch 123: Train Accuracy 0.7733, Train Loss 0.4150, Test Accuracy 0.7319, Test Loss 0.4764\n",
      "Epoch 124: Train Accuracy 0.7721, Train Loss 0.4221, Test Accuracy 0.7311, Test Loss 0.4834\n",
      "Epoch 125: Train Accuracy 0.7740, Train Loss 0.4150, Test Accuracy 0.7252, Test Loss 0.4777\n",
      "Epoch 126: Train Accuracy 0.7748, Train Loss 0.4163, Test Accuracy 0.7345, Test Loss 0.4752\n",
      "Epoch 127: Train Accuracy 0.7742, Train Loss 0.4133, Test Accuracy 0.7261, Test Loss 0.4756\n",
      "Epoch 128: Train Accuracy 0.7757, Train Loss 0.4129, Test Accuracy 0.7261, Test Loss 0.4741\n",
      "Epoch 129: Train Accuracy 0.7754, Train Loss 0.4160, Test Accuracy 0.7319, Test Loss 0.4762\n",
      "Epoch 130: Train Accuracy 0.7761, Train Loss 0.4120, Test Accuracy 0.7311, Test Loss 0.4750\n",
      "Epoch 131: Train Accuracy 0.7744, Train Loss 0.4153, Test Accuracy 0.7235, Test Loss 0.4741\n",
      "Epoch 132: Train Accuracy 0.7754, Train Loss 0.4122, Test Accuracy 0.7311, Test Loss 0.4760\n",
      "Epoch 133: Train Accuracy 0.7765, Train Loss 0.4110, Test Accuracy 0.7303, Test Loss 0.4754\n",
      "Epoch 134: Train Accuracy 0.7761, Train Loss 0.4110, Test Accuracy 0.7336, Test Loss 0.4744\n",
      "Epoch 135: Train Accuracy 0.7740, Train Loss 0.4127, Test Accuracy 0.7387, Test Loss 0.4734\n",
      "Epoch 136: Train Accuracy 0.7754, Train Loss 0.4111, Test Accuracy 0.7269, Test Loss 0.4733\n",
      "Epoch 137: Train Accuracy 0.7740, Train Loss 0.4192, Test Accuracy 0.7353, Test Loss 0.4825\n",
      "Epoch 138: Train Accuracy 0.7540, Train Loss 0.4938, Test Accuracy 0.7168, Test Loss 0.5240\n",
      "Epoch 139: Train Accuracy 0.7735, Train Loss 0.4163, Test Accuracy 0.7252, Test Loss 0.4774\n",
      "Epoch 140: Train Accuracy 0.7757, Train Loss 0.4122, Test Accuracy 0.7261, Test Loss 0.4746\n",
      "Epoch 141: Train Accuracy 0.7731, Train Loss 0.4138, Test Accuracy 0.7244, Test Loss 0.4785\n",
      "Epoch 142: Train Accuracy 0.7752, Train Loss 0.4108, Test Accuracy 0.7294, Test Loss 0.4745\n",
      "Epoch 143: Train Accuracy 0.7752, Train Loss 0.4102, Test Accuracy 0.7353, Test Loss 0.4757\n",
      "Epoch 144: Train Accuracy 0.7757, Train Loss 0.4106, Test Accuracy 0.7311, Test Loss 0.4741\n",
      "Epoch 145: Train Accuracy 0.7757, Train Loss 0.4105, Test Accuracy 0.7328, Test Loss 0.4733\n",
      "Epoch 146: Train Accuracy 0.7754, Train Loss 0.4092, Test Accuracy 0.7261, Test Loss 0.4728\n",
      "Epoch 147: Train Accuracy 0.7765, Train Loss 0.4090, Test Accuracy 0.7269, Test Loss 0.4732\n",
      "Epoch 148: Train Accuracy 0.7754, Train Loss 0.4097, Test Accuracy 0.7303, Test Loss 0.4742\n",
      "Epoch 149: Train Accuracy 0.7769, Train Loss 0.4086, Test Accuracy 0.7353, Test Loss 0.4729\n",
      "Epoch 150: Train Accuracy 0.7752, Train Loss 0.4085, Test Accuracy 0.7412, Test Loss 0.4735\n",
      "Epoch 151: Train Accuracy 0.7765, Train Loss 0.4088, Test Accuracy 0.7319, Test Loss 0.4737\n",
      "Epoch 152: Train Accuracy 0.7723, Train Loss 0.4172, Test Accuracy 0.7202, Test Loss 0.4840\n",
      "Epoch 153: Train Accuracy 0.7660, Train Loss 0.4242, Test Accuracy 0.7269, Test Loss 0.4874\n",
      "Epoch 154: Train Accuracy 0.7723, Train Loss 0.4134, Test Accuracy 0.7303, Test Loss 0.4778\n",
      "Epoch 155: Train Accuracy 0.7740, Train Loss 0.4100, Test Accuracy 0.7269, Test Loss 0.4761\n",
      "Epoch 156: Train Accuracy 0.7750, Train Loss 0.4090, Test Accuracy 0.7286, Test Loss 0.4750\n",
      "Epoch 157: Train Accuracy 0.7759, Train Loss 0.4089, Test Accuracy 0.7361, Test Loss 0.4715\n",
      "Epoch 158: Train Accuracy 0.7761, Train Loss 0.4076, Test Accuracy 0.7353, Test Loss 0.4744\n",
      "Epoch 159: Train Accuracy 0.7763, Train Loss 0.4071, Test Accuracy 0.7412, Test Loss 0.4772\n",
      "Epoch 160: Train Accuracy 0.7765, Train Loss 0.4069, Test Accuracy 0.7361, Test Loss 0.4749\n",
      "Epoch 161: Train Accuracy 0.7765, Train Loss 0.4078, Test Accuracy 0.7336, Test Loss 0.4732\n",
      "Epoch 162: Train Accuracy 0.7769, Train Loss 0.4072, Test Accuracy 0.7403, Test Loss 0.4734\n",
      "Epoch 163: Train Accuracy 0.7769, Train Loss 0.4070, Test Accuracy 0.7353, Test Loss 0.4758\n",
      "Epoch 164: Train Accuracy 0.7761, Train Loss 0.4072, Test Accuracy 0.7303, Test Loss 0.4758\n",
      "Epoch 165: Train Accuracy 0.7769, Train Loss 0.4071, Test Accuracy 0.7395, Test Loss 0.4743\n",
      "Epoch 166: Train Accuracy 0.7771, Train Loss 0.4069, Test Accuracy 0.7269, Test Loss 0.4759\n",
      "Epoch 167: Train Accuracy 0.7771, Train Loss 0.4062, Test Accuracy 0.7336, Test Loss 0.4747\n",
      "Epoch 168: Train Accuracy 0.7763, Train Loss 0.4070, Test Accuracy 0.7370, Test Loss 0.4734\n",
      "Epoch 169: Train Accuracy 0.7769, Train Loss 0.4090, Test Accuracy 0.7361, Test Loss 0.4806\n",
      "Epoch 170: Train Accuracy 0.7759, Train Loss 0.4097, Test Accuracy 0.7328, Test Loss 0.4810\n",
      "Epoch 171: Train Accuracy 0.7773, Train Loss 0.4071, Test Accuracy 0.7277, Test Loss 0.4739\n",
      "Epoch 172: Train Accuracy 0.7761, Train Loss 0.4077, Test Accuracy 0.7218, Test Loss 0.4767\n",
      "Epoch 173: Train Accuracy 0.7571, Train Loss 0.4443, Test Accuracy 0.6983, Test Loss 0.5123\n",
      "Epoch 174: Train Accuracy 0.7721, Train Loss 0.4145, Test Accuracy 0.7286, Test Loss 0.4804\n",
      "Epoch 175: Train Accuracy 0.7750, Train Loss 0.4107, Test Accuracy 0.7328, Test Loss 0.4776\n",
      "Epoch 176: Train Accuracy 0.7752, Train Loss 0.4092, Test Accuracy 0.7345, Test Loss 0.4767\n",
      "Epoch 177: Train Accuracy 0.7761, Train Loss 0.4082, Test Accuracy 0.7328, Test Loss 0.4773\n",
      "Epoch 178: Train Accuracy 0.7761, Train Loss 0.4079, Test Accuracy 0.7403, Test Loss 0.4772\n",
      "Epoch 179: Train Accuracy 0.7748, Train Loss 0.4070, Test Accuracy 0.7311, Test Loss 0.4763\n",
      "Epoch 180: Train Accuracy 0.7767, Train Loss 0.4062, Test Accuracy 0.7345, Test Loss 0.4732\n",
      "Epoch 181: Train Accuracy 0.7771, Train Loss 0.4061, Test Accuracy 0.7311, Test Loss 0.4725\n",
      "Epoch 182: Train Accuracy 0.7773, Train Loss 0.4057, Test Accuracy 0.7336, Test Loss 0.4713\n",
      "Epoch 183: Train Accuracy 0.7771, Train Loss 0.4053, Test Accuracy 0.7420, Test Loss 0.4719\n",
      "Epoch 184: Train Accuracy 0.7775, Train Loss 0.4052, Test Accuracy 0.7361, Test Loss 0.4735\n",
      "Epoch 185: Train Accuracy 0.7775, Train Loss 0.4049, Test Accuracy 0.7387, Test Loss 0.4738\n",
      "Epoch 186: Train Accuracy 0.7761, Train Loss 0.4048, Test Accuracy 0.7328, Test Loss 0.4733\n",
      "Epoch 187: Train Accuracy 0.7775, Train Loss 0.4046, Test Accuracy 0.7378, Test Loss 0.4711\n",
      "Epoch 188: Train Accuracy 0.7775, Train Loss 0.4040, Test Accuracy 0.7378, Test Loss 0.4713\n",
      "Epoch 189: Train Accuracy 0.7767, Train Loss 0.4049, Test Accuracy 0.7244, Test Loss 0.4751\n",
      "Epoch 190: Train Accuracy 0.7763, Train Loss 0.4048, Test Accuracy 0.7319, Test Loss 0.4730\n",
      "Epoch 191: Train Accuracy 0.7782, Train Loss 0.4038, Test Accuracy 0.7319, Test Loss 0.4723\n",
      "Epoch 192: Train Accuracy 0.7780, Train Loss 0.4034, Test Accuracy 0.7353, Test Loss 0.4727\n",
      "Epoch 193: Train Accuracy 0.7784, Train Loss 0.4040, Test Accuracy 0.7378, Test Loss 0.4703\n",
      "Epoch 194: Train Accuracy 0.7780, Train Loss 0.4037, Test Accuracy 0.7361, Test Loss 0.4704\n",
      "Epoch 195: Train Accuracy 0.7767, Train Loss 0.4034, Test Accuracy 0.7277, Test Loss 0.4736\n",
      "Epoch 196: Train Accuracy 0.7778, Train Loss 0.4032, Test Accuracy 0.7378, Test Loss 0.4714\n",
      "Epoch 197: Train Accuracy 0.7782, Train Loss 0.4034, Test Accuracy 0.7429, Test Loss 0.4682\n",
      "Epoch 198: Train Accuracy 0.7765, Train Loss 0.4045, Test Accuracy 0.7328, Test Loss 0.4729\n",
      "Epoch 199: Train Accuracy 0.7786, Train Loss 0.4047, Test Accuracy 0.7370, Test Loss 0.4801\n"
     ]
    }
   ],
   "source": [
    "for epoch in range(num_epochs):\n",
    "    model.train()\n",
    "    for X_batch, y_batch in loader:\n",
    "        y_pred = model(X_batch)\n",
    "        loss = criterion(y_pred, y_batch)\n",
    "        optimizer.zero_grad()\n",
    "        loss.backward()\n",
    "        optimizer.step()\n",
    "    model.eval()\n",
    "    totalYPred = []\n",
    "    totalY = []\n",
    "    with torch.no_grad():\n",
    "        for X_batch, y_batch in loader:\n",
    "            totalY.append(y_batch)\n",
    "            totalYPred.append(model(X_batch))\n",
    "    actualY = torch.cat(totalY, 0)\n",
    "    predY = torch.cat(totalYPred, 0)\n",
    "    metric = MulticlassAccuracy()\n",
    "    metric.update(predY, actualY)\n",
    "    train_acc = metric.compute()\n",
    "    train_acc_list.append(train_acc.item())\n",
    "    train_loss = nn.CrossEntropyLoss()\n",
    "    train_loss = train_loss(predY, actualY).item()\n",
    "    train_loss_list.append(train_loss)\n",
    "    print(\"Epoch %d: Train Accuracy %.4f, Train Loss %.4f,\" % (epoch, train_acc, train_loss), end=\"\")\n",
    "    \n",
    "    totalYPred = []\n",
    "    totalY = []\n",
    "    with torch.no_grad():\n",
    "        for X_batch, y_batch in testLoader:\n",
    "            totalY.append(y_batch)\n",
    "            totalYPred.append(model(X_batch))\n",
    "    actualY = torch.cat(totalY, 0)\n",
    "    predY = torch.cat(totalYPred, 0)\n",
    "    metric = MulticlassAccuracy()\n",
    "    metric.update(predY, actualY)\n",
    "    test_acc = metric.compute()\n",
    "    \n",
    "    test_acc_list.append(test_acc.item())\n",
    "    test_loss = nn.CrossEntropyLoss()\n",
    "    test_loss = test_loss(predY, actualY).item()\n",
    "    test_loss_list.append(test_loss)\n",
    "    print(\" Test Accuracy %.4f, Test Loss %.4f\" % (test_acc, test_loss))\n",
    "    del totalYPred\n",
    "    del totalY\n",
    "    del actualY\n",
    "    del predY"
   ]
  },
  {
   "cell_type": "markdown",
   "metadata": {},
   "source": [
    "# Rest Hyperparameter tuning on xLSTM + ICA"
   ]
  },
  {
   "cell_type": "markdown",
   "metadata": {},
   "source": [
    "## Combining hand and arm\n",
    "## window 50, overlapp 25"
   ]
  },
  {
   "cell_type": "code",
   "execution_count": 101,
   "metadata": {
    "execution": {
     "iopub.execute_input": "2024-12-09T07:58:25.882538Z",
     "iopub.status.busy": "2024-12-09T07:58:25.881808Z",
     "iopub.status.idle": "2024-12-09T08:20:20.036281Z",
     "shell.execute_reply": "2024-12-09T08:20:20.035015Z",
     "shell.execute_reply.started": "2024-12-09T07:58:25.882502Z"
    },
    "scrolled": true,
    "trusted": true
   },
   "outputs": [
    {
     "name": "stdout",
     "output_type": "stream",
     "text": [
      "Epoch 0: Train Accuracy 0.4144, Test Accuracy 0.4036\n",
      "Epoch 1: Train Accuracy 0.5029, Test Accuracy 0.4760\n",
      "Epoch 2: Train Accuracy 0.5452, Test Accuracy 0.5210\n",
      "Epoch 3: Train Accuracy 0.5877, Test Accuracy 0.5543\n",
      "Epoch 4: Train Accuracy 0.6149, Test Accuracy 0.5808\n",
      "Epoch 5: Train Accuracy 0.6420, Test Accuracy 0.6035\n",
      "Epoch 6: Train Accuracy 0.6593, Test Accuracy 0.6309\n",
      "Epoch 7: Train Accuracy 0.6696, Test Accuracy 0.6359\n",
      "Epoch 8: Train Accuracy 0.6821, Test Accuracy 0.6503\n",
      "Epoch 9: Train Accuracy 0.6928, Test Accuracy 0.6604\n",
      "Epoch 10: Train Accuracy 0.6965, Test Accuracy 0.6637\n",
      "Epoch 11: Train Accuracy 0.7023, Test Accuracy 0.6604\n",
      "Epoch 12: Train Accuracy 0.7045, Test Accuracy 0.6747\n",
      "Epoch 13: Train Accuracy 0.7116, Test Accuracy 0.6768\n",
      "Epoch 14: Train Accuracy 0.7182, Test Accuracy 0.6827\n",
      "Epoch 15: Train Accuracy 0.7176, Test Accuracy 0.6831\n",
      "Epoch 16: Train Accuracy 0.7225, Test Accuracy 0.6848\n",
      "Epoch 17: Train Accuracy 0.7293, Test Accuracy 0.6919\n",
      "Epoch 18: Train Accuracy 0.7286, Test Accuracy 0.6936\n",
      "Epoch 19: Train Accuracy 0.7269, Test Accuracy 0.6949\n",
      "Epoch 20: Train Accuracy 0.7303, Test Accuracy 0.6890\n",
      "Epoch 21: Train Accuracy 0.7364, Test Accuracy 0.7029\n",
      "Epoch 22: Train Accuracy 0.7369, Test Accuracy 0.7045\n",
      "Epoch 23: Train Accuracy 0.7371, Test Accuracy 0.7024\n",
      "Epoch 24: Train Accuracy 0.7339, Test Accuracy 0.6995\n",
      "Epoch 25: Train Accuracy 0.7382, Test Accuracy 0.7045\n",
      "Epoch 26: Train Accuracy 0.7403, Test Accuracy 0.7092\n",
      "Epoch 27: Train Accuracy 0.7402, Test Accuracy 0.7066\n",
      "Epoch 28: Train Accuracy 0.7420, Test Accuracy 0.7138\n",
      "Epoch 29: Train Accuracy 0.7433, Test Accuracy 0.7134\n",
      "Epoch 30: Train Accuracy 0.7410, Test Accuracy 0.7113\n",
      "Epoch 31: Train Accuracy 0.7439, Test Accuracy 0.7083\n",
      "Epoch 32: Train Accuracy 0.7440, Test Accuracy 0.7138\n",
      "Epoch 33: Train Accuracy 0.7469, Test Accuracy 0.7096\n",
      "Epoch 34: Train Accuracy 0.7492, Test Accuracy 0.7121\n",
      "Epoch 35: Train Accuracy 0.7524, Test Accuracy 0.7138\n",
      "Epoch 36: Train Accuracy 0.7537, Test Accuracy 0.7193\n",
      "Epoch 37: Train Accuracy 0.7544, Test Accuracy 0.7155\n",
      "Epoch 38: Train Accuracy 0.7542, Test Accuracy 0.7138\n",
      "Epoch 39: Train Accuracy 0.7553, Test Accuracy 0.7163\n",
      "Epoch 40: Train Accuracy 0.7534, Test Accuracy 0.7184\n",
      "Epoch 41: Train Accuracy 0.7563, Test Accuracy 0.7176\n",
      "Epoch 42: Train Accuracy 0.7558, Test Accuracy 0.7168\n",
      "Epoch 43: Train Accuracy 0.7580, Test Accuracy 0.7218\n",
      "Epoch 44: Train Accuracy 0.7514, Test Accuracy 0.7096\n",
      "Epoch 45: Train Accuracy 0.7595, Test Accuracy 0.7117\n",
      "Epoch 46: Train Accuracy 0.7607, Test Accuracy 0.7184\n",
      "Epoch 47: Train Accuracy 0.7536, Test Accuracy 0.7117\n",
      "Epoch 48: Train Accuracy 0.7605, Test Accuracy 0.7130\n",
      "Epoch 49: Train Accuracy 0.7614, Test Accuracy 0.7197\n",
      "Epoch 50: Train Accuracy 0.7623, Test Accuracy 0.7201\n",
      "Epoch 51: Train Accuracy 0.7630, Test Accuracy 0.7231\n",
      "Epoch 52: Train Accuracy 0.7612, Test Accuracy 0.7205\n",
      "Epoch 53: Train Accuracy 0.7504, Test Accuracy 0.7100\n",
      "Epoch 54: Train Accuracy 0.7622, Test Accuracy 0.7205\n",
      "Epoch 55: Train Accuracy 0.7640, Test Accuracy 0.7180\n",
      "Epoch 56: Train Accuracy 0.7652, Test Accuracy 0.7235\n",
      "Epoch 57: Train Accuracy 0.7649, Test Accuracy 0.7210\n",
      "Epoch 58: Train Accuracy 0.7629, Test Accuracy 0.7277\n",
      "Epoch 59: Train Accuracy 0.7646, Test Accuracy 0.7323\n",
      "Epoch 60: Train Accuracy 0.7660, Test Accuracy 0.7311\n",
      "Epoch 61: Train Accuracy 0.7652, Test Accuracy 0.7264\n",
      "Epoch 62: Train Accuracy 0.7655, Test Accuracy 0.7226\n",
      "Epoch 63: Train Accuracy 0.7589, Test Accuracy 0.7180\n",
      "Epoch 64: Train Accuracy 0.7629, Test Accuracy 0.7277\n",
      "Epoch 65: Train Accuracy 0.7662, Test Accuracy 0.7273\n",
      "Epoch 66: Train Accuracy 0.7658, Test Accuracy 0.7306\n",
      "Epoch 67: Train Accuracy 0.7670, Test Accuracy 0.7273\n",
      "Epoch 68: Train Accuracy 0.7661, Test Accuracy 0.7353\n",
      "Epoch 69: Train Accuracy 0.7634, Test Accuracy 0.7340\n",
      "Epoch 70: Train Accuracy 0.7662, Test Accuracy 0.7353\n",
      "Epoch 71: Train Accuracy 0.7666, Test Accuracy 0.7311\n",
      "Epoch 72: Train Accuracy 0.7673, Test Accuracy 0.7344\n",
      "Epoch 73: Train Accuracy 0.7680, Test Accuracy 0.7344\n",
      "Epoch 74: Train Accuracy 0.7691, Test Accuracy 0.7374\n",
      "Epoch 75: Train Accuracy 0.7697, Test Accuracy 0.7391\n",
      "Epoch 76: Train Accuracy 0.7671, Test Accuracy 0.7428\n",
      "Epoch 77: Train Accuracy 0.7690, Test Accuracy 0.7319\n",
      "Epoch 78: Train Accuracy 0.7595, Test Accuracy 0.7205\n",
      "Epoch 79: Train Accuracy 0.7681, Test Accuracy 0.7336\n",
      "Epoch 80: Train Accuracy 0.7666, Test Accuracy 0.7290\n",
      "Epoch 81: Train Accuracy 0.7678, Test Accuracy 0.7374\n",
      "Epoch 82: Train Accuracy 0.7682, Test Accuracy 0.7395\n",
      "Epoch 83: Train Accuracy 0.7694, Test Accuracy 0.7416\n",
      "Epoch 84: Train Accuracy 0.7683, Test Accuracy 0.7340\n",
      "Epoch 85: Train Accuracy 0.7693, Test Accuracy 0.7348\n",
      "Epoch 86: Train Accuracy 0.7694, Test Accuracy 0.7332\n",
      "Epoch 87: Train Accuracy 0.7698, Test Accuracy 0.7340\n",
      "Epoch 88: Train Accuracy 0.7689, Test Accuracy 0.7420\n",
      "Epoch 89: Train Accuracy 0.7691, Test Accuracy 0.7374\n",
      "Epoch 90: Train Accuracy 0.7708, Test Accuracy 0.7403\n",
      "Epoch 91: Train Accuracy 0.7706, Test Accuracy 0.7445\n",
      "Epoch 92: Train Accuracy 0.7702, Test Accuracy 0.7403\n",
      "Epoch 93: Train Accuracy 0.7720, Test Accuracy 0.7416\n",
      "Epoch 94: Train Accuracy 0.7709, Test Accuracy 0.7399\n",
      "Epoch 95: Train Accuracy 0.7714, Test Accuracy 0.7458\n",
      "Epoch 96: Train Accuracy 0.7699, Test Accuracy 0.7374\n",
      "Epoch 97: Train Accuracy 0.7707, Test Accuracy 0.7395\n",
      "Epoch 98: Train Accuracy 0.7722, Test Accuracy 0.7407\n",
      "Epoch 99: Train Accuracy 0.7681, Test Accuracy 0.7353\n",
      "Epoch 100: Train Accuracy 0.7624, Test Accuracy 0.7243\n",
      "Epoch 101: Train Accuracy 0.7708, Test Accuracy 0.7357\n",
      "Epoch 102: Train Accuracy 0.7729, Test Accuracy 0.7445\n",
      "Epoch 103: Train Accuracy 0.7732, Test Accuracy 0.7391\n",
      "Epoch 104: Train Accuracy 0.7733, Test Accuracy 0.7386\n",
      "Epoch 105: Train Accuracy 0.7733, Test Accuracy 0.7361\n",
      "Epoch 106: Train Accuracy 0.7737, Test Accuracy 0.7391\n",
      "Epoch 107: Train Accuracy 0.7720, Test Accuracy 0.7386\n",
      "Epoch 108: Train Accuracy 0.7720, Test Accuracy 0.7327\n",
      "Epoch 109: Train Accuracy 0.7744, Test Accuracy 0.7449\n",
      "Epoch 110: Train Accuracy 0.7739, Test Accuracy 0.7386\n",
      "Epoch 111: Train Accuracy 0.7738, Test Accuracy 0.7407\n",
      "Epoch 112: Train Accuracy 0.7740, Test Accuracy 0.7403\n",
      "Epoch 113: Train Accuracy 0.7681, Test Accuracy 0.7340\n",
      "Epoch 114: Train Accuracy 0.7735, Test Accuracy 0.7395\n",
      "Epoch 115: Train Accuracy 0.7751, Test Accuracy 0.7441\n",
      "Epoch 116: Train Accuracy 0.7748, Test Accuracy 0.7386\n",
      "Epoch 117: Train Accuracy 0.7746, Test Accuracy 0.7395\n",
      "Epoch 118: Train Accuracy 0.7755, Test Accuracy 0.7424\n",
      "Epoch 119: Train Accuracy 0.7741, Test Accuracy 0.7424\n",
      "Epoch 120: Train Accuracy 0.7754, Test Accuracy 0.7416\n",
      "Epoch 121: Train Accuracy 0.7738, Test Accuracy 0.7382\n",
      "Epoch 122: Train Accuracy 0.7737, Test Accuracy 0.7458\n",
      "Epoch 123: Train Accuracy 0.7702, Test Accuracy 0.7365\n",
      "Epoch 124: Train Accuracy 0.7715, Test Accuracy 0.7281\n",
      "Epoch 125: Train Accuracy 0.7733, Test Accuracy 0.7348\n",
      "Epoch 126: Train Accuracy 0.7735, Test Accuracy 0.7391\n",
      "Epoch 127: Train Accuracy 0.7759, Test Accuracy 0.7441\n",
      "Epoch 128: Train Accuracy 0.7755, Test Accuracy 0.7424\n",
      "Epoch 129: Train Accuracy 0.7746, Test Accuracy 0.7445\n",
      "Epoch 130: Train Accuracy 0.7758, Test Accuracy 0.7441\n",
      "Epoch 131: Train Accuracy 0.7748, Test Accuracy 0.7428\n",
      "Epoch 132: Train Accuracy 0.7755, Test Accuracy 0.7487\n",
      "Epoch 133: Train Accuracy 0.7747, Test Accuracy 0.7395\n",
      "Epoch 134: Train Accuracy 0.7763, Test Accuracy 0.7424\n",
      "Epoch 135: Train Accuracy 0.7761, Test Accuracy 0.7437\n",
      "Epoch 136: Train Accuracy 0.7763, Test Accuracy 0.7370\n",
      "Epoch 137: Train Accuracy 0.7761, Test Accuracy 0.7424\n",
      "Epoch 138: Train Accuracy 0.7738, Test Accuracy 0.7412\n",
      "Epoch 139: Train Accuracy 0.7770, Test Accuracy 0.7475\n",
      "Epoch 140: Train Accuracy 0.7703, Test Accuracy 0.7340\n",
      "Epoch 141: Train Accuracy 0.7753, Test Accuracy 0.7428\n",
      "Epoch 142: Train Accuracy 0.7759, Test Accuracy 0.7483\n",
      "Epoch 143: Train Accuracy 0.7763, Test Accuracy 0.7441\n",
      "Epoch 144: Train Accuracy 0.7762, Test Accuracy 0.7433\n",
      "Epoch 145: Train Accuracy 0.7765, Test Accuracy 0.7483\n",
      "Epoch 146: Train Accuracy 0.7753, Test Accuracy 0.7420\n",
      "Epoch 147: Train Accuracy 0.7758, Test Accuracy 0.7475\n",
      "Epoch 148: Train Accuracy 0.7762, Test Accuracy 0.7424\n",
      "Epoch 149: Train Accuracy 0.7762, Test Accuracy 0.7428\n",
      "Epoch 150: Train Accuracy 0.7709, Test Accuracy 0.7340\n",
      "Epoch 151: Train Accuracy 0.7760, Test Accuracy 0.7416\n",
      "Epoch 152: Train Accuracy 0.7750, Test Accuracy 0.7395\n",
      "Epoch 153: Train Accuracy 0.7761, Test Accuracy 0.7433\n",
      "Epoch 154: Train Accuracy 0.7771, Test Accuracy 0.7386\n",
      "Epoch 155: Train Accuracy 0.7753, Test Accuracy 0.7412\n",
      "Epoch 156: Train Accuracy 0.7773, Test Accuracy 0.7449\n",
      "Epoch 157: Train Accuracy 0.7728, Test Accuracy 0.7428\n",
      "Epoch 158: Train Accuracy 0.7751, Test Accuracy 0.7399\n",
      "Epoch 159: Train Accuracy 0.7763, Test Accuracy 0.7445\n",
      "Epoch 160: Train Accuracy 0.7761, Test Accuracy 0.7391\n",
      "Epoch 161: Train Accuracy 0.7759, Test Accuracy 0.7416\n",
      "Epoch 162: Train Accuracy 0.7753, Test Accuracy 0.7412\n",
      "Epoch 163: Train Accuracy 0.7774, Test Accuracy 0.7466\n",
      "Epoch 164: Train Accuracy 0.7771, Test Accuracy 0.7462\n",
      "Epoch 165: Train Accuracy 0.7776, Test Accuracy 0.7517\n",
      "Epoch 166: Train Accuracy 0.7771, Test Accuracy 0.7454\n",
      "Epoch 167: Train Accuracy 0.7768, Test Accuracy 0.7441\n",
      "Epoch 168: Train Accuracy 0.7775, Test Accuracy 0.7479\n",
      "Epoch 169: Train Accuracy 0.7767, Test Accuracy 0.7424\n",
      "Epoch 170: Train Accuracy 0.7778, Test Accuracy 0.7492\n",
      "Epoch 171: Train Accuracy 0.7760, Test Accuracy 0.7407\n",
      "Epoch 172: Train Accuracy 0.7785, Test Accuracy 0.7492\n",
      "Epoch 173: Train Accuracy 0.7766, Test Accuracy 0.7441\n",
      "Epoch 174: Train Accuracy 0.7513, Test Accuracy 0.7071\n",
      "Epoch 175: Train Accuracy 0.7772, Test Accuracy 0.7428\n",
      "Epoch 176: Train Accuracy 0.7779, Test Accuracy 0.7433\n",
      "Epoch 177: Train Accuracy 0.7781, Test Accuracy 0.7437\n",
      "Epoch 178: Train Accuracy 0.7784, Test Accuracy 0.7483\n",
      "Epoch 179: Train Accuracy 0.7778, Test Accuracy 0.7428\n",
      "Epoch 180: Train Accuracy 0.7784, Test Accuracy 0.7449\n",
      "Epoch 181: Train Accuracy 0.7758, Test Accuracy 0.7445\n",
      "Epoch 182: Train Accuracy 0.7779, Test Accuracy 0.7416\n",
      "Epoch 183: Train Accuracy 0.7776, Test Accuracy 0.7445\n",
      "Epoch 184: Train Accuracy 0.7759, Test Accuracy 0.7391\n"
     ]
    },
    {
     "ename": "KeyboardInterrupt",
     "evalue": "",
     "output_type": "error",
     "traceback": [
      "\u001b[0;31m---------------------------------------------------------------------------\u001b[0m",
      "\u001b[0;31mKeyboardInterrupt\u001b[0m                         Traceback (most recent call last)",
      "Cell \u001b[0;32mIn[101], line 7\u001b[0m\n\u001b[1;32m      5\u001b[0m     loss \u001b[38;5;241m=\u001b[39m criterion(y_pred, y_batch)\n\u001b[1;32m      6\u001b[0m     optimizer\u001b[38;5;241m.\u001b[39mzero_grad()\n\u001b[0;32m----> 7\u001b[0m     \u001b[43mloss\u001b[49m\u001b[38;5;241;43m.\u001b[39;49m\u001b[43mbackward\u001b[49m\u001b[43m(\u001b[49m\u001b[43m)\u001b[49m\n\u001b[1;32m      8\u001b[0m     optimizer\u001b[38;5;241m.\u001b[39mstep()\n\u001b[1;32m      9\u001b[0m model\u001b[38;5;241m.\u001b[39meval()\n",
      "File \u001b[0;32m/opt/conda/lib/python3.10/site-packages/torch/_tensor.py:521\u001b[0m, in \u001b[0;36mTensor.backward\u001b[0;34m(self, gradient, retain_graph, create_graph, inputs)\u001b[0m\n\u001b[1;32m    511\u001b[0m \u001b[38;5;28;01mif\u001b[39;00m has_torch_function_unary(\u001b[38;5;28mself\u001b[39m):\n\u001b[1;32m    512\u001b[0m     \u001b[38;5;28;01mreturn\u001b[39;00m handle_torch_function(\n\u001b[1;32m    513\u001b[0m         Tensor\u001b[38;5;241m.\u001b[39mbackward,\n\u001b[1;32m    514\u001b[0m         (\u001b[38;5;28mself\u001b[39m,),\n\u001b[0;32m   (...)\u001b[0m\n\u001b[1;32m    519\u001b[0m         inputs\u001b[38;5;241m=\u001b[39minputs,\n\u001b[1;32m    520\u001b[0m     )\n\u001b[0;32m--> 521\u001b[0m \u001b[43mtorch\u001b[49m\u001b[38;5;241;43m.\u001b[39;49m\u001b[43mautograd\u001b[49m\u001b[38;5;241;43m.\u001b[39;49m\u001b[43mbackward\u001b[49m\u001b[43m(\u001b[49m\n\u001b[1;32m    522\u001b[0m \u001b[43m    \u001b[49m\u001b[38;5;28;43mself\u001b[39;49m\u001b[43m,\u001b[49m\u001b[43m \u001b[49m\u001b[43mgradient\u001b[49m\u001b[43m,\u001b[49m\u001b[43m \u001b[49m\u001b[43mretain_graph\u001b[49m\u001b[43m,\u001b[49m\u001b[43m \u001b[49m\u001b[43mcreate_graph\u001b[49m\u001b[43m,\u001b[49m\u001b[43m \u001b[49m\u001b[43minputs\u001b[49m\u001b[38;5;241;43m=\u001b[39;49m\u001b[43minputs\u001b[49m\n\u001b[1;32m    523\u001b[0m \u001b[43m\u001b[49m\u001b[43m)\u001b[49m\n",
      "File \u001b[0;32m/opt/conda/lib/python3.10/site-packages/torch/autograd/__init__.py:289\u001b[0m, in \u001b[0;36mbackward\u001b[0;34m(tensors, grad_tensors, retain_graph, create_graph, grad_variables, inputs)\u001b[0m\n\u001b[1;32m    284\u001b[0m     retain_graph \u001b[38;5;241m=\u001b[39m create_graph\n\u001b[1;32m    286\u001b[0m \u001b[38;5;66;03m# The reason we repeat the same comment below is that\u001b[39;00m\n\u001b[1;32m    287\u001b[0m \u001b[38;5;66;03m# some Python versions print out the first line of a multi-line function\u001b[39;00m\n\u001b[1;32m    288\u001b[0m \u001b[38;5;66;03m# calls in the traceback and some print out the last line\u001b[39;00m\n\u001b[0;32m--> 289\u001b[0m \u001b[43m_engine_run_backward\u001b[49m\u001b[43m(\u001b[49m\n\u001b[1;32m    290\u001b[0m \u001b[43m    \u001b[49m\u001b[43mtensors\u001b[49m\u001b[43m,\u001b[49m\n\u001b[1;32m    291\u001b[0m \u001b[43m    \u001b[49m\u001b[43mgrad_tensors_\u001b[49m\u001b[43m,\u001b[49m\n\u001b[1;32m    292\u001b[0m \u001b[43m    \u001b[49m\u001b[43mretain_graph\u001b[49m\u001b[43m,\u001b[49m\n\u001b[1;32m    293\u001b[0m \u001b[43m    \u001b[49m\u001b[43mcreate_graph\u001b[49m\u001b[43m,\u001b[49m\n\u001b[1;32m    294\u001b[0m \u001b[43m    \u001b[49m\u001b[43minputs\u001b[49m\u001b[43m,\u001b[49m\n\u001b[1;32m    295\u001b[0m \u001b[43m    \u001b[49m\u001b[43mallow_unreachable\u001b[49m\u001b[38;5;241;43m=\u001b[39;49m\u001b[38;5;28;43;01mTrue\u001b[39;49;00m\u001b[43m,\u001b[49m\n\u001b[1;32m    296\u001b[0m \u001b[43m    \u001b[49m\u001b[43maccumulate_grad\u001b[49m\u001b[38;5;241;43m=\u001b[39;49m\u001b[38;5;28;43;01mTrue\u001b[39;49;00m\u001b[43m,\u001b[49m\n\u001b[1;32m    297\u001b[0m \u001b[43m\u001b[49m\u001b[43m)\u001b[49m\n",
      "File \u001b[0;32m/opt/conda/lib/python3.10/site-packages/torch/autograd/graph.py:768\u001b[0m, in \u001b[0;36m_engine_run_backward\u001b[0;34m(t_outputs, *args, **kwargs)\u001b[0m\n\u001b[1;32m    766\u001b[0m     unregister_hooks \u001b[38;5;241m=\u001b[39m _register_logging_hooks_on_whole_graph(t_outputs)\n\u001b[1;32m    767\u001b[0m \u001b[38;5;28;01mtry\u001b[39;00m:\n\u001b[0;32m--> 768\u001b[0m     \u001b[38;5;28;01mreturn\u001b[39;00m \u001b[43mVariable\u001b[49m\u001b[38;5;241;43m.\u001b[39;49m\u001b[43m_execution_engine\u001b[49m\u001b[38;5;241;43m.\u001b[39;49m\u001b[43mrun_backward\u001b[49m\u001b[43m(\u001b[49m\u001b[43m  \u001b[49m\u001b[38;5;66;43;03m# Calls into the C++ engine to run the backward pass\u001b[39;49;00m\n\u001b[1;32m    769\u001b[0m \u001b[43m        \u001b[49m\u001b[43mt_outputs\u001b[49m\u001b[43m,\u001b[49m\u001b[43m \u001b[49m\u001b[38;5;241;43m*\u001b[39;49m\u001b[43margs\u001b[49m\u001b[43m,\u001b[49m\u001b[43m \u001b[49m\u001b[38;5;241;43m*\u001b[39;49m\u001b[38;5;241;43m*\u001b[39;49m\u001b[43mkwargs\u001b[49m\n\u001b[1;32m    770\u001b[0m \u001b[43m    \u001b[49m\u001b[43m)\u001b[49m  \u001b[38;5;66;03m# Calls into the C++ engine to run the backward pass\u001b[39;00m\n\u001b[1;32m    771\u001b[0m \u001b[38;5;28;01mfinally\u001b[39;00m:\n\u001b[1;32m    772\u001b[0m     \u001b[38;5;28;01mif\u001b[39;00m attach_logging_hooks:\n",
      "\u001b[0;31mKeyboardInterrupt\u001b[0m: "
     ]
    }
   ],
   "source": [
    "for epoch in range(num_epochs):\n",
    "    model.train()\n",
    "    for X_batch, y_batch in loader:\n",
    "        y_pred = model(X_batch)\n",
    "        loss = criterion(y_pred, y_batch)\n",
    "        optimizer.zero_grad()\n",
    "        loss.backward()\n",
    "        optimizer.step()\n",
    "    model.eval()\n",
    "    totalYPred = []\n",
    "    totalY = []\n",
    "    with torch.no_grad():\n",
    "        for X_batch, y_batch in loader:\n",
    "            totalY.append(y_batch)\n",
    "            totalYPred.append(model(X_batch))\n",
    "    actualY = torch.cat(totalY, 0)\n",
    "    predY = torch.cat(totalYPred, 0)\n",
    "    metric = MulticlassAccuracy()\n",
    "    metric.update(predY, actualY)\n",
    "    train_acc = metric.compute()\n",
    "    print(\"Epoch %d: Train Accuracy %.4f,\" % (epoch, train_acc), end=\"\")\n",
    "\n",
    "    totalYPred = []\n",
    "    totalY = []\n",
    "    with torch.no_grad():\n",
    "        for X_batch, y_batch in testLoader:\n",
    "            totalY.append(y_batch)\n",
    "            totalYPred.append(model(X_batch))\n",
    "    actualY = torch.cat(totalY, 0)\n",
    "    predY = torch.cat(totalYPred, 0)\n",
    "    metric = MulticlassAccuracy()\n",
    "    metric.update(predY, actualY)\n",
    "    test_acc = metric.compute()\n",
    "    print(\" Test Accuracy %.4f\" % (test_acc))\n",
    "    del totalYPred\n",
    "    del totalY\n",
    "    del actualY\n",
    "    del predY"
   ]
  },
  {
   "cell_type": "markdown",
   "metadata": {},
   "source": [
    "## Not Combining hand and arm\n",
    "## window 50, overlapp 25"
   ]
  },
  {
   "cell_type": "code",
   "execution_count": 81,
   "metadata": {
    "execution": {
     "iopub.execute_input": "2024-12-09T07:49:04.799816Z",
     "iopub.status.busy": "2024-12-09T07:49:04.799420Z",
     "iopub.status.idle": "2024-12-09T07:57:19.240247Z",
     "shell.execute_reply": "2024-12-09T07:57:19.238777Z",
     "shell.execute_reply.started": "2024-12-09T07:49:04.799770Z"
    },
    "trusted": true
   },
   "outputs": [
    {
     "name": "stdout",
     "output_type": "stream",
     "text": [
      "Epoch 0: Train Accuracy 0.3436, Test Accuracy 0.3451\n",
      "Epoch 1: Train Accuracy 0.3795, Test Accuracy 0.3859\n",
      "Epoch 2: Train Accuracy 0.4166, Test Accuracy 0.4226\n",
      "Epoch 3: Train Accuracy 0.4422, Test Accuracy 0.4394\n",
      "Epoch 4: Train Accuracy 0.4689, Test Accuracy 0.4583\n",
      "Epoch 5: Train Accuracy 0.4933, Test Accuracy 0.4806\n",
      "Epoch 6: Train Accuracy 0.5145, Test Accuracy 0.4962\n",
      "Epoch 7: Train Accuracy 0.5333, Test Accuracy 0.5042\n",
      "Epoch 8: Train Accuracy 0.5450, Test Accuracy 0.5130\n",
      "Epoch 9: Train Accuracy 0.5526, Test Accuracy 0.5265\n",
      "Epoch 10: Train Accuracy 0.5612, Test Accuracy 0.5345\n",
      "Epoch 11: Train Accuracy 0.5705, Test Accuracy 0.5434\n",
      "Epoch 12: Train Accuracy 0.5776, Test Accuracy 0.5484\n",
      "Epoch 13: Train Accuracy 0.5761, Test Accuracy 0.5556\n",
      "Epoch 14: Train Accuracy 0.5847, Test Accuracy 0.5614\n",
      "Epoch 15: Train Accuracy 0.5880, Test Accuracy 0.5644\n",
      "Epoch 16: Train Accuracy 0.5938, Test Accuracy 0.5737\n",
      "Epoch 17: Train Accuracy 0.5975, Test Accuracy 0.5770\n",
      "Epoch 18: Train Accuracy 0.5877, Test Accuracy 0.5690\n",
      "Epoch 19: Train Accuracy 0.5992, Test Accuracy 0.5791\n",
      "Epoch 20: Train Accuracy 0.6012, Test Accuracy 0.5804\n",
      "Epoch 21: Train Accuracy 0.6030, Test Accuracy 0.5732\n",
      "Epoch 22: Train Accuracy 0.6065, Test Accuracy 0.5791\n",
      "Epoch 23: Train Accuracy 0.6042, Test Accuracy 0.5833\n",
      "Epoch 24: Train Accuracy 0.6101, Test Accuracy 0.5850\n",
      "Epoch 25: Train Accuracy 0.6120, Test Accuracy 0.5816\n",
      "Epoch 26: Train Accuracy 0.6104, Test Accuracy 0.5884\n",
      "Epoch 27: Train Accuracy 0.6158, Test Accuracy 0.5968\n",
      "Epoch 28: Train Accuracy 0.6145, Test Accuracy 0.5825\n",
      "Epoch 29: Train Accuracy 0.6190, Test Accuracy 0.5829\n",
      "Epoch 30: Train Accuracy 0.5983, Test Accuracy 0.5715\n",
      "Epoch 31: Train Accuracy 0.6196, Test Accuracy 0.5905\n",
      "Epoch 32: Train Accuracy 0.6204, Test Accuracy 0.5850\n",
      "Epoch 33: Train Accuracy 0.6215, Test Accuracy 0.5918\n",
      "Epoch 34: Train Accuracy 0.6155, Test Accuracy 0.5901\n",
      "Epoch 35: Train Accuracy 0.6197, Test Accuracy 0.5842\n",
      "Epoch 36: Train Accuracy 0.6237, Test Accuracy 0.5901\n",
      "Epoch 37: Train Accuracy 0.6263, Test Accuracy 0.5859\n",
      "Epoch 38: Train Accuracy 0.6226, Test Accuracy 0.5964\n",
      "Epoch 39: Train Accuracy 0.6235, Test Accuracy 0.5863\n",
      "Epoch 40: Train Accuracy 0.6282, Test Accuracy 0.5888\n",
      "Epoch 41: Train Accuracy 0.6274, Test Accuracy 0.5896\n",
      "Epoch 42: Train Accuracy 0.6076, Test Accuracy 0.5800\n",
      "Epoch 43: Train Accuracy 0.6272, Test Accuracy 0.5863\n",
      "Epoch 44: Train Accuracy 0.6256, Test Accuracy 0.5905\n",
      "Epoch 45: Train Accuracy 0.6278, Test Accuracy 0.5875\n",
      "Epoch 46: Train Accuracy 0.6291, Test Accuracy 0.5829\n",
      "Epoch 47: Train Accuracy 0.6262, Test Accuracy 0.5875\n",
      "Epoch 48: Train Accuracy 0.6256, Test Accuracy 0.5918\n",
      "Epoch 49: Train Accuracy 0.6265, Test Accuracy 0.5850\n",
      "Epoch 50: Train Accuracy 0.6225, Test Accuracy 0.5884\n",
      "Epoch 51: Train Accuracy 0.6283, Test Accuracy 0.5842\n",
      "Epoch 52: Train Accuracy 0.6290, Test Accuracy 0.5833\n",
      "Epoch 53: Train Accuracy 0.6241, Test Accuracy 0.5800\n",
      "Epoch 54: Train Accuracy 0.6295, Test Accuracy 0.5838\n",
      "Epoch 55: Train Accuracy 0.6303, Test Accuracy 0.5800\n",
      "Epoch 56: Train Accuracy 0.6251, Test Accuracy 0.5854\n",
      "Epoch 57: Train Accuracy 0.6295, Test Accuracy 0.5804\n",
      "Epoch 58: Train Accuracy 0.6293, Test Accuracy 0.5854\n",
      "Epoch 59: Train Accuracy 0.6305, Test Accuracy 0.5741\n",
      "Epoch 60: Train Accuracy 0.6312, Test Accuracy 0.5800\n",
      "Epoch 61: Train Accuracy 0.6286, Test Accuracy 0.5829\n",
      "Epoch 62: Train Accuracy 0.6256, Test Accuracy 0.5787\n",
      "Epoch 63: Train Accuracy 0.6314, Test Accuracy 0.5804\n",
      "Epoch 64: Train Accuracy 0.6314, Test Accuracy 0.5787\n",
      "Epoch 65: Train Accuracy 0.6293, Test Accuracy 0.5812\n",
      "Epoch 66: Train Accuracy 0.6276, Test Accuracy 0.5846\n",
      "Epoch 67: Train Accuracy 0.6314, Test Accuracy 0.5766\n",
      "Epoch 68: Train Accuracy 0.6295, Test Accuracy 0.5737\n"
     ]
    },
    {
     "ename": "KeyboardInterrupt",
     "evalue": "",
     "output_type": "error",
     "traceback": [
      "\u001b[0;31m---------------------------------------------------------------------------\u001b[0m",
      "\u001b[0;31mKeyboardInterrupt\u001b[0m                         Traceback (most recent call last)",
      "Cell \u001b[0;32mIn[81], line 15\u001b[0m\n\u001b[1;32m     13\u001b[0m     \u001b[38;5;28;01mfor\u001b[39;00m X_batch, y_batch \u001b[38;5;129;01min\u001b[39;00m loader:\n\u001b[1;32m     14\u001b[0m         totalY\u001b[38;5;241m.\u001b[39mappend(y_batch)\n\u001b[0;32m---> 15\u001b[0m         totalYPred\u001b[38;5;241m.\u001b[39mappend(\u001b[43mmodel\u001b[49m\u001b[43m(\u001b[49m\u001b[43mX_batch\u001b[49m\u001b[43m)\u001b[49m)\n\u001b[1;32m     16\u001b[0m actualY \u001b[38;5;241m=\u001b[39m torch\u001b[38;5;241m.\u001b[39mcat(totalY, \u001b[38;5;241m0\u001b[39m)\n\u001b[1;32m     17\u001b[0m predY \u001b[38;5;241m=\u001b[39m torch\u001b[38;5;241m.\u001b[39mcat(totalYPred, \u001b[38;5;241m0\u001b[39m)\n",
      "File \u001b[0;32m/opt/conda/lib/python3.10/site-packages/torch/nn/modules/module.py:1553\u001b[0m, in \u001b[0;36mModule._wrapped_call_impl\u001b[0;34m(self, *args, **kwargs)\u001b[0m\n\u001b[1;32m   1551\u001b[0m     \u001b[38;5;28;01mreturn\u001b[39;00m \u001b[38;5;28mself\u001b[39m\u001b[38;5;241m.\u001b[39m_compiled_call_impl(\u001b[38;5;241m*\u001b[39margs, \u001b[38;5;241m*\u001b[39m\u001b[38;5;241m*\u001b[39mkwargs)  \u001b[38;5;66;03m# type: ignore[misc]\u001b[39;00m\n\u001b[1;32m   1552\u001b[0m \u001b[38;5;28;01melse\u001b[39;00m:\n\u001b[0;32m-> 1553\u001b[0m     \u001b[38;5;28;01mreturn\u001b[39;00m \u001b[38;5;28;43mself\u001b[39;49m\u001b[38;5;241;43m.\u001b[39;49m\u001b[43m_call_impl\u001b[49m\u001b[43m(\u001b[49m\u001b[38;5;241;43m*\u001b[39;49m\u001b[43margs\u001b[49m\u001b[43m,\u001b[49m\u001b[43m \u001b[49m\u001b[38;5;241;43m*\u001b[39;49m\u001b[38;5;241;43m*\u001b[39;49m\u001b[43mkwargs\u001b[49m\u001b[43m)\u001b[49m\n",
      "File \u001b[0;32m/opt/conda/lib/python3.10/site-packages/torch/nn/modules/module.py:1562\u001b[0m, in \u001b[0;36mModule._call_impl\u001b[0;34m(self, *args, **kwargs)\u001b[0m\n\u001b[1;32m   1557\u001b[0m \u001b[38;5;66;03m# If we don't have any hooks, we want to skip the rest of the logic in\u001b[39;00m\n\u001b[1;32m   1558\u001b[0m \u001b[38;5;66;03m# this function, and just call forward.\u001b[39;00m\n\u001b[1;32m   1559\u001b[0m \u001b[38;5;28;01mif\u001b[39;00m \u001b[38;5;129;01mnot\u001b[39;00m (\u001b[38;5;28mself\u001b[39m\u001b[38;5;241m.\u001b[39m_backward_hooks \u001b[38;5;129;01mor\u001b[39;00m \u001b[38;5;28mself\u001b[39m\u001b[38;5;241m.\u001b[39m_backward_pre_hooks \u001b[38;5;129;01mor\u001b[39;00m \u001b[38;5;28mself\u001b[39m\u001b[38;5;241m.\u001b[39m_forward_hooks \u001b[38;5;129;01mor\u001b[39;00m \u001b[38;5;28mself\u001b[39m\u001b[38;5;241m.\u001b[39m_forward_pre_hooks\n\u001b[1;32m   1560\u001b[0m         \u001b[38;5;129;01mor\u001b[39;00m _global_backward_pre_hooks \u001b[38;5;129;01mor\u001b[39;00m _global_backward_hooks\n\u001b[1;32m   1561\u001b[0m         \u001b[38;5;129;01mor\u001b[39;00m _global_forward_hooks \u001b[38;5;129;01mor\u001b[39;00m _global_forward_pre_hooks):\n\u001b[0;32m-> 1562\u001b[0m     \u001b[38;5;28;01mreturn\u001b[39;00m \u001b[43mforward_call\u001b[49m\u001b[43m(\u001b[49m\u001b[38;5;241;43m*\u001b[39;49m\u001b[43margs\u001b[49m\u001b[43m,\u001b[49m\u001b[43m \u001b[49m\u001b[38;5;241;43m*\u001b[39;49m\u001b[38;5;241;43m*\u001b[39;49m\u001b[43mkwargs\u001b[49m\u001b[43m)\u001b[49m\n\u001b[1;32m   1564\u001b[0m \u001b[38;5;28;01mtry\u001b[39;00m:\n\u001b[1;32m   1565\u001b[0m     result \u001b[38;5;241m=\u001b[39m \u001b[38;5;28;01mNone\u001b[39;00m\n",
      "Cell \u001b[0;32mIn[73], line 14\u001b[0m, in \u001b[0;36mTestModel.forward\u001b[0;34m(self, x)\u001b[0m\n\u001b[1;32m     13\u001b[0m \u001b[38;5;28;01mdef\u001b[39;00m \u001b[38;5;21mforward\u001b[39m(\u001b[38;5;28mself\u001b[39m, x):\n\u001b[0;32m---> 14\u001b[0m     out \u001b[38;5;241m=\u001b[39m \u001b[38;5;28;43mself\u001b[39;49m\u001b[38;5;241;43m.\u001b[39;49m\u001b[43mxlstm\u001b[49m\u001b[43m(\u001b[49m\u001b[43mx\u001b[49m\u001b[43m)\u001b[49m\n\u001b[1;32m     15\u001b[0m     \u001b[38;5;66;03m# x -> (batch_size, sequence_length, hidden_size)\u001b[39;00m\n\u001b[1;32m     16\u001b[0m     out \u001b[38;5;241m=\u001b[39m \u001b[38;5;28mself\u001b[39m\u001b[38;5;241m.\u001b[39mtanh(out)\n",
      "File \u001b[0;32m/opt/conda/lib/python3.10/site-packages/torch/nn/modules/module.py:1553\u001b[0m, in \u001b[0;36mModule._wrapped_call_impl\u001b[0;34m(self, *args, **kwargs)\u001b[0m\n\u001b[1;32m   1551\u001b[0m     \u001b[38;5;28;01mreturn\u001b[39;00m \u001b[38;5;28mself\u001b[39m\u001b[38;5;241m.\u001b[39m_compiled_call_impl(\u001b[38;5;241m*\u001b[39margs, \u001b[38;5;241m*\u001b[39m\u001b[38;5;241m*\u001b[39mkwargs)  \u001b[38;5;66;03m# type: ignore[misc]\u001b[39;00m\n\u001b[1;32m   1552\u001b[0m \u001b[38;5;28;01melse\u001b[39;00m:\n\u001b[0;32m-> 1553\u001b[0m     \u001b[38;5;28;01mreturn\u001b[39;00m \u001b[38;5;28;43mself\u001b[39;49m\u001b[38;5;241;43m.\u001b[39;49m\u001b[43m_call_impl\u001b[49m\u001b[43m(\u001b[49m\u001b[38;5;241;43m*\u001b[39;49m\u001b[43margs\u001b[49m\u001b[43m,\u001b[49m\u001b[43m \u001b[49m\u001b[38;5;241;43m*\u001b[39;49m\u001b[38;5;241;43m*\u001b[39;49m\u001b[43mkwargs\u001b[49m\u001b[43m)\u001b[49m\n",
      "File \u001b[0;32m/opt/conda/lib/python3.10/site-packages/torch/nn/modules/module.py:1562\u001b[0m, in \u001b[0;36mModule._call_impl\u001b[0;34m(self, *args, **kwargs)\u001b[0m\n\u001b[1;32m   1557\u001b[0m \u001b[38;5;66;03m# If we don't have any hooks, we want to skip the rest of the logic in\u001b[39;00m\n\u001b[1;32m   1558\u001b[0m \u001b[38;5;66;03m# this function, and just call forward.\u001b[39;00m\n\u001b[1;32m   1559\u001b[0m \u001b[38;5;28;01mif\u001b[39;00m \u001b[38;5;129;01mnot\u001b[39;00m (\u001b[38;5;28mself\u001b[39m\u001b[38;5;241m.\u001b[39m_backward_hooks \u001b[38;5;129;01mor\u001b[39;00m \u001b[38;5;28mself\u001b[39m\u001b[38;5;241m.\u001b[39m_backward_pre_hooks \u001b[38;5;129;01mor\u001b[39;00m \u001b[38;5;28mself\u001b[39m\u001b[38;5;241m.\u001b[39m_forward_hooks \u001b[38;5;129;01mor\u001b[39;00m \u001b[38;5;28mself\u001b[39m\u001b[38;5;241m.\u001b[39m_forward_pre_hooks\n\u001b[1;32m   1560\u001b[0m         \u001b[38;5;129;01mor\u001b[39;00m _global_backward_pre_hooks \u001b[38;5;129;01mor\u001b[39;00m _global_backward_hooks\n\u001b[1;32m   1561\u001b[0m         \u001b[38;5;129;01mor\u001b[39;00m _global_forward_hooks \u001b[38;5;129;01mor\u001b[39;00m _global_forward_pre_hooks):\n\u001b[0;32m-> 1562\u001b[0m     \u001b[38;5;28;01mreturn\u001b[39;00m \u001b[43mforward_call\u001b[49m\u001b[43m(\u001b[49m\u001b[38;5;241;43m*\u001b[39;49m\u001b[43margs\u001b[49m\u001b[43m,\u001b[49m\u001b[43m \u001b[49m\u001b[38;5;241;43m*\u001b[39;49m\u001b[38;5;241;43m*\u001b[39;49m\u001b[43mkwargs\u001b[49m\u001b[43m)\u001b[49m\n\u001b[1;32m   1564\u001b[0m \u001b[38;5;28;01mtry\u001b[39;00m:\n\u001b[1;32m   1565\u001b[0m     result \u001b[38;5;241m=\u001b[39m \u001b[38;5;28;01mNone\u001b[39;00m\n",
      "File \u001b[0;32m/opt/conda/lib/python3.10/site-packages/xlstm/xlstm_block_stack.py:120\u001b[0m, in \u001b[0;36mxLSTMBlockStack.forward\u001b[0;34m(self, x, **kwargs)\u001b[0m\n\u001b[1;32m    117\u001b[0m \u001b[38;5;28;01mdef\u001b[39;00m \u001b[38;5;21mforward\u001b[39m(\u001b[38;5;28mself\u001b[39m, x: torch\u001b[38;5;241m.\u001b[39mTensor, \u001b[38;5;241m*\u001b[39m\u001b[38;5;241m*\u001b[39mkwargs) \u001b[38;5;241m-\u001b[39m\u001b[38;5;241m>\u001b[39m torch\u001b[38;5;241m.\u001b[39mTensor:\n\u001b[1;32m    119\u001b[0m     \u001b[38;5;28;01mfor\u001b[39;00m block \u001b[38;5;129;01min\u001b[39;00m \u001b[38;5;28mself\u001b[39m\u001b[38;5;241m.\u001b[39mblocks:\n\u001b[0;32m--> 120\u001b[0m         x \u001b[38;5;241m=\u001b[39m \u001b[43mblock\u001b[49m\u001b[43m(\u001b[49m\u001b[43mx\u001b[49m\u001b[43m,\u001b[49m\u001b[43m \u001b[49m\u001b[38;5;241;43m*\u001b[39;49m\u001b[38;5;241;43m*\u001b[39;49m\u001b[43mkwargs\u001b[49m\u001b[43m)\u001b[49m\n\u001b[1;32m    122\u001b[0m     x \u001b[38;5;241m=\u001b[39m \u001b[38;5;28mself\u001b[39m\u001b[38;5;241m.\u001b[39mpost_blocks_norm(x)\n\u001b[1;32m    124\u001b[0m     \u001b[38;5;28;01mreturn\u001b[39;00m x\n",
      "File \u001b[0;32m/opt/conda/lib/python3.10/site-packages/torch/nn/modules/module.py:1553\u001b[0m, in \u001b[0;36mModule._wrapped_call_impl\u001b[0;34m(self, *args, **kwargs)\u001b[0m\n\u001b[1;32m   1551\u001b[0m     \u001b[38;5;28;01mreturn\u001b[39;00m \u001b[38;5;28mself\u001b[39m\u001b[38;5;241m.\u001b[39m_compiled_call_impl(\u001b[38;5;241m*\u001b[39margs, \u001b[38;5;241m*\u001b[39m\u001b[38;5;241m*\u001b[39mkwargs)  \u001b[38;5;66;03m# type: ignore[misc]\u001b[39;00m\n\u001b[1;32m   1552\u001b[0m \u001b[38;5;28;01melse\u001b[39;00m:\n\u001b[0;32m-> 1553\u001b[0m     \u001b[38;5;28;01mreturn\u001b[39;00m \u001b[38;5;28;43mself\u001b[39;49m\u001b[38;5;241;43m.\u001b[39;49m\u001b[43m_call_impl\u001b[49m\u001b[43m(\u001b[49m\u001b[38;5;241;43m*\u001b[39;49m\u001b[43margs\u001b[49m\u001b[43m,\u001b[49m\u001b[43m \u001b[49m\u001b[38;5;241;43m*\u001b[39;49m\u001b[38;5;241;43m*\u001b[39;49m\u001b[43mkwargs\u001b[49m\u001b[43m)\u001b[49m\n",
      "File \u001b[0;32m/opt/conda/lib/python3.10/site-packages/torch/nn/modules/module.py:1562\u001b[0m, in \u001b[0;36mModule._call_impl\u001b[0;34m(self, *args, **kwargs)\u001b[0m\n\u001b[1;32m   1557\u001b[0m \u001b[38;5;66;03m# If we don't have any hooks, we want to skip the rest of the logic in\u001b[39;00m\n\u001b[1;32m   1558\u001b[0m \u001b[38;5;66;03m# this function, and just call forward.\u001b[39;00m\n\u001b[1;32m   1559\u001b[0m \u001b[38;5;28;01mif\u001b[39;00m \u001b[38;5;129;01mnot\u001b[39;00m (\u001b[38;5;28mself\u001b[39m\u001b[38;5;241m.\u001b[39m_backward_hooks \u001b[38;5;129;01mor\u001b[39;00m \u001b[38;5;28mself\u001b[39m\u001b[38;5;241m.\u001b[39m_backward_pre_hooks \u001b[38;5;129;01mor\u001b[39;00m \u001b[38;5;28mself\u001b[39m\u001b[38;5;241m.\u001b[39m_forward_hooks \u001b[38;5;129;01mor\u001b[39;00m \u001b[38;5;28mself\u001b[39m\u001b[38;5;241m.\u001b[39m_forward_pre_hooks\n\u001b[1;32m   1560\u001b[0m         \u001b[38;5;129;01mor\u001b[39;00m _global_backward_pre_hooks \u001b[38;5;129;01mor\u001b[39;00m _global_backward_hooks\n\u001b[1;32m   1561\u001b[0m         \u001b[38;5;129;01mor\u001b[39;00m _global_forward_hooks \u001b[38;5;129;01mor\u001b[39;00m _global_forward_pre_hooks):\n\u001b[0;32m-> 1562\u001b[0m     \u001b[38;5;28;01mreturn\u001b[39;00m \u001b[43mforward_call\u001b[49m\u001b[43m(\u001b[49m\u001b[38;5;241;43m*\u001b[39;49m\u001b[43margs\u001b[49m\u001b[43m,\u001b[49m\u001b[43m \u001b[49m\u001b[38;5;241;43m*\u001b[39;49m\u001b[38;5;241;43m*\u001b[39;49m\u001b[43mkwargs\u001b[49m\u001b[43m)\u001b[49m\n\u001b[1;32m   1564\u001b[0m \u001b[38;5;28;01mtry\u001b[39;00m:\n\u001b[1;32m   1565\u001b[0m     result \u001b[38;5;241m=\u001b[39m \u001b[38;5;28;01mNone\u001b[39;00m\n",
      "File \u001b[0;32m/opt/conda/lib/python3.10/site-packages/xlstm/blocks/xlstm_block.py:77\u001b[0m, in \u001b[0;36mxLSTMBlock.forward\u001b[0;34m(self, x, **kwargs)\u001b[0m\n\u001b[1;32m     76\u001b[0m \u001b[38;5;28;01mdef\u001b[39;00m \u001b[38;5;21mforward\u001b[39m(\u001b[38;5;28mself\u001b[39m, x: torch\u001b[38;5;241m.\u001b[39mTensor, \u001b[38;5;241m*\u001b[39m\u001b[38;5;241m*\u001b[39mkwargs) \u001b[38;5;241m-\u001b[39m\u001b[38;5;241m>\u001b[39m torch\u001b[38;5;241m.\u001b[39mTensor:\n\u001b[0;32m---> 77\u001b[0m     x \u001b[38;5;241m=\u001b[39m x \u001b[38;5;241m+\u001b[39m \u001b[38;5;28;43mself\u001b[39;49m\u001b[38;5;241;43m.\u001b[39;49m\u001b[43mxlstm\u001b[49m\u001b[43m(\u001b[49m\u001b[38;5;28;43mself\u001b[39;49m\u001b[38;5;241;43m.\u001b[39;49m\u001b[43mxlstm_norm\u001b[49m\u001b[43m(\u001b[49m\u001b[43mx\u001b[49m\u001b[43m)\u001b[49m\u001b[43m,\u001b[49m\u001b[43m \u001b[49m\u001b[38;5;241;43m*\u001b[39;49m\u001b[38;5;241;43m*\u001b[39;49m\u001b[43mkwargs\u001b[49m\u001b[43m)\u001b[49m\n\u001b[1;32m     78\u001b[0m     \u001b[38;5;28;01mif\u001b[39;00m \u001b[38;5;28mself\u001b[39m\u001b[38;5;241m.\u001b[39mffn \u001b[38;5;129;01mis\u001b[39;00m \u001b[38;5;129;01mnot\u001b[39;00m \u001b[38;5;28;01mNone\u001b[39;00m:\n\u001b[1;32m     79\u001b[0m         x \u001b[38;5;241m=\u001b[39m x \u001b[38;5;241m+\u001b[39m \u001b[38;5;28mself\u001b[39m\u001b[38;5;241m.\u001b[39mffn(\u001b[38;5;28mself\u001b[39m\u001b[38;5;241m.\u001b[39mffn_norm(x), \u001b[38;5;241m*\u001b[39m\u001b[38;5;241m*\u001b[39mkwargs)\n",
      "File \u001b[0;32m/opt/conda/lib/python3.10/site-packages/torch/nn/modules/module.py:1553\u001b[0m, in \u001b[0;36mModule._wrapped_call_impl\u001b[0;34m(self, *args, **kwargs)\u001b[0m\n\u001b[1;32m   1551\u001b[0m     \u001b[38;5;28;01mreturn\u001b[39;00m \u001b[38;5;28mself\u001b[39m\u001b[38;5;241m.\u001b[39m_compiled_call_impl(\u001b[38;5;241m*\u001b[39margs, \u001b[38;5;241m*\u001b[39m\u001b[38;5;241m*\u001b[39mkwargs)  \u001b[38;5;66;03m# type: ignore[misc]\u001b[39;00m\n\u001b[1;32m   1552\u001b[0m \u001b[38;5;28;01melse\u001b[39;00m:\n\u001b[0;32m-> 1553\u001b[0m     \u001b[38;5;28;01mreturn\u001b[39;00m \u001b[38;5;28;43mself\u001b[39;49m\u001b[38;5;241;43m.\u001b[39;49m\u001b[43m_call_impl\u001b[49m\u001b[43m(\u001b[49m\u001b[38;5;241;43m*\u001b[39;49m\u001b[43margs\u001b[49m\u001b[43m,\u001b[49m\u001b[43m \u001b[49m\u001b[38;5;241;43m*\u001b[39;49m\u001b[38;5;241;43m*\u001b[39;49m\u001b[43mkwargs\u001b[49m\u001b[43m)\u001b[49m\n",
      "File \u001b[0;32m/opt/conda/lib/python3.10/site-packages/torch/nn/modules/module.py:1562\u001b[0m, in \u001b[0;36mModule._call_impl\u001b[0;34m(self, *args, **kwargs)\u001b[0m\n\u001b[1;32m   1557\u001b[0m \u001b[38;5;66;03m# If we don't have any hooks, we want to skip the rest of the logic in\u001b[39;00m\n\u001b[1;32m   1558\u001b[0m \u001b[38;5;66;03m# this function, and just call forward.\u001b[39;00m\n\u001b[1;32m   1559\u001b[0m \u001b[38;5;28;01mif\u001b[39;00m \u001b[38;5;129;01mnot\u001b[39;00m (\u001b[38;5;28mself\u001b[39m\u001b[38;5;241m.\u001b[39m_backward_hooks \u001b[38;5;129;01mor\u001b[39;00m \u001b[38;5;28mself\u001b[39m\u001b[38;5;241m.\u001b[39m_backward_pre_hooks \u001b[38;5;129;01mor\u001b[39;00m \u001b[38;5;28mself\u001b[39m\u001b[38;5;241m.\u001b[39m_forward_hooks \u001b[38;5;129;01mor\u001b[39;00m \u001b[38;5;28mself\u001b[39m\u001b[38;5;241m.\u001b[39m_forward_pre_hooks\n\u001b[1;32m   1560\u001b[0m         \u001b[38;5;129;01mor\u001b[39;00m _global_backward_pre_hooks \u001b[38;5;129;01mor\u001b[39;00m _global_backward_hooks\n\u001b[1;32m   1561\u001b[0m         \u001b[38;5;129;01mor\u001b[39;00m _global_forward_hooks \u001b[38;5;129;01mor\u001b[39;00m _global_forward_pre_hooks):\n\u001b[0;32m-> 1562\u001b[0m     \u001b[38;5;28;01mreturn\u001b[39;00m \u001b[43mforward_call\u001b[49m\u001b[43m(\u001b[49m\u001b[38;5;241;43m*\u001b[39;49m\u001b[43margs\u001b[49m\u001b[43m,\u001b[49m\u001b[43m \u001b[49m\u001b[38;5;241;43m*\u001b[39;49m\u001b[38;5;241;43m*\u001b[39;49m\u001b[43mkwargs\u001b[49m\u001b[43m)\u001b[49m\n\u001b[1;32m   1564\u001b[0m \u001b[38;5;28;01mtry\u001b[39;00m:\n\u001b[1;32m   1565\u001b[0m     result \u001b[38;5;241m=\u001b[39m \u001b[38;5;28;01mNone\u001b[39;00m\n",
      "File \u001b[0;32m/opt/conda/lib/python3.10/site-packages/xlstm/blocks/mlstm/layer.py:116\u001b[0m, in \u001b[0;36mmLSTMLayer.forward\u001b[0;34m(self, x, **kwargs)\u001b[0m\n\u001b[1;32m    113\u001b[0m k \u001b[38;5;241m=\u001b[39m \u001b[38;5;28mself\u001b[39m\u001b[38;5;241m.\u001b[39mk_proj(x_mlstm_conv_act)\n\u001b[1;32m    114\u001b[0m v \u001b[38;5;241m=\u001b[39m \u001b[38;5;28mself\u001b[39m\u001b[38;5;241m.\u001b[39mv_proj(x_mlstm)\n\u001b[0;32m--> 116\u001b[0m h_tilde_state \u001b[38;5;241m=\u001b[39m \u001b[38;5;28;43mself\u001b[39;49m\u001b[38;5;241;43m.\u001b[39;49m\u001b[43mmlstm_cell\u001b[49m\u001b[43m(\u001b[49m\u001b[43mq\u001b[49m\u001b[38;5;241;43m=\u001b[39;49m\u001b[43mq\u001b[49m\u001b[43m,\u001b[49m\u001b[43m \u001b[49m\u001b[43mk\u001b[49m\u001b[38;5;241;43m=\u001b[39;49m\u001b[43mk\u001b[49m\u001b[43m,\u001b[49m\u001b[43m \u001b[49m\u001b[43mv\u001b[49m\u001b[38;5;241;43m=\u001b[39;49m\u001b[43mv\u001b[49m\u001b[43m)\u001b[49m\n\u001b[1;32m    118\u001b[0m h_tilde_state_skip \u001b[38;5;241m=\u001b[39m h_tilde_state \u001b[38;5;241m+\u001b[39m (\u001b[38;5;28mself\u001b[39m\u001b[38;5;241m.\u001b[39mlearnable_skip \u001b[38;5;241m*\u001b[39m x_mlstm_conv_act)\n\u001b[1;32m    120\u001b[0m \u001b[38;5;66;03m# output / z branch\u001b[39;00m\n",
      "File \u001b[0;32m/opt/conda/lib/python3.10/site-packages/torch/nn/modules/module.py:1553\u001b[0m, in \u001b[0;36mModule._wrapped_call_impl\u001b[0;34m(self, *args, **kwargs)\u001b[0m\n\u001b[1;32m   1551\u001b[0m     \u001b[38;5;28;01mreturn\u001b[39;00m \u001b[38;5;28mself\u001b[39m\u001b[38;5;241m.\u001b[39m_compiled_call_impl(\u001b[38;5;241m*\u001b[39margs, \u001b[38;5;241m*\u001b[39m\u001b[38;5;241m*\u001b[39mkwargs)  \u001b[38;5;66;03m# type: ignore[misc]\u001b[39;00m\n\u001b[1;32m   1552\u001b[0m \u001b[38;5;28;01melse\u001b[39;00m:\n\u001b[0;32m-> 1553\u001b[0m     \u001b[38;5;28;01mreturn\u001b[39;00m \u001b[38;5;28;43mself\u001b[39;49m\u001b[38;5;241;43m.\u001b[39;49m\u001b[43m_call_impl\u001b[49m\u001b[43m(\u001b[49m\u001b[38;5;241;43m*\u001b[39;49m\u001b[43margs\u001b[49m\u001b[43m,\u001b[49m\u001b[43m \u001b[49m\u001b[38;5;241;43m*\u001b[39;49m\u001b[38;5;241;43m*\u001b[39;49m\u001b[43mkwargs\u001b[49m\u001b[43m)\u001b[49m\n",
      "File \u001b[0;32m/opt/conda/lib/python3.10/site-packages/torch/nn/modules/module.py:1562\u001b[0m, in \u001b[0;36mModule._call_impl\u001b[0;34m(self, *args, **kwargs)\u001b[0m\n\u001b[1;32m   1557\u001b[0m \u001b[38;5;66;03m# If we don't have any hooks, we want to skip the rest of the logic in\u001b[39;00m\n\u001b[1;32m   1558\u001b[0m \u001b[38;5;66;03m# this function, and just call forward.\u001b[39;00m\n\u001b[1;32m   1559\u001b[0m \u001b[38;5;28;01mif\u001b[39;00m \u001b[38;5;129;01mnot\u001b[39;00m (\u001b[38;5;28mself\u001b[39m\u001b[38;5;241m.\u001b[39m_backward_hooks \u001b[38;5;129;01mor\u001b[39;00m \u001b[38;5;28mself\u001b[39m\u001b[38;5;241m.\u001b[39m_backward_pre_hooks \u001b[38;5;129;01mor\u001b[39;00m \u001b[38;5;28mself\u001b[39m\u001b[38;5;241m.\u001b[39m_forward_hooks \u001b[38;5;129;01mor\u001b[39;00m \u001b[38;5;28mself\u001b[39m\u001b[38;5;241m.\u001b[39m_forward_pre_hooks\n\u001b[1;32m   1560\u001b[0m         \u001b[38;5;129;01mor\u001b[39;00m _global_backward_pre_hooks \u001b[38;5;129;01mor\u001b[39;00m _global_backward_hooks\n\u001b[1;32m   1561\u001b[0m         \u001b[38;5;129;01mor\u001b[39;00m _global_forward_hooks \u001b[38;5;129;01mor\u001b[39;00m _global_forward_pre_hooks):\n\u001b[0;32m-> 1562\u001b[0m     \u001b[38;5;28;01mreturn\u001b[39;00m \u001b[43mforward_call\u001b[49m\u001b[43m(\u001b[49m\u001b[38;5;241;43m*\u001b[39;49m\u001b[43margs\u001b[49m\u001b[43m,\u001b[49m\u001b[43m \u001b[49m\u001b[38;5;241;43m*\u001b[39;49m\u001b[38;5;241;43m*\u001b[39;49m\u001b[43mkwargs\u001b[49m\u001b[43m)\u001b[49m\n\u001b[1;32m   1564\u001b[0m \u001b[38;5;28;01mtry\u001b[39;00m:\n\u001b[1;32m   1565\u001b[0m     result \u001b[38;5;241m=\u001b[39m \u001b[38;5;28;01mNone\u001b[39;00m\n",
      "File \u001b[0;32m/opt/conda/lib/python3.10/site-packages/xlstm/blocks/mlstm/cell.py:61\u001b[0m, in \u001b[0;36mmLSTMCell.forward\u001b[0;34m(self, q, k, v, **kwargs)\u001b[0m\n\u001b[1;32m     58\u001b[0m fgate_preact \u001b[38;5;241m=\u001b[39m \u001b[38;5;28mself\u001b[39m\u001b[38;5;241m.\u001b[39mfgate(if_gate_input)  \u001b[38;5;66;03m# (B, S, NH)\u001b[39;00m\n\u001b[1;32m     59\u001b[0m fgate_preact \u001b[38;5;241m=\u001b[39m fgate_preact\u001b[38;5;241m.\u001b[39mtranspose(\u001b[38;5;241m-\u001b[39m\u001b[38;5;241m1\u001b[39m, \u001b[38;5;241m-\u001b[39m\u001b[38;5;241m2\u001b[39m)\u001b[38;5;241m.\u001b[39munsqueeze(\u001b[38;5;241m-\u001b[39m\u001b[38;5;241m1\u001b[39m)  \u001b[38;5;66;03m# (B, NH, S, 1)#\u001b[39;00m\n\u001b[0;32m---> 61\u001b[0m h_state \u001b[38;5;241m=\u001b[39m \u001b[38;5;28;43mself\u001b[39;49m\u001b[38;5;241;43m.\u001b[39;49m\u001b[43mbackend_fn\u001b[49m\u001b[43m(\u001b[49m\n\u001b[1;32m     62\u001b[0m \u001b[43m    \u001b[49m\u001b[43mqueries\u001b[49m\u001b[38;5;241;43m=\u001b[39;49m\u001b[43mq\u001b[49m\u001b[43m,\u001b[49m\n\u001b[1;32m     63\u001b[0m \u001b[43m    \u001b[49m\u001b[43mkeys\u001b[49m\u001b[38;5;241;43m=\u001b[39;49m\u001b[43mk\u001b[49m\u001b[43m,\u001b[49m\n\u001b[1;32m     64\u001b[0m \u001b[43m    \u001b[49m\u001b[43mvalues\u001b[49m\u001b[38;5;241;43m=\u001b[39;49m\u001b[43mv\u001b[49m\u001b[43m,\u001b[49m\n\u001b[1;32m     65\u001b[0m \u001b[43m    \u001b[49m\u001b[43migate_preact\u001b[49m\u001b[38;5;241;43m=\u001b[39;49m\u001b[43migate_preact\u001b[49m\u001b[43m,\u001b[49m\n\u001b[1;32m     66\u001b[0m \u001b[43m    \u001b[49m\u001b[43mfgate_preact\u001b[49m\u001b[38;5;241;43m=\u001b[39;49m\u001b[43mfgate_preact\u001b[49m\u001b[43m,\u001b[49m\n\u001b[1;32m     67\u001b[0m \u001b[43m    \u001b[49m\u001b[43mlower_triangular_matrix\u001b[49m\u001b[38;5;241;43m=\u001b[39;49m\u001b[38;5;28;43mself\u001b[39;49m\u001b[38;5;241;43m.\u001b[39;49m\u001b[43mcausal_mask\u001b[49m\u001b[43m,\u001b[49m\n\u001b[1;32m     68\u001b[0m \u001b[43m\u001b[49m\u001b[43m)\u001b[49m  \u001b[38;5;66;03m# (B, NH, S, DH)\u001b[39;00m\n\u001b[1;32m     70\u001b[0m h_state_norm \u001b[38;5;241m=\u001b[39m \u001b[38;5;28mself\u001b[39m\u001b[38;5;241m.\u001b[39moutnorm(h_state)  \u001b[38;5;66;03m# (B, NH, S, DH)\u001b[39;00m\n\u001b[1;32m     71\u001b[0m h_state_norm \u001b[38;5;241m=\u001b[39m h_state_norm\u001b[38;5;241m.\u001b[39mtranspose(\u001b[38;5;241m1\u001b[39m, \u001b[38;5;241m2\u001b[39m)\u001b[38;5;241m.\u001b[39mreshape(B, S, \u001b[38;5;241m-\u001b[39m\u001b[38;5;241m1\u001b[39m)  \u001b[38;5;66;03m# (B, NH, S, DH) -> (B, S, NH, DH) -> (B, S, H)\u001b[39;00m\n",
      "File \u001b[0;32m/opt/conda/lib/python3.10/site-packages/xlstm/blocks/mlstm/backends.py:82\u001b[0m, in \u001b[0;36mparallel_stabilized_simple\u001b[0;34m(queries, keys, values, igate_preact, fgate_preact, lower_triangular_matrix, stabilize_rowwise, eps, **kwargs)\u001b[0m\n\u001b[1;32m     80\u001b[0m qk_matrix \u001b[38;5;241m=\u001b[39m queries \u001b[38;5;241m@\u001b[39m keys_scaled\u001b[38;5;241m.\u001b[39mtranspose(\u001b[38;5;241m-\u001b[39m\u001b[38;5;241m2\u001b[39m, \u001b[38;5;241m-\u001b[39m\u001b[38;5;241m1\u001b[39m)  \u001b[38;5;66;03m# (B, NH, S, S)\u001b[39;00m\n\u001b[1;32m     81\u001b[0m C_matrix \u001b[38;5;241m=\u001b[39m qk_matrix \u001b[38;5;241m*\u001b[39m D_matrix  \u001b[38;5;66;03m# (B, NH, S, S)\u001b[39;00m\n\u001b[0;32m---> 82\u001b[0m normalizer \u001b[38;5;241m=\u001b[39m \u001b[43mtorch\u001b[49m\u001b[38;5;241;43m.\u001b[39;49m\u001b[43mmaximum\u001b[49m\u001b[43m(\u001b[49m\u001b[43mC_matrix\u001b[49m\u001b[38;5;241;43m.\u001b[39;49m\u001b[43msum\u001b[49m\u001b[43m(\u001b[49m\u001b[43mdim\u001b[49m\u001b[38;5;241;43m=\u001b[39;49m\u001b[38;5;241;43m-\u001b[39;49m\u001b[38;5;241;43m1\u001b[39;49m\u001b[43m,\u001b[49m\u001b[43m \u001b[49m\u001b[43mkeepdim\u001b[49m\u001b[38;5;241;43m=\u001b[39;49m\u001b[38;5;28;43;01mTrue\u001b[39;49;00m\u001b[43m)\u001b[49m\u001b[38;5;241;43m.\u001b[39;49m\u001b[43mabs\u001b[49m\u001b[43m(\u001b[49m\u001b[43m)\u001b[49m\u001b[43m,\u001b[49m\u001b[43m \u001b[49m\u001b[43mtorch\u001b[49m\u001b[38;5;241;43m.\u001b[39;49m\u001b[43mexp\u001b[49m\u001b[43m(\u001b[49m\u001b[38;5;241;43m-\u001b[39;49m\u001b[43mmax_log_D\u001b[49m\u001b[43m)\u001b[49m\u001b[43m)\u001b[49m  \u001b[38;5;66;03m# (B, NH, S, 1)\u001b[39;00m\n\u001b[1;32m     83\u001b[0m \u001b[38;5;66;03m# (B, NH, S, S)\u001b[39;00m\n\u001b[1;32m     84\u001b[0m C_matrix_normalized \u001b[38;5;241m=\u001b[39m C_matrix \u001b[38;5;241m/\u001b[39m (normalizer \u001b[38;5;241m+\u001b[39m eps)\n",
      "\u001b[0;31mKeyboardInterrupt\u001b[0m: "
     ]
    }
   ],
   "source": [
    "for epoch in range(num_epochs):\n",
    "    model.train()\n",
    "    for X_batch, y_batch in loader:\n",
    "        y_pred = model(X_batch)\n",
    "        loss = criterion(y_pred, y_batch)\n",
    "        optimizer.zero_grad()\n",
    "        loss.backward()\n",
    "        optimizer.step()\n",
    "    model.eval()\n",
    "    totalYPred = []\n",
    "    totalY = []\n",
    "    with torch.no_grad():\n",
    "        for X_batch, y_batch in loader:\n",
    "            totalY.append(y_batch)\n",
    "            totalYPred.append(model(X_batch))\n",
    "    actualY = torch.cat(totalY, 0)\n",
    "    predY = torch.cat(totalYPred, 0)\n",
    "    metric = MulticlassAccuracy()\n",
    "    metric.update(predY, actualY)\n",
    "    train_acc = metric.compute()\n",
    "    print(\"Epoch %d: Train Accuracy %.4f,\" % (epoch, train_acc), end=\"\")\n",
    "\n",
    "    totalYPred = []\n",
    "    totalY = []\n",
    "    with torch.no_grad():\n",
    "        for X_batch, y_batch in testLoader:\n",
    "            totalY.append(y_batch)\n",
    "            totalYPred.append(model(X_batch))\n",
    "    actualY = torch.cat(totalY, 0)\n",
    "    predY = torch.cat(totalYPred, 0)\n",
    "    metric = MulticlassAccuracy()\n",
    "    metric.update(predY, actualY)\n",
    "    test_acc = metric.compute()\n",
    "    print(\" Test Accuracy %.4f\" % (test_acc))\n",
    "    del totalYPred\n",
    "    del totalY\n",
    "    del actualY\n",
    "    del predY"
   ]
  },
  {
   "cell_type": "markdown",
   "metadata": {},
   "source": [
    "## Combining hand and arm\n",
    "## window 128, overlapp 64"
   ]
  },
  {
   "cell_type": "code",
   "execution_count": 58,
   "metadata": {
    "execution": {
     "iopub.execute_input": "2024-12-09T07:40:30.269650Z",
     "iopub.status.busy": "2024-12-09T07:40:30.268953Z",
     "iopub.status.idle": "2024-12-09T07:45:17.355803Z",
     "shell.execute_reply": "2024-12-09T07:45:17.354286Z",
     "shell.execute_reply.started": "2024-12-09T07:40:30.269615Z"
    },
    "trusted": true
   },
   "outputs": [
    {
     "name": "stdout",
     "output_type": "stream",
     "text": [
      "Epoch 0: Train Accuracy 0.4361, Test Accuracy 0.4371\n",
      "Epoch 1: Train Accuracy 0.4955, Test Accuracy 0.4718\n",
      "Epoch 2: Train Accuracy 0.5170, Test Accuracy 0.4870\n",
      "Epoch 3: Train Accuracy 0.5609, Test Accuracy 0.5260\n",
      "Epoch 4: Train Accuracy 0.5674, Test Accuracy 0.5260\n",
      "Epoch 5: Train Accuracy 0.5512, Test Accuracy 0.5119\n",
      "Epoch 6: Train Accuracy 0.5970, Test Accuracy 0.5629\n",
      "Epoch 7: Train Accuracy 0.6187, Test Accuracy 0.5868\n",
      "Epoch 8: Train Accuracy 0.6098, Test Accuracy 0.5727\n",
      "Epoch 9: Train Accuracy 0.6583, Test Accuracy 0.6215\n",
      "Epoch 10: Train Accuracy 0.6556, Test Accuracy 0.6280\n",
      "Epoch 11: Train Accuracy 0.6581, Test Accuracy 0.6302\n",
      "Epoch 12: Train Accuracy 0.6681, Test Accuracy 0.6280\n",
      "Epoch 13: Train Accuracy 0.6757, Test Accuracy 0.6453\n",
      "Epoch 14: Train Accuracy 0.6820, Test Accuracy 0.6432\n",
      "Epoch 15: Train Accuracy 0.6806, Test Accuracy 0.6432\n",
      "Epoch 16: Train Accuracy 0.6757, Test Accuracy 0.6377\n",
      "Epoch 17: Train Accuracy 0.6849, Test Accuracy 0.6464\n",
      "Epoch 18: Train Accuracy 0.6912, Test Accuracy 0.6551\n",
      "Epoch 19: Train Accuracy 0.6928, Test Accuracy 0.6638\n",
      "Epoch 20: Train Accuracy 0.6779, Test Accuracy 0.6616\n",
      "Epoch 21: Train Accuracy 0.6744, Test Accuracy 0.6345\n",
      "Epoch 22: Train Accuracy 0.6966, Test Accuracy 0.6649\n",
      "Epoch 23: Train Accuracy 0.6996, Test Accuracy 0.6659\n",
      "Epoch 24: Train Accuracy 0.6980, Test Accuracy 0.6594\n",
      "Epoch 25: Train Accuracy 0.7007, Test Accuracy 0.6584\n",
      "Epoch 26: Train Accuracy 0.6980, Test Accuracy 0.6649\n",
      "Epoch 27: Train Accuracy 0.6882, Test Accuracy 0.6464\n",
      "Epoch 28: Train Accuracy 0.6982, Test Accuracy 0.6584\n",
      "Epoch 29: Train Accuracy 0.6950, Test Accuracy 0.6486\n",
      "Epoch 30: Train Accuracy 0.7009, Test Accuracy 0.6551\n",
      "Epoch 31: Train Accuracy 0.6993, Test Accuracy 0.6529\n",
      "Epoch 32: Train Accuracy 0.7039, Test Accuracy 0.6584\n",
      "Epoch 33: Train Accuracy 0.7045, Test Accuracy 0.6540\n",
      "Epoch 34: Train Accuracy 0.7039, Test Accuracy 0.6627\n",
      "Epoch 35: Train Accuracy 0.7066, Test Accuracy 0.6584\n",
      "Epoch 36: Train Accuracy 0.7058, Test Accuracy 0.6627\n",
      "Epoch 37: Train Accuracy 0.7064, Test Accuracy 0.6627\n",
      "Epoch 38: Train Accuracy 0.7066, Test Accuracy 0.6649\n",
      "Epoch 39: Train Accuracy 0.7028, Test Accuracy 0.6605\n",
      "Epoch 40: Train Accuracy 0.7058, Test Accuracy 0.6692\n",
      "Epoch 41: Train Accuracy 0.7083, Test Accuracy 0.6714\n",
      "Epoch 42: Train Accuracy 0.7110, Test Accuracy 0.6659\n",
      "Epoch 43: Train Accuracy 0.7104, Test Accuracy 0.6649\n",
      "Epoch 44: Train Accuracy 0.6942, Test Accuracy 0.6562\n",
      "Epoch 45: Train Accuracy 0.7072, Test Accuracy 0.6735\n",
      "Epoch 46: Train Accuracy 0.7066, Test Accuracy 0.6725\n",
      "Epoch 47: Train Accuracy 0.7110, Test Accuracy 0.6692\n",
      "Epoch 48: Train Accuracy 0.7091, Test Accuracy 0.6779\n",
      "Epoch 49: Train Accuracy 0.7115, Test Accuracy 0.6746\n",
      "Epoch 50: Train Accuracy 0.7028, Test Accuracy 0.6681\n",
      "Epoch 51: Train Accuracy 0.7094, Test Accuracy 0.6811\n",
      "Epoch 52: Train Accuracy 0.7132, Test Accuracy 0.6779\n",
      "Epoch 53: Train Accuracy 0.7126, Test Accuracy 0.6703\n",
      "Epoch 54: Train Accuracy 0.7132, Test Accuracy 0.6811\n",
      "Epoch 55: Train Accuracy 0.7137, Test Accuracy 0.6790\n",
      "Epoch 56: Train Accuracy 0.7140, Test Accuracy 0.6735\n",
      "Epoch 57: Train Accuracy 0.7145, Test Accuracy 0.6822\n",
      "Epoch 58: Train Accuracy 0.7058, Test Accuracy 0.6692\n",
      "Epoch 59: Train Accuracy 0.7132, Test Accuracy 0.6725\n",
      "Epoch 60: Train Accuracy 0.7145, Test Accuracy 0.6768\n",
      "Epoch 61: Train Accuracy 0.7156, Test Accuracy 0.6833\n",
      "Epoch 62: Train Accuracy 0.7126, Test Accuracy 0.6703\n",
      "Epoch 63: Train Accuracy 0.7061, Test Accuracy 0.6714\n",
      "Epoch 64: Train Accuracy 0.7072, Test Accuracy 0.6616\n",
      "Epoch 65: Train Accuracy 0.7148, Test Accuracy 0.6757\n",
      "Epoch 66: Train Accuracy 0.7151, Test Accuracy 0.6800\n",
      "Epoch 67: Train Accuracy 0.7159, Test Accuracy 0.6887\n",
      "Epoch 68: Train Accuracy 0.7121, Test Accuracy 0.6790\n",
      "Epoch 69: Train Accuracy 0.7132, Test Accuracy 0.6757\n",
      "Epoch 70: Train Accuracy 0.7132, Test Accuracy 0.6757\n",
      "Epoch 71: Train Accuracy 0.7137, Test Accuracy 0.6822\n",
      "Epoch 72: Train Accuracy 0.7123, Test Accuracy 0.6703\n",
      "Epoch 73: Train Accuracy 0.7023, Test Accuracy 0.6746\n",
      "Epoch 74: Train Accuracy 0.7148, Test Accuracy 0.6768\n",
      "Epoch 75: Train Accuracy 0.7153, Test Accuracy 0.6800\n",
      "Epoch 76: Train Accuracy 0.7142, Test Accuracy 0.6822\n",
      "Epoch 77: Train Accuracy 0.7164, Test Accuracy 0.6811\n",
      "Epoch 78: Train Accuracy 0.7083, Test Accuracy 0.6594\n",
      "Epoch 79: Train Accuracy 0.7164, Test Accuracy 0.6800\n",
      "Epoch 80: Train Accuracy 0.7145, Test Accuracy 0.6779\n",
      "Epoch 81: Train Accuracy 0.7153, Test Accuracy 0.6746\n",
      "Epoch 82: Train Accuracy 0.7161, Test Accuracy 0.6844\n",
      "Epoch 83: Train Accuracy 0.7159, Test Accuracy 0.6866\n",
      "Epoch 84: Train Accuracy 0.7175, Test Accuracy 0.6855\n",
      "Epoch 85: Train Accuracy 0.7172, Test Accuracy 0.6822\n",
      "Epoch 86: Train Accuracy 0.7172, Test Accuracy 0.6822\n",
      "Epoch 87: Train Accuracy 0.7172, Test Accuracy 0.6876\n",
      "Epoch 88: Train Accuracy 0.7175, Test Accuracy 0.6779\n",
      "Epoch 89: Train Accuracy 0.7156, Test Accuracy 0.6866\n",
      "Epoch 90: Train Accuracy 0.7148, Test Accuracy 0.6844\n",
      "Epoch 91: Train Accuracy 0.7126, Test Accuracy 0.6822\n",
      "Epoch 92: Train Accuracy 0.7145, Test Accuracy 0.6725\n",
      "Epoch 93: Train Accuracy 0.6939, Test Accuracy 0.6432\n",
      "Epoch 94: Train Accuracy 0.7069, Test Accuracy 0.6594\n",
      "Epoch 95: Train Accuracy 0.7096, Test Accuracy 0.6649\n",
      "Epoch 96: Train Accuracy 0.7129, Test Accuracy 0.6714\n",
      "Epoch 97: Train Accuracy 0.7145, Test Accuracy 0.6692\n",
      "Epoch 98: Train Accuracy 0.7118, Test Accuracy 0.6757\n",
      "Epoch 99: Train Accuracy 0.7164, Test Accuracy 0.6779\n",
      "Epoch 100: Train Accuracy 0.7156, Test Accuracy 0.6692\n",
      "Epoch 101: Train Accuracy 0.7164, Test Accuracy 0.6779\n"
     ]
    },
    {
     "ename": "KeyboardInterrupt",
     "evalue": "",
     "output_type": "error",
     "traceback": [
      "\u001b[0;31m---------------------------------------------------------------------------\u001b[0m",
      "\u001b[0;31mKeyboardInterrupt\u001b[0m                         Traceback (most recent call last)",
      "Cell \u001b[0;32mIn[58], line 4\u001b[0m\n\u001b[1;32m      2\u001b[0m model\u001b[38;5;241m.\u001b[39mtrain()\n\u001b[1;32m      3\u001b[0m \u001b[38;5;28;01mfor\u001b[39;00m X_batch, y_batch \u001b[38;5;129;01min\u001b[39;00m loader:\n\u001b[0;32m----> 4\u001b[0m     y_pred \u001b[38;5;241m=\u001b[39m \u001b[43mmodel\u001b[49m\u001b[43m(\u001b[49m\u001b[43mX_batch\u001b[49m\u001b[43m)\u001b[49m\n\u001b[1;32m      5\u001b[0m     loss \u001b[38;5;241m=\u001b[39m criterion(y_pred, y_batch)\n\u001b[1;32m      6\u001b[0m     optimizer\u001b[38;5;241m.\u001b[39mzero_grad()\n",
      "File \u001b[0;32m/opt/conda/lib/python3.10/site-packages/torch/nn/modules/module.py:1553\u001b[0m, in \u001b[0;36mModule._wrapped_call_impl\u001b[0;34m(self, *args, **kwargs)\u001b[0m\n\u001b[1;32m   1551\u001b[0m     \u001b[38;5;28;01mreturn\u001b[39;00m \u001b[38;5;28mself\u001b[39m\u001b[38;5;241m.\u001b[39m_compiled_call_impl(\u001b[38;5;241m*\u001b[39margs, \u001b[38;5;241m*\u001b[39m\u001b[38;5;241m*\u001b[39mkwargs)  \u001b[38;5;66;03m# type: ignore[misc]\u001b[39;00m\n\u001b[1;32m   1552\u001b[0m \u001b[38;5;28;01melse\u001b[39;00m:\n\u001b[0;32m-> 1553\u001b[0m     \u001b[38;5;28;01mreturn\u001b[39;00m \u001b[38;5;28;43mself\u001b[39;49m\u001b[38;5;241;43m.\u001b[39;49m\u001b[43m_call_impl\u001b[49m\u001b[43m(\u001b[49m\u001b[38;5;241;43m*\u001b[39;49m\u001b[43margs\u001b[49m\u001b[43m,\u001b[49m\u001b[43m \u001b[49m\u001b[38;5;241;43m*\u001b[39;49m\u001b[38;5;241;43m*\u001b[39;49m\u001b[43mkwargs\u001b[49m\u001b[43m)\u001b[49m\n",
      "File \u001b[0;32m/opt/conda/lib/python3.10/site-packages/torch/nn/modules/module.py:1562\u001b[0m, in \u001b[0;36mModule._call_impl\u001b[0;34m(self, *args, **kwargs)\u001b[0m\n\u001b[1;32m   1557\u001b[0m \u001b[38;5;66;03m# If we don't have any hooks, we want to skip the rest of the logic in\u001b[39;00m\n\u001b[1;32m   1558\u001b[0m \u001b[38;5;66;03m# this function, and just call forward.\u001b[39;00m\n\u001b[1;32m   1559\u001b[0m \u001b[38;5;28;01mif\u001b[39;00m \u001b[38;5;129;01mnot\u001b[39;00m (\u001b[38;5;28mself\u001b[39m\u001b[38;5;241m.\u001b[39m_backward_hooks \u001b[38;5;129;01mor\u001b[39;00m \u001b[38;5;28mself\u001b[39m\u001b[38;5;241m.\u001b[39m_backward_pre_hooks \u001b[38;5;129;01mor\u001b[39;00m \u001b[38;5;28mself\u001b[39m\u001b[38;5;241m.\u001b[39m_forward_hooks \u001b[38;5;129;01mor\u001b[39;00m \u001b[38;5;28mself\u001b[39m\u001b[38;5;241m.\u001b[39m_forward_pre_hooks\n\u001b[1;32m   1560\u001b[0m         \u001b[38;5;129;01mor\u001b[39;00m _global_backward_pre_hooks \u001b[38;5;129;01mor\u001b[39;00m _global_backward_hooks\n\u001b[1;32m   1561\u001b[0m         \u001b[38;5;129;01mor\u001b[39;00m _global_forward_hooks \u001b[38;5;129;01mor\u001b[39;00m _global_forward_pre_hooks):\n\u001b[0;32m-> 1562\u001b[0m     \u001b[38;5;28;01mreturn\u001b[39;00m \u001b[43mforward_call\u001b[49m\u001b[43m(\u001b[49m\u001b[38;5;241;43m*\u001b[39;49m\u001b[43margs\u001b[49m\u001b[43m,\u001b[49m\u001b[43m \u001b[49m\u001b[38;5;241;43m*\u001b[39;49m\u001b[38;5;241;43m*\u001b[39;49m\u001b[43mkwargs\u001b[49m\u001b[43m)\u001b[49m\n\u001b[1;32m   1564\u001b[0m \u001b[38;5;28;01mtry\u001b[39;00m:\n\u001b[1;32m   1565\u001b[0m     result \u001b[38;5;241m=\u001b[39m \u001b[38;5;28;01mNone\u001b[39;00m\n",
      "Cell \u001b[0;32mIn[50], line 14\u001b[0m, in \u001b[0;36mTestModel.forward\u001b[0;34m(self, x)\u001b[0m\n\u001b[1;32m     13\u001b[0m \u001b[38;5;28;01mdef\u001b[39;00m \u001b[38;5;21mforward\u001b[39m(\u001b[38;5;28mself\u001b[39m, x):\n\u001b[0;32m---> 14\u001b[0m     out \u001b[38;5;241m=\u001b[39m \u001b[38;5;28;43mself\u001b[39;49m\u001b[38;5;241;43m.\u001b[39;49m\u001b[43mxlstm\u001b[49m\u001b[43m(\u001b[49m\u001b[43mx\u001b[49m\u001b[43m)\u001b[49m\n\u001b[1;32m     15\u001b[0m     \u001b[38;5;66;03m# x -> (batch_size, sequence_length, hidden_size)\u001b[39;00m\n\u001b[1;32m     16\u001b[0m     out \u001b[38;5;241m=\u001b[39m \u001b[38;5;28mself\u001b[39m\u001b[38;5;241m.\u001b[39mtanh(out)\n",
      "File \u001b[0;32m/opt/conda/lib/python3.10/site-packages/torch/nn/modules/module.py:1553\u001b[0m, in \u001b[0;36mModule._wrapped_call_impl\u001b[0;34m(self, *args, **kwargs)\u001b[0m\n\u001b[1;32m   1551\u001b[0m     \u001b[38;5;28;01mreturn\u001b[39;00m \u001b[38;5;28mself\u001b[39m\u001b[38;5;241m.\u001b[39m_compiled_call_impl(\u001b[38;5;241m*\u001b[39margs, \u001b[38;5;241m*\u001b[39m\u001b[38;5;241m*\u001b[39mkwargs)  \u001b[38;5;66;03m# type: ignore[misc]\u001b[39;00m\n\u001b[1;32m   1552\u001b[0m \u001b[38;5;28;01melse\u001b[39;00m:\n\u001b[0;32m-> 1553\u001b[0m     \u001b[38;5;28;01mreturn\u001b[39;00m \u001b[38;5;28;43mself\u001b[39;49m\u001b[38;5;241;43m.\u001b[39;49m\u001b[43m_call_impl\u001b[49m\u001b[43m(\u001b[49m\u001b[38;5;241;43m*\u001b[39;49m\u001b[43margs\u001b[49m\u001b[43m,\u001b[49m\u001b[43m \u001b[49m\u001b[38;5;241;43m*\u001b[39;49m\u001b[38;5;241;43m*\u001b[39;49m\u001b[43mkwargs\u001b[49m\u001b[43m)\u001b[49m\n",
      "File \u001b[0;32m/opt/conda/lib/python3.10/site-packages/torch/nn/modules/module.py:1562\u001b[0m, in \u001b[0;36mModule._call_impl\u001b[0;34m(self, *args, **kwargs)\u001b[0m\n\u001b[1;32m   1557\u001b[0m \u001b[38;5;66;03m# If we don't have any hooks, we want to skip the rest of the logic in\u001b[39;00m\n\u001b[1;32m   1558\u001b[0m \u001b[38;5;66;03m# this function, and just call forward.\u001b[39;00m\n\u001b[1;32m   1559\u001b[0m \u001b[38;5;28;01mif\u001b[39;00m \u001b[38;5;129;01mnot\u001b[39;00m (\u001b[38;5;28mself\u001b[39m\u001b[38;5;241m.\u001b[39m_backward_hooks \u001b[38;5;129;01mor\u001b[39;00m \u001b[38;5;28mself\u001b[39m\u001b[38;5;241m.\u001b[39m_backward_pre_hooks \u001b[38;5;129;01mor\u001b[39;00m \u001b[38;5;28mself\u001b[39m\u001b[38;5;241m.\u001b[39m_forward_hooks \u001b[38;5;129;01mor\u001b[39;00m \u001b[38;5;28mself\u001b[39m\u001b[38;5;241m.\u001b[39m_forward_pre_hooks\n\u001b[1;32m   1560\u001b[0m         \u001b[38;5;129;01mor\u001b[39;00m _global_backward_pre_hooks \u001b[38;5;129;01mor\u001b[39;00m _global_backward_hooks\n\u001b[1;32m   1561\u001b[0m         \u001b[38;5;129;01mor\u001b[39;00m _global_forward_hooks \u001b[38;5;129;01mor\u001b[39;00m _global_forward_pre_hooks):\n\u001b[0;32m-> 1562\u001b[0m     \u001b[38;5;28;01mreturn\u001b[39;00m \u001b[43mforward_call\u001b[49m\u001b[43m(\u001b[49m\u001b[38;5;241;43m*\u001b[39;49m\u001b[43margs\u001b[49m\u001b[43m,\u001b[49m\u001b[43m \u001b[49m\u001b[38;5;241;43m*\u001b[39;49m\u001b[38;5;241;43m*\u001b[39;49m\u001b[43mkwargs\u001b[49m\u001b[43m)\u001b[49m\n\u001b[1;32m   1564\u001b[0m \u001b[38;5;28;01mtry\u001b[39;00m:\n\u001b[1;32m   1565\u001b[0m     result \u001b[38;5;241m=\u001b[39m \u001b[38;5;28;01mNone\u001b[39;00m\n",
      "File \u001b[0;32m/opt/conda/lib/python3.10/site-packages/xlstm/xlstm_block_stack.py:120\u001b[0m, in \u001b[0;36mxLSTMBlockStack.forward\u001b[0;34m(self, x, **kwargs)\u001b[0m\n\u001b[1;32m    117\u001b[0m \u001b[38;5;28;01mdef\u001b[39;00m \u001b[38;5;21mforward\u001b[39m(\u001b[38;5;28mself\u001b[39m, x: torch\u001b[38;5;241m.\u001b[39mTensor, \u001b[38;5;241m*\u001b[39m\u001b[38;5;241m*\u001b[39mkwargs) \u001b[38;5;241m-\u001b[39m\u001b[38;5;241m>\u001b[39m torch\u001b[38;5;241m.\u001b[39mTensor:\n\u001b[1;32m    119\u001b[0m     \u001b[38;5;28;01mfor\u001b[39;00m block \u001b[38;5;129;01min\u001b[39;00m \u001b[38;5;28mself\u001b[39m\u001b[38;5;241m.\u001b[39mblocks:\n\u001b[0;32m--> 120\u001b[0m         x \u001b[38;5;241m=\u001b[39m \u001b[43mblock\u001b[49m\u001b[43m(\u001b[49m\u001b[43mx\u001b[49m\u001b[43m,\u001b[49m\u001b[43m \u001b[49m\u001b[38;5;241;43m*\u001b[39;49m\u001b[38;5;241;43m*\u001b[39;49m\u001b[43mkwargs\u001b[49m\u001b[43m)\u001b[49m\n\u001b[1;32m    122\u001b[0m     x \u001b[38;5;241m=\u001b[39m \u001b[38;5;28mself\u001b[39m\u001b[38;5;241m.\u001b[39mpost_blocks_norm(x)\n\u001b[1;32m    124\u001b[0m     \u001b[38;5;28;01mreturn\u001b[39;00m x\n",
      "File \u001b[0;32m/opt/conda/lib/python3.10/site-packages/torch/nn/modules/module.py:1553\u001b[0m, in \u001b[0;36mModule._wrapped_call_impl\u001b[0;34m(self, *args, **kwargs)\u001b[0m\n\u001b[1;32m   1551\u001b[0m     \u001b[38;5;28;01mreturn\u001b[39;00m \u001b[38;5;28mself\u001b[39m\u001b[38;5;241m.\u001b[39m_compiled_call_impl(\u001b[38;5;241m*\u001b[39margs, \u001b[38;5;241m*\u001b[39m\u001b[38;5;241m*\u001b[39mkwargs)  \u001b[38;5;66;03m# type: ignore[misc]\u001b[39;00m\n\u001b[1;32m   1552\u001b[0m \u001b[38;5;28;01melse\u001b[39;00m:\n\u001b[0;32m-> 1553\u001b[0m     \u001b[38;5;28;01mreturn\u001b[39;00m \u001b[38;5;28;43mself\u001b[39;49m\u001b[38;5;241;43m.\u001b[39;49m\u001b[43m_call_impl\u001b[49m\u001b[43m(\u001b[49m\u001b[38;5;241;43m*\u001b[39;49m\u001b[43margs\u001b[49m\u001b[43m,\u001b[49m\u001b[43m \u001b[49m\u001b[38;5;241;43m*\u001b[39;49m\u001b[38;5;241;43m*\u001b[39;49m\u001b[43mkwargs\u001b[49m\u001b[43m)\u001b[49m\n",
      "File \u001b[0;32m/opt/conda/lib/python3.10/site-packages/torch/nn/modules/module.py:1562\u001b[0m, in \u001b[0;36mModule._call_impl\u001b[0;34m(self, *args, **kwargs)\u001b[0m\n\u001b[1;32m   1557\u001b[0m \u001b[38;5;66;03m# If we don't have any hooks, we want to skip the rest of the logic in\u001b[39;00m\n\u001b[1;32m   1558\u001b[0m \u001b[38;5;66;03m# this function, and just call forward.\u001b[39;00m\n\u001b[1;32m   1559\u001b[0m \u001b[38;5;28;01mif\u001b[39;00m \u001b[38;5;129;01mnot\u001b[39;00m (\u001b[38;5;28mself\u001b[39m\u001b[38;5;241m.\u001b[39m_backward_hooks \u001b[38;5;129;01mor\u001b[39;00m \u001b[38;5;28mself\u001b[39m\u001b[38;5;241m.\u001b[39m_backward_pre_hooks \u001b[38;5;129;01mor\u001b[39;00m \u001b[38;5;28mself\u001b[39m\u001b[38;5;241m.\u001b[39m_forward_hooks \u001b[38;5;129;01mor\u001b[39;00m \u001b[38;5;28mself\u001b[39m\u001b[38;5;241m.\u001b[39m_forward_pre_hooks\n\u001b[1;32m   1560\u001b[0m         \u001b[38;5;129;01mor\u001b[39;00m _global_backward_pre_hooks \u001b[38;5;129;01mor\u001b[39;00m _global_backward_hooks\n\u001b[1;32m   1561\u001b[0m         \u001b[38;5;129;01mor\u001b[39;00m _global_forward_hooks \u001b[38;5;129;01mor\u001b[39;00m _global_forward_pre_hooks):\n\u001b[0;32m-> 1562\u001b[0m     \u001b[38;5;28;01mreturn\u001b[39;00m \u001b[43mforward_call\u001b[49m\u001b[43m(\u001b[49m\u001b[38;5;241;43m*\u001b[39;49m\u001b[43margs\u001b[49m\u001b[43m,\u001b[49m\u001b[43m \u001b[49m\u001b[38;5;241;43m*\u001b[39;49m\u001b[38;5;241;43m*\u001b[39;49m\u001b[43mkwargs\u001b[49m\u001b[43m)\u001b[49m\n\u001b[1;32m   1564\u001b[0m \u001b[38;5;28;01mtry\u001b[39;00m:\n\u001b[1;32m   1565\u001b[0m     result \u001b[38;5;241m=\u001b[39m \u001b[38;5;28;01mNone\u001b[39;00m\n",
      "File \u001b[0;32m/opt/conda/lib/python3.10/site-packages/xlstm/blocks/xlstm_block.py:77\u001b[0m, in \u001b[0;36mxLSTMBlock.forward\u001b[0;34m(self, x, **kwargs)\u001b[0m\n\u001b[1;32m     76\u001b[0m \u001b[38;5;28;01mdef\u001b[39;00m \u001b[38;5;21mforward\u001b[39m(\u001b[38;5;28mself\u001b[39m, x: torch\u001b[38;5;241m.\u001b[39mTensor, \u001b[38;5;241m*\u001b[39m\u001b[38;5;241m*\u001b[39mkwargs) \u001b[38;5;241m-\u001b[39m\u001b[38;5;241m>\u001b[39m torch\u001b[38;5;241m.\u001b[39mTensor:\n\u001b[0;32m---> 77\u001b[0m     x \u001b[38;5;241m=\u001b[39m x \u001b[38;5;241m+\u001b[39m \u001b[38;5;28;43mself\u001b[39;49m\u001b[38;5;241;43m.\u001b[39;49m\u001b[43mxlstm\u001b[49m\u001b[43m(\u001b[49m\u001b[38;5;28;43mself\u001b[39;49m\u001b[38;5;241;43m.\u001b[39;49m\u001b[43mxlstm_norm\u001b[49m\u001b[43m(\u001b[49m\u001b[43mx\u001b[49m\u001b[43m)\u001b[49m\u001b[43m,\u001b[49m\u001b[43m \u001b[49m\u001b[38;5;241;43m*\u001b[39;49m\u001b[38;5;241;43m*\u001b[39;49m\u001b[43mkwargs\u001b[49m\u001b[43m)\u001b[49m\n\u001b[1;32m     78\u001b[0m     \u001b[38;5;28;01mif\u001b[39;00m \u001b[38;5;28mself\u001b[39m\u001b[38;5;241m.\u001b[39mffn \u001b[38;5;129;01mis\u001b[39;00m \u001b[38;5;129;01mnot\u001b[39;00m \u001b[38;5;28;01mNone\u001b[39;00m:\n\u001b[1;32m     79\u001b[0m         x \u001b[38;5;241m=\u001b[39m x \u001b[38;5;241m+\u001b[39m \u001b[38;5;28mself\u001b[39m\u001b[38;5;241m.\u001b[39mffn(\u001b[38;5;28mself\u001b[39m\u001b[38;5;241m.\u001b[39mffn_norm(x), \u001b[38;5;241m*\u001b[39m\u001b[38;5;241m*\u001b[39mkwargs)\n",
      "File \u001b[0;32m/opt/conda/lib/python3.10/site-packages/torch/nn/modules/module.py:1553\u001b[0m, in \u001b[0;36mModule._wrapped_call_impl\u001b[0;34m(self, *args, **kwargs)\u001b[0m\n\u001b[1;32m   1551\u001b[0m     \u001b[38;5;28;01mreturn\u001b[39;00m \u001b[38;5;28mself\u001b[39m\u001b[38;5;241m.\u001b[39m_compiled_call_impl(\u001b[38;5;241m*\u001b[39margs, \u001b[38;5;241m*\u001b[39m\u001b[38;5;241m*\u001b[39mkwargs)  \u001b[38;5;66;03m# type: ignore[misc]\u001b[39;00m\n\u001b[1;32m   1552\u001b[0m \u001b[38;5;28;01melse\u001b[39;00m:\n\u001b[0;32m-> 1553\u001b[0m     \u001b[38;5;28;01mreturn\u001b[39;00m \u001b[38;5;28;43mself\u001b[39;49m\u001b[38;5;241;43m.\u001b[39;49m\u001b[43m_call_impl\u001b[49m\u001b[43m(\u001b[49m\u001b[38;5;241;43m*\u001b[39;49m\u001b[43margs\u001b[49m\u001b[43m,\u001b[49m\u001b[43m \u001b[49m\u001b[38;5;241;43m*\u001b[39;49m\u001b[38;5;241;43m*\u001b[39;49m\u001b[43mkwargs\u001b[49m\u001b[43m)\u001b[49m\n",
      "File \u001b[0;32m/opt/conda/lib/python3.10/site-packages/torch/nn/modules/module.py:1562\u001b[0m, in \u001b[0;36mModule._call_impl\u001b[0;34m(self, *args, **kwargs)\u001b[0m\n\u001b[1;32m   1557\u001b[0m \u001b[38;5;66;03m# If we don't have any hooks, we want to skip the rest of the logic in\u001b[39;00m\n\u001b[1;32m   1558\u001b[0m \u001b[38;5;66;03m# this function, and just call forward.\u001b[39;00m\n\u001b[1;32m   1559\u001b[0m \u001b[38;5;28;01mif\u001b[39;00m \u001b[38;5;129;01mnot\u001b[39;00m (\u001b[38;5;28mself\u001b[39m\u001b[38;5;241m.\u001b[39m_backward_hooks \u001b[38;5;129;01mor\u001b[39;00m \u001b[38;5;28mself\u001b[39m\u001b[38;5;241m.\u001b[39m_backward_pre_hooks \u001b[38;5;129;01mor\u001b[39;00m \u001b[38;5;28mself\u001b[39m\u001b[38;5;241m.\u001b[39m_forward_hooks \u001b[38;5;129;01mor\u001b[39;00m \u001b[38;5;28mself\u001b[39m\u001b[38;5;241m.\u001b[39m_forward_pre_hooks\n\u001b[1;32m   1560\u001b[0m         \u001b[38;5;129;01mor\u001b[39;00m _global_backward_pre_hooks \u001b[38;5;129;01mor\u001b[39;00m _global_backward_hooks\n\u001b[1;32m   1561\u001b[0m         \u001b[38;5;129;01mor\u001b[39;00m _global_forward_hooks \u001b[38;5;129;01mor\u001b[39;00m _global_forward_pre_hooks):\n\u001b[0;32m-> 1562\u001b[0m     \u001b[38;5;28;01mreturn\u001b[39;00m \u001b[43mforward_call\u001b[49m\u001b[43m(\u001b[49m\u001b[38;5;241;43m*\u001b[39;49m\u001b[43margs\u001b[49m\u001b[43m,\u001b[49m\u001b[43m \u001b[49m\u001b[38;5;241;43m*\u001b[39;49m\u001b[38;5;241;43m*\u001b[39;49m\u001b[43mkwargs\u001b[49m\u001b[43m)\u001b[49m\n\u001b[1;32m   1564\u001b[0m \u001b[38;5;28;01mtry\u001b[39;00m:\n\u001b[1;32m   1565\u001b[0m     result \u001b[38;5;241m=\u001b[39m \u001b[38;5;28;01mNone\u001b[39;00m\n",
      "File \u001b[0;32m/opt/conda/lib/python3.10/site-packages/xlstm/blocks/mlstm/layer.py:113\u001b[0m, in \u001b[0;36mmLSTMLayer.forward\u001b[0;34m(self, x, **kwargs)\u001b[0m\n\u001b[1;32m    110\u001b[0m x_mlstm_conv_act \u001b[38;5;241m=\u001b[39m \u001b[38;5;28mself\u001b[39m\u001b[38;5;241m.\u001b[39mconv_act_fn(x_mlstm_conv)\n\u001b[1;32m    112\u001b[0m q \u001b[38;5;241m=\u001b[39m \u001b[38;5;28mself\u001b[39m\u001b[38;5;241m.\u001b[39mq_proj(x_mlstm_conv_act)\n\u001b[0;32m--> 113\u001b[0m k \u001b[38;5;241m=\u001b[39m \u001b[38;5;28;43mself\u001b[39;49m\u001b[38;5;241;43m.\u001b[39;49m\u001b[43mk_proj\u001b[49m\u001b[43m(\u001b[49m\u001b[43mx_mlstm_conv_act\u001b[49m\u001b[43m)\u001b[49m\n\u001b[1;32m    114\u001b[0m v \u001b[38;5;241m=\u001b[39m \u001b[38;5;28mself\u001b[39m\u001b[38;5;241m.\u001b[39mv_proj(x_mlstm)\n\u001b[1;32m    116\u001b[0m h_tilde_state \u001b[38;5;241m=\u001b[39m \u001b[38;5;28mself\u001b[39m\u001b[38;5;241m.\u001b[39mmlstm_cell(q\u001b[38;5;241m=\u001b[39mq, k\u001b[38;5;241m=\u001b[39mk, v\u001b[38;5;241m=\u001b[39mv)\n",
      "File \u001b[0;32m/opt/conda/lib/python3.10/site-packages/torch/nn/modules/module.py:1553\u001b[0m, in \u001b[0;36mModule._wrapped_call_impl\u001b[0;34m(self, *args, **kwargs)\u001b[0m\n\u001b[1;32m   1551\u001b[0m     \u001b[38;5;28;01mreturn\u001b[39;00m \u001b[38;5;28mself\u001b[39m\u001b[38;5;241m.\u001b[39m_compiled_call_impl(\u001b[38;5;241m*\u001b[39margs, \u001b[38;5;241m*\u001b[39m\u001b[38;5;241m*\u001b[39mkwargs)  \u001b[38;5;66;03m# type: ignore[misc]\u001b[39;00m\n\u001b[1;32m   1552\u001b[0m \u001b[38;5;28;01melse\u001b[39;00m:\n\u001b[0;32m-> 1553\u001b[0m     \u001b[38;5;28;01mreturn\u001b[39;00m \u001b[38;5;28;43mself\u001b[39;49m\u001b[38;5;241;43m.\u001b[39;49m\u001b[43m_call_impl\u001b[49m\u001b[43m(\u001b[49m\u001b[38;5;241;43m*\u001b[39;49m\u001b[43margs\u001b[49m\u001b[43m,\u001b[49m\u001b[43m \u001b[49m\u001b[38;5;241;43m*\u001b[39;49m\u001b[38;5;241;43m*\u001b[39;49m\u001b[43mkwargs\u001b[49m\u001b[43m)\u001b[49m\n",
      "File \u001b[0;32m/opt/conda/lib/python3.10/site-packages/torch/nn/modules/module.py:1562\u001b[0m, in \u001b[0;36mModule._call_impl\u001b[0;34m(self, *args, **kwargs)\u001b[0m\n\u001b[1;32m   1557\u001b[0m \u001b[38;5;66;03m# If we don't have any hooks, we want to skip the rest of the logic in\u001b[39;00m\n\u001b[1;32m   1558\u001b[0m \u001b[38;5;66;03m# this function, and just call forward.\u001b[39;00m\n\u001b[1;32m   1559\u001b[0m \u001b[38;5;28;01mif\u001b[39;00m \u001b[38;5;129;01mnot\u001b[39;00m (\u001b[38;5;28mself\u001b[39m\u001b[38;5;241m.\u001b[39m_backward_hooks \u001b[38;5;129;01mor\u001b[39;00m \u001b[38;5;28mself\u001b[39m\u001b[38;5;241m.\u001b[39m_backward_pre_hooks \u001b[38;5;129;01mor\u001b[39;00m \u001b[38;5;28mself\u001b[39m\u001b[38;5;241m.\u001b[39m_forward_hooks \u001b[38;5;129;01mor\u001b[39;00m \u001b[38;5;28mself\u001b[39m\u001b[38;5;241m.\u001b[39m_forward_pre_hooks\n\u001b[1;32m   1560\u001b[0m         \u001b[38;5;129;01mor\u001b[39;00m _global_backward_pre_hooks \u001b[38;5;129;01mor\u001b[39;00m _global_backward_hooks\n\u001b[1;32m   1561\u001b[0m         \u001b[38;5;129;01mor\u001b[39;00m _global_forward_hooks \u001b[38;5;129;01mor\u001b[39;00m _global_forward_pre_hooks):\n\u001b[0;32m-> 1562\u001b[0m     \u001b[38;5;28;01mreturn\u001b[39;00m \u001b[43mforward_call\u001b[49m\u001b[43m(\u001b[49m\u001b[38;5;241;43m*\u001b[39;49m\u001b[43margs\u001b[49m\u001b[43m,\u001b[49m\u001b[43m \u001b[49m\u001b[38;5;241;43m*\u001b[39;49m\u001b[38;5;241;43m*\u001b[39;49m\u001b[43mkwargs\u001b[49m\u001b[43m)\u001b[49m\n\u001b[1;32m   1564\u001b[0m \u001b[38;5;28;01mtry\u001b[39;00m:\n\u001b[1;32m   1565\u001b[0m     result \u001b[38;5;241m=\u001b[39m \u001b[38;5;28;01mNone\u001b[39;00m\n",
      "File \u001b[0;32m/opt/conda/lib/python3.10/site-packages/xlstm/components/linear_headwise.py:78\u001b[0m, in \u001b[0;36mLinearHeadwiseExpand.forward\u001b[0;34m(self, x)\u001b[0m\n\u001b[1;32m     76\u001b[0m shape \u001b[38;5;241m=\u001b[39m x\u001b[38;5;241m.\u001b[39mshape\n\u001b[1;32m     77\u001b[0m x \u001b[38;5;241m=\u001b[39m x\u001b[38;5;241m.\u001b[39mview(\u001b[38;5;241m*\u001b[39mshape[:\u001b[38;5;241m-\u001b[39m\u001b[38;5;241m1\u001b[39m], \u001b[38;5;28mself\u001b[39m\u001b[38;5;241m.\u001b[39mconfig\u001b[38;5;241m.\u001b[39mnum_heads, \u001b[38;5;241m-\u001b[39m\u001b[38;5;241m1\u001b[39m)\n\u001b[0;32m---> 78\u001b[0m x \u001b[38;5;241m=\u001b[39m \u001b[43mtorch\u001b[49m\u001b[38;5;241;43m.\u001b[39;49m\u001b[43meinsum\u001b[49m\u001b[43m(\u001b[49m\u001b[38;5;124;43m\"\u001b[39;49m\u001b[38;5;124;43m...hd,hod->...ho\u001b[39;49m\u001b[38;5;124;43m\"\u001b[39;49m\u001b[43m,\u001b[49m\u001b[43m \u001b[49m\u001b[43mx\u001b[49m\u001b[43m,\u001b[49m\u001b[43m \u001b[49m\u001b[38;5;28;43mself\u001b[39;49m\u001b[38;5;241;43m.\u001b[39;49m\u001b[43mweight\u001b[49m\u001b[43m)\u001b[49m\n\u001b[1;32m     79\u001b[0m x \u001b[38;5;241m=\u001b[39m x\u001b[38;5;241m.\u001b[39mreshape(\u001b[38;5;241m*\u001b[39mshape[:\u001b[38;5;241m-\u001b[39m\u001b[38;5;241m1\u001b[39m], \u001b[38;5;241m-\u001b[39m\u001b[38;5;241m1\u001b[39m)\n\u001b[1;32m     80\u001b[0m \u001b[38;5;28;01mif\u001b[39;00m \u001b[38;5;28mself\u001b[39m\u001b[38;5;241m.\u001b[39mbias \u001b[38;5;129;01mis\u001b[39;00m \u001b[38;5;129;01mnot\u001b[39;00m \u001b[38;5;28;01mNone\u001b[39;00m:\n",
      "File \u001b[0;32m/opt/conda/lib/python3.10/site-packages/torch/functional.py:386\u001b[0m, in \u001b[0;36meinsum\u001b[0;34m(*args)\u001b[0m\n\u001b[1;32m    381\u001b[0m     \u001b[38;5;28;01mreturn\u001b[39;00m einsum(equation, \u001b[38;5;241m*\u001b[39m_operands)\n\u001b[1;32m    383\u001b[0m \u001b[38;5;28;01mif\u001b[39;00m \u001b[38;5;28mlen\u001b[39m(operands) \u001b[38;5;241m<\u001b[39m\u001b[38;5;241m=\u001b[39m \u001b[38;5;241m2\u001b[39m \u001b[38;5;129;01mor\u001b[39;00m \u001b[38;5;129;01mnot\u001b[39;00m opt_einsum\u001b[38;5;241m.\u001b[39menabled:\n\u001b[1;32m    384\u001b[0m     \u001b[38;5;66;03m# the path for contracting 0 or 1 time(s) is already optimized\u001b[39;00m\n\u001b[1;32m    385\u001b[0m     \u001b[38;5;66;03m# or the user has disabled using opt_einsum\u001b[39;00m\n\u001b[0;32m--> 386\u001b[0m     \u001b[38;5;28;01mreturn\u001b[39;00m \u001b[43m_VF\u001b[49m\u001b[38;5;241;43m.\u001b[39;49m\u001b[43meinsum\u001b[49m\u001b[43m(\u001b[49m\u001b[43mequation\u001b[49m\u001b[43m,\u001b[49m\u001b[43m \u001b[49m\u001b[43moperands\u001b[49m\u001b[43m)\u001b[49m  \u001b[38;5;66;03m# type: ignore[attr-defined]\u001b[39;00m\n\u001b[1;32m    388\u001b[0m path \u001b[38;5;241m=\u001b[39m \u001b[38;5;28;01mNone\u001b[39;00m\n\u001b[1;32m    389\u001b[0m \u001b[38;5;28;01mif\u001b[39;00m opt_einsum\u001b[38;5;241m.\u001b[39mis_available():\n",
      "\u001b[0;31mKeyboardInterrupt\u001b[0m: "
     ]
    }
   ],
   "source": [
    "for epoch in range(num_epochs):\n",
    "    model.train()\n",
    "    for X_batch, y_batch in loader:\n",
    "        y_pred = model(X_batch)\n",
    "        loss = criterion(y_pred, y_batch)\n",
    "        optimizer.zero_grad()\n",
    "        loss.backward()\n",
    "        optimizer.step()\n",
    "    model.eval()\n",
    "    totalYPred = []\n",
    "    totalY = []\n",
    "    with torch.no_grad():\n",
    "        for X_batch, y_batch in loader:\n",
    "            totalY.append(y_batch)\n",
    "            totalYPred.append(model(X_batch))\n",
    "    actualY = torch.cat(totalY, 0)\n",
    "    predY = torch.cat(totalYPred, 0)\n",
    "    metric = MulticlassAccuracy()\n",
    "    metric.update(predY, actualY)\n",
    "    train_acc = metric.compute()\n",
    "    print(\"Epoch %d: Train Accuracy %.4f,\" % (epoch, train_acc), end=\"\")\n",
    "\n",
    "    totalYPred = []\n",
    "    totalY = []\n",
    "    with torch.no_grad():\n",
    "        for X_batch, y_batch in testLoader:\n",
    "            totalY.append(y_batch)\n",
    "            totalYPred.append(model(X_batch))\n",
    "    actualY = torch.cat(totalY, 0)\n",
    "    predY = torch.cat(totalYPred, 0)\n",
    "    metric = MulticlassAccuracy()\n",
    "    metric.update(predY, actualY)\n",
    "    test_acc = metric.compute()\n",
    "    print(\" Test Accuracy %.4f\" % (test_acc))\n",
    "    del totalYPred\n",
    "    del totalY\n",
    "    del actualY\n",
    "    del predY"
   ]
  },
  {
   "cell_type": "markdown",
   "metadata": {},
   "source": [
    "## Not Combining hand and arm\n",
    "## window 128, overlapp 64"
   ]
  },
  {
   "cell_type": "code",
   "execution_count": 39,
   "metadata": {
    "execution": {
     "iopub.execute_input": "2024-12-09T07:31:21.652595Z",
     "iopub.status.busy": "2024-12-09T07:31:21.652209Z",
     "iopub.status.idle": "2024-12-09T07:38:31.051147Z",
     "shell.execute_reply": "2024-12-09T07:38:31.049781Z",
     "shell.execute_reply.started": "2024-12-09T07:31:21.652556Z"
    },
    "trusted": true
   },
   "outputs": [
    {
     "name": "stdout",
     "output_type": "stream",
     "text": [
      "Epoch 0: Train Accuracy 0.2814, Test Accuracy 0.2885\n",
      "Epoch 1: Train Accuracy 0.3148, Test Accuracy 0.3145\n",
      "Epoch 2: Train Accuracy 0.3528, Test Accuracy 0.3525\n",
      "Epoch 3: Train Accuracy 0.3805, Test Accuracy 0.3742\n",
      "Epoch 4: Train Accuracy 0.4092, Test Accuracy 0.3991\n",
      "Epoch 5: Train Accuracy 0.4269, Test Accuracy 0.4002\n",
      "Epoch 6: Train Accuracy 0.4516, Test Accuracy 0.4273\n",
      "Epoch 7: Train Accuracy 0.4632, Test Accuracy 0.4262\n",
      "Epoch 8: Train Accuracy 0.4773, Test Accuracy 0.4403\n",
      "Epoch 9: Train Accuracy 0.4934, Test Accuracy 0.4566\n",
      "Epoch 10: Train Accuracy 0.4999, Test Accuracy 0.4523\n",
      "Epoch 11: Train Accuracy 0.5066, Test Accuracy 0.4610\n",
      "Epoch 12: Train Accuracy 0.5104, Test Accuracy 0.4664\n",
      "Epoch 13: Train Accuracy 0.5243, Test Accuracy 0.4685\n",
      "Epoch 14: Train Accuracy 0.5327, Test Accuracy 0.4761\n",
      "Epoch 15: Train Accuracy 0.5349, Test Accuracy 0.4761\n",
      "Epoch 16: Train Accuracy 0.5379, Test Accuracy 0.4826\n",
      "Epoch 17: Train Accuracy 0.5430, Test Accuracy 0.4935\n",
      "Epoch 18: Train Accuracy 0.5476, Test Accuracy 0.4989\n",
      "Epoch 19: Train Accuracy 0.5563, Test Accuracy 0.5033\n",
      "Epoch 20: Train Accuracy 0.5550, Test Accuracy 0.5043\n",
      "Epoch 21: Train Accuracy 0.5569, Test Accuracy 0.5000\n",
      "Epoch 22: Train Accuracy 0.5609, Test Accuracy 0.5022\n",
      "Epoch 23: Train Accuracy 0.5620, Test Accuracy 0.5043\n",
      "Epoch 24: Train Accuracy 0.5634, Test Accuracy 0.5000\n",
      "Epoch 25: Train Accuracy 0.5653, Test Accuracy 0.5033\n",
      "Epoch 26: Train Accuracy 0.5661, Test Accuracy 0.5076\n",
      "Epoch 27: Train Accuracy 0.5653, Test Accuracy 0.5065\n",
      "Epoch 28: Train Accuracy 0.5669, Test Accuracy 0.5043\n",
      "Epoch 29: Train Accuracy 0.5704, Test Accuracy 0.5087\n",
      "Epoch 30: Train Accuracy 0.5699, Test Accuracy 0.5152\n",
      "Epoch 31: Train Accuracy 0.5715, Test Accuracy 0.5098\n",
      "Epoch 32: Train Accuracy 0.5696, Test Accuracy 0.5195\n",
      "Epoch 33: Train Accuracy 0.5718, Test Accuracy 0.5152\n",
      "Epoch 34: Train Accuracy 0.5731, Test Accuracy 0.5195\n",
      "Epoch 35: Train Accuracy 0.5745, Test Accuracy 0.5163\n",
      "Epoch 36: Train Accuracy 0.5745, Test Accuracy 0.5141\n",
      "Epoch 37: Train Accuracy 0.5753, Test Accuracy 0.5239\n",
      "Epoch 38: Train Accuracy 0.5753, Test Accuracy 0.5152\n",
      "Epoch 39: Train Accuracy 0.5758, Test Accuracy 0.5325\n",
      "Epoch 40: Train Accuracy 0.5786, Test Accuracy 0.5174\n",
      "Epoch 41: Train Accuracy 0.5772, Test Accuracy 0.5130\n",
      "Epoch 42: Train Accuracy 0.5786, Test Accuracy 0.5206\n",
      "Epoch 43: Train Accuracy 0.5775, Test Accuracy 0.5098\n",
      "Epoch 44: Train Accuracy 0.5748, Test Accuracy 0.5206\n",
      "Epoch 45: Train Accuracy 0.5777, Test Accuracy 0.5249\n",
      "Epoch 46: Train Accuracy 0.5739, Test Accuracy 0.5174\n",
      "Epoch 47: Train Accuracy 0.5777, Test Accuracy 0.5206\n",
      "Epoch 48: Train Accuracy 0.5777, Test Accuracy 0.5206\n",
      "Epoch 49: Train Accuracy 0.5786, Test Accuracy 0.5217\n",
      "Epoch 50: Train Accuracy 0.5791, Test Accuracy 0.5249\n",
      "Epoch 51: Train Accuracy 0.5786, Test Accuracy 0.5293\n",
      "Epoch 52: Train Accuracy 0.5791, Test Accuracy 0.5141\n",
      "Epoch 53: Train Accuracy 0.5818, Test Accuracy 0.5098\n",
      "Epoch 54: Train Accuracy 0.5796, Test Accuracy 0.5152\n",
      "Epoch 55: Train Accuracy 0.5788, Test Accuracy 0.5119\n",
      "Epoch 56: Train Accuracy 0.5777, Test Accuracy 0.5141\n",
      "Epoch 57: Train Accuracy 0.5815, Test Accuracy 0.5217\n",
      "Epoch 58: Train Accuracy 0.5788, Test Accuracy 0.5260\n",
      "Epoch 59: Train Accuracy 0.5796, Test Accuracy 0.5163\n",
      "Epoch 60: Train Accuracy 0.5810, Test Accuracy 0.5260\n",
      "Epoch 61: Train Accuracy 0.5807, Test Accuracy 0.5152\n",
      "Epoch 62: Train Accuracy 0.5794, Test Accuracy 0.5239\n",
      "Epoch 63: Train Accuracy 0.5818, Test Accuracy 0.5206\n",
      "Epoch 64: Train Accuracy 0.5824, Test Accuracy 0.5174\n",
      "Epoch 65: Train Accuracy 0.5829, Test Accuracy 0.5195\n",
      "Epoch 66: Train Accuracy 0.5810, Test Accuracy 0.5087\n",
      "Epoch 67: Train Accuracy 0.5829, Test Accuracy 0.5119\n",
      "Epoch 68: Train Accuracy 0.5821, Test Accuracy 0.5163\n",
      "Epoch 69: Train Accuracy 0.5824, Test Accuracy 0.5206\n",
      "Epoch 70: Train Accuracy 0.5821, Test Accuracy 0.5174\n",
      "Epoch 71: Train Accuracy 0.5821, Test Accuracy 0.5119\n",
      "Epoch 72: Train Accuracy 0.5813, Test Accuracy 0.5293\n",
      "Epoch 73: Train Accuracy 0.5832, Test Accuracy 0.5141\n",
      "Epoch 74: Train Accuracy 0.5824, Test Accuracy 0.5239\n",
      "Epoch 75: Train Accuracy 0.5829, Test Accuracy 0.5174\n",
      "Epoch 76: Train Accuracy 0.5813, Test Accuracy 0.5184\n",
      "Epoch 77: Train Accuracy 0.5818, Test Accuracy 0.5098\n",
      "Epoch 78: Train Accuracy 0.5818, Test Accuracy 0.5174\n",
      "Epoch 79: Train Accuracy 0.5834, Test Accuracy 0.5065\n",
      "Epoch 80: Train Accuracy 0.5837, Test Accuracy 0.5119\n",
      "Epoch 81: Train Accuracy 0.5813, Test Accuracy 0.5130\n",
      "Epoch 82: Train Accuracy 0.5829, Test Accuracy 0.5098\n",
      "Epoch 83: Train Accuracy 0.5826, Test Accuracy 0.5087\n",
      "Epoch 84: Train Accuracy 0.5834, Test Accuracy 0.5087\n",
      "Epoch 85: Train Accuracy 0.5829, Test Accuracy 0.5119\n",
      "Epoch 86: Train Accuracy 0.5834, Test Accuracy 0.5098\n",
      "Epoch 87: Train Accuracy 0.5829, Test Accuracy 0.5087\n",
      "Epoch 88: Train Accuracy 0.5818, Test Accuracy 0.5065\n",
      "Epoch 89: Train Accuracy 0.5826, Test Accuracy 0.5076\n",
      "Epoch 90: Train Accuracy 0.5799, Test Accuracy 0.5043\n",
      "Epoch 91: Train Accuracy 0.5845, Test Accuracy 0.5098\n",
      "Epoch 92: Train Accuracy 0.5832, Test Accuracy 0.5228\n",
      "Epoch 93: Train Accuracy 0.5843, Test Accuracy 0.5098\n",
      "Epoch 94: Train Accuracy 0.5829, Test Accuracy 0.5174\n",
      "Epoch 95: Train Accuracy 0.5840, Test Accuracy 0.5087\n",
      "Epoch 96: Train Accuracy 0.5840, Test Accuracy 0.5228\n",
      "Epoch 97: Train Accuracy 0.5843, Test Accuracy 0.5152\n",
      "Epoch 98: Train Accuracy 0.5837, Test Accuracy 0.5141\n",
      "Epoch 99: Train Accuracy 0.5840, Test Accuracy 0.5130\n",
      "Epoch 100: Train Accuracy 0.5845, Test Accuracy 0.5098\n",
      "Epoch 101: Train Accuracy 0.5840, Test Accuracy 0.5130\n",
      "Epoch 102: Train Accuracy 0.5843, Test Accuracy 0.5011\n",
      "Epoch 103: Train Accuracy 0.5843, Test Accuracy 0.5033\n",
      "Epoch 104: Train Accuracy 0.5837, Test Accuracy 0.5033\n",
      "Epoch 105: Train Accuracy 0.5840, Test Accuracy 0.5108\n",
      "Epoch 106: Train Accuracy 0.5837, Test Accuracy 0.5239\n",
      "Epoch 107: Train Accuracy 0.5848, Test Accuracy 0.5098\n",
      "Epoch 108: Train Accuracy 0.5824, Test Accuracy 0.5163\n",
      "Epoch 109: Train Accuracy 0.5851, Test Accuracy 0.5087\n",
      "Epoch 110: Train Accuracy 0.5832, Test Accuracy 0.5087\n",
      "Epoch 111: Train Accuracy 0.5851, Test Accuracy 0.5098\n",
      "Epoch 112: Train Accuracy 0.5843, Test Accuracy 0.5054\n",
      "Epoch 113: Train Accuracy 0.5845, Test Accuracy 0.5174\n",
      "Epoch 114: Train Accuracy 0.5829, Test Accuracy 0.5043\n",
      "Epoch 115: Train Accuracy 0.5845, Test Accuracy 0.5087\n",
      "Epoch 116: Train Accuracy 0.5837, Test Accuracy 0.4978\n",
      "Epoch 117: Train Accuracy 0.5834, Test Accuracy 0.5087\n",
      "Epoch 118: Train Accuracy 0.5843, Test Accuracy 0.5065\n",
      "Epoch 119: Train Accuracy 0.5862, Test Accuracy 0.5043\n",
      "Epoch 120: Train Accuracy 0.5845, Test Accuracy 0.5054\n",
      "Epoch 121: Train Accuracy 0.5856, Test Accuracy 0.4989\n",
      "Epoch 122: Train Accuracy 0.5845, Test Accuracy 0.5141\n",
      "Epoch 123: Train Accuracy 0.5845, Test Accuracy 0.5065\n",
      "Epoch 124: Train Accuracy 0.5840, Test Accuracy 0.5174\n",
      "Epoch 125: Train Accuracy 0.5834, Test Accuracy 0.5011\n",
      "Epoch 126: Train Accuracy 0.5843, Test Accuracy 0.5119\n",
      "Epoch 127: Train Accuracy 0.5843, Test Accuracy 0.5076\n",
      "Epoch 128: Train Accuracy 0.5832, Test Accuracy 0.5119\n",
      "Epoch 129: Train Accuracy 0.5840, Test Accuracy 0.5087\n",
      "Epoch 130: Train Accuracy 0.5851, Test Accuracy 0.5011\n",
      "Epoch 131: Train Accuracy 0.5856, Test Accuracy 0.5022\n",
      "Epoch 132: Train Accuracy 0.5840, Test Accuracy 0.5065\n",
      "Epoch 133: Train Accuracy 0.5845, Test Accuracy 0.5065\n",
      "Epoch 134: Train Accuracy 0.5840, Test Accuracy 0.5076\n",
      "Epoch 135: Train Accuracy 0.5856, Test Accuracy 0.5022\n",
      "Epoch 136: Train Accuracy 0.5853, Test Accuracy 0.5000\n",
      "Epoch 137: Train Accuracy 0.5859, Test Accuracy 0.4924\n",
      "Epoch 138: Train Accuracy 0.5834, Test Accuracy 0.4957\n",
      "Epoch 139: Train Accuracy 0.5853, Test Accuracy 0.4946\n",
      "Epoch 140: Train Accuracy 0.5845, Test Accuracy 0.4848\n",
      "Epoch 141: Train Accuracy 0.5585, Test Accuracy 0.4751\n",
      "Epoch 142: Train Accuracy 0.5720, Test Accuracy 0.5000\n",
      "Epoch 143: Train Accuracy 0.5813, Test Accuracy 0.5043\n",
      "Epoch 144: Train Accuracy 0.5834, Test Accuracy 0.4989\n",
      "Epoch 145: Train Accuracy 0.5824, Test Accuracy 0.5087\n",
      "Epoch 146: Train Accuracy 0.5829, Test Accuracy 0.5000\n",
      "Epoch 147: Train Accuracy 0.5845, Test Accuracy 0.4902\n",
      "Epoch 148: Train Accuracy 0.5845, Test Accuracy 0.4989\n",
      "Epoch 149: Train Accuracy 0.5843, Test Accuracy 0.4967\n",
      "Epoch 150: Train Accuracy 0.5859, Test Accuracy 0.4935\n",
      "Epoch 151: Train Accuracy 0.5851, Test Accuracy 0.4924\n"
     ]
    },
    {
     "ename": "KeyboardInterrupt",
     "evalue": "",
     "output_type": "error",
     "traceback": [
      "\u001b[0;31m---------------------------------------------------------------------------\u001b[0m",
      "\u001b[0;31mKeyboardInterrupt\u001b[0m                         Traceback (most recent call last)",
      "Cell \u001b[0;32mIn[39], line 15\u001b[0m\n\u001b[1;32m     13\u001b[0m     \u001b[38;5;28;01mfor\u001b[39;00m X_batch, y_batch \u001b[38;5;129;01min\u001b[39;00m loader:\n\u001b[1;32m     14\u001b[0m         totalY\u001b[38;5;241m.\u001b[39mappend(y_batch)\n\u001b[0;32m---> 15\u001b[0m         totalYPred\u001b[38;5;241m.\u001b[39mappend(\u001b[43mmodel\u001b[49m\u001b[43m(\u001b[49m\u001b[43mX_batch\u001b[49m\u001b[43m)\u001b[49m)\n\u001b[1;32m     16\u001b[0m actualY \u001b[38;5;241m=\u001b[39m torch\u001b[38;5;241m.\u001b[39mcat(totalY, \u001b[38;5;241m0\u001b[39m)\n\u001b[1;32m     17\u001b[0m predY \u001b[38;5;241m=\u001b[39m torch\u001b[38;5;241m.\u001b[39mcat(totalYPred, \u001b[38;5;241m0\u001b[39m)\n",
      "File \u001b[0;32m/opt/conda/lib/python3.10/site-packages/torch/nn/modules/module.py:1553\u001b[0m, in \u001b[0;36mModule._wrapped_call_impl\u001b[0;34m(self, *args, **kwargs)\u001b[0m\n\u001b[1;32m   1551\u001b[0m     \u001b[38;5;28;01mreturn\u001b[39;00m \u001b[38;5;28mself\u001b[39m\u001b[38;5;241m.\u001b[39m_compiled_call_impl(\u001b[38;5;241m*\u001b[39margs, \u001b[38;5;241m*\u001b[39m\u001b[38;5;241m*\u001b[39mkwargs)  \u001b[38;5;66;03m# type: ignore[misc]\u001b[39;00m\n\u001b[1;32m   1552\u001b[0m \u001b[38;5;28;01melse\u001b[39;00m:\n\u001b[0;32m-> 1553\u001b[0m     \u001b[38;5;28;01mreturn\u001b[39;00m \u001b[38;5;28;43mself\u001b[39;49m\u001b[38;5;241;43m.\u001b[39;49m\u001b[43m_call_impl\u001b[49m\u001b[43m(\u001b[49m\u001b[38;5;241;43m*\u001b[39;49m\u001b[43margs\u001b[49m\u001b[43m,\u001b[49m\u001b[43m \u001b[49m\u001b[38;5;241;43m*\u001b[39;49m\u001b[38;5;241;43m*\u001b[39;49m\u001b[43mkwargs\u001b[49m\u001b[43m)\u001b[49m\n",
      "File \u001b[0;32m/opt/conda/lib/python3.10/site-packages/torch/nn/modules/module.py:1562\u001b[0m, in \u001b[0;36mModule._call_impl\u001b[0;34m(self, *args, **kwargs)\u001b[0m\n\u001b[1;32m   1557\u001b[0m \u001b[38;5;66;03m# If we don't have any hooks, we want to skip the rest of the logic in\u001b[39;00m\n\u001b[1;32m   1558\u001b[0m \u001b[38;5;66;03m# this function, and just call forward.\u001b[39;00m\n\u001b[1;32m   1559\u001b[0m \u001b[38;5;28;01mif\u001b[39;00m \u001b[38;5;129;01mnot\u001b[39;00m (\u001b[38;5;28mself\u001b[39m\u001b[38;5;241m.\u001b[39m_backward_hooks \u001b[38;5;129;01mor\u001b[39;00m \u001b[38;5;28mself\u001b[39m\u001b[38;5;241m.\u001b[39m_backward_pre_hooks \u001b[38;5;129;01mor\u001b[39;00m \u001b[38;5;28mself\u001b[39m\u001b[38;5;241m.\u001b[39m_forward_hooks \u001b[38;5;129;01mor\u001b[39;00m \u001b[38;5;28mself\u001b[39m\u001b[38;5;241m.\u001b[39m_forward_pre_hooks\n\u001b[1;32m   1560\u001b[0m         \u001b[38;5;129;01mor\u001b[39;00m _global_backward_pre_hooks \u001b[38;5;129;01mor\u001b[39;00m _global_backward_hooks\n\u001b[1;32m   1561\u001b[0m         \u001b[38;5;129;01mor\u001b[39;00m _global_forward_hooks \u001b[38;5;129;01mor\u001b[39;00m _global_forward_pre_hooks):\n\u001b[0;32m-> 1562\u001b[0m     \u001b[38;5;28;01mreturn\u001b[39;00m \u001b[43mforward_call\u001b[49m\u001b[43m(\u001b[49m\u001b[38;5;241;43m*\u001b[39;49m\u001b[43margs\u001b[49m\u001b[43m,\u001b[49m\u001b[43m \u001b[49m\u001b[38;5;241;43m*\u001b[39;49m\u001b[38;5;241;43m*\u001b[39;49m\u001b[43mkwargs\u001b[49m\u001b[43m)\u001b[49m\n\u001b[1;32m   1564\u001b[0m \u001b[38;5;28;01mtry\u001b[39;00m:\n\u001b[1;32m   1565\u001b[0m     result \u001b[38;5;241m=\u001b[39m \u001b[38;5;28;01mNone\u001b[39;00m\n",
      "Cell \u001b[0;32mIn[15], line 14\u001b[0m, in \u001b[0;36mTestModel.forward\u001b[0;34m(self, x)\u001b[0m\n\u001b[1;32m     13\u001b[0m \u001b[38;5;28;01mdef\u001b[39;00m \u001b[38;5;21mforward\u001b[39m(\u001b[38;5;28mself\u001b[39m, x):\n\u001b[0;32m---> 14\u001b[0m     out \u001b[38;5;241m=\u001b[39m \u001b[38;5;28;43mself\u001b[39;49m\u001b[38;5;241;43m.\u001b[39;49m\u001b[43mxlstm\u001b[49m\u001b[43m(\u001b[49m\u001b[43mx\u001b[49m\u001b[43m)\u001b[49m\n\u001b[1;32m     15\u001b[0m     \u001b[38;5;66;03m# x -> (batch_size, sequence_length, hidden_size)\u001b[39;00m\n\u001b[1;32m     16\u001b[0m     out \u001b[38;5;241m=\u001b[39m \u001b[38;5;28mself\u001b[39m\u001b[38;5;241m.\u001b[39mtanh(out)\n",
      "File \u001b[0;32m/opt/conda/lib/python3.10/site-packages/torch/nn/modules/module.py:1553\u001b[0m, in \u001b[0;36mModule._wrapped_call_impl\u001b[0;34m(self, *args, **kwargs)\u001b[0m\n\u001b[1;32m   1551\u001b[0m     \u001b[38;5;28;01mreturn\u001b[39;00m \u001b[38;5;28mself\u001b[39m\u001b[38;5;241m.\u001b[39m_compiled_call_impl(\u001b[38;5;241m*\u001b[39margs, \u001b[38;5;241m*\u001b[39m\u001b[38;5;241m*\u001b[39mkwargs)  \u001b[38;5;66;03m# type: ignore[misc]\u001b[39;00m\n\u001b[1;32m   1552\u001b[0m \u001b[38;5;28;01melse\u001b[39;00m:\n\u001b[0;32m-> 1553\u001b[0m     \u001b[38;5;28;01mreturn\u001b[39;00m \u001b[38;5;28;43mself\u001b[39;49m\u001b[38;5;241;43m.\u001b[39;49m\u001b[43m_call_impl\u001b[49m\u001b[43m(\u001b[49m\u001b[38;5;241;43m*\u001b[39;49m\u001b[43margs\u001b[49m\u001b[43m,\u001b[49m\u001b[43m \u001b[49m\u001b[38;5;241;43m*\u001b[39;49m\u001b[38;5;241;43m*\u001b[39;49m\u001b[43mkwargs\u001b[49m\u001b[43m)\u001b[49m\n",
      "File \u001b[0;32m/opt/conda/lib/python3.10/site-packages/torch/nn/modules/module.py:1562\u001b[0m, in \u001b[0;36mModule._call_impl\u001b[0;34m(self, *args, **kwargs)\u001b[0m\n\u001b[1;32m   1557\u001b[0m \u001b[38;5;66;03m# If we don't have any hooks, we want to skip the rest of the logic in\u001b[39;00m\n\u001b[1;32m   1558\u001b[0m \u001b[38;5;66;03m# this function, and just call forward.\u001b[39;00m\n\u001b[1;32m   1559\u001b[0m \u001b[38;5;28;01mif\u001b[39;00m \u001b[38;5;129;01mnot\u001b[39;00m (\u001b[38;5;28mself\u001b[39m\u001b[38;5;241m.\u001b[39m_backward_hooks \u001b[38;5;129;01mor\u001b[39;00m \u001b[38;5;28mself\u001b[39m\u001b[38;5;241m.\u001b[39m_backward_pre_hooks \u001b[38;5;129;01mor\u001b[39;00m \u001b[38;5;28mself\u001b[39m\u001b[38;5;241m.\u001b[39m_forward_hooks \u001b[38;5;129;01mor\u001b[39;00m \u001b[38;5;28mself\u001b[39m\u001b[38;5;241m.\u001b[39m_forward_pre_hooks\n\u001b[1;32m   1560\u001b[0m         \u001b[38;5;129;01mor\u001b[39;00m _global_backward_pre_hooks \u001b[38;5;129;01mor\u001b[39;00m _global_backward_hooks\n\u001b[1;32m   1561\u001b[0m         \u001b[38;5;129;01mor\u001b[39;00m _global_forward_hooks \u001b[38;5;129;01mor\u001b[39;00m _global_forward_pre_hooks):\n\u001b[0;32m-> 1562\u001b[0m     \u001b[38;5;28;01mreturn\u001b[39;00m \u001b[43mforward_call\u001b[49m\u001b[43m(\u001b[49m\u001b[38;5;241;43m*\u001b[39;49m\u001b[43margs\u001b[49m\u001b[43m,\u001b[49m\u001b[43m \u001b[49m\u001b[38;5;241;43m*\u001b[39;49m\u001b[38;5;241;43m*\u001b[39;49m\u001b[43mkwargs\u001b[49m\u001b[43m)\u001b[49m\n\u001b[1;32m   1564\u001b[0m \u001b[38;5;28;01mtry\u001b[39;00m:\n\u001b[1;32m   1565\u001b[0m     result \u001b[38;5;241m=\u001b[39m \u001b[38;5;28;01mNone\u001b[39;00m\n",
      "File \u001b[0;32m/opt/conda/lib/python3.10/site-packages/xlstm/xlstm_block_stack.py:120\u001b[0m, in \u001b[0;36mxLSTMBlockStack.forward\u001b[0;34m(self, x, **kwargs)\u001b[0m\n\u001b[1;32m    117\u001b[0m \u001b[38;5;28;01mdef\u001b[39;00m \u001b[38;5;21mforward\u001b[39m(\u001b[38;5;28mself\u001b[39m, x: torch\u001b[38;5;241m.\u001b[39mTensor, \u001b[38;5;241m*\u001b[39m\u001b[38;5;241m*\u001b[39mkwargs) \u001b[38;5;241m-\u001b[39m\u001b[38;5;241m>\u001b[39m torch\u001b[38;5;241m.\u001b[39mTensor:\n\u001b[1;32m    119\u001b[0m     \u001b[38;5;28;01mfor\u001b[39;00m block \u001b[38;5;129;01min\u001b[39;00m \u001b[38;5;28mself\u001b[39m\u001b[38;5;241m.\u001b[39mblocks:\n\u001b[0;32m--> 120\u001b[0m         x \u001b[38;5;241m=\u001b[39m \u001b[43mblock\u001b[49m\u001b[43m(\u001b[49m\u001b[43mx\u001b[49m\u001b[43m,\u001b[49m\u001b[43m \u001b[49m\u001b[38;5;241;43m*\u001b[39;49m\u001b[38;5;241;43m*\u001b[39;49m\u001b[43mkwargs\u001b[49m\u001b[43m)\u001b[49m\n\u001b[1;32m    122\u001b[0m     x \u001b[38;5;241m=\u001b[39m \u001b[38;5;28mself\u001b[39m\u001b[38;5;241m.\u001b[39mpost_blocks_norm(x)\n\u001b[1;32m    124\u001b[0m     \u001b[38;5;28;01mreturn\u001b[39;00m x\n",
      "File \u001b[0;32m/opt/conda/lib/python3.10/site-packages/torch/nn/modules/module.py:1553\u001b[0m, in \u001b[0;36mModule._wrapped_call_impl\u001b[0;34m(self, *args, **kwargs)\u001b[0m\n\u001b[1;32m   1551\u001b[0m     \u001b[38;5;28;01mreturn\u001b[39;00m \u001b[38;5;28mself\u001b[39m\u001b[38;5;241m.\u001b[39m_compiled_call_impl(\u001b[38;5;241m*\u001b[39margs, \u001b[38;5;241m*\u001b[39m\u001b[38;5;241m*\u001b[39mkwargs)  \u001b[38;5;66;03m# type: ignore[misc]\u001b[39;00m\n\u001b[1;32m   1552\u001b[0m \u001b[38;5;28;01melse\u001b[39;00m:\n\u001b[0;32m-> 1553\u001b[0m     \u001b[38;5;28;01mreturn\u001b[39;00m \u001b[38;5;28;43mself\u001b[39;49m\u001b[38;5;241;43m.\u001b[39;49m\u001b[43m_call_impl\u001b[49m\u001b[43m(\u001b[49m\u001b[38;5;241;43m*\u001b[39;49m\u001b[43margs\u001b[49m\u001b[43m,\u001b[49m\u001b[43m \u001b[49m\u001b[38;5;241;43m*\u001b[39;49m\u001b[38;5;241;43m*\u001b[39;49m\u001b[43mkwargs\u001b[49m\u001b[43m)\u001b[49m\n",
      "File \u001b[0;32m/opt/conda/lib/python3.10/site-packages/torch/nn/modules/module.py:1562\u001b[0m, in \u001b[0;36mModule._call_impl\u001b[0;34m(self, *args, **kwargs)\u001b[0m\n\u001b[1;32m   1557\u001b[0m \u001b[38;5;66;03m# If we don't have any hooks, we want to skip the rest of the logic in\u001b[39;00m\n\u001b[1;32m   1558\u001b[0m \u001b[38;5;66;03m# this function, and just call forward.\u001b[39;00m\n\u001b[1;32m   1559\u001b[0m \u001b[38;5;28;01mif\u001b[39;00m \u001b[38;5;129;01mnot\u001b[39;00m (\u001b[38;5;28mself\u001b[39m\u001b[38;5;241m.\u001b[39m_backward_hooks \u001b[38;5;129;01mor\u001b[39;00m \u001b[38;5;28mself\u001b[39m\u001b[38;5;241m.\u001b[39m_backward_pre_hooks \u001b[38;5;129;01mor\u001b[39;00m \u001b[38;5;28mself\u001b[39m\u001b[38;5;241m.\u001b[39m_forward_hooks \u001b[38;5;129;01mor\u001b[39;00m \u001b[38;5;28mself\u001b[39m\u001b[38;5;241m.\u001b[39m_forward_pre_hooks\n\u001b[1;32m   1560\u001b[0m         \u001b[38;5;129;01mor\u001b[39;00m _global_backward_pre_hooks \u001b[38;5;129;01mor\u001b[39;00m _global_backward_hooks\n\u001b[1;32m   1561\u001b[0m         \u001b[38;5;129;01mor\u001b[39;00m _global_forward_hooks \u001b[38;5;129;01mor\u001b[39;00m _global_forward_pre_hooks):\n\u001b[0;32m-> 1562\u001b[0m     \u001b[38;5;28;01mreturn\u001b[39;00m \u001b[43mforward_call\u001b[49m\u001b[43m(\u001b[49m\u001b[38;5;241;43m*\u001b[39;49m\u001b[43margs\u001b[49m\u001b[43m,\u001b[49m\u001b[43m \u001b[49m\u001b[38;5;241;43m*\u001b[39;49m\u001b[38;5;241;43m*\u001b[39;49m\u001b[43mkwargs\u001b[49m\u001b[43m)\u001b[49m\n\u001b[1;32m   1564\u001b[0m \u001b[38;5;28;01mtry\u001b[39;00m:\n\u001b[1;32m   1565\u001b[0m     result \u001b[38;5;241m=\u001b[39m \u001b[38;5;28;01mNone\u001b[39;00m\n",
      "File \u001b[0;32m/opt/conda/lib/python3.10/site-packages/xlstm/blocks/xlstm_block.py:77\u001b[0m, in \u001b[0;36mxLSTMBlock.forward\u001b[0;34m(self, x, **kwargs)\u001b[0m\n\u001b[1;32m     76\u001b[0m \u001b[38;5;28;01mdef\u001b[39;00m \u001b[38;5;21mforward\u001b[39m(\u001b[38;5;28mself\u001b[39m, x: torch\u001b[38;5;241m.\u001b[39mTensor, \u001b[38;5;241m*\u001b[39m\u001b[38;5;241m*\u001b[39mkwargs) \u001b[38;5;241m-\u001b[39m\u001b[38;5;241m>\u001b[39m torch\u001b[38;5;241m.\u001b[39mTensor:\n\u001b[0;32m---> 77\u001b[0m     x \u001b[38;5;241m=\u001b[39m x \u001b[38;5;241m+\u001b[39m \u001b[38;5;28;43mself\u001b[39;49m\u001b[38;5;241;43m.\u001b[39;49m\u001b[43mxlstm\u001b[49m\u001b[43m(\u001b[49m\u001b[38;5;28;43mself\u001b[39;49m\u001b[38;5;241;43m.\u001b[39;49m\u001b[43mxlstm_norm\u001b[49m\u001b[43m(\u001b[49m\u001b[43mx\u001b[49m\u001b[43m)\u001b[49m\u001b[43m,\u001b[49m\u001b[43m \u001b[49m\u001b[38;5;241;43m*\u001b[39;49m\u001b[38;5;241;43m*\u001b[39;49m\u001b[43mkwargs\u001b[49m\u001b[43m)\u001b[49m\n\u001b[1;32m     78\u001b[0m     \u001b[38;5;28;01mif\u001b[39;00m \u001b[38;5;28mself\u001b[39m\u001b[38;5;241m.\u001b[39mffn \u001b[38;5;129;01mis\u001b[39;00m \u001b[38;5;129;01mnot\u001b[39;00m \u001b[38;5;28;01mNone\u001b[39;00m:\n\u001b[1;32m     79\u001b[0m         x \u001b[38;5;241m=\u001b[39m x \u001b[38;5;241m+\u001b[39m \u001b[38;5;28mself\u001b[39m\u001b[38;5;241m.\u001b[39mffn(\u001b[38;5;28mself\u001b[39m\u001b[38;5;241m.\u001b[39mffn_norm(x), \u001b[38;5;241m*\u001b[39m\u001b[38;5;241m*\u001b[39mkwargs)\n",
      "File \u001b[0;32m/opt/conda/lib/python3.10/site-packages/torch/nn/modules/module.py:1553\u001b[0m, in \u001b[0;36mModule._wrapped_call_impl\u001b[0;34m(self, *args, **kwargs)\u001b[0m\n\u001b[1;32m   1551\u001b[0m     \u001b[38;5;28;01mreturn\u001b[39;00m \u001b[38;5;28mself\u001b[39m\u001b[38;5;241m.\u001b[39m_compiled_call_impl(\u001b[38;5;241m*\u001b[39margs, \u001b[38;5;241m*\u001b[39m\u001b[38;5;241m*\u001b[39mkwargs)  \u001b[38;5;66;03m# type: ignore[misc]\u001b[39;00m\n\u001b[1;32m   1552\u001b[0m \u001b[38;5;28;01melse\u001b[39;00m:\n\u001b[0;32m-> 1553\u001b[0m     \u001b[38;5;28;01mreturn\u001b[39;00m \u001b[38;5;28;43mself\u001b[39;49m\u001b[38;5;241;43m.\u001b[39;49m\u001b[43m_call_impl\u001b[49m\u001b[43m(\u001b[49m\u001b[38;5;241;43m*\u001b[39;49m\u001b[43margs\u001b[49m\u001b[43m,\u001b[49m\u001b[43m \u001b[49m\u001b[38;5;241;43m*\u001b[39;49m\u001b[38;5;241;43m*\u001b[39;49m\u001b[43mkwargs\u001b[49m\u001b[43m)\u001b[49m\n",
      "File \u001b[0;32m/opt/conda/lib/python3.10/site-packages/torch/nn/modules/module.py:1562\u001b[0m, in \u001b[0;36mModule._call_impl\u001b[0;34m(self, *args, **kwargs)\u001b[0m\n\u001b[1;32m   1557\u001b[0m \u001b[38;5;66;03m# If we don't have any hooks, we want to skip the rest of the logic in\u001b[39;00m\n\u001b[1;32m   1558\u001b[0m \u001b[38;5;66;03m# this function, and just call forward.\u001b[39;00m\n\u001b[1;32m   1559\u001b[0m \u001b[38;5;28;01mif\u001b[39;00m \u001b[38;5;129;01mnot\u001b[39;00m (\u001b[38;5;28mself\u001b[39m\u001b[38;5;241m.\u001b[39m_backward_hooks \u001b[38;5;129;01mor\u001b[39;00m \u001b[38;5;28mself\u001b[39m\u001b[38;5;241m.\u001b[39m_backward_pre_hooks \u001b[38;5;129;01mor\u001b[39;00m \u001b[38;5;28mself\u001b[39m\u001b[38;5;241m.\u001b[39m_forward_hooks \u001b[38;5;129;01mor\u001b[39;00m \u001b[38;5;28mself\u001b[39m\u001b[38;5;241m.\u001b[39m_forward_pre_hooks\n\u001b[1;32m   1560\u001b[0m         \u001b[38;5;129;01mor\u001b[39;00m _global_backward_pre_hooks \u001b[38;5;129;01mor\u001b[39;00m _global_backward_hooks\n\u001b[1;32m   1561\u001b[0m         \u001b[38;5;129;01mor\u001b[39;00m _global_forward_hooks \u001b[38;5;129;01mor\u001b[39;00m _global_forward_pre_hooks):\n\u001b[0;32m-> 1562\u001b[0m     \u001b[38;5;28;01mreturn\u001b[39;00m \u001b[43mforward_call\u001b[49m\u001b[43m(\u001b[49m\u001b[38;5;241;43m*\u001b[39;49m\u001b[43margs\u001b[49m\u001b[43m,\u001b[49m\u001b[43m \u001b[49m\u001b[38;5;241;43m*\u001b[39;49m\u001b[38;5;241;43m*\u001b[39;49m\u001b[43mkwargs\u001b[49m\u001b[43m)\u001b[49m\n\u001b[1;32m   1564\u001b[0m \u001b[38;5;28;01mtry\u001b[39;00m:\n\u001b[1;32m   1565\u001b[0m     result \u001b[38;5;241m=\u001b[39m \u001b[38;5;28;01mNone\u001b[39;00m\n",
      "File \u001b[0;32m/opt/conda/lib/python3.10/site-packages/xlstm/blocks/mlstm/layer.py:116\u001b[0m, in \u001b[0;36mmLSTMLayer.forward\u001b[0;34m(self, x, **kwargs)\u001b[0m\n\u001b[1;32m    113\u001b[0m k \u001b[38;5;241m=\u001b[39m \u001b[38;5;28mself\u001b[39m\u001b[38;5;241m.\u001b[39mk_proj(x_mlstm_conv_act)\n\u001b[1;32m    114\u001b[0m v \u001b[38;5;241m=\u001b[39m \u001b[38;5;28mself\u001b[39m\u001b[38;5;241m.\u001b[39mv_proj(x_mlstm)\n\u001b[0;32m--> 116\u001b[0m h_tilde_state \u001b[38;5;241m=\u001b[39m \u001b[38;5;28;43mself\u001b[39;49m\u001b[38;5;241;43m.\u001b[39;49m\u001b[43mmlstm_cell\u001b[49m\u001b[43m(\u001b[49m\u001b[43mq\u001b[49m\u001b[38;5;241;43m=\u001b[39;49m\u001b[43mq\u001b[49m\u001b[43m,\u001b[49m\u001b[43m \u001b[49m\u001b[43mk\u001b[49m\u001b[38;5;241;43m=\u001b[39;49m\u001b[43mk\u001b[49m\u001b[43m,\u001b[49m\u001b[43m \u001b[49m\u001b[43mv\u001b[49m\u001b[38;5;241;43m=\u001b[39;49m\u001b[43mv\u001b[49m\u001b[43m)\u001b[49m\n\u001b[1;32m    118\u001b[0m h_tilde_state_skip \u001b[38;5;241m=\u001b[39m h_tilde_state \u001b[38;5;241m+\u001b[39m (\u001b[38;5;28mself\u001b[39m\u001b[38;5;241m.\u001b[39mlearnable_skip \u001b[38;5;241m*\u001b[39m x_mlstm_conv_act)\n\u001b[1;32m    120\u001b[0m \u001b[38;5;66;03m# output / z branch\u001b[39;00m\n",
      "File \u001b[0;32m/opt/conda/lib/python3.10/site-packages/torch/nn/modules/module.py:1553\u001b[0m, in \u001b[0;36mModule._wrapped_call_impl\u001b[0;34m(self, *args, **kwargs)\u001b[0m\n\u001b[1;32m   1551\u001b[0m     \u001b[38;5;28;01mreturn\u001b[39;00m \u001b[38;5;28mself\u001b[39m\u001b[38;5;241m.\u001b[39m_compiled_call_impl(\u001b[38;5;241m*\u001b[39margs, \u001b[38;5;241m*\u001b[39m\u001b[38;5;241m*\u001b[39mkwargs)  \u001b[38;5;66;03m# type: ignore[misc]\u001b[39;00m\n\u001b[1;32m   1552\u001b[0m \u001b[38;5;28;01melse\u001b[39;00m:\n\u001b[0;32m-> 1553\u001b[0m     \u001b[38;5;28;01mreturn\u001b[39;00m \u001b[38;5;28;43mself\u001b[39;49m\u001b[38;5;241;43m.\u001b[39;49m\u001b[43m_call_impl\u001b[49m\u001b[43m(\u001b[49m\u001b[38;5;241;43m*\u001b[39;49m\u001b[43margs\u001b[49m\u001b[43m,\u001b[49m\u001b[43m \u001b[49m\u001b[38;5;241;43m*\u001b[39;49m\u001b[38;5;241;43m*\u001b[39;49m\u001b[43mkwargs\u001b[49m\u001b[43m)\u001b[49m\n",
      "File \u001b[0;32m/opt/conda/lib/python3.10/site-packages/torch/nn/modules/module.py:1562\u001b[0m, in \u001b[0;36mModule._call_impl\u001b[0;34m(self, *args, **kwargs)\u001b[0m\n\u001b[1;32m   1557\u001b[0m \u001b[38;5;66;03m# If we don't have any hooks, we want to skip the rest of the logic in\u001b[39;00m\n\u001b[1;32m   1558\u001b[0m \u001b[38;5;66;03m# this function, and just call forward.\u001b[39;00m\n\u001b[1;32m   1559\u001b[0m \u001b[38;5;28;01mif\u001b[39;00m \u001b[38;5;129;01mnot\u001b[39;00m (\u001b[38;5;28mself\u001b[39m\u001b[38;5;241m.\u001b[39m_backward_hooks \u001b[38;5;129;01mor\u001b[39;00m \u001b[38;5;28mself\u001b[39m\u001b[38;5;241m.\u001b[39m_backward_pre_hooks \u001b[38;5;129;01mor\u001b[39;00m \u001b[38;5;28mself\u001b[39m\u001b[38;5;241m.\u001b[39m_forward_hooks \u001b[38;5;129;01mor\u001b[39;00m \u001b[38;5;28mself\u001b[39m\u001b[38;5;241m.\u001b[39m_forward_pre_hooks\n\u001b[1;32m   1560\u001b[0m         \u001b[38;5;129;01mor\u001b[39;00m _global_backward_pre_hooks \u001b[38;5;129;01mor\u001b[39;00m _global_backward_hooks\n\u001b[1;32m   1561\u001b[0m         \u001b[38;5;129;01mor\u001b[39;00m _global_forward_hooks \u001b[38;5;129;01mor\u001b[39;00m _global_forward_pre_hooks):\n\u001b[0;32m-> 1562\u001b[0m     \u001b[38;5;28;01mreturn\u001b[39;00m \u001b[43mforward_call\u001b[49m\u001b[43m(\u001b[49m\u001b[38;5;241;43m*\u001b[39;49m\u001b[43margs\u001b[49m\u001b[43m,\u001b[49m\u001b[43m \u001b[49m\u001b[38;5;241;43m*\u001b[39;49m\u001b[38;5;241;43m*\u001b[39;49m\u001b[43mkwargs\u001b[49m\u001b[43m)\u001b[49m\n\u001b[1;32m   1564\u001b[0m \u001b[38;5;28;01mtry\u001b[39;00m:\n\u001b[1;32m   1565\u001b[0m     result \u001b[38;5;241m=\u001b[39m \u001b[38;5;28;01mNone\u001b[39;00m\n",
      "File \u001b[0;32m/opt/conda/lib/python3.10/site-packages/xlstm/blocks/mlstm/cell.py:51\u001b[0m, in \u001b[0;36mmLSTMCell.forward\u001b[0;34m(self, q, k, v, **kwargs)\u001b[0m\n\u001b[1;32m     48\u001b[0m k \u001b[38;5;241m=\u001b[39m k\u001b[38;5;241m.\u001b[39mview(B, S, \u001b[38;5;28mself\u001b[39m\u001b[38;5;241m.\u001b[39mconfig\u001b[38;5;241m.\u001b[39mnum_heads, \u001b[38;5;241m-\u001b[39m\u001b[38;5;241m1\u001b[39m)  \u001b[38;5;66;03m# (B, S, NH, DH)\u001b[39;00m\n\u001b[1;32m     49\u001b[0m v \u001b[38;5;241m=\u001b[39m v\u001b[38;5;241m.\u001b[39mview(B, S, \u001b[38;5;28mself\u001b[39m\u001b[38;5;241m.\u001b[39mconfig\u001b[38;5;241m.\u001b[39mnum_heads, \u001b[38;5;241m-\u001b[39m\u001b[38;5;241m1\u001b[39m)  \u001b[38;5;66;03m# (B, S, NH, DH)\u001b[39;00m\n\u001b[0;32m---> 51\u001b[0m q \u001b[38;5;241m=\u001b[39m \u001b[43mq\u001b[49m\u001b[38;5;241;43m.\u001b[39;49m\u001b[43mtranspose\u001b[49m\u001b[43m(\u001b[49m\u001b[38;5;241;43m1\u001b[39;49m\u001b[43m,\u001b[49m\u001b[43m \u001b[49m\u001b[38;5;241;43m2\u001b[39;49m\u001b[43m)\u001b[49m  \u001b[38;5;66;03m# (B, NH, S, DH)\u001b[39;00m\n\u001b[1;32m     52\u001b[0m k \u001b[38;5;241m=\u001b[39m k\u001b[38;5;241m.\u001b[39mtranspose(\u001b[38;5;241m1\u001b[39m, \u001b[38;5;241m2\u001b[39m)  \u001b[38;5;66;03m# (B, NH, S, DH)\u001b[39;00m\n\u001b[1;32m     53\u001b[0m v \u001b[38;5;241m=\u001b[39m v\u001b[38;5;241m.\u001b[39mtranspose(\u001b[38;5;241m1\u001b[39m, \u001b[38;5;241m2\u001b[39m)  \u001b[38;5;66;03m# (B, NH, S, DH)\u001b[39;00m\n",
      "\u001b[0;31mKeyboardInterrupt\u001b[0m: "
     ]
    }
   ],
   "source": [
    "for epoch in range(num_epochs):\n",
    "    model.train()\n",
    "    for X_batch, y_batch in loader:\n",
    "        y_pred = model(X_batch)\n",
    "        loss = criterion(y_pred, y_batch)\n",
    "        optimizer.zero_grad()\n",
    "        loss.backward()\n",
    "        optimizer.step()\n",
    "    model.eval()\n",
    "    totalYPred = []\n",
    "    totalY = []\n",
    "    with torch.no_grad():\n",
    "        for X_batch, y_batch in loader:\n",
    "            totalY.append(y_batch)\n",
    "            totalYPred.append(model(X_batch))\n",
    "    actualY = torch.cat(totalY, 0)\n",
    "    predY = torch.cat(totalYPred, 0)\n",
    "    metric = MulticlassAccuracy()\n",
    "    metric.update(predY, actualY)\n",
    "    train_acc = metric.compute()\n",
    "    print(\"Epoch %d: Train Accuracy %.4f,\" % (epoch, train_acc), end=\"\")\n",
    "\n",
    "    totalYPred = []\n",
    "    totalY = []\n",
    "    with torch.no_grad():\n",
    "        for X_batch, y_batch in testLoader:\n",
    "            totalY.append(y_batch)\n",
    "            totalYPred.append(model(X_batch))\n",
    "    actualY = torch.cat(totalY, 0)\n",
    "    predY = torch.cat(totalYPred, 0)\n",
    "    metric = MulticlassAccuracy()\n",
    "    metric.update(predY, actualY)\n",
    "    test_acc = metric.compute()\n",
    "    print(\" Test Accuracy %.4f\" % (test_acc))\n",
    "    del totalYPred\n",
    "    del totalY\n",
    "    del actualY\n",
    "    del predY"
   ]
  },
  {
   "cell_type": "code",
   "execution_count": null,
   "metadata": {
    "trusted": true
   },
   "outputs": [],
   "source": []
  },
  {
   "cell_type": "code",
   "execution_count": null,
   "metadata": {
    "trusted": true
   },
   "outputs": [],
   "source": []
  },
  {
   "cell_type": "code",
   "execution_count": null,
   "metadata": {
    "trusted": true
   },
   "outputs": [],
   "source": []
  },
  {
   "cell_type": "code",
   "execution_count": null,
   "metadata": {
    "trusted": true
   },
   "outputs": [],
   "source": []
  },
  {
   "cell_type": "code",
   "execution_count": null,
   "metadata": {
    "trusted": true
   },
   "outputs": [],
   "source": []
  },
  {
   "cell_type": "code",
   "execution_count": null,
   "metadata": {
    "trusted": true
   },
   "outputs": [],
   "source": []
  },
  {
   "cell_type": "code",
   "execution_count": null,
   "metadata": {
    "trusted": true
   },
   "outputs": [],
   "source": []
  },
  {
   "cell_type": "code",
   "execution_count": null,
   "metadata": {
    "trusted": true
   },
   "outputs": [],
   "source": []
  },
  {
   "cell_type": "code",
   "execution_count": null,
   "metadata": {
    "trusted": true
   },
   "outputs": [],
   "source": []
  },
  {
   "cell_type": "code",
   "execution_count": null,
   "metadata": {
    "trusted": true
   },
   "outputs": [],
   "source": []
  },
  {
   "cell_type": "code",
   "execution_count": null,
   "metadata": {
    "trusted": true
   },
   "outputs": [],
   "source": []
  },
  {
   "cell_type": "code",
   "execution_count": 4,
   "metadata": {
    "execution": {
     "iopub.execute_input": "2024-12-09T06:41:04.455709Z",
     "iopub.status.busy": "2024-12-09T06:41:04.455001Z",
     "iopub.status.idle": "2024-12-09T06:41:04.650037Z",
     "shell.execute_reply": "2024-12-09T06:41:04.648805Z",
     "shell.execute_reply.started": "2024-12-09T06:41:04.455656Z"
    },
    "trusted": true
   },
   "outputs": [
    {
     "data": {
      "text/html": [
       "<div>\n",
       "<style scoped>\n",
       "    .dataframe tbody tr th:only-of-type {\n",
       "        vertical-align: middle;\n",
       "    }\n",
       "\n",
       "    .dataframe tbody tr th {\n",
       "        vertical-align: top;\n",
       "    }\n",
       "\n",
       "    .dataframe thead th {\n",
       "        text-align: right;\n",
       "    }\n",
       "</style>\n",
       "<table border=\"1\" class=\"dataframe\">\n",
       "  <thead>\n",
       "    <tr style=\"text-align: right;\">\n",
       "      <th></th>\n",
       "      <th>Unnamed: 0</th>\n",
       "      <th>EEG.Cz</th>\n",
       "      <th>EEG.C3</th>\n",
       "      <th>EEG.FC5</th>\n",
       "      <th>EEG.T7</th>\n",
       "      <th>EEG.CP5</th>\n",
       "      <th>EEG.O1</th>\n",
       "      <th>EEG.Pz</th>\n",
       "      <th>EEG.O2</th>\n",
       "      <th>EEG.CP6</th>\n",
       "      <th>EEG.T8</th>\n",
       "      <th>EEG.FC6</th>\n",
       "      <th>EEG.C4</th>\n",
       "      <th>target</th>\n",
       "    </tr>\n",
       "  </thead>\n",
       "  <tbody>\n",
       "    <tr>\n",
       "      <th>0</th>\n",
       "      <td>0</td>\n",
       "      <td>-28.726574</td>\n",
       "      <td>-21.566540</td>\n",
       "      <td>-9.961324</td>\n",
       "      <td>-26.926275</td>\n",
       "      <td>28.333508</td>\n",
       "      <td>80.673996</td>\n",
       "      <td>-52.204895</td>\n",
       "      <td>31.735275</td>\n",
       "      <td>0.814791</td>\n",
       "      <td>-2.509130</td>\n",
       "      <td>-5.763516</td>\n",
       "      <td>-11.554217</td>\n",
       "      <td>-1</td>\n",
       "    </tr>\n",
       "    <tr>\n",
       "      <th>1</th>\n",
       "      <td>1</td>\n",
       "      <td>-15.377848</td>\n",
       "      <td>-14.884973</td>\n",
       "      <td>-6.365208</td>\n",
       "      <td>-20.239349</td>\n",
       "      <td>31.891329</td>\n",
       "      <td>85.204094</td>\n",
       "      <td>-43.443459</td>\n",
       "      <td>32.215847</td>\n",
       "      <td>10.547822</td>\n",
       "      <td>3.641071</td>\n",
       "      <td>-3.196214</td>\n",
       "      <td>-5.907278</td>\n",
       "      <td>-1</td>\n",
       "    </tr>\n",
       "    <tr>\n",
       "      <th>2</th>\n",
       "      <td>2</td>\n",
       "      <td>-13.313239</td>\n",
       "      <td>-14.870088</td>\n",
       "      <td>-11.481920</td>\n",
       "      <td>-25.854494</td>\n",
       "      <td>32.371746</td>\n",
       "      <td>74.360428</td>\n",
       "      <td>-44.936939</td>\n",
       "      <td>19.888248</td>\n",
       "      <td>8.488044</td>\n",
       "      <td>-3.022570</td>\n",
       "      <td>-11.902248</td>\n",
       "      <td>-6.925986</td>\n",
       "      <td>-1</td>\n",
       "    </tr>\n",
       "    <tr>\n",
       "      <th>3</th>\n",
       "      <td>3</td>\n",
       "      <td>-13.299926</td>\n",
       "      <td>-19.465986</td>\n",
       "      <td>-14.544284</td>\n",
       "      <td>-28.902487</td>\n",
       "      <td>31.314756</td>\n",
       "      <td>63.015297</td>\n",
       "      <td>-51.039696</td>\n",
       "      <td>6.036052</td>\n",
       "      <td>10.016479</td>\n",
       "      <td>-4.556470</td>\n",
       "      <td>-14.451885</td>\n",
       "      <td>-8.968291</td>\n",
       "      <td>-1</td>\n",
       "    </tr>\n",
       "    <tr>\n",
       "      <th>4</th>\n",
       "      <td>4</td>\n",
       "      <td>-5.602010</td>\n",
       "      <td>-15.860367</td>\n",
       "      <td>-14.529739</td>\n",
       "      <td>-28.873585</td>\n",
       "      <td>30.258827</td>\n",
       "      <td>64.489204</td>\n",
       "      <td>-55.599426</td>\n",
       "      <td>6.030016</td>\n",
       "      <td>14.104923</td>\n",
       "      <td>-3.527298</td>\n",
       "      <td>-8.802049</td>\n",
       "      <td>-4.860861</td>\n",
       "      <td>-1</td>\n",
       "    </tr>\n",
       "  </tbody>\n",
       "</table>\n",
       "</div>"
      ],
      "text/plain": [
       "   Unnamed: 0     EEG.Cz     EEG.C3    EEG.FC5     EEG.T7    EEG.CP5  \\\n",
       "0           0 -28.726574 -21.566540  -9.961324 -26.926275  28.333508   \n",
       "1           1 -15.377848 -14.884973  -6.365208 -20.239349  31.891329   \n",
       "2           2 -13.313239 -14.870088 -11.481920 -25.854494  32.371746   \n",
       "3           3 -13.299926 -19.465986 -14.544284 -28.902487  31.314756   \n",
       "4           4  -5.602010 -15.860367 -14.529739 -28.873585  30.258827   \n",
       "\n",
       "      EEG.O1     EEG.Pz     EEG.O2    EEG.CP6    EEG.T8    EEG.FC6     EEG.C4  \\\n",
       "0  80.673996 -52.204895  31.735275   0.814791 -2.509130  -5.763516 -11.554217   \n",
       "1  85.204094 -43.443459  32.215847  10.547822  3.641071  -3.196214  -5.907278   \n",
       "2  74.360428 -44.936939  19.888248   8.488044 -3.022570 -11.902248  -6.925986   \n",
       "3  63.015297 -51.039696   6.036052  10.016479 -4.556470 -14.451885  -8.968291   \n",
       "4  64.489204 -55.599426   6.030016  14.104923 -3.527298  -8.802049  -4.860861   \n",
       "\n",
       "   target  \n",
       "0      -1  \n",
       "1      -1  \n",
       "2      -1  \n",
       "3      -1  \n",
       "4      -1  "
      ]
     },
     "execution_count": 4,
     "metadata": {},
     "output_type": "execute_result"
    }
   ],
   "source": [
    "df = pd.read_csv('/kaggle/input/capstone-final-dataset/data/arm-trial-1.csv')\n",
    "df.head()"
   ]
  },
  {
   "cell_type": "code",
   "execution_count": 5,
   "metadata": {
    "execution": {
     "iopub.execute_input": "2024-12-09T06:41:33.093840Z",
     "iopub.status.busy": "2024-12-09T06:41:33.093255Z",
     "iopub.status.idle": "2024-12-09T06:41:33.101965Z",
     "shell.execute_reply": "2024-12-09T06:41:33.100227Z",
     "shell.execute_reply.started": "2024-12-09T06:41:33.093786Z"
    },
    "trusted": true
   },
   "outputs": [
    {
     "data": {
      "text/plain": [
       "(30651, 14)"
      ]
     },
     "execution_count": 5,
     "metadata": {},
     "output_type": "execute_result"
    }
   ],
   "source": [
    "df.shape"
   ]
  },
  {
   "cell_type": "code",
   "execution_count": 6,
   "metadata": {
    "execution": {
     "iopub.execute_input": "2024-12-09T06:41:43.313631Z",
     "iopub.status.busy": "2024-12-09T06:41:43.313196Z",
     "iopub.status.idle": "2024-12-09T06:41:43.327332Z",
     "shell.execute_reply": "2024-12-09T06:41:43.326138Z",
     "shell.execute_reply.started": "2024-12-09T06:41:43.313571Z"
    },
    "trusted": true
   },
   "outputs": [
    {
     "data": {
      "text/plain": [
       "(30651, 14)"
      ]
     },
     "execution_count": 6,
     "metadata": {},
     "output_type": "execute_result"
    }
   ],
   "source": [
    "df = df.dropna()\n",
    "df.shape"
   ]
  },
  {
   "cell_type": "code",
   "execution_count": 7,
   "metadata": {
    "execution": {
     "iopub.execute_input": "2024-12-09T06:42:00.840467Z",
     "iopub.status.busy": "2024-12-09T06:42:00.839661Z",
     "iopub.status.idle": "2024-12-09T06:42:00.847350Z",
     "shell.execute_reply": "2024-12-09T06:42:00.846117Z",
     "shell.execute_reply.started": "2024-12-09T06:42:00.840428Z"
    },
    "trusted": true
   },
   "outputs": [
    {
     "data": {
      "text/plain": [
       "Index(['Unnamed: 0', 'EEG.Cz', 'EEG.C3', 'EEG.FC5', 'EEG.T7', 'EEG.CP5',\n",
       "       'EEG.O1', 'EEG.Pz', 'EEG.O2', 'EEG.CP6', 'EEG.T8', 'EEG.FC6', 'EEG.C4',\n",
       "       'target'],\n",
       "      dtype='object')"
      ]
     },
     "execution_count": 7,
     "metadata": {},
     "output_type": "execute_result"
    }
   ],
   "source": [
    "df.columns"
   ]
  },
  {
   "cell_type": "code",
   "execution_count": 20,
   "metadata": {
    "execution": {
     "iopub.execute_input": "2024-12-09T06:45:47.121228Z",
     "iopub.status.busy": "2024-12-09T06:45:47.120833Z",
     "iopub.status.idle": "2024-12-09T06:45:47.125993Z",
     "shell.execute_reply": "2024-12-09T06:45:47.124915Z",
     "shell.execute_reply.started": "2024-12-09T06:45:47.121194Z"
    },
    "trusted": true
   },
   "outputs": [],
   "source": [
    "X = df[['EEG.Cz', 'EEG.C3', 'EEG.FC5', 'EEG.T7', 'EEG.CP5',\n",
    "       'EEG.O1', 'EEG.Pz', 'EEG.O2', 'EEG.CP6', 'EEG.T8', 'EEG.FC6', 'EEG.C4']]\n",
    "Y = df['target']"
   ]
  },
  {
   "cell_type": "code",
   "execution_count": 10,
   "metadata": {
    "execution": {
     "iopub.execute_input": "2024-12-09T06:42:44.313973Z",
     "iopub.status.busy": "2024-12-09T06:42:44.313390Z",
     "iopub.status.idle": "2024-12-09T06:42:45.843635Z",
     "shell.execute_reply": "2024-12-09T06:42:45.842186Z",
     "shell.execute_reply.started": "2024-12-09T06:42:44.313928Z"
    },
    "trusted": true
   },
   "outputs": [
    {
     "name": "stderr",
     "output_type": "stream",
     "text": [
      "/opt/conda/lib/python3.10/site-packages/sklearn/decomposition/_fastica.py:542: FutureWarning: Starting in v1.3, whiten='unit-variance' will be used by default.\n",
      "  warnings.warn(\n"
     ]
    }
   ],
   "source": [
    "ica=FastICA(random_state = 97, max_iter=800)\n",
    "\n",
    "out_ica =ica.fit_transform(X)"
   ]
  },
  {
   "cell_type": "code",
   "execution_count": 11,
   "metadata": {
    "execution": {
     "iopub.execute_input": "2024-12-09T06:42:53.429765Z",
     "iopub.status.busy": "2024-12-09T06:42:53.429157Z",
     "iopub.status.idle": "2024-12-09T06:42:53.436958Z",
     "shell.execute_reply": "2024-12-09T06:42:53.435714Z",
     "shell.execute_reply.started": "2024-12-09T06:42:53.429726Z"
    },
    "trusted": true
   },
   "outputs": [
    {
     "data": {
      "text/plain": [
       "(30651, 12)"
      ]
     },
     "execution_count": 11,
     "metadata": {},
     "output_type": "execute_result"
    }
   ],
   "source": [
    "out_ica.shape"
   ]
  },
  {
   "cell_type": "code",
   "execution_count": 12,
   "metadata": {
    "execution": {
     "iopub.execute_input": "2024-12-09T06:44:10.951947Z",
     "iopub.status.busy": "2024-12-09T06:44:10.951525Z",
     "iopub.status.idle": "2024-12-09T06:44:10.971422Z",
     "shell.execute_reply": "2024-12-09T06:44:10.970162Z",
     "shell.execute_reply.started": "2024-12-09T06:44:10.951914Z"
    },
    "trusted": true
   },
   "outputs": [
    {
     "data": {
      "text/html": [
       "<div>\n",
       "<style scoped>\n",
       "    .dataframe tbody tr th:only-of-type {\n",
       "        vertical-align: middle;\n",
       "    }\n",
       "\n",
       "    .dataframe tbody tr th {\n",
       "        vertical-align: top;\n",
       "    }\n",
       "\n",
       "    .dataframe thead th {\n",
       "        text-align: right;\n",
       "    }\n",
       "</style>\n",
       "<table border=\"1\" class=\"dataframe\">\n",
       "  <thead>\n",
       "    <tr style=\"text-align: right;\">\n",
       "      <th></th>\n",
       "      <th>EEG.Cz</th>\n",
       "      <th>EEG.C3</th>\n",
       "      <th>EEG.FC5</th>\n",
       "      <th>EEG.T7</th>\n",
       "      <th>EEG.CP5</th>\n",
       "      <th>EEG.O1</th>\n",
       "      <th>EEG.Pz</th>\n",
       "      <th>EEG.O2</th>\n",
       "      <th>EEG.CP6</th>\n",
       "      <th>EEG.T8</th>\n",
       "      <th>EEG.FC6</th>\n",
       "      <th>EEG.C4</th>\n",
       "    </tr>\n",
       "  </thead>\n",
       "  <tbody>\n",
       "    <tr>\n",
       "      <th>0</th>\n",
       "      <td>0.000723</td>\n",
       "      <td>-0.002468</td>\n",
       "      <td>0.004973</td>\n",
       "      <td>-0.000256</td>\n",
       "      <td>-0.000647</td>\n",
       "      <td>-0.002695</td>\n",
       "      <td>0.002937</td>\n",
       "      <td>-0.002635</td>\n",
       "      <td>0.000186</td>\n",
       "      <td>0.009398</td>\n",
       "      <td>0.001261</td>\n",
       "      <td>-0.001385</td>\n",
       "    </tr>\n",
       "    <tr>\n",
       "      <th>1</th>\n",
       "      <td>-0.001016</td>\n",
       "      <td>-0.002434</td>\n",
       "      <td>0.005990</td>\n",
       "      <td>-0.000127</td>\n",
       "      <td>-0.000521</td>\n",
       "      <td>-0.002607</td>\n",
       "      <td>0.002789</td>\n",
       "      <td>-0.001858</td>\n",
       "      <td>0.000260</td>\n",
       "      <td>0.007724</td>\n",
       "      <td>0.000339</td>\n",
       "      <td>-0.001550</td>\n",
       "    </tr>\n",
       "    <tr>\n",
       "      <th>2</th>\n",
       "      <td>-0.002589</td>\n",
       "      <td>-0.002305</td>\n",
       "      <td>0.004499</td>\n",
       "      <td>-0.000016</td>\n",
       "      <td>-0.000302</td>\n",
       "      <td>-0.002985</td>\n",
       "      <td>0.003212</td>\n",
       "      <td>-0.001228</td>\n",
       "      <td>0.000159</td>\n",
       "      <td>0.005136</td>\n",
       "      <td>-0.000845</td>\n",
       "      <td>-0.002860</td>\n",
       "    </tr>\n",
       "    <tr>\n",
       "      <th>3</th>\n",
       "      <td>-0.002528</td>\n",
       "      <td>-0.002511</td>\n",
       "      <td>0.005966</td>\n",
       "      <td>0.000157</td>\n",
       "      <td>-0.000221</td>\n",
       "      <td>-0.003169</td>\n",
       "      <td>0.003256</td>\n",
       "      <td>-0.000715</td>\n",
       "      <td>0.000190</td>\n",
       "      <td>0.002260</td>\n",
       "      <td>-0.000677</td>\n",
       "      <td>-0.005602</td>\n",
       "    </tr>\n",
       "    <tr>\n",
       "      <th>4</th>\n",
       "      <td>-0.003918</td>\n",
       "      <td>-0.003180</td>\n",
       "      <td>0.005871</td>\n",
       "      <td>0.000092</td>\n",
       "      <td>-0.000013</td>\n",
       "      <td>-0.002909</td>\n",
       "      <td>0.003575</td>\n",
       "      <td>-0.000143</td>\n",
       "      <td>0.000125</td>\n",
       "      <td>0.001427</td>\n",
       "      <td>0.000054</td>\n",
       "      <td>-0.005334</td>\n",
       "    </tr>\n",
       "  </tbody>\n",
       "</table>\n",
       "</div>"
      ],
      "text/plain": [
       "     EEG.Cz    EEG.C3   EEG.FC5    EEG.T7   EEG.CP5    EEG.O1    EEG.Pz  \\\n",
       "0  0.000723 -0.002468  0.004973 -0.000256 -0.000647 -0.002695  0.002937   \n",
       "1 -0.001016 -0.002434  0.005990 -0.000127 -0.000521 -0.002607  0.002789   \n",
       "2 -0.002589 -0.002305  0.004499 -0.000016 -0.000302 -0.002985  0.003212   \n",
       "3 -0.002528 -0.002511  0.005966  0.000157 -0.000221 -0.003169  0.003256   \n",
       "4 -0.003918 -0.003180  0.005871  0.000092 -0.000013 -0.002909  0.003575   \n",
       "\n",
       "     EEG.O2   EEG.CP6    EEG.T8   EEG.FC6    EEG.C4  \n",
       "0 -0.002635  0.000186  0.009398  0.001261 -0.001385  \n",
       "1 -0.001858  0.000260  0.007724  0.000339 -0.001550  \n",
       "2 -0.001228  0.000159  0.005136 -0.000845 -0.002860  \n",
       "3 -0.000715  0.000190  0.002260 -0.000677 -0.005602  \n",
       "4 -0.000143  0.000125  0.001427  0.000054 -0.005334  "
      ]
     },
     "execution_count": 12,
     "metadata": {},
     "output_type": "execute_result"
    }
   ],
   "source": [
    "X = pd.DataFrame(out_ica, columns = X.columns)\n",
    "X.head()"
   ]
  },
  {
   "cell_type": "code",
   "execution_count": 13,
   "metadata": {
    "execution": {
     "iopub.execute_input": "2024-12-09T06:44:31.257956Z",
     "iopub.status.busy": "2024-12-09T06:44:31.257564Z",
     "iopub.status.idle": "2024-12-09T06:44:31.268709Z",
     "shell.execute_reply": "2024-12-09T06:44:31.267409Z",
     "shell.execute_reply.started": "2024-12-09T06:44:31.257925Z"
    },
    "trusted": true
   },
   "outputs": [],
   "source": [
    "scaler = preprocessing.MinMaxScaler()\n",
    "X = pd.DataFrame(scaler.fit_transform(X.values), columns=X.columns, index=X.index)"
   ]
  },
  {
   "cell_type": "code",
   "execution_count": 15,
   "metadata": {
    "execution": {
     "iopub.execute_input": "2024-12-09T06:44:41.339473Z",
     "iopub.status.busy": "2024-12-09T06:44:41.339078Z",
     "iopub.status.idle": "2024-12-09T06:44:41.357285Z",
     "shell.execute_reply": "2024-12-09T06:44:41.356041Z",
     "shell.execute_reply.started": "2024-12-09T06:44:41.339437Z"
    },
    "trusted": true
   },
   "outputs": [
    {
     "data": {
      "text/html": [
       "<div>\n",
       "<style scoped>\n",
       "    .dataframe tbody tr th:only-of-type {\n",
       "        vertical-align: middle;\n",
       "    }\n",
       "\n",
       "    .dataframe tbody tr th {\n",
       "        vertical-align: top;\n",
       "    }\n",
       "\n",
       "    .dataframe thead th {\n",
       "        text-align: right;\n",
       "    }\n",
       "</style>\n",
       "<table border=\"1\" class=\"dataframe\">\n",
       "  <thead>\n",
       "    <tr style=\"text-align: right;\">\n",
       "      <th></th>\n",
       "      <th>EEG.Cz</th>\n",
       "      <th>EEG.C3</th>\n",
       "      <th>EEG.FC5</th>\n",
       "      <th>EEG.T7</th>\n",
       "      <th>EEG.CP5</th>\n",
       "      <th>EEG.O1</th>\n",
       "      <th>EEG.Pz</th>\n",
       "      <th>EEG.O2</th>\n",
       "      <th>EEG.CP6</th>\n",
       "      <th>EEG.T8</th>\n",
       "      <th>EEG.FC6</th>\n",
       "      <th>EEG.C4</th>\n",
       "    </tr>\n",
       "  </thead>\n",
       "  <tbody>\n",
       "    <tr>\n",
       "      <th>0</th>\n",
       "      <td>0.533011</td>\n",
       "      <td>0.422955</td>\n",
       "      <td>0.651072</td>\n",
       "      <td>0.466745</td>\n",
       "      <td>0.573769</td>\n",
       "      <td>0.424166</td>\n",
       "      <td>0.666487</td>\n",
       "      <td>0.694041</td>\n",
       "      <td>0.539663</td>\n",
       "      <td>0.700539</td>\n",
       "      <td>0.394001</td>\n",
       "      <td>0.468502</td>\n",
       "    </tr>\n",
       "    <tr>\n",
       "      <th>1</th>\n",
       "      <td>0.500681</td>\n",
       "      <td>0.423340</td>\n",
       "      <td>0.670463</td>\n",
       "      <td>0.469209</td>\n",
       "      <td>0.575163</td>\n",
       "      <td>0.425354</td>\n",
       "      <td>0.664974</td>\n",
       "      <td>0.702279</td>\n",
       "      <td>0.540916</td>\n",
       "      <td>0.672788</td>\n",
       "      <td>0.383131</td>\n",
       "      <td>0.465286</td>\n",
       "    </tr>\n",
       "    <tr>\n",
       "      <th>2</th>\n",
       "      <td>0.471423</td>\n",
       "      <td>0.424797</td>\n",
       "      <td>0.642027</td>\n",
       "      <td>0.471327</td>\n",
       "      <td>0.577578</td>\n",
       "      <td>0.420216</td>\n",
       "      <td>0.669288</td>\n",
       "      <td>0.708966</td>\n",
       "      <td>0.539212</td>\n",
       "      <td>0.629906</td>\n",
       "      <td>0.369155</td>\n",
       "      <td>0.439760</td>\n",
       "    </tr>\n",
       "    <tr>\n",
       "      <th>3</th>\n",
       "      <td>0.472571</td>\n",
       "      <td>0.422473</td>\n",
       "      <td>0.670004</td>\n",
       "      <td>0.474641</td>\n",
       "      <td>0.578471</td>\n",
       "      <td>0.417715</td>\n",
       "      <td>0.669741</td>\n",
       "      <td>0.714409</td>\n",
       "      <td>0.539727</td>\n",
       "      <td>0.582251</td>\n",
       "      <td>0.371138</td>\n",
       "      <td>0.386303</td>\n",
       "    </tr>\n",
       "    <tr>\n",
       "      <th>4</th>\n",
       "      <td>0.446710</td>\n",
       "      <td>0.414934</td>\n",
       "      <td>0.668192</td>\n",
       "      <td>0.473402</td>\n",
       "      <td>0.580763</td>\n",
       "      <td>0.421257</td>\n",
       "      <td>0.672997</td>\n",
       "      <td>0.720471</td>\n",
       "      <td>0.538637</td>\n",
       "      <td>0.568448</td>\n",
       "      <td>0.379768</td>\n",
       "      <td>0.391520</td>\n",
       "    </tr>\n",
       "  </tbody>\n",
       "</table>\n",
       "</div>"
      ],
      "text/plain": [
       "     EEG.Cz    EEG.C3   EEG.FC5    EEG.T7   EEG.CP5    EEG.O1    EEG.Pz  \\\n",
       "0  0.533011  0.422955  0.651072  0.466745  0.573769  0.424166  0.666487   \n",
       "1  0.500681  0.423340  0.670463  0.469209  0.575163  0.425354  0.664974   \n",
       "2  0.471423  0.424797  0.642027  0.471327  0.577578  0.420216  0.669288   \n",
       "3  0.472571  0.422473  0.670004  0.474641  0.578471  0.417715  0.669741   \n",
       "4  0.446710  0.414934  0.668192  0.473402  0.580763  0.421257  0.672997   \n",
       "\n",
       "     EEG.O2   EEG.CP6    EEG.T8   EEG.FC6    EEG.C4  \n",
       "0  0.694041  0.539663  0.700539  0.394001  0.468502  \n",
       "1  0.702279  0.540916  0.672788  0.383131  0.465286  \n",
       "2  0.708966  0.539212  0.629906  0.369155  0.439760  \n",
       "3  0.714409  0.539727  0.582251  0.371138  0.386303  \n",
       "4  0.720471  0.538637  0.568448  0.379768  0.391520  "
      ]
     },
     "execution_count": 15,
     "metadata": {},
     "output_type": "execute_result"
    }
   ],
   "source": [
    "X.head()"
   ]
  },
  {
   "cell_type": "code",
   "execution_count": 16,
   "metadata": {
    "execution": {
     "iopub.execute_input": "2024-12-09T06:44:57.536649Z",
     "iopub.status.busy": "2024-12-09T06:44:57.536235Z",
     "iopub.status.idle": "2024-12-09T06:44:57.541837Z",
     "shell.execute_reply": "2024-12-09T06:44:57.540714Z",
     "shell.execute_reply.started": "2024-12-09T06:44:57.536598Z"
    },
    "trusted": true
   },
   "outputs": [],
   "source": [
    "num_examples = X.shape[0]"
   ]
  },
  {
   "cell_type": "code",
   "execution_count": 17,
   "metadata": {
    "execution": {
     "iopub.execute_input": "2024-12-09T06:45:12.275646Z",
     "iopub.status.busy": "2024-12-09T06:45:12.274576Z",
     "iopub.status.idle": "2024-12-09T06:45:12.280081Z",
     "shell.execute_reply": "2024-12-09T06:45:12.278866Z",
     "shell.execute_reply.started": "2024-12-09T06:45:12.275560Z"
    },
    "trusted": true
   },
   "outputs": [],
   "source": [
    "window_size = 128 # 1 second"
   ]
  },
  {
   "cell_type": "code",
   "execution_count": 21,
   "metadata": {
    "execution": {
     "iopub.execute_input": "2024-12-09T06:45:53.724508Z",
     "iopub.status.busy": "2024-12-09T06:45:53.724073Z",
     "iopub.status.idle": "2024-12-09T06:45:53.730923Z",
     "shell.execute_reply": "2024-12-09T06:45:53.728895Z",
     "shell.execute_reply.started": "2024-12-09T06:45:53.724469Z"
    },
    "trusted": true
   },
   "outputs": [],
   "source": [
    "xn = X.to_numpy()\n",
    "yn = Y.to_numpy()"
   ]
  },
  {
   "cell_type": "code",
   "execution_count": 22,
   "metadata": {
    "execution": {
     "iopub.execute_input": "2024-12-09T06:45:56.700042Z",
     "iopub.status.busy": "2024-12-09T06:45:56.699638Z",
     "iopub.status.idle": "2024-12-09T06:45:56.707016Z",
     "shell.execute_reply": "2024-12-09T06:45:56.705892Z",
     "shell.execute_reply.started": "2024-12-09T06:45:56.700009Z"
    },
    "trusted": true
   },
   "outputs": [
    {
     "data": {
      "text/plain": [
       "-1"
      ]
     },
     "execution_count": 22,
     "metadata": {},
     "output_type": "execute_result"
    }
   ],
   "source": [
    "yn[window_size]"
   ]
  },
  {
   "cell_type": "code",
   "execution_count": 23,
   "metadata": {
    "execution": {
     "iopub.execute_input": "2024-12-09T06:46:05.188151Z",
     "iopub.status.busy": "2024-12-09T06:46:05.187774Z",
     "iopub.status.idle": "2024-12-09T06:46:05.195502Z",
     "shell.execute_reply": "2024-12-09T06:46:05.194345Z",
     "shell.execute_reply.started": "2024-12-09T06:46:05.188118Z"
    },
    "trusted": true
   },
   "outputs": [
    {
     "data": {
      "text/plain": [
       "(128, 12)"
      ]
     },
     "execution_count": 23,
     "metadata": {},
     "output_type": "execute_result"
    }
   ],
   "source": [
    "xn[1:1 + window_size].shape"
   ]
  },
  {
   "cell_type": "code",
   "execution_count": 24,
   "metadata": {
    "execution": {
     "iopub.execute_input": "2024-12-09T06:50:38.474842Z",
     "iopub.status.busy": "2024-12-09T06:50:38.474372Z",
     "iopub.status.idle": "2024-12-09T06:50:38.485243Z",
     "shell.execute_reply": "2024-12-09T06:50:38.484139Z",
     "shell.execute_reply.started": "2024-12-09T06:50:38.474808Z"
    },
    "trusted": true
   },
   "outputs": [],
   "source": []
  },
  {
   "cell_type": "code",
   "execution_count": 32,
   "metadata": {
    "execution": {
     "iopub.execute_input": "2024-12-09T06:52:40.988071Z",
     "iopub.status.busy": "2024-12-09T06:52:40.987676Z",
     "iopub.status.idle": "2024-12-09T06:52:40.992724Z",
     "shell.execute_reply": "2024-12-09T06:52:40.991556Z",
     "shell.execute_reply.started": "2024-12-09T06:52:40.988039Z"
    },
    "trusted": true
   },
   "outputs": [],
   "source": [
    "x_batch = []\n",
    "y_batch = []"
   ]
  },
  {
   "cell_type": "code",
   "execution_count": 33,
   "metadata": {
    "execution": {
     "iopub.execute_input": "2024-12-09T06:52:42.868297Z",
     "iopub.status.busy": "2024-12-09T06:52:42.867900Z",
     "iopub.status.idle": "2024-12-09T06:52:42.890675Z",
     "shell.execute_reply": "2024-12-09T06:52:42.889592Z",
     "shell.execute_reply.started": "2024-12-09T06:52:42.868263Z"
    },
    "trusted": true
   },
   "outputs": [
    {
     "name": "stderr",
     "output_type": "stream",
     "text": [
      " 99%|█████████▉| 119/120 [00:00<00:00, 236662.96it/s]\n",
      " 99%|█████████▉| 119/120 [00:00<00:00, 147975.74it/s]\n",
      " 98%|█████████▊| 117/119 [00:00<00:00, 285476.19it/s]\n"
     ]
    }
   ],
   "source": [
    "# arm\n",
    "\n",
    "for i in tqdm(range(128*60, 2*128*60, 64)): # 64 overlap\n",
    "    if (i + 128 > 2*128*60):\n",
    "        break\n",
    "    xcurr = xn[i:i+window_size]\n",
    "    ycurr = yn[i+window_size - 1]\n",
    "    x_batch.append(xcurr)\n",
    "    y_batch.append(ycurr)\n",
    "\n",
    "for i in tqdm(range(2*128*60, 3*128*60, 64)): # 64 overlap\n",
    "    if (i + 128 > 3*128*60):\n",
    "        break\n",
    "    xcurr = xn[i:i+window_size]\n",
    "    ycurr = yn[i+window_size - 1]\n",
    "    x_batch.append(xcurr)\n",
    "    y_batch.append(ycurr)\n",
    "\n",
    "for i in tqdm(range(3*128*60, xn.shape[0], 64)): # 64 overlap\n",
    "    if (i + 128 > xn.shape[0]):\n",
    "        break\n",
    "    xcurr = xn[i:i+window_size]\n",
    "    ycurr = yn[i+window_size - 1]\n",
    "    x_batch.append(xcurr)\n",
    "    y_batch.append(ycurr)\n",
    "\n"
   ]
  },
  {
   "cell_type": "code",
   "execution_count": 34,
   "metadata": {
    "execution": {
     "iopub.execute_input": "2024-12-09T06:52:46.251821Z",
     "iopub.status.busy": "2024-12-09T06:52:46.251367Z",
     "iopub.status.idle": "2024-12-09T06:52:46.262149Z",
     "shell.execute_reply": "2024-12-09T06:52:46.261070Z",
     "shell.execute_reply.started": "2024-12-09T06:52:46.251783Z"
    },
    "trusted": true
   },
   "outputs": [],
   "source": [
    "x_batch = np.array(x_batch)\n",
    "y_batch = np.array(y_batch)"
   ]
  },
  {
   "cell_type": "code",
   "execution_count": 35,
   "metadata": {
    "execution": {
     "iopub.execute_input": "2024-12-09T06:52:46.419250Z",
     "iopub.status.busy": "2024-12-09T06:52:46.418834Z",
     "iopub.status.idle": "2024-12-09T06:52:46.426522Z",
     "shell.execute_reply": "2024-12-09T06:52:46.425270Z",
     "shell.execute_reply.started": "2024-12-09T06:52:46.419215Z"
    },
    "trusted": true
   },
   "outputs": [
    {
     "data": {
      "text/plain": [
       "(355, 128, 12)"
      ]
     },
     "execution_count": 35,
     "metadata": {},
     "output_type": "execute_result"
    }
   ],
   "source": [
    "x_batch.shape"
   ]
  },
  {
   "cell_type": "code",
   "execution_count": 36,
   "metadata": {
    "execution": {
     "iopub.execute_input": "2024-12-09T06:53:03.031195Z",
     "iopub.status.busy": "2024-12-09T06:53:03.030216Z",
     "iopub.status.idle": "2024-12-09T06:53:03.038051Z",
     "shell.execute_reply": "2024-12-09T06:53:03.037036Z",
     "shell.execute_reply.started": "2024-12-09T06:53:03.031154Z"
    },
    "trusted": true
   },
   "outputs": [
    {
     "data": {
      "text/plain": [
       "array([0, 0, 0, 0, 0, 0, 0, 0, 0, 0, 0, 0, 0, 0, 0, 0, 0, 0, 0, 0, 0, 0,\n",
       "       0, 0, 0, 0, 0, 0, 0, 0, 0, 0, 0, 0, 0, 0, 0, 0, 0, 0, 0, 0, 0, 0,\n",
       "       0, 0, 0, 0, 0, 0, 0, 0, 0, 0, 0, 0, 0, 0, 0, 0, 0, 0, 0, 0, 0, 0,\n",
       "       0, 0, 0, 0, 0, 0, 0, 0, 0, 0, 0, 0, 0, 0, 0, 0, 0, 0, 0, 0, 0, 0,\n",
       "       0, 0, 0, 0, 0, 0, 0, 0, 0, 0, 0, 0, 0, 0, 0, 0, 0, 0, 0, 0, 0, 0,\n",
       "       0, 0, 0, 0, 0, 0, 0, 0, 0, 4, 4, 4, 4, 4, 4, 4, 4, 4, 4, 4, 4, 4,\n",
       "       4, 4, 4, 4, 4, 4, 4, 4, 4, 4, 4, 4, 4, 4, 4, 4, 4, 4, 4, 4, 4, 4,\n",
       "       4, 4, 4, 4, 4, 4, 4, 4, 4, 4, 4, 4, 4, 4, 4, 4, 4, 4, 4, 4, 4, 4,\n",
       "       4, 4, 4, 4, 4, 4, 4, 4, 4, 4, 4, 4, 4, 4, 4, 4, 4, 4, 4, 4, 4, 4,\n",
       "       4, 4, 4, 4, 4, 4, 4, 4, 4, 4, 4, 4, 4, 4, 4, 4, 4, 4, 4, 4, 4, 4,\n",
       "       4, 4, 4, 4, 4, 4, 4, 4, 4, 4, 4, 4, 4, 4, 4, 4, 4, 4, 3, 3, 3, 3,\n",
       "       3, 3, 3, 3, 3, 3, 3, 3, 3, 3, 3, 3, 3, 3, 3, 3, 3, 3, 3, 3, 3, 3,\n",
       "       3, 3, 3, 3, 3, 3, 3, 3, 3, 3, 3, 3, 3, 3, 3, 3, 3, 3, 3, 3, 3, 3,\n",
       "       3, 3, 3, 3, 3, 3, 3, 3, 3, 3, 3, 3, 3, 3, 3, 3, 3, 3, 3, 3, 3, 3,\n",
       "       3, 3, 3, 3, 3, 3, 3, 3, 3, 3, 3, 3, 3, 3, 3, 3, 3, 3, 3, 3, 3, 3,\n",
       "       3, 3, 3, 3, 3, 3, 3, 3, 3, 3, 3, 3, 3, 3, 3, 3, 3, 3, 3, 3, 3, 3,\n",
       "       3, 3, 3])"
      ]
     },
     "execution_count": 36,
     "metadata": {},
     "output_type": "execute_result"
    }
   ],
   "source": [
    "y_batch"
   ]
  },
  {
   "cell_type": "code",
   "execution_count": null,
   "metadata": {
    "trusted": true
   },
   "outputs": [],
   "source": []
  }
 ],
 "metadata": {
  "kernelspec": {
   "display_name": "Python 3",
   "language": "python",
   "name": "python3"
  },
  "language_info": {
   "codemirror_mode": {
    "name": "ipython",
    "version": 3
   },
   "file_extension": ".py",
   "mimetype": "text/x-python",
   "name": "python",
   "nbconvert_exporter": "python",
   "pygments_lexer": "ipython3",
   "version": "3.10.14"
  }
 },
 "nbformat": 4,
 "nbformat_minor": 4
}
